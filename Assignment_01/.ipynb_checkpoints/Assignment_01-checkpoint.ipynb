{
 "cells": [
  {
   "cell_type": "markdown",
   "metadata": {
    "colab_type": "text",
    "id": "zc5nWPw9RMn3"
   },
   "source": [
    "# Homework Assignment 1 - (Question 4)\n",
    "\n",
    "## <u>Case Study</u>: Artificial Netflix Movie Ratings Dataset\n",
    "\n",
    "The dataset that will be examining is an artificially generated dataset of 150 Netflix users and their average rating (on a scale from [0,5], where 0=strongly dislike and 5=strongly like) for movies of five different genres: horror, romance, drama, comedy, and documentaries.\n",
    "\n",
    "In this analysis we would like to answer the following questions about the dataset.\n",
    "1. Is this dataset clusterable?\n",
    "2. If so, how many clusters are there in the dataset?\n",
    "3. What kind of movies do the users in each cluster like and dislike?\n",
    "\n",
    "\n"
   ]
  },
  {
   "cell_type": "markdown",
   "metadata": {
    "colab_type": "text",
    "id": "qToPhyosRVad"
   },
   "source": [
    "### Imports"
   ]
  },
  {
   "cell_type": "code",
   "execution_count": null,
   "metadata": {
    "colab": {
     "base_uri": "https://localhost:8080/",
     "height": 72
    },
    "colab_type": "code",
    "id": "q7_lWF0DCEJb",
    "outputId": "b22bf52e-1be7-431c-de10-b4edd32926a5"
   },
   "outputs": [],
   "source": []
  },
  {
   "cell_type": "markdown",
   "metadata": {
    "colab_type": "text",
    "id": "bxs1xVQqK-wf"
   },
   "source": [
    "### 4.1. Read the csv [1 pt]\n",
    "Read the artificial_netflix_ratings.csv into a dataframe. Call it df."
   ]
  },
  {
   "cell_type": "code",
   "execution_count": null,
   "metadata": {
    "colab": {},
    "colab_type": "code",
    "id": "cTaiat0WSIsH"
   },
   "outputs": [],
   "source": []
  },
  {
   "cell_type": "markdown",
   "metadata": {},
   "source": [
    "### 4.2. Examining the dataframe. [1 pt]\n",
    "\n",
    "Show the first five rows of the dataframe df."
   ]
  },
  {
   "cell_type": "code",
   "execution_count": null,
   "metadata": {},
   "outputs": [],
   "source": []
  },
  {
   "cell_type": "markdown",
   "metadata": {},
   "source": [
    "### 4.3. Describing the dataframe. [2 pt]\n",
    "\n",
    "Create a histogram for each of the five attributes in the dataset."
   ]
  },
  {
   "cell_type": "code",
   "execution_count": null,
   "metadata": {},
   "outputs": [],
   "source": []
  },
  {
   "cell_type": "markdown",
   "metadata": {},
   "source": [
    "### 4.4. Dataset for clustering [1 pt]\n",
    "\n",
    "Create a copy of this **df** dataframe and call it **X**."
   ]
  },
  {
   "cell_type": "code",
   "execution_count": null,
   "metadata": {},
   "outputs": [],
   "source": []
  },
  {
   "cell_type": "markdown",
   "metadata": {},
   "source": [
    "### 4.5. Create an elbow plot for this dataframe X. [2 pt]"
   ]
  },
  {
   "cell_type": "code",
   "execution_count": null,
   "metadata": {
    "colab": {
     "base_uri": "https://localhost:8080/",
     "height": 295
    },
    "colab_type": "code",
    "id": "lruX1HdPL9xr",
    "outputId": "ac5a4586-5113-4b98-e211-5bb7e39b3252"
   },
   "outputs": [],
   "source": []
  },
  {
   "cell_type": "markdown",
   "metadata": {},
   "source": [
    "### 4.6. Does this elbow plot suggest that the dataset is clusterable? Explain. [2 pt]"
   ]
  },
  {
   "cell_type": "markdown",
   "metadata": {},
   "source": []
  },
  {
   "cell_type": "markdown",
   "metadata": {},
   "source": [
    "### 4.7. How many clusters does this elbow plot suggest we should use in k-means? Explain. [2 pt]"
   ]
  },
  {
   "cell_type": "markdown",
   "metadata": {},
   "source": []
  },
  {
   "cell_type": "markdown",
   "metadata": {
    "colab_type": "text",
    "id": "MsS6wPJGXCNW"
   },
   "source": [
    "### 4.8. Cluster the data [2 pt]\n",
    "\n",
    "Using the cluster number that you selected in question above, clusters the dataframe using k-means.\n",
    "\n",
    "**<u>Note</u>: In sklearn, you can set a random seed for non-deterministic functions by using the random_state parameter. Within your KMeans() function in this problem, you should set an additional parameter with <u>random_state=100</u>.**\n",
    "\n",
    "Save the cluster labels of your final clustering in a new column of the **df** dataframe called 'predicted_cluster'.\n",
    "\n"
   ]
  },
  {
   "cell_type": "code",
   "execution_count": null,
   "metadata": {
    "colab": {},
    "colab_type": "code",
    "id": "cB0NxOy-O6pq"
   },
   "outputs": [],
   "source": []
  },
  {
   "cell_type": "code",
   "execution_count": null,
   "metadata": {},
   "outputs": [],
   "source": []
  },
  {
   "cell_type": "markdown",
   "metadata": {},
   "source": [
    "### 4.9 Create side-by-side boxplots visualizations. [3 pt]\n",
    "\n",
    "For each of the five movie attributes (horror, romance, drama, comedy, and documentaries) create a side-by-side boxplots visualization. Within each visualization, there should be a boxplot that corresponds to each predicted_cluster label."
   ]
  },
  {
   "cell_type": "code",
   "execution_count": null,
   "metadata": {},
   "outputs": [],
   "source": []
  },
  {
   "cell_type": "markdown",
   "metadata": {},
   "source": [
    "### 4.10. Describing the clusters [2 pt]\n",
    "\n",
    "What kind of movies do the users in each cluster like (compared to users in some other clusters)? What kind of movies do the users in each cluster dislike (compared to users in some other clusters)?"
   ]
  },
  {
   "cell_type": "markdown",
   "metadata": {},
   "source": []
  }
 ],
 "metadata": {
  "colab": {
   "collapsed_sections": [],
   "name": "Assignment_01.ipynb",
   "provenance": [],
   "toc_visible": true
  },
  "kernelspec": {
   "display_name": "Python 3",
   "language": "python",
   "name": "python3"
  },
  "language_info": {
   "codemirror_mode": {
    "name": "ipython",
    "version": 3
   },
   "file_extension": ".py",
   "mimetype": "text/x-python",
   "name": "python",
   "nbconvert_exporter": "python",
   "pygments_lexer": "ipython3",
   "version": "3.8.3"
  }
 },
 "nbformat": 4,
 "nbformat_minor": 1
}
