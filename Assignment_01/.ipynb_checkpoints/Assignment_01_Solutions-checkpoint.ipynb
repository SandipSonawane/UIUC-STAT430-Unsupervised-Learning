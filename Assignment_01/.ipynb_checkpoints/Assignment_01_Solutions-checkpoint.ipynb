{
 "cells": [
  {
   "cell_type": "markdown",
   "metadata": {
    "colab_type": "text",
    "id": "zc5nWPw9RMn3"
   },
   "source": [
    "# Homework Assignment 1 - (Question 4) - Solutions\n",
    "\n",
    "## <u>Case Study</u>: Artificial Netflix Movie Ratings Dataset\n",
    "\n",
    "The dataset that will be examining is an artificially generated dataset of 150 Netflix users and their average rating (on a scale from [0,5], where 0=strongly dislike and 5=strongly like) for movies of five different genres: horror, romance, drama, comedy, and documentaries.\n",
    "\n",
    "In this analysis we would like to answer the following questions about the dataset.\n",
    "1. Is this dataset clusterable?\n",
    "2. If so, how many clusters are there in the dataset?\n",
    "3. What kind of movies do the users in each cluster like and dislike?\n",
    "\n",
    "\n"
   ]
  },
  {
   "cell_type": "markdown",
   "metadata": {
    "colab_type": "text",
    "id": "qToPhyosRVad"
   },
   "source": [
    "### Imports"
   ]
  },
  {
   "cell_type": "code",
   "execution_count": 2,
   "metadata": {
    "colab": {
     "base_uri": "https://localhost:8080/",
     "height": 72
    },
    "colab_type": "code",
    "id": "q7_lWF0DCEJb",
    "outputId": "b22bf52e-1be7-431c-de10-b4edd32926a5"
   },
   "outputs": [],
   "source": [
    "import pandas as pd\n",
    "import numpy as np\n",
    "import seaborn as sns\n",
    "import matplotlib.pyplot as plt\n",
    "import random\n",
    "from sklearn.cluster import KMeans"
   ]
  },
  {
   "cell_type": "markdown",
   "metadata": {
    "colab_type": "text",
    "id": "bxs1xVQqK-wf"
   },
   "source": [
    "### 4.1. Read the csv [1 pt]\n",
    "Read the artificial_netflix_ratings.csv into a dataframe. Call it df."
   ]
  },
  {
   "cell_type": "code",
   "execution_count": 3,
   "metadata": {
    "colab": {},
    "colab_type": "code",
    "id": "cTaiat0WSIsH"
   },
   "outputs": [],
   "source": [
    "df=pd.read_csv('artificial_netflix_ratings.csv')"
   ]
  },
  {
   "cell_type": "markdown",
   "metadata": {},
   "source": [
    "### 4.2. Examining the dataframe. [1 pt]\n",
    "\n",
    "Show the first five rows of the dataframe df."
   ]
  },
  {
   "cell_type": "code",
   "execution_count": 4,
   "metadata": {},
   "outputs": [
    {
     "data": {
      "text/html": [
       "<div>\n",
       "<style scoped>\n",
       "    .dataframe tbody tr th:only-of-type {\n",
       "        vertical-align: middle;\n",
       "    }\n",
       "\n",
       "    .dataframe tbody tr th {\n",
       "        vertical-align: top;\n",
       "    }\n",
       "\n",
       "    .dataframe thead th {\n",
       "        text-align: right;\n",
       "    }\n",
       "</style>\n",
       "<table border=\"1\" class=\"dataframe\">\n",
       "  <thead>\n",
       "    <tr style=\"text-align: right;\">\n",
       "      <th></th>\n",
       "      <th>horror</th>\n",
       "      <th>romance</th>\n",
       "      <th>drama</th>\n",
       "      <th>comedy</th>\n",
       "      <th>documentaries</th>\n",
       "    </tr>\n",
       "  </thead>\n",
       "  <tbody>\n",
       "    <tr>\n",
       "      <th>0</th>\n",
       "      <td>2.701137</td>\n",
       "      <td>3.547034</td>\n",
       "      <td>3.004323</td>\n",
       "      <td>2.739230</td>\n",
       "      <td>2.060151</td>\n",
       "    </tr>\n",
       "    <tr>\n",
       "      <th>1</th>\n",
       "      <td>3.994819</td>\n",
       "      <td>2.721366</td>\n",
       "      <td>2.868647</td>\n",
       "      <td>4.738209</td>\n",
       "      <td>0.364445</td>\n",
       "    </tr>\n",
       "    <tr>\n",
       "      <th>2</th>\n",
       "      <td>0.539065</td>\n",
       "      <td>0.155385</td>\n",
       "      <td>4.338865</td>\n",
       "      <td>3.891659</td>\n",
       "      <td>4.369384</td>\n",
       "    </tr>\n",
       "    <tr>\n",
       "      <th>3</th>\n",
       "      <td>2.811313</td>\n",
       "      <td>3.611991</td>\n",
       "      <td>2.928161</td>\n",
       "      <td>2.828290</td>\n",
       "      <td>2.250514</td>\n",
       "    </tr>\n",
       "    <tr>\n",
       "      <th>4</th>\n",
       "      <td>2.811637</td>\n",
       "      <td>3.529473</td>\n",
       "      <td>3.142484</td>\n",
       "      <td>2.719070</td>\n",
       "      <td>2.182515</td>\n",
       "    </tr>\n",
       "  </tbody>\n",
       "</table>\n",
       "</div>"
      ],
      "text/plain": [
       "     horror   romance     drama    comedy  documentaries\n",
       "0  2.701137  3.547034  3.004323  2.739230       2.060151\n",
       "1  3.994819  2.721366  2.868647  4.738209       0.364445\n",
       "2  0.539065  0.155385  4.338865  3.891659       4.369384\n",
       "3  2.811313  3.611991  2.928161  2.828290       2.250514\n",
       "4  2.811637  3.529473  3.142484  2.719070       2.182515"
      ]
     },
     "execution_count": 4,
     "metadata": {},
     "output_type": "execute_result"
    }
   ],
   "source": [
    "df.head()"
   ]
  },
  {
   "cell_type": "markdown",
   "metadata": {},
   "source": [
    "### 4.3. Describing the dataframe. [2 pt]\n",
    "\n",
    "Create a histogram for each of the five attributes in the dataset."
   ]
  },
  {
   "cell_type": "code",
   "execution_count": 5,
   "metadata": {},
   "outputs": [
    {
     "data": {
      "image/png": "[encoded data removed]",
      "text/plain": [
       "<Figure size 432x288 with 1 Axes>"
      ]
     },
     "metadata": {
      "needs_background": "light"
     },
     "output_type": "display_data"
    },
    {
     "data": {
      "image/png": "[encoded data removed]",
      "text/plain": [
       "<Figure size 432x288 with 1 Axes>"
      ]
     },
     "metadata": {
      "needs_background": "light"
     },
     "output_type": "display_data"
    },
    {
     "data": {
      "image/png": "[encoded data removed]",
      "text/plain": [
       "<Figure size 432x288 with 1 Axes>"
      ]
     },
     "metadata": {
      "needs_background": "light"
     },
     "output_type": "display_data"
    },
    {
     "data": {
      "image/png": "[encoded data removed]",
      "text/plain": [
       "<Figure size 432x288 with 1 Axes>"
      ]
     },
     "metadata": {
      "needs_background": "light"
     },
     "output_type": "display_data"
    },
    {
     "data": {
      "image/png": "[encoded data removed]",
      "text/plain": [
       "<Figure size 432x288 with 1 Axes>"
      ]
     },
     "metadata": {
      "needs_background": "light"
     },
     "output_type": "display_data"
    }
   ],
   "source": [
    "for col in df.columns:\n",
    "    plt.hist(df[col])\n",
    "    plt.title(col)\n",
    "    plt.xlabel('Average Rating')\n",
    "    plt.ylabel('Frequency')\n",
    "    plt.show()"
   ]
  },
  {
   "cell_type": "markdown",
   "metadata": {},
   "source": [
    "### 4.4. Dataset for clustering [1 pt]\n",
    "\n",
    "Create a copy of this **df** dataframe and call it **X**."
   ]
  },
  {
   "cell_type": "code",
   "execution_count": 7,
   "metadata": {},
   "outputs": [],
   "source": [
    "X=df.copy()"
   ]
  },
  {
   "cell_type": "markdown",
   "metadata": {},
   "source": [
    "### 4.5. Create an elbow plot for this dataframe X. [2 pt]"
   ]
  },
  {
   "cell_type": "code",
   "execution_count": 8,
   "metadata": {
    "colab": {
     "base_uri": "https://localhost:8080/",
     "height": 295
    },
    "colab_type": "code",
    "id": "lruX1HdPL9xr",
    "outputId": "ac5a4586-5113-4b98-e211-5bb7e39b3252"
   },
   "outputs": [
    {
     "data": {
      "image/png": "[encoded data removed]",
      "text/plain": [
       "<Figure size 432x288 with 1 Axes>"
      ]
     },
     "metadata": {
      "needs_background": "light"
     },
     "output_type": "display_data"
    }
   ],
   "source": [
    "cluster_num_list=range(1,10)\n",
    "avg_inertia_list=[]\n",
    "for k in cluster_num_list:\n",
    "    sub_inertia_list=[]\n",
    "    for i in range(0,3):\n",
    "        kmeans=KMeans(n_clusters=k).fit(X)\n",
    "        sub_inertia_list.append(kmeans.inertia_)\n",
    "    avg_inertia_list.append(np.average(sub_inertia_list))\n",
    "\n",
    "plt.plot(cluster_num_list,avg_inertia_list)\n",
    "plt.xlabel('Number of Clusters Requested in K-means')\n",
    "plt.ylabel('Average Inertia of the K-Means Results (3 trials)')\n",
    "plt.title('Elbow Method Results for Data')\n",
    "plt.show()"
   ]
  },
  {
   "cell_type": "markdown",
   "metadata": {},
   "source": [
    "### 4.6. Does this elbow plot suggest that the dataset is clusterable? Explain. [2 pt]"
   ]
  },
  {
   "cell_type": "markdown",
   "metadata": {},
   "source": [
    "Yes. We see a dramatic elbow."
   ]
  },
  {
   "cell_type": "markdown",
   "metadata": {},
   "source": [
    "### 4.7. How many clusters does this elbow plot suggest we should use in k-means? Explain. [2 pt]"
   ]
  },
  {
   "cell_type": "markdown",
   "metadata": {},
   "source": [
    "The plot dramatically levels off at k=3. Thus this plot is suggesting we should use k=3 clusters in the k-means algorithm."
   ]
  },
  {
   "cell_type": "markdown",
   "metadata": {
    "colab_type": "text",
    "id": "MsS6wPJGXCNW"
   },
   "source": [
    "### 4.8. Cluster the data [2 pt]\n",
    "\n",
    "Using the cluster number that you selected in question above, clusters the dataframe using k-means.\n",
    "\n",
    "**<u>Note</u>: In sklearn, you can set a random seed for non-deterministic functions by using the random_state parameter. Within your KMeans() function in this problem, you should set an additional parameter with <u>random_state=100</u>.**\n",
    "\n",
    "Save the cluster labels of your final clustering in a new column of the **df** dataframe called 'predicted_cluster'.\n",
    "\n"
   ]
  },
  {
   "cell_type": "code",
   "execution_count": 9,
   "metadata": {
    "colab": {},
    "colab_type": "code",
    "id": "cB0NxOy-O6pq"
   },
   "outputs": [
    {
     "data": {
      "text/html": [
       "<div>\n",
       "<style scoped>\n",
       "    .dataframe tbody tr th:only-of-type {\n",
       "        vertical-align: middle;\n",
       "    }\n",
       "\n",
       "    .dataframe tbody tr th {\n",
       "        vertical-align: top;\n",
       "    }\n",
       "\n",
       "    .dataframe thead th {\n",
       "        text-align: right;\n",
       "    }\n",
       "</style>\n",
       "<table border=\"1\" class=\"dataframe\">\n",
       "  <thead>\n",
       "    <tr style=\"text-align: right;\">\n",
       "      <th></th>\n",
       "      <th>horror</th>\n",
       "      <th>romance</th>\n",
       "      <th>drama</th>\n",
       "      <th>comedy</th>\n",
       "      <th>documentaries</th>\n",
       "      <th>predicted_cluster</th>\n",
       "    </tr>\n",
       "  </thead>\n",
       "  <tbody>\n",
       "    <tr>\n",
       "      <th>0</th>\n",
       "      <td>2.701137</td>\n",
       "      <td>3.547034</td>\n",
       "      <td>3.004323</td>\n",
       "      <td>2.739230</td>\n",
       "      <td>2.060151</td>\n",
       "      <td>0</td>\n",
       "    </tr>\n",
       "    <tr>\n",
       "      <th>1</th>\n",
       "      <td>3.994819</td>\n",
       "      <td>2.721366</td>\n",
       "      <td>2.868647</td>\n",
       "      <td>4.738209</td>\n",
       "      <td>0.364445</td>\n",
       "      <td>2</td>\n",
       "    </tr>\n",
       "    <tr>\n",
       "      <th>2</th>\n",
       "      <td>0.539065</td>\n",
       "      <td>0.155385</td>\n",
       "      <td>4.338865</td>\n",
       "      <td>3.891659</td>\n",
       "      <td>4.369384</td>\n",
       "      <td>1</td>\n",
       "    </tr>\n",
       "    <tr>\n",
       "      <th>3</th>\n",
       "      <td>2.811313</td>\n",
       "      <td>3.611991</td>\n",
       "      <td>2.928161</td>\n",
       "      <td>2.828290</td>\n",
       "      <td>2.250514</td>\n",
       "      <td>0</td>\n",
       "    </tr>\n",
       "    <tr>\n",
       "      <th>4</th>\n",
       "      <td>2.811637</td>\n",
       "      <td>3.529473</td>\n",
       "      <td>3.142484</td>\n",
       "      <td>2.719070</td>\n",
       "      <td>2.182515</td>\n",
       "      <td>0</td>\n",
       "    </tr>\n",
       "  </tbody>\n",
       "</table>\n",
       "</div>"
      ],
      "text/plain": [
       "     horror   romance     drama    comedy  documentaries  predicted_cluster\n",
       "0  2.701137  3.547034  3.004323  2.739230       2.060151                  0\n",
       "1  3.994819  2.721366  2.868647  4.738209       0.364445                  2\n",
       "2  0.539065  0.155385  4.338865  3.891659       4.369384                  1\n",
       "3  2.811313  3.611991  2.928161  2.828290       2.250514                  0\n",
       "4  2.811637  3.529473  3.142484  2.719070       2.182515                  0"
      ]
     },
     "execution_count": 9,
     "metadata": {},
     "output_type": "execute_result"
    }
   ],
   "source": [
    "kmeans=KMeans(n_clusters=3, random_state=100).fit(X)\n",
    "df['predicted_cluster']=kmeans.labels_\n",
    "df.head()"
   ]
  },
  {
   "cell_type": "markdown",
   "metadata": {},
   "source": [
    "### 4.9 Create side-by-side boxplots visualizations. [3 pt]\n",
    "\n",
    "For each of the five movie attributes (horror, romance, drama, comedy, and documentaries) create a side-by-side boxplots visualization. Within each visualization, there should be a boxplot that corresponds to each predicted_cluster label."
   ]
  },
  {
   "cell_type": "code",
   "execution_count": 10,
   "metadata": {},
   "outputs": [
    {
     "data": {
      "image/png": "[encoded data removed]",
      "text/plain": [
       "<Figure size 432x288 with 1 Axes>"
      ]
     },
     "metadata": {
      "needs_background": "light"
     },
     "output_type": "display_data"
    },
    {
     "data": {
      "image/png": "[encoded data removed]",
      "text/plain": [
       "<Figure size 432x288 with 1 Axes>"
      ]
     },
     "metadata": {
      "needs_background": "light"
     },
     "output_type": "display_data"
    },
    {
     "data": {
      "image/png": "[encoded data removed]",
      "text/plain": [
       "<Figure size 432x288 with 1 Axes>"
      ]
     },
     "metadata": {
      "needs_background": "light"
     },
     "output_type": "display_data"
    },
    {
     "data": {
      "image/png": "[encoded data removed]",
      "text/plain": [
       "<Figure size 432x288 with 1 Axes>"
      ]
     },
     "metadata": {
      "needs_background": "light"
     },
     "output_type": "display_data"
    },
    {
     "data": {
      "image/png": "[encoded data removed]",
      "text/plain": [
       "<Figure size 432x288 with 1 Axes>"
      ]
     },
     "metadata": {
      "needs_background": "light"
     },
     "output_type": "display_data"
    },
    {
     "data": {
      "image/png": "[encoded data removed]",
      "text/plain": [
       "<Figure size 432x288 with 1 Axes>"
      ]
     },
     "metadata": {
      "needs_background": "light"
     },
     "output_type": "display_data"
    }
   ],
   "source": [
    "for col in df.columns:\n",
    "    sns.boxplot(x='predicted_cluster', y=col, data=df)\n",
    "    plt.title(col)\n",
    "    plt.show()"
   ]
  },
  {
   "cell_type": "markdown",
   "metadata": {},
   "source": [
    "### 4.10. Describing the clusters [2 pt]\n",
    "\n",
    "What kind of movies do the users in each cluster like (compared to users in some other clusters)? What kind of movies do the users in each cluster dislike (compared to users in some other clusters)?"
   ]
  },
  {
   "cell_type": "markdown",
   "metadata": {},
   "source": [
    "[GRADER NOTE: PLEASE USE FLEXIBLE GRADING BASED ON LOOKING AT PLOTS AND JUDGEMENT].\n",
    "* Comparatively, users in cluster 0 prefer romance. Comparatively, they do not prefer drama or comedy.\n",
    "* Comparatively, users in cluster 1 prefer drama and documentaries. Comparatively, they do not prefer horror and romance.\n",
    "* Comparatively, users in cluster 2 prefer romance, horror, and comedy. Comparatively, they do not prefer documentaries and drama."
   ]
  },
  {
   "cell_type": "code",
   "execution_count": null,
   "metadata": {},
   "outputs": [],
   "source": []
  }
 ],
 "metadata": {
  "colab": {
   "collapsed_sections": [],
   "name": "Assignment_01.ipynb",
   "provenance": [],
   "toc_visible": true
  },
  "kernelspec": {
   "display_name": "Python 3",
   "language": "python",
   "name": "python3"
  },
  "language_info": {
   "codemirror_mode": {
    "name": "ipython",
    "version": 3
   },
   "file_extension": ".py",
   "mimetype": "text/x-python",
   "name": "python",
   "nbconvert_exporter": "python",
   "pygments_lexer": "ipython3",
   "version": "3.8.3"
  }
 },
 "nbformat": 4,
 "nbformat_minor": 1
}
