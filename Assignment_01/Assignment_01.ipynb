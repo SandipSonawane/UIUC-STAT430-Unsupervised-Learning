{
 "cells": [
  {
   "cell_type": "markdown",
   "metadata": {
    "colab_type": "text",
    "id": "zc5nWPw9RMn3"
   },
   "source": [
    "# Homework Assignment 1 - (Question 4)\n",
    "\n",
    "## <u>Case Study</u>: Artificial Netflix Movie Ratings Dataset\n",
    "\n",
    "The dataset that will be examining is an artificially generated dataset of 150 Netflix users and their average rating (on a scale from [0,5], where 0=strongly dislike and 5=strongly like) for movies of five different genres: horror, romance, drama, comedy, and documentaries.\n",
    "\n",
    "In this analysis we would like to answer the following questions about the dataset.\n",
    "1. Is this dataset clusterable?\n",
    "2. If so, how many clusters are there in the dataset?\n",
    "3. What kind of movies do the users in each cluster like and dislike?\n",
    "\n",
    "\n"
   ]
  },
  {
   "cell_type": "markdown",
   "metadata": {
    "colab_type": "text",
    "id": "qToPhyosRVad"
   },
   "source": [
    "### Imports"
   ]
  },
  {
   "cell_type": "code",
   "execution_count": 53,
   "metadata": {
    "colab": {
     "base_uri": "https://localhost:8080/",
     "height": 72
    },
    "colab_type": "code",
    "id": "q7_lWF0DCEJb",
    "outputId": "b22bf52e-1be7-431c-de10-b4edd32926a5"
   },
   "outputs": [],
   "source": [
    "import pandas as pd\n",
    "import numpy as np\n",
    "import matplotlib.pyplot as plt\n",
    "import seaborn as sns\n",
    "from sklearn.cluster import KMeans\n",
    "np.random.seed(42)"
   ]
  },
  {
   "cell_type": "markdown",
   "metadata": {
    "colab_type": "text",
    "id": "bxs1xVQqK-wf"
   },
   "source": [
    "### 4.1. Read the csv [1 pt]\n",
    "Read the artificial_netflix_ratings.csv into a dataframe. Call it df."
   ]
  },
  {
   "cell_type": "code",
   "execution_count": 54,
   "metadata": {
    "colab": {},
    "colab_type": "code",
    "id": "cTaiat0WSIsH"
   },
   "outputs": [],
   "source": [
    "df = pd.read_csv('artificial_netflix_ratings.csv')"
   ]
  },
  {
   "cell_type": "markdown",
   "metadata": {},
   "source": [
    "### 4.2. Examining the dataframe. [1 pt]\n",
    "\n",
    "Show the first five rows of the dataframe df."
   ]
  },
  {
   "cell_type": "code",
   "execution_count": 55,
   "metadata": {},
   "outputs": [
    {
     "data": {
      "text/html": [
       "<div>\n",
       "<style scoped>\n",
       "    .dataframe tbody tr th:only-of-type {\n",
       "        vertical-align: middle;\n",
       "    }\n",
       "\n",
       "    .dataframe tbody tr th {\n",
       "        vertical-align: top;\n",
       "    }\n",
       "\n",
       "    .dataframe thead th {\n",
       "        text-align: right;\n",
       "    }\n",
       "</style>\n",
       "<table border=\"1\" class=\"dataframe\">\n",
       "  <thead>\n",
       "    <tr style=\"text-align: right;\">\n",
       "      <th></th>\n",
       "      <th>horror</th>\n",
       "      <th>romance</th>\n",
       "      <th>drama</th>\n",
       "      <th>comedy</th>\n",
       "      <th>documentaries</th>\n",
       "    </tr>\n",
       "  </thead>\n",
       "  <tbody>\n",
       "    <tr>\n",
       "      <th>0</th>\n",
       "      <td>2.701137</td>\n",
       "      <td>3.547034</td>\n",
       "      <td>3.004323</td>\n",
       "      <td>2.739230</td>\n",
       "      <td>2.060151</td>\n",
       "    </tr>\n",
       "    <tr>\n",
       "      <th>1</th>\n",
       "      <td>3.994819</td>\n",
       "      <td>2.721366</td>\n",
       "      <td>2.868647</td>\n",
       "      <td>4.738209</td>\n",
       "      <td>0.364445</td>\n",
       "    </tr>\n",
       "    <tr>\n",
       "      <th>2</th>\n",
       "      <td>0.539065</td>\n",
       "      <td>0.155385</td>\n",
       "      <td>4.338865</td>\n",
       "      <td>3.891659</td>\n",
       "      <td>4.369384</td>\n",
       "    </tr>\n",
       "    <tr>\n",
       "      <th>3</th>\n",
       "      <td>2.811313</td>\n",
       "      <td>3.611991</td>\n",
       "      <td>2.928161</td>\n",
       "      <td>2.828290</td>\n",
       "      <td>2.250514</td>\n",
       "    </tr>\n",
       "    <tr>\n",
       "      <th>4</th>\n",
       "      <td>2.811637</td>\n",
       "      <td>3.529473</td>\n",
       "      <td>3.142484</td>\n",
       "      <td>2.719070</td>\n",
       "      <td>2.182515</td>\n",
       "    </tr>\n",
       "  </tbody>\n",
       "</table>\n",
       "</div>"
      ],
      "text/plain": [
       "     horror   romance     drama    comedy  documentaries\n",
       "0  2.701137  3.547034  3.004323  2.739230       2.060151\n",
       "1  3.994819  2.721366  2.868647  4.738209       0.364445\n",
       "2  0.539065  0.155385  4.338865  3.891659       4.369384\n",
       "3  2.811313  3.611991  2.928161  2.828290       2.250514\n",
       "4  2.811637  3.529473  3.142484  2.719070       2.182515"
      ]
     },
     "execution_count": 55,
     "metadata": {},
     "output_type": "execute_result"
    }
   ],
   "source": [
    "df.head(5)"
   ]
  },
  {
   "cell_type": "markdown",
   "metadata": {},
   "source": [
    "### 4.3. Describing the dataframe. [2 pt]\n",
    "\n",
    "Create a histogram for each of the five attributes in the dataset."
   ]
  },
  {
   "cell_type": "code",
   "execution_count": 56,
   "metadata": {},
   "outputs": [
    {
     "data": {
      "image/png": "[encoded data removed]",
      "text/plain": [
       "<Figure size 1080x576 with 5 Axes>"
      ]
     },
     "metadata": {
      "needs_background": "light"
     },
     "output_type": "display_data"
    }
   ],
   "source": [
    "plt.figure(figsize=(15,8))\n",
    "\n",
    "plt.subplot(2,3,1)\n",
    "plt.title(df.columns[0])\n",
    "plt.hist(df[df.columns[0]])\n",
    "\n",
    "plt.subplot(2,3,2)\n",
    "plt.title(df.columns[1])\n",
    "plt.hist(df[df.columns[1]])\n",
    "\n",
    "plt.subplot(2,3,3)\n",
    "plt.title(df.columns[2])\n",
    "plt.hist(df[df.columns[2]])\n",
    "\n",
    "plt.subplot(2,3,4)\n",
    "plt.title(df.columns[3])\n",
    "plt.hist(df[df.columns[3]])\n",
    "\n",
    "plt.subplot(2,3,5)\n",
    "plt.title(df.columns[4])\n",
    "plt.hist(df[df.columns[4]])\n",
    "\n",
    "plt.show()"
   ]
  },
  {
   "cell_type": "markdown",
   "metadata": {},
   "source": [
    "### 4.4. Dataset for clustering [1 pt]\n",
    "\n",
    "Create a copy of this **df** dataframe and call it **X**."
   ]
  },
  {
   "cell_type": "code",
   "execution_count": 57,
   "metadata": {},
   "outputs": [],
   "source": [
    "X = df.copy()"
   ]
  },
  {
   "cell_type": "markdown",
   "metadata": {},
   "source": [
    "### 4.5. Create an elbow plot for this dataframe X. [2 pt]"
   ]
  },
  {
   "cell_type": "code",
   "execution_count": 58,
   "metadata": {
    "colab": {
     "base_uri": "https://localhost:8080/",
     "height": 295
    },
    "colab_type": "code",
    "id": "lruX1HdPL9xr",
    "outputId": "ac5a4586-5113-4b98-e211-5bb7e39b3252"
   },
   "outputs": [
    {
     "name": "stdout",
     "output_type": "stream",
     "text": [
      "k = 1 ; Avg. inertia = 1179.3836899174435\n",
      "k = 2 ; Avg. inertia = 227.21704980402149\n",
      "k = 3 ; Avg. inertia = 2.7230638035777086\n",
      "k = 4 ; Avg. inertia = 2.5045274292331254\n",
      "k = 5 ; Avg. inertia = 2.299164847080014\n",
      "k = 6 ; Avg. inertia = 2.137233868370858\n",
      "k = 7 ; Avg. inertia = 1.9973873520178058\n",
      "k = 8 ; Avg. inertia = 1.9023764838925936\n",
      "k = 9 ; Avg. inertia = 1.8131757472319698\n",
      "k = 10 ; Avg. inertia = 1.7330183740658551\n"
     ]
    }
   ],
   "source": [
    "avg_inertia_mapping = {}\n",
    "for k in range(10):\n",
    "    sub_inertia_list = []\n",
    "    for i in range(0,3):\n",
    "        kmeans = KMeans(n_clusters=k+1).fit(X)\n",
    "        sub_inertia_list.append(kmeans.inertia_)\n",
    "    avg_inertia = np.average(sub_inertia_list)\n",
    "    avg_inertia_mapping.update({k+1:avg_inertia})\n",
    "    print(f'k = {k+1} ; Avg. inertia = {avg_inertia}')"
   ]
  },
  {
   "cell_type": "code",
   "execution_count": 59,
   "metadata": {},
   "outputs": [
    {
     "data": {
      "image/png": "[encoded data removed]",
      "text/plain": [
       "<Figure size 432x288 with 1 Axes>"
      ]
     },
     "metadata": {
      "needs_background": "light"
     },
     "output_type": "display_data"
    }
   ],
   "source": [
    "plt.plot(avg_inertia_mapping.keys(), avg_inertia_mapping.values())\n",
    "plt.xlabel('Number of Clusters Requested in K-means')\n",
    "plt.ylabel('Avg. inertia of K-means results (3 trials)')\n",
    "plt.title('Elbow Method results for artificially generated Netflix data')\n",
    "plt.show()"
   ]
  },
  {
   "cell_type": "markdown",
   "metadata": {},
   "source": [
    "### 4.6. Does this elbow plot suggest that the dataset is clusterable? Explain. [2 pt]"
   ]
  },
  {
   "cell_type": "markdown",
   "metadata": {},
   "source": [
    "- The plot does suggest that the dataset is clusterable.\n",
    "- The average inertia (or within cluster sum of squares) reduces very drastically when we choose K = 3. It almost becomes zero at K=3.\n",
    "- There is a sudden decrease in the average inertia values and then a very slow reduction of avg. inertia after K=3."
   ]
  },
  {
   "cell_type": "markdown",
   "metadata": {},
   "source": [
    "### 4.7. How many clusters does this elbow plot suggest we should use in k-means? Explain. [2 pt]"
   ]
  },
  {
   "cell_type": "markdown",
   "metadata": {},
   "source": [
    "- The plot suggests that we should use 3 clusters."
   ]
  },
  {
   "cell_type": "markdown",
   "metadata": {
    "colab_type": "text",
    "id": "MsS6wPJGXCNW"
   },
   "source": [
    "### 4.8. Cluster the data [2 pt]\n",
    "\n",
    "Using the cluster number that you selected in question above, clusters the dataframe using k-means.\n",
    "\n",
    "**<u>Note</u>: In sklearn, you can set a random seed for non-deterministic functions by using the random_state parameter. Within your KMeans() function in this problem, you should set an additional parameter with <u>random_state=100</u>.**\n",
    "\n",
    "Save the cluster labels of your final clustering in a new column of the **df** dataframe called 'predicted_cluster'.\n",
    "\n"
   ]
  },
  {
   "cell_type": "code",
   "execution_count": 67,
   "metadata": {
    "colab": {},
    "colab_type": "code",
    "id": "cB0NxOy-O6pq"
   },
   "outputs": [
    {
     "data": {
      "text/plain": [
       "KMeans(n_clusters=3, random_state=100)"
      ]
     },
     "execution_count": 67,
     "metadata": {},
     "output_type": "execute_result"
    }
   ],
   "source": [
    "kmeans = KMeans(n_clusters=3, random_state=100).fit(X)\n",
    "kmeans"
   ]
  },
  {
   "cell_type": "code",
   "execution_count": 69,
   "metadata": {},
   "outputs": [
    {
     "data": {
      "text/plain": [
       "array([0, 2, 1, 0, 0, 1, 2, 1, 1, 1, 0, 2, 2, 1, 2, 0, 1, 1, 0, 2, 2, 1,\n",
       "       1, 1, 2, 2, 0, 2, 1, 1, 2, 2, 1, 2, 2, 1, 2, 0, 0, 2, 1, 0, 1, 2,\n",
       "       1, 0, 1, 1, 1, 2, 2, 0, 0, 2, 2, 1, 0, 1, 2, 0, 0, 2, 0, 1, 2, 0,\n",
       "       0, 0, 2, 1, 2, 2, 2, 2, 0, 0, 2, 2, 0, 2, 2, 2, 1, 1, 1, 0, 1, 0,\n",
       "       1, 2, 1, 0, 2, 0, 0, 1, 1, 1, 1, 1, 0, 1, 1, 2, 2, 0, 1, 1, 1, 0,\n",
       "       0, 0, 2, 0, 1, 2, 2, 2, 0, 2, 1, 1, 0, 1, 2, 0, 0, 1, 0, 2, 0, 0,\n",
       "       1, 0, 0, 0, 0, 0, 0, 2, 2, 1, 1, 2, 1, 0, 2, 0, 0, 2])"
      ]
     },
     "execution_count": 69,
     "metadata": {},
     "output_type": "execute_result"
    }
   ],
   "source": [
    "kmeans.labels_"
   ]
  },
  {
   "cell_type": "code",
   "execution_count": 72,
   "metadata": {},
   "outputs": [],
   "source": [
    "df['Predicted_cluster'] = kmeans.labels_"
   ]
  },
  {
   "cell_type": "code",
   "execution_count": 73,
   "metadata": {},
   "outputs": [
    {
     "data": {
      "text/html": [
       "<div>\n",
       "<style scoped>\n",
       "    .dataframe tbody tr th:only-of-type {\n",
       "        vertical-align: middle;\n",
       "    }\n",
       "\n",
       "    .dataframe tbody tr th {\n",
       "        vertical-align: top;\n",
       "    }\n",
       "\n",
       "    .dataframe thead th {\n",
       "        text-align: right;\n",
       "    }\n",
       "</style>\n",
       "<table border=\"1\" class=\"dataframe\">\n",
       "  <thead>\n",
       "    <tr style=\"text-align: right;\">\n",
       "      <th></th>\n",
       "      <th>horror</th>\n",
       "      <th>romance</th>\n",
       "      <th>drama</th>\n",
       "      <th>comedy</th>\n",
       "      <th>documentaries</th>\n",
       "      <th>Predicted_cluster</th>\n",
       "    </tr>\n",
       "  </thead>\n",
       "  <tbody>\n",
       "    <tr>\n",
       "      <th>0</th>\n",
       "      <td>2.701137</td>\n",
       "      <td>3.547034</td>\n",
       "      <td>3.004323</td>\n",
       "      <td>2.739230</td>\n",
       "      <td>2.060151</td>\n",
       "      <td>0</td>\n",
       "    </tr>\n",
       "    <tr>\n",
       "      <th>1</th>\n",
       "      <td>3.994819</td>\n",
       "      <td>2.721366</td>\n",
       "      <td>2.868647</td>\n",
       "      <td>4.738209</td>\n",
       "      <td>0.364445</td>\n",
       "      <td>2</td>\n",
       "    </tr>\n",
       "    <tr>\n",
       "      <th>2</th>\n",
       "      <td>0.539065</td>\n",
       "      <td>0.155385</td>\n",
       "      <td>4.338865</td>\n",
       "      <td>3.891659</td>\n",
       "      <td>4.369384</td>\n",
       "      <td>1</td>\n",
       "    </tr>\n",
       "    <tr>\n",
       "      <th>3</th>\n",
       "      <td>2.811313</td>\n",
       "      <td>3.611991</td>\n",
       "      <td>2.928161</td>\n",
       "      <td>2.828290</td>\n",
       "      <td>2.250514</td>\n",
       "      <td>0</td>\n",
       "    </tr>\n",
       "    <tr>\n",
       "      <th>4</th>\n",
       "      <td>2.811637</td>\n",
       "      <td>3.529473</td>\n",
       "      <td>3.142484</td>\n",
       "      <td>2.719070</td>\n",
       "      <td>2.182515</td>\n",
       "      <td>0</td>\n",
       "    </tr>\n",
       "  </tbody>\n",
       "</table>\n",
       "</div>"
      ],
      "text/plain": [
       "     horror   romance     drama    comedy  documentaries  Predicted_cluster\n",
       "0  2.701137  3.547034  3.004323  2.739230       2.060151                  0\n",
       "1  3.994819  2.721366  2.868647  4.738209       0.364445                  2\n",
       "2  0.539065  0.155385  4.338865  3.891659       4.369384                  1\n",
       "3  2.811313  3.611991  2.928161  2.828290       2.250514                  0\n",
       "4  2.811637  3.529473  3.142484  2.719070       2.182515                  0"
      ]
     },
     "execution_count": 73,
     "metadata": {},
     "output_type": "execute_result"
    }
   ],
   "source": [
    "df.head()"
   ]
  },
  {
   "cell_type": "markdown",
   "metadata": {},
   "source": [
    "### 4.9 Create side-by-side boxplots visualizations. [3 pt]\n",
    "\n",
    "For each of the five movie attributes (horror, romance, drama, comedy, and documentaries) create a side-by-side boxplots visualization. Within each visualization, there should be a boxplot that corresponds to each predicted_cluster label."
   ]
  },
  {
   "cell_type": "code",
   "execution_count": 76,
   "metadata": {},
   "outputs": [
    {
     "data": {
      "image/png": "[encoded data removed]",
      "text/plain": [
       "<Figure size 432x288 with 1 Axes>"
      ]
     },
     "metadata": {
      "needs_background": "light"
     },
     "output_type": "display_data"
    },
    {
     "data": {
      "image/png": "[encoded data removed]",
      "text/plain": [
       "<Figure size 432x288 with 1 Axes>"
      ]
     },
     "metadata": {
      "needs_background": "light"
     },
     "output_type": "display_data"
    },
    {
     "data": {
      "image/png": "[encoded data removed]",
      "text/plain": [
       "<Figure size 432x288 with 1 Axes>"
      ]
     },
     "metadata": {
      "needs_background": "light"
     },
     "output_type": "display_data"
    },
    {
     "data": {
      "image/png": "[encoded data removed]",
      "text/plain": [
       "<Figure size 432x288 with 1 Axes>"
      ]
     },
     "metadata": {
      "needs_background": "light"
     },
     "output_type": "display_data"
    },
    {
     "data": {
      "image/png": "[encoded data removed]",
      "text/plain": [
       "<Figure size 432x288 with 1 Axes>"
      ]
     },
     "metadata": {
      "needs_background": "light"
     },
     "output_type": "display_data"
    }
   ],
   "source": [
    "for col in df.columns[:-1]:\n",
    "    sns.boxplot(x='Predicted_cluster', y=col, data=df)\n",
    "    plt.title(f'{col} cluster distribution')\n",
    "    plt.show()"
   ]
  },
  {
   "cell_type": "markdown",
   "metadata": {},
   "source": [
    "### 4.10. Describing the clusters [2 pt]\n",
    "\n",
    "What kind of movies do the users in each cluster like (compared to users in some other clusters)? What kind of movies do the users in each cluster dislike (compared to users in some other clusters)?"
   ]
  },
  {
   "cell_type": "markdown",
   "metadata": {},
   "source": [
    "- Kind of Movies that users in each cluster like:\n",
    "    - Cluster 0: Romance with average liking for documentaries, Horror\n",
    "    - Cluster 1: Documentaries, Drama with average liking for comedy\n",
    "    - Cluster 2: Comedy and Horror with average liking ro romance\n",
    "    \n",
    "\n",
    "- Kind of Movies that users in each clusters dislike:\n",
    "    - Cluster 0: Drama, Comedy\n",
    "    - Cluster 1: Romance, Horror\n",
    "    - Cluster 2: Documentaries, Drama"
   ]
  }
 ],
 "metadata": {
  "colab": {
   "collapsed_sections": [],
   "name": "Assignment_01.ipynb",
   "provenance": [],
   "toc_visible": true
  },
  "kernelspec": {
   "display_name": "Python 3",
   "language": "python",
   "name": "python3"
  },
  "language_info": {
   "codemirror_mode": {
    "name": "ipython",
    "version": 3
   },
   "file_extension": ".py",
   "mimetype": "text/x-python",
   "name": "python",
   "nbconvert_exporter": "python",
   "pygments_lexer": "ipython3",
   "version": "3.8.5"
  }
 },
 "nbformat": 4,
 "nbformat_minor": 4
}
