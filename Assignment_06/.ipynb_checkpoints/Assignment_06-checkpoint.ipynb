{
 "cells": [
  {
   "cell_type": "markdown",
   "metadata": {},
   "source": [
    "# Assignment 06 - [30 points] Solutions\n",
    "\n",
    "## <u>Case Study</u>: Fashion MNIST Dataset Analysis\n",
    "\n",
    "In this analysis, we will explore a random sample of another popular machine learning benchmark dataset known as the \"Fashion MNIST\" dataset. This dataset is comprised of 500 28-by-28 pixel images of fashion items. Each of the 784 image pixels is represented by a numerical gray scale value which can range from 0 (black) to 255 (white). Each object has an associated pre-assigned class label, which corresponds to the fashion item that the image is a picture of. The 10 types of fashion items included in this dataset are: Pullover, Sandal, Bag, Ankle boot, Coat, Shirt, T-shirt/top, Sneaker, Dress, and Trousers.\n",
    "\n",
    "The performance of many machine learning algorithms, especially when applied to image data, can be heavily influenced by the nature and efficacy of the data pre-processing steps that were taken. A course in computer vision would be able to more extensively discuss these specific image pre-processing steps to get better performance from our machine learning algorithms when applied to image data. For the purpose of this unsupervised learning class, this Fashion MNIST dataset is a good dataset to start with, as these images do not require a lot of data pre-processing in order to get insightful results from our machine learning algorithms.\n",
    "\n",
    "\n",
    "### <u>Research Questions</u>:\n",
    "\n",
    "We would like to answer the following research questions about the dataset.\n",
    "* Is this dataset clusterable? If so, how many, what are their shapes and sizes (ie. number of objects in them), and are they well-separated?\n",
    "* How do these clusters associate with the 10 fashion item types?\n",
    "* Are there some fashion items that may have two or more subtypes?\n",
    "* Which fashion items are more easily distinguishable by a machine learning algorithm?\n",
    "* Are there images that have higher image uncertainty as to the type of fashion item that it is an image of? What types of images do we most think that these images are?\n",
    "\n",
    "\n",
    "<hr style=\"height:1px;border:none;color:#333;background-color:#333;\" />"
   ]
  },
  {
   "cell_type": "markdown",
   "metadata": {},
   "source": [
    "### Imports"
   ]
  },
  {
   "cell_type": "code",
   "execution_count": null,
   "metadata": {},
   "outputs": [],
   "source": []
  },
  {
   "cell_type": "markdown",
   "metadata": {},
   "source": [
    "### 1. Data Preprocessing\n",
    "\n",
    "This dataset does not have any missing values.\n",
    "\n",
    "* Read the fashion_mnist_sample.csv into a dataframe.\n",
    "* Create another dataframe that contains just the scaled numerical pixel attributes. You should scale these pixel attributes by dividing each of the values by 255.\n",
    "* Create another dataframe that contains the scaled numerical variables and the fashion item class labels."
   ]
  },
  {
   "cell_type": "code",
   "execution_count": null,
   "metadata": {},
   "outputs": [],
   "source": []
  },
  {
   "cell_type": "code",
   "execution_count": null,
   "metadata": {},
   "outputs": [],
   "source": []
  },
  {
   "cell_type": "code",
   "execution_count": null,
   "metadata": {},
   "outputs": [],
   "source": []
  },
  {
   "cell_type": "markdown",
   "metadata": {},
   "source": [
    "### 2. Basic Descriptive Analytics\n",
    "\n",
    "#### 2.1. Number of Each Fashion Item\n",
    "\n",
    "Display the number of images of each type of fashion item."
   ]
  },
  {
   "cell_type": "code",
   "execution_count": null,
   "metadata": {},
   "outputs": [],
   "source": []
  },
  {
   "cell_type": "markdown",
   "metadata": {},
   "source": [
    "#### 2.2. Fashion Item Images\n",
    "\n",
    "Display the first four images of each type of fashion item in the dataset."
   ]
  },
  {
   "cell_type": "code",
   "execution_count": null,
   "metadata": {},
   "outputs": [],
   "source": []
  },
  {
   "cell_type": "code",
   "execution_count": null,
   "metadata": {},
   "outputs": [],
   "source": []
  },
  {
   "cell_type": "markdown",
   "metadata": {},
   "source": [
    "#### 2.3. Average Fashion Item Image\n",
    "\n",
    "Calculate the average of the images corresponding to each fashion item type. Then display the resulting averaged image for each of the 10 fashion item types."
   ]
  },
  {
   "cell_type": "code",
   "execution_count": null,
   "metadata": {},
   "outputs": [],
   "source": []
  },
  {
   "cell_type": "code",
   "execution_count": null,
   "metadata": {},
   "outputs": [],
   "source": []
  },
  {
   "cell_type": "markdown",
   "metadata": {},
   "source": [
    "#### 2.4. Image Variability\n",
    "\n",
    "What is a fashion item that you think has a high amount of image variability? Explain."
   ]
  },
  {
   "cell_type": "markdown",
   "metadata": {},
   "source": []
  },
  {
   "cell_type": "markdown",
   "metadata": {},
   "source": [
    "### 3. Clusterability\n",
    "\n",
    "#### 3.1. t-SNE Plots\n",
    "Using 6 different perplexity values and at least two random states for each perplexity value, map this 784 dimensional dataset onto a two-dimensional dataset with the t-SNE algorithm. Show your projected coordinates in a scatterplot for each combination of random states and perplexity value. Also, color code your points by the fashion item labels."
   ]
  },
  {
   "cell_type": "code",
   "execution_count": null,
   "metadata": {},
   "outputs": [],
   "source": []
  },
  {
   "cell_type": "markdown",
   "metadata": {},
   "source": [
    "#### 3.2. Interpretation:\n",
    "\n",
    "Use your t-SNE plots to answer the following questions.\n",
    "\n",
    "1. Is this dataset clusterable?\n",
    "2. If so, how many clusters are in this dataset? *[This is subjective. As long as the logic in your explanation is correct, you will get full credit].*\n",
    "3. What is the shape of the clusters in this dataset? *[This is subjective. As long as the logic in your explanation is correct, you will get full credit].*\n",
    "4. Are these clusters well separated? *[This is subjective. As long as the logic in your explanation is correct, you will get full credit].*\n",
    "5. Describe the relationship between the clusters suggested by the t-SNE plots and the fashion item labels. *[This is subjective. As long as the logic in your explanation is correct, you will get full credit].*\n",
    "6. Name one fashion item that may have different *sub-classes*. Explain why you think this.\n",
    "\n",
    "Finally, pick out a random state and perplexity value that reflects the answers to your questions and show the corresponding t-SNE plot below."
   ]
  },
  {
   "cell_type": "markdown",
   "metadata": {},
   "source": []
  },
  {
   "cell_type": "code",
   "execution_count": null,
   "metadata": {},
   "outputs": [],
   "source": []
  },
  {
   "cell_type": "markdown",
   "metadata": {},
   "source": [
    "### 4. Clustering Algorithm Selection\n",
    "\n",
    "We would like to use fuzzy c-means to cluster this dataset for the following reasons.\n",
    "* We would like for our clustering algorithm results to return more information than a traditional partition-based clustering algorithm. Specifically, we would like for our algorithm to return a matrix of cluster membership scores, reflecting the extent to which each object in the dataset belongs to each of the $c$ clusters.\n",
    "* We would like to determine which of the fashion item images are more well separated from other fashion item images.\n",
    "* We would like to determine which *individual* images have high cluster membership to a *single* particular cluster. How many of each type of fashion item images have high cluster membership to just a single cluster?\n",
    "* We would like to determine which *individual* images do not have a high cluster membership to any single particular cluster. How many of each type of fashion item images DO NOT have high cluster membership to just any particular single cluster?\n",
    "\n",
    "#### What is one reason why fuzzy c-means may *not* give the best performance for this dataset?\n"
   ]
  },
  {
   "cell_type": "markdown",
   "metadata": {},
   "source": []
  },
  {
   "cell_type": "markdown",
   "metadata": {},
   "source": [
    "### 5. Fuzzy c-Means Parameter Selection\n",
    "\n",
    "We will use Fuzzy c-means to cluster this dataset.\n",
    "\n",
    "Because one of the goals of this analysis is to learn more about each of the 10 fashion items, we will cluster this dataset with $c=10$ clusters. We would like to select the ideal value of $p$ that gives us the most insightful results. We would ideally like for our fuzzy c-means clustering results to do the following.\n",
    "1. It should give a harder set of cluster membership scores to objects that we think should have a more certain assignment to one particular cluster\n",
    "2. It should give a fuzzier set of cluster membership scores to objects that we think would have more of an uncertain assignment to a set of two or more clusters.\n",
    "\n",
    "Thus we want our fuzzy clustering results to be able to reflect the uncertain of the cluster assignment of straddle nodes, but reflect more certainty of the cluster assignments that have a high degree of belonging to a particular cluster.\n",
    "\n"
   ]
  },
  {
   "cell_type": "markdown",
   "metadata": {},
   "source": [
    "#### 5.1. p=1.01\n",
    "\n",
    "First, cluster the dataset using fuzzy c-means using c=10 clusters, p=1.01, and a random state of 100. Then display your clustering results in 10 t-SNE plots. The objects in your $kth$ t-SNE plot should be color-coded by their cluster membership scores to the $kth$ cluster."
   ]
  },
  {
   "cell_type": "code",
   "execution_count": null,
   "metadata": {},
   "outputs": [],
   "source": []
  },
  {
   "cell_type": "markdown",
   "metadata": {},
   "source": [
    "#### 5.2. p=1.1\n",
    "\n",
    "Cluster the dataset using fuzzy c-means using c=10 clusters, p=1.1, and a random state of 100. Then display your clustering results in 10 t-SNE plots. The objects in your $kth$ t-SNE plot should be color-coded by their cluster membership scores to the $kth$ cluster."
   ]
  },
  {
   "cell_type": "code",
   "execution_count": null,
   "metadata": {},
   "outputs": [],
   "source": []
  },
  {
   "cell_type": "markdown",
   "metadata": {},
   "source": [
    "#### 5.3. p=1.7\n",
    "\n",
    "Cluster the dataset using fuzzy c-means using c=10 clusters, p=1.7, and a random state of 100. Then display your clustering results in 10 t-SNE plots. The objects in your $kth$ t-SNE plot should be color-coded by their cluster membership scores to the $kth$ cluster."
   ]
  },
  {
   "cell_type": "code",
   "execution_count": null,
   "metadata": {},
   "outputs": [],
   "source": []
  },
  {
   "cell_type": "markdown",
   "metadata": {},
   "source": [
    "#### 5.4. p=2\n",
    "\n",
    "Finally, cluster the dataset using fuzzy c-means using c=10 clusters, p=2, and a random state of 100. Then display your clustering results in 10 t-SNE plots. The objects in your $kth$ t-SNE plot should be color-coded by their cluster membership scores to the $kth$ cluster."
   ]
  },
  {
   "cell_type": "code",
   "execution_count": null,
   "metadata": {},
   "outputs": [],
   "source": []
  },
  {
   "cell_type": "markdown",
   "metadata": {},
   "source": [
    "#### 5.5. Parameter Selection\n",
    "\n",
    "One of the goals of this cluster analysis is to return a fuzzy clustering result that:\n",
    "* is able to identify the underlying clusters in the dataset,\n",
    "* is able to reflect the uncertain nature of which clusters \"straddle nodes\" should belong to, and\n",
    "* is able to reflect the more certain nature of which cluster highly cohesive objects belong to.\n",
    "\n",
    "Which parameter value (p=1.01, 1.1, 1.7, or 2) creates the fuzzy clustering that best meets these goals? Explain. "
   ]
  },
  {
   "cell_type": "markdown",
   "metadata": {},
   "source": []
  },
  {
   "cell_type": "markdown",
   "metadata": {},
   "source": [
    "### 6. Post-Cluster Analysis\n",
    "\n",
    "Using c=10, a random state of 100, and the best value of p that you selected in 5.5, cluster your dataset again using fuzzy-cmeans. Then use this clustering result to answer the following questions in #6."
   ]
  },
  {
   "cell_type": "code",
   "execution_count": null,
   "metadata": {},
   "outputs": [],
   "source": []
  },
  {
   "cell_type": "markdown",
   "metadata": {},
   "source": [
    "#### 6.1. Centroids\n",
    "\n",
    "Display the image of each cluster centroid."
   ]
  },
  {
   "cell_type": "code",
   "execution_count": null,
   "metadata": {},
   "outputs": [],
   "source": []
  },
  {
   "cell_type": "markdown",
   "metadata": {},
   "source": [
    "#### 6.2. Fuzzy c-Means Clusters and Fashion Items\n",
    "\n",
    "Use your centroid images, your t-SNE plot (color-coded by the fashion item labels), and your t-SNE plots (color-coded by the cluster membership weights) to determine which fashion item(s) most represents each of the 10 clusters. If it is ambiguous or a given cluster is highly represented by multiple fashion items explain this as well."
   ]
  },
  {
   "cell_type": "code",
   "execution_count": null,
   "metadata": {},
   "outputs": [],
   "source": []
  },
  {
   "cell_type": "markdown",
   "metadata": {},
   "source": []
  },
  {
   "cell_type": "markdown",
   "metadata": {},
   "source": [
    "#### 6.3. Normalized Dunn's Partitioning Coefficient\n",
    "\n",
    "What is the Normalized Dunn's Partitioning coefficient for this fuzzy clustering? What does this value say about the overall fuzziness of the clustering?"
   ]
  },
  {
   "cell_type": "code",
   "execution_count": null,
   "metadata": {},
   "outputs": [],
   "source": []
  },
  {
   "cell_type": "markdown",
   "metadata": {},
   "source": []
  },
  {
   "cell_type": "markdown",
   "metadata": {},
   "source": [
    "#### 6.4. Highest Cluster Membership Weights\n",
    "\n",
    "Find the highest cluster membership weight for each object. Then plot these values in a histogram. Does your resulting histogram agree with what you interpreted in 6.3? Explain."
   ]
  },
  {
   "cell_type": "code",
   "execution_count": null,
   "metadata": {},
   "outputs": [],
   "source": []
  },
  {
   "cell_type": "code",
   "execution_count": null,
   "metadata": {},
   "outputs": [],
   "source": []
  },
  {
   "cell_type": "code",
   "execution_count": null,
   "metadata": {},
   "outputs": [],
   "source": []
  },
  {
   "cell_type": "markdown",
   "metadata": {},
   "source": []
  },
  {
   "cell_type": "markdown",
   "metadata": {},
   "source": [
    "#### 6.5. Learning More about Straddle Nodes\n",
    "\n",
    "Display the cluster membership weights for the 5 objects in the dataset that have the smallest highest cluster membership scores."
   ]
  },
  {
   "cell_type": "code",
   "execution_count": null,
   "metadata": {},
   "outputs": [],
   "source": []
  },
  {
   "cell_type": "code",
   "execution_count": null,
   "metadata": {},
   "outputs": [],
   "source": []
  },
  {
   "cell_type": "markdown",
   "metadata": {},
   "source": [
    "#### 6.6. Most Uncertain Image Assignment\n",
    "\n",
    "Next, select the image that has the smallest highest cluster membership value. \n",
    "* Which three clusters does this object most belong to?\n",
    "* What three types of fashion items is fuzzy c-means suggesting that this item is most likely to be?"
   ]
  },
  {
   "cell_type": "markdown",
   "metadata": {},
   "source": []
  },
  {
   "cell_type": "markdown",
   "metadata": {},
   "source": [
    "#### 6.7. Visualizing this Image\n",
    "\n",
    "Next, display the image that you selected in 6.6."
   ]
  },
  {
   "cell_type": "code",
   "execution_count": null,
   "metadata": {},
   "outputs": [],
   "source": []
  },
  {
   "cell_type": "markdown",
   "metadata": {},
   "source": [
    "#### 6.8. Fashion Item Analysis\n",
    "\n",
    "Next, for each of the 10 fashion items, calculate the median cluster membership score for each of the 10 clusters."
   ]
  },
  {
   "cell_type": "code",
   "execution_count": null,
   "metadata": {},
   "outputs": [],
   "source": []
  },
  {
   "cell_type": "code",
   "execution_count": null,
   "metadata": {},
   "outputs": [],
   "source": []
  },
  {
   "cell_type": "markdown",
   "metadata": {},
   "source": [
    "#### 6.9. Fashion Item with the High Cluster Dispersal\n",
    "\n",
    "Using your answers from 6.8, which fashion item has it's object cluster membership scores most spread out amoungst multiple clusters? Explain."
   ]
  },
  {
   "cell_type": "markdown",
   "metadata": {},
   "source": []
  },
  {
   "cell_type": "markdown",
   "metadata": {},
   "source": [
    "#### 6.10. Membership Weight Histograms for Fashion Item with High Cluster Dispersal\n",
    "\n",
    "For this fashion item that you selected in 6.9, plot 10 histograms, one for each of the 10 cluster membership weights assigned to images of this fashion item type."
   ]
  },
  {
   "cell_type": "code",
   "execution_count": null,
   "metadata": {},
   "outputs": [],
   "source": []
  },
  {
   "cell_type": "code",
   "execution_count": null,
   "metadata": {},
   "outputs": [],
   "source": []
  },
  {
   "cell_type": "markdown",
   "metadata": {},
   "source": [
    "#### 6.11 Fashion Items with the Highest Concentration in Just One Cluster\n",
    "\n",
    "Using your results from 6.8, which five fashion items have their corresponding image weights *most* concentrated in just one particular cluster?"
   ]
  },
  {
   "cell_type": "markdown",
   "metadata": {},
   "source": []
  },
  {
   "cell_type": "markdown",
   "metadata": {},
   "source": [
    "#### 6.12. Sandals Sub-Types\n",
    "\n",
    "* Visualize the sandal that has the highest cluster membership weight for cluster 5. \n",
    "* Then visualize the sandal that has a highest cluster membership weight for cluster 4."
   ]
  },
  {
   "cell_type": "code",
   "execution_count": null,
   "metadata": {},
   "outputs": [],
   "source": []
  },
  {
   "cell_type": "code",
   "execution_count": null,
   "metadata": {},
   "outputs": [],
   "source": []
  },
  {
   "cell_type": "code",
   "execution_count": null,
   "metadata": {},
   "outputs": [],
   "source": []
  },
  {
   "cell_type": "code",
   "execution_count": null,
   "metadata": {},
   "outputs": [],
   "source": []
  },
  {
   "cell_type": "markdown",
   "metadata": {},
   "source": [
    "#### 6.13. The Variability of Sandals\n",
    "\n",
    "Why do we think that this sandal in the image above did not have a high to cluster 5 membership score? "
   ]
  },
  {
   "cell_type": "markdown",
   "metadata": {},
   "source": []
  }
 ],
 "metadata": {
  "kernelspec": {
   "display_name": "Python 3",
   "language": "python",
   "name": "python3"
  },
  "language_info": {
   "codemirror_mode": {
    "name": "ipython",
    "version": 3
   },
   "file_extension": ".py",
   "mimetype": "text/x-python",
   "name": "python",
   "nbconvert_exporter": "python",
   "pygments_lexer": "ipython3",
   "version": "3.8.5"
  }
 },
 "nbformat": 4,
 "nbformat_minor": 4
}
