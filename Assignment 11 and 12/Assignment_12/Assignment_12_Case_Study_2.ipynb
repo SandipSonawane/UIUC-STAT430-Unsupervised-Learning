{
 "cells": [
  {
   "cell_type": "markdown",
   "metadata": {},
   "source": [
    "# Assignment 12 - Case Study 2\n",
    "\n",
    "## <u>Case Study 2</u> Clustering an Artificial Dataset Having Non-Convex Clusters with Spectral Clustering\n",
    "\n",
    "In this case study in assignment 12, we will use spectral clustering to cluster the following two dimensional dataset. You can visualized this two dimensional dataset if you'd like. However, in this analysis you should not assume that you are able to visualize this dataset in a single scatterplot.\n",
    "\n",
    "\n"
   ]
  },
  {
   "cell_type": "markdown",
   "metadata": {},
   "source": [
    "### Imports"
   ]
  },
  {
   "cell_type": "code",
   "execution_count": null,
   "metadata": {},
   "outputs": [],
   "source": [
    "\n",
    "\n"
   ]
  },
  {
   "cell_type": "markdown",
   "metadata": {},
   "source": [
    "\n",
    "## <u>Tutorials</u>:\n",
    "\n",
    "You may need the following tutorial information to complete this case study.\n",
    "\n",
    "### Creating Dataframe Column Labels Based on Conditions\n",
    "\n",
    "\n",
    "\n"
   ]
  },
  {
   "cell_type": "code",
   "execution_count": 1,
   "metadata": {},
   "outputs": [
    {
     "data": {
      "text/html": [
       "<div>\n",
       "<style scoped>\n",
       "    .dataframe tbody tr th:only-of-type {\n",
       "        vertical-align: middle;\n",
       "    }\n",
       "\n",
       "    .dataframe tbody tr th {\n",
       "        vertical-align: top;\n",
       "    }\n",
       "\n",
       "    .dataframe thead th {\n",
       "        text-align: right;\n",
       "    }\n",
       "</style>\n",
       "<table border=\"1\" class=\"dataframe\">\n",
       "  <thead>\n",
       "    <tr style=\"text-align: right;\">\n",
       "      <th></th>\n",
       "      <th>x</th>\n",
       "      <th>y</th>\n",
       "    </tr>\n",
       "  </thead>\n",
       "  <tbody>\n",
       "    <tr>\n",
       "      <th>0</th>\n",
       "      <td>1</td>\n",
       "      <td>9</td>\n",
       "    </tr>\n",
       "    <tr>\n",
       "      <th>1</th>\n",
       "      <td>3</td>\n",
       "      <td>0</td>\n",
       "    </tr>\n",
       "    <tr>\n",
       "      <th>2</th>\n",
       "      <td>5</td>\n",
       "      <td>-1</td>\n",
       "    </tr>\n",
       "    <tr>\n",
       "      <th>3</th>\n",
       "      <td>7</td>\n",
       "      <td>10</td>\n",
       "    </tr>\n",
       "  </tbody>\n",
       "</table>\n",
       "</div>"
      ],
      "text/plain": [
       "   x   y\n",
       "0  1   9\n",
       "1  3   0\n",
       "2  5  -1\n",
       "3  7  10"
      ]
     },
     "execution_count": 1,
     "metadata": {},
     "output_type": "execute_result"
    }
   ],
   "source": [
    "import pandas as pd\n",
    "tmp2 = pd.DataFrame({'x': [1,3,5,7], 'y':[9,0,-1,10]})\n",
    "tmp2"
   ]
  },
  {
   "cell_type": "markdown",
   "metadata": {},
   "source": [
    "We can evaluate a single condition on a column in a dataframe by using parentheses around conditional equation. The result is a pandas series of Boolean variables indicating whether that condition is True or False for the given value in that dataframe."
   ]
  },
  {
   "cell_type": "code",
   "execution_count": 2,
   "metadata": {},
   "outputs": [
    {
     "data": {
      "text/plain": [
       "0    False\n",
       "1    False\n",
       "2     True\n",
       "3     True\n",
       "Name: x, dtype: bool"
      ]
     },
     "execution_count": 2,
     "metadata": {},
     "output_type": "execute_result"
    }
   ],
   "source": [
    "(tmp2['x']>3)"
   ]
  },
  {
   "cell_type": "markdown",
   "metadata": {},
   "source": [
    "We can check if two conditions both hold with the **&** operator."
   ]
  },
  {
   "cell_type": "code",
   "execution_count": 3,
   "metadata": {},
   "outputs": [
    {
     "data": {
      "text/plain": [
       "0    False\n",
       "1    False\n",
       "2    False\n",
       "3     True\n",
       "dtype: bool"
      ]
     },
     "execution_count": 3,
     "metadata": {},
     "output_type": "execute_result"
    }
   ],
   "source": [
    "(tmp2['x']>3) & (tmp2['y']>0)"
   ]
  },
  {
   "cell_type": "markdown",
   "metadata": {},
   "source": [
    "We can check if either of two conditions hold with the **|** operator."
   ]
  },
  {
   "cell_type": "code",
   "execution_count": 4,
   "metadata": {},
   "outputs": [
    {
     "data": {
      "text/plain": [
       "0     True\n",
       "1    False\n",
       "2    False\n",
       "3    False\n",
       "dtype: bool"
      ]
     },
     "execution_count": 4,
     "metadata": {},
     "output_type": "execute_result"
    }
   ],
   "source": [
    "(tmp2['x']>9) | (tmp2['y']==9)"
   ]
  },
  {
   "cell_type": "markdown",
   "metadata": {},
   "source": [
    "We can assign a specified value to all values in dataframe column that meet a corresponding condition by using the **np.select()** function as shown below."
   ]
  },
  {
   "cell_type": "code",
   "execution_count": 5,
   "metadata": {},
   "outputs": [],
   "source": [
    "conditions = [\n",
    "    (tmp2['x']>3) & (tmp2['y']>0),\n",
    "    (tmp2['x']>9) | (tmp2['y']==9)\n",
    "]"
   ]
  },
  {
   "cell_type": "code",
   "execution_count": 6,
   "metadata": {},
   "outputs": [],
   "source": [
    "values = ['val1', 3]"
   ]
  },
  {
   "cell_type": "code",
   "execution_count": 7,
   "metadata": {},
   "outputs": [
    {
     "data": {
      "text/html": [
       "<div>\n",
       "<style scoped>\n",
       "    .dataframe tbody tr th:only-of-type {\n",
       "        vertical-align: middle;\n",
       "    }\n",
       "\n",
       "    .dataframe tbody tr th {\n",
       "        vertical-align: top;\n",
       "    }\n",
       "\n",
       "    .dataframe thead th {\n",
       "        text-align: right;\n",
       "    }\n",
       "</style>\n",
       "<table border=\"1\" class=\"dataframe\">\n",
       "  <thead>\n",
       "    <tr style=\"text-align: right;\">\n",
       "      <th></th>\n",
       "      <th>x</th>\n",
       "      <th>y</th>\n",
       "      <th>new_column</th>\n",
       "    </tr>\n",
       "  </thead>\n",
       "  <tbody>\n",
       "    <tr>\n",
       "      <th>0</th>\n",
       "      <td>1</td>\n",
       "      <td>9</td>\n",
       "      <td>3</td>\n",
       "    </tr>\n",
       "    <tr>\n",
       "      <th>1</th>\n",
       "      <td>3</td>\n",
       "      <td>0</td>\n",
       "      <td>0</td>\n",
       "    </tr>\n",
       "    <tr>\n",
       "      <th>2</th>\n",
       "      <td>5</td>\n",
       "      <td>-1</td>\n",
       "      <td>0</td>\n",
       "    </tr>\n",
       "    <tr>\n",
       "      <th>3</th>\n",
       "      <td>7</td>\n",
       "      <td>10</td>\n",
       "      <td>val1</td>\n",
       "    </tr>\n",
       "  </tbody>\n",
       "</table>\n",
       "</div>"
      ],
      "text/plain": [
       "   x   y new_column\n",
       "0  1   9          3\n",
       "1  3   0          0\n",
       "2  5  -1          0\n",
       "3  7  10       val1"
      ]
     },
     "execution_count": 7,
     "metadata": {},
     "output_type": "execute_result"
    }
   ],
   "source": [
    "import numpy as np\n",
    "tmp2['new_column'] = np.select(conditions, values)\n",
    "\n",
    "tmp2"
   ]
  },
  {
   "cell_type": "markdown",
   "metadata": {},
   "source": [
    "<hr> \n",
    "\n",
    "## 1. Data Preprocessing\n",
    "\n",
    "Read the **complex8.csv** into a dataframe. Also, create a dataframe that is just comprised of the two dimensional dataset."
   ]
  },
  {
   "cell_type": "code",
   "execution_count": null,
   "metadata": {},
   "outputs": [],
   "source": []
  },
  {
   "cell_type": "code",
   "execution_count": null,
   "metadata": {},
   "outputs": [],
   "source": []
  },
  {
   "cell_type": "markdown",
   "metadata": {},
   "source": [
    "## 2. Clustering Structure \n",
    "\n",
    "### 2.1. t-SNE Algorithm\n",
    "Using 6 different perplexity values and at least two random states for each perplexity value, map your dataframe onto a two-dimensional dataset with the t-SNE algorithm. Show your projected coordinates in a scatterplot for each combination of random states and perplexity value. Color code the points in your t-SNE plots by the 'actual_cluster' pre-assigned class labels."
   ]
  },
  {
   "cell_type": "code",
   "execution_count": null,
   "metadata": {
    "scrolled": false
   },
   "outputs": [],
   "source": []
  },
  {
   "cell_type": "markdown",
   "metadata": {},
   "source": [
    "### 2.2. Interpretation\n",
    "\n",
    "Use your your t-SNE plots to answer the following questions.\n",
    "\n",
    "1. Does the t-SNE algorithm suggest that this dataset is clusterable? Explain.\n",
    "2. How many clusters does the t-SNE algorithm suggest that this dataset has? [SUBJECTIVE. AS LONG AS YOUR LOGIC AND EXPLANATION IS CORRECT YOU WILL NOT LOSE POINTS]\n",
    "3. Does the t-SNE algorithm suggest that some of your clusters in this dataset are not convex?\n",
    "\n",
    "Choose a random state and perplexity value that best reflects what you answered in 2.2 above and show this plot below.\n"
   ]
  },
  {
   "cell_type": "markdown",
   "metadata": {},
   "source": [
    "\n"
   ]
  },
  {
   "cell_type": "code",
   "execution_count": null,
   "metadata": {
    "scrolled": false
   },
   "outputs": [],
   "source": []
  },
  {
   "cell_type": "markdown",
   "metadata": {},
   "source": [
    "## 3. Spectral Clustering with KNN Affinity Matrix\n",
    "\n",
    "First, let's try to cluster this numerical dataset by using a KNN affinity matrix.\n",
    "\n",
    "### 3.1. Automatic Spectral Clustering\n",
    "\n",
    "**First,** let's use the sklearn function that *automatically clusters* a given dataset using spectral clustering. Use this function to do the following.\n",
    "* Create an affinity matrix using the 0/1 KNN approach using k=8 neighbors.\n",
    "* Get the **4** appropriately ordered eigenvectors of the normalized Laplacian matrix.\n",
    "* Cluster the objects corresponding to these 4 eigenvectors into 8 clusters using k-means.\n",
    "* Use a random state of 100.\n",
    "\n",
    "**Note:**\n",
    "* Remember, that this function will *automatically* use k-means to cluster the appropriately ordered eigenvectors.\n",
    "* In class, we did not talk about how to specify the number of eigenvectors that the k-means algorithm should use. Go to the sklearn documentation for this function to learn how to specify that we would like to use just 4 eigenvectors.\n",
    "\n",
    "**Finally**, color code the points in your t-SNE plot by the resulting cluster labels."
   ]
  },
  {
   "cell_type": "code",
   "execution_count": null,
   "metadata": {},
   "outputs": [],
   "source": []
  },
  {
   "cell_type": "code",
   "execution_count": null,
   "metadata": {},
   "outputs": [],
   "source": []
  },
  {
   "cell_type": "markdown",
   "metadata": {},
   "source": [
    "### 3.2. Interpretation\n",
    "\n",
    "To what extent did our spectral clustering results agree with the clustering structure that is suggested by the t-SNE plots?"
   ]
  },
  {
   "cell_type": "markdown",
   "metadata": {},
   "source": []
  },
  {
   "cell_type": "markdown",
   "metadata": {},
   "source": [
    "### 3.3. Spectral Embedding\n",
    "\n",
    "Next, let's use the sklearn function that will instead just return the appropriately ordered eigenvectors of the normalized laplacian matrix. \n",
    "* This should be the normalized Laplacian matrix of an affinity matrix created using the 0/1 KNN approach with k=8.\n",
    "* We would like this function to return the appropriately ordered 4 eigenvectors of this normalized Laplacian matrix.\n",
    "* We would like to use a random state of 100.\n",
    "\n",
    "Put these resulting eigenvectors into a dataframe."
   ]
  },
  {
   "cell_type": "code",
   "execution_count": null,
   "metadata": {},
   "outputs": [],
   "source": []
  },
  {
   "cell_type": "code",
   "execution_count": null,
   "metadata": {},
   "outputs": [],
   "source": []
  },
  {
   "cell_type": "code",
   "execution_count": null,
   "metadata": {},
   "outputs": [],
   "source": []
  },
  {
   "cell_type": "markdown",
   "metadata": {},
   "source": [
    "### 3.4. t-SNE Plot of the Spectral Embedding\n",
    "\n",
    "#### 3.4.1. t-SNE Algorithm\n",
    "\n",
    "Using 6 different perplexity values and at least two random states for each perplexity value, map your spectral embedding dataframe (ie. the dataframe comprised of these 4 eigenvectors) onto a two-dimensional dataset with the t-SNE algorithm. Show your projected coordinates in a scatterplot for each combination of random states and perplexity value. Color code the points in your t-SNE plots by the 'actual_cluster' pre-assigned class labels."
   ]
  },
  {
   "cell_type": "code",
   "execution_count": null,
   "metadata": {
    "scrolled": false
   },
   "outputs": [],
   "source": []
  },
  {
   "cell_type": "markdown",
   "metadata": {},
   "source": [
    "#### 3.4.2. Interpretation\n",
    "\n",
    "Use your t-SNE plots to answer the following questions.\n",
    "\n",
    "1. Do the objects represented by these four eigenvectors appear to have a clustering relationship?\n",
    "2. What are the shapes of these clusers?\n",
    "3. Are the shapes of the clusters suggested by these t-SNE plots the ideal cluster shapes to be detected by the k-means clustering algorithm? Why or why not?"
   ]
  },
  {
   "cell_type": "markdown",
   "metadata": {},
   "source": []
  },
  {
   "cell_type": "markdown",
   "metadata": {},
   "source": [
    "### 3.5. Descriptive Analytics of the Eigenvectors\n",
    "\n",
    "Visualize a scatterplot for every pair of eigenvectors in the dataset. Color code the points in these scatterplots by the 'actual_cluster' pre-assigned class labels."
   ]
  },
  {
   "cell_type": "code",
   "execution_count": null,
   "metadata": {},
   "outputs": [],
   "source": []
  },
  {
   "cell_type": "markdown",
   "metadata": {},
   "source": [
    "### 3.6. Clustering the Eigenvectors\n",
    "\n",
    "Use the first three eigenvectors to cluster the observations using the positive/negative assignment approach discussed in the lecture notes.\n",
    "\n",
    "Then plot your t-SNE plot (that corresponds to the original dataset) and color code your points by these cluster labels."
   ]
  },
  {
   "cell_type": "code",
   "execution_count": null,
   "metadata": {},
   "outputs": [],
   "source": []
  },
  {
   "cell_type": "code",
   "execution_count": null,
   "metadata": {},
   "outputs": [],
   "source": []
  },
  {
   "cell_type": "code",
   "execution_count": null,
   "metadata": {},
   "outputs": [],
   "source": []
  },
  {
   "cell_type": "code",
   "execution_count": null,
   "metadata": {},
   "outputs": [],
   "source": []
  },
  {
   "cell_type": "code",
   "execution_count": null,
   "metadata": {},
   "outputs": [],
   "source": []
  },
  {
   "cell_type": "code",
   "execution_count": null,
   "metadata": {},
   "outputs": [],
   "source": []
  }
 ],
 "metadata": {
  "kernelspec": {
   "display_name": "Python 3",
   "language": "python",
   "name": "python3"
  },
  "language_info": {
   "codemirror_mode": {
    "name": "ipython",
    "version": 3
   },
   "file_extension": ".py",
   "mimetype": "text/x-python",
   "name": "python",
   "nbconvert_exporter": "python",
   "pygments_lexer": "ipython3",
   "version": "3.8.3"
  }
 },
 "nbformat": 4,
 "nbformat_minor": 4
}
