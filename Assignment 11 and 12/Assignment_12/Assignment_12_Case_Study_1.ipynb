{
 "cells": [
  {
   "cell_type": "markdown",
   "metadata": {},
   "source": [
    "# Assignment 12 - Case Study 1\n",
    "\n",
    "## <u>Case Study 1</u> Clustering \"Large\" Artificial Datasets with Mini-Batch k-Means\n",
    "\n",
    "In this case study in assignment 12, we will be using the same dataset that we used in assignment 11 with BIRCH.\n",
    "\n",
    "We are again dealing with mostly the same issues described below.\n",
    "\n",
    "### Issue 1: \"Working Memory Constraints\"\n",
    "The 30 csv files (ie. batch files) in the attached data folder each contain 100 rows of a two dimensional dataset. We would like to create an insightful clustering of the entire dataset, however, we will assume THROUGHOUT THIS WHOLE ASSIGNMENT that we can only read in one of these csvs at a time. In this analysis we will assume that a dataframe of **over 300 rows** is \"too large\" to store in the Jupyter notebook working memory. (This is not the case, but just assume for now).\n",
    "\n",
    "Thus, whenever you read in one of these csv files, you must either delete it or overwrite it with another, so you are not storing two or more of these datasets in your working memory at any given time.\n",
    "\n",
    "### Issue 2: We KNOW these batches are not random samples!\n",
    "\n",
    "Now, we will assume to know that these 30 batches are not random samples and thus representative of the whole dataset of 3000 observations.\n",
    "\n",
    "\n",
    "### Issue 3: We do not know how many clusters are in the entire dataset.\n",
    "\n",
    "Because we cannot store the entire dataset in our Jupyter notebook working memory, we cannot use t-SNE plots on the whole dataset like we did in the past. We will try to figure this out in this analysis **in a different way than how we did in assignment 11**.\n",
    "\n",
    "### Issue 4: We do not know the underlying clustering structure of the dataset.\n",
    "\n",
    "Similarly, because we cannot store the entire in our Jupyter notebook working memory, we cannot use t-SNE plots on the whole dataset like we did in the past. We will try to figure this out in this analysis **in a different way than how we did in assignment 11**.\n",
    "\n"
   ]
  },
  {
   "cell_type": "markdown",
   "metadata": {},
   "source": [
    "### Imports"
   ]
  },
  {
   "cell_type": "code",
   "execution_count": null,
   "metadata": {},
   "outputs": [],
   "source": [
    "\n"
   ]
  },
  {
   "cell_type": "markdown",
   "metadata": {},
   "source": [
    "<hr>\n",
    "\n",
    "## <u>Tutorials</u>:\n",
    "\n",
    "You may need the following tutorial information to complete this case study.\n",
    "\n",
    "### Creating an Empty Dataframe\n",
    "\n",
    "We can create an empty dataframe by using the **pd.DataFrame()** function and supplying just the intended column names."
   ]
  },
  {
   "cell_type": "code",
   "execution_count": 1,
   "metadata": {},
   "outputs": [
    {
     "data": {
      "text/html": [
       "<div>\n",
       "<style scoped>\n",
       "    .dataframe tbody tr th:only-of-type {\n",
       "        vertical-align: middle;\n",
       "    }\n",
       "\n",
       "    .dataframe tbody tr th {\n",
       "        vertical-align: top;\n",
       "    }\n",
       "\n",
       "    .dataframe thead th {\n",
       "        text-align: right;\n",
       "    }\n",
       "</style>\n",
       "<table border=\"1\" class=\"dataframe\">\n",
       "  <thead>\n",
       "    <tr style=\"text-align: right;\">\n",
       "      <th></th>\n",
       "      <th>x</th>\n",
       "      <th>y</th>\n",
       "    </tr>\n",
       "  </thead>\n",
       "  <tbody>\n",
       "  </tbody>\n",
       "</table>\n",
       "</div>"
      ],
      "text/plain": [
       "Empty DataFrame\n",
       "Columns: [x, y]\n",
       "Index: []"
      ]
     },
     "execution_count": 1,
     "metadata": {},
     "output_type": "execute_result"
    }
   ],
   "source": [
    "import pandas as pd\n",
    "tmp1 = pd.DataFrame(columns=['x','y'])\n",
    "tmp1"
   ]
  },
  {
   "cell_type": "markdown",
   "metadata": {},
   "source": [
    "### Vertically Concatenating Two Dataframes\n",
    "\n",
    "We can concatenate two dataframes by using the **pd.concat()** function with the **axis=0** parameter."
   ]
  },
  {
   "cell_type": "code",
   "execution_count": 2,
   "metadata": {},
   "outputs": [
    {
     "data": {
      "text/html": [
       "<div>\n",
       "<style scoped>\n",
       "    .dataframe tbody tr th:only-of-type {\n",
       "        vertical-align: middle;\n",
       "    }\n",
       "\n",
       "    .dataframe tbody tr th {\n",
       "        vertical-align: top;\n",
       "    }\n",
       "\n",
       "    .dataframe thead th {\n",
       "        text-align: right;\n",
       "    }\n",
       "</style>\n",
       "<table border=\"1\" class=\"dataframe\">\n",
       "  <thead>\n",
       "    <tr style=\"text-align: right;\">\n",
       "      <th></th>\n",
       "      <th>x</th>\n",
       "      <th>y</th>\n",
       "    </tr>\n",
       "  </thead>\n",
       "  <tbody>\n",
       "    <tr>\n",
       "      <th>0</th>\n",
       "      <td>1</td>\n",
       "      <td>9</td>\n",
       "    </tr>\n",
       "    <tr>\n",
       "      <th>1</th>\n",
       "      <td>3</td>\n",
       "      <td>0</td>\n",
       "    </tr>\n",
       "    <tr>\n",
       "      <th>2</th>\n",
       "      <td>5</td>\n",
       "      <td>-1</td>\n",
       "    </tr>\n",
       "    <tr>\n",
       "      <th>3</th>\n",
       "      <td>7</td>\n",
       "      <td>10</td>\n",
       "    </tr>\n",
       "  </tbody>\n",
       "</table>\n",
       "</div>"
      ],
      "text/plain": [
       "   x   y\n",
       "0  1   9\n",
       "1  3   0\n",
       "2  5  -1\n",
       "3  7  10"
      ]
     },
     "execution_count": 2,
     "metadata": {},
     "output_type": "execute_result"
    }
   ],
   "source": [
    "tmp2 = pd.DataFrame({'x': [1,3,5,7], 'y':[9,0,-1,10]})\n",
    "tmp2"
   ]
  },
  {
   "cell_type": "code",
   "execution_count": 3,
   "metadata": {},
   "outputs": [
    {
     "data": {
      "text/html": [
       "<div>\n",
       "<style scoped>\n",
       "    .dataframe tbody tr th:only-of-type {\n",
       "        vertical-align: middle;\n",
       "    }\n",
       "\n",
       "    .dataframe tbody tr th {\n",
       "        vertical-align: top;\n",
       "    }\n",
       "\n",
       "    .dataframe thead th {\n",
       "        text-align: right;\n",
       "    }\n",
       "</style>\n",
       "<table border=\"1\" class=\"dataframe\">\n",
       "  <thead>\n",
       "    <tr style=\"text-align: right;\">\n",
       "      <th></th>\n",
       "      <th>x</th>\n",
       "      <th>y</th>\n",
       "    </tr>\n",
       "  </thead>\n",
       "  <tbody>\n",
       "    <tr>\n",
       "      <th>0</th>\n",
       "      <td>1</td>\n",
       "      <td>9</td>\n",
       "    </tr>\n",
       "    <tr>\n",
       "      <th>1</th>\n",
       "      <td>3</td>\n",
       "      <td>0</td>\n",
       "    </tr>\n",
       "    <tr>\n",
       "      <th>2</th>\n",
       "      <td>5</td>\n",
       "      <td>-1</td>\n",
       "    </tr>\n",
       "    <tr>\n",
       "      <th>3</th>\n",
       "      <td>7</td>\n",
       "      <td>10</td>\n",
       "    </tr>\n",
       "  </tbody>\n",
       "</table>\n",
       "</div>"
      ],
      "text/plain": [
       "   x   y\n",
       "0  1   9\n",
       "1  3   0\n",
       "2  5  -1\n",
       "3  7  10"
      ]
     },
     "execution_count": 3,
     "metadata": {},
     "output_type": "execute_result"
    }
   ],
   "source": [
    "pd.concat([tmp1,tmp2], axis=0)"
   ]
  },
  {
   "cell_type": "markdown",
   "metadata": {},
   "source": [
    "### Random Sample of a Dataframe\n",
    "\n",
    "We can randomly sample the rows of a dataframe (without replacement) by using the **.sample()** function. We can specify a random state of the sample as well as the number of rows to sample."
   ]
  },
  {
   "cell_type": "code",
   "execution_count": 4,
   "metadata": {},
   "outputs": [
    {
     "data": {
      "text/html": [
       "<div>\n",
       "<style scoped>\n",
       "    .dataframe tbody tr th:only-of-type {\n",
       "        vertical-align: middle;\n",
       "    }\n",
       "\n",
       "    .dataframe tbody tr th {\n",
       "        vertical-align: top;\n",
       "    }\n",
       "\n",
       "    .dataframe thead th {\n",
       "        text-align: right;\n",
       "    }\n",
       "</style>\n",
       "<table border=\"1\" class=\"dataframe\">\n",
       "  <thead>\n",
       "    <tr style=\"text-align: right;\">\n",
       "      <th></th>\n",
       "      <th>x</th>\n",
       "      <th>y</th>\n",
       "    </tr>\n",
       "  </thead>\n",
       "  <tbody>\n",
       "    <tr>\n",
       "      <th>2</th>\n",
       "      <td>5</td>\n",
       "      <td>-1</td>\n",
       "    </tr>\n",
       "    <tr>\n",
       "      <th>1</th>\n",
       "      <td>3</td>\n",
       "      <td>0</td>\n",
       "    </tr>\n",
       "    <tr>\n",
       "      <th>3</th>\n",
       "      <td>7</td>\n",
       "      <td>10</td>\n",
       "    </tr>\n",
       "  </tbody>\n",
       "</table>\n",
       "</div>"
      ],
      "text/plain": [
       "   x   y\n",
       "2  5  -1\n",
       "1  3   0\n",
       "3  7  10"
      ]
     },
     "execution_count": 4,
     "metadata": {},
     "output_type": "execute_result"
    }
   ],
   "source": [
    "sampledf = tmp2.sample(3, random_state=100)\n",
    "sampledf"
   ]
  },
  {
   "cell_type": "markdown",
   "metadata": {},
   "source": [
    "### Index of a Dataframe\n",
    "\n",
    "We can extract the index of a given dataframe by using the **.index** attribute."
   ]
  },
  {
   "cell_type": "code",
   "execution_count": 5,
   "metadata": {},
   "outputs": [
    {
     "data": {
      "text/plain": [
       "Int64Index([2, 1, 3], dtype='int64')"
      ]
     },
     "execution_count": 5,
     "metadata": {},
     "output_type": "execute_result"
    }
   ],
   "source": [
    "sampledf_index = sampledf.index\n",
    "sampledf_index"
   ]
  },
  {
   "cell_type": "markdown",
   "metadata": {},
   "source": [
    "### Setting the Index of a Dataframe\n",
    "\n",
    "When creating a dataframe, in addition to defining the columns we can also define the index values as well.\n"
   ]
  },
  {
   "cell_type": "code",
   "execution_count": 6,
   "metadata": {},
   "outputs": [
    {
     "data": {
      "text/html": [
       "<div>\n",
       "<style scoped>\n",
       "    .dataframe tbody tr th:only-of-type {\n",
       "        vertical-align: middle;\n",
       "    }\n",
       "\n",
       "    .dataframe tbody tr th {\n",
       "        vertical-align: top;\n",
       "    }\n",
       "\n",
       "    .dataframe thead th {\n",
       "        text-align: right;\n",
       "    }\n",
       "</style>\n",
       "<table border=\"1\" class=\"dataframe\">\n",
       "  <thead>\n",
       "    <tr style=\"text-align: right;\">\n",
       "      <th></th>\n",
       "      <th>x</th>\n",
       "      <th>y</th>\n",
       "    </tr>\n",
       "  </thead>\n",
       "  <tbody>\n",
       "    <tr>\n",
       "      <th>2</th>\n",
       "      <td>8</td>\n",
       "      <td>11</td>\n",
       "    </tr>\n",
       "    <tr>\n",
       "      <th>1</th>\n",
       "      <td>9</td>\n",
       "      <td>12</td>\n",
       "    </tr>\n",
       "    <tr>\n",
       "      <th>3</th>\n",
       "      <td>10</td>\n",
       "      <td>13</td>\n",
       "    </tr>\n",
       "  </tbody>\n",
       "</table>\n",
       "</div>"
      ],
      "text/plain": [
       "    x   y\n",
       "2   8  11\n",
       "1   9  12\n",
       "3  10  13"
      ]
     },
     "execution_count": 6,
     "metadata": {},
     "output_type": "execute_result"
    }
   ],
   "source": [
    "tmp3 = pd.DataFrame({'x': [8,9,10], 'y':[11,12,13]}, index=sampledf_index)\n",
    "tmp3"
   ]
  },
  {
   "cell_type": "markdown",
   "metadata": {},
   "source": [
    "<hr>"
   ]
  },
  {
   "cell_type": "markdown",
   "metadata": {},
   "source": [
    "## 1. Initial Implementation of Mini-Batch k-Means\n",
    "\n",
    "In this analysis, we will read in each of the 30 csv data batches into the mini-batch k-means algorithm. We know from assignment 11 that these batches are not random samples of the whole dataset."
   ]
  },
  {
   "cell_type": "markdown",
   "metadata": {},
   "source": [
    "### 1.1. Reassignment Ratio\n",
    "\n",
    "First, given that we know that our batches will not be random, should we set our reassignment ratio to be higher or lower? Explain."
   ]
  },
  {
   "cell_type": "markdown",
   "metadata": {},
   "source": []
  },
  {
   "cell_type": "markdown",
   "metadata": {},
   "source": [
    "### 1.2 Algorithm Instantiation\n",
    "\n",
    "Now, instantiate your Mini-Batch k-Means model with the following specifications:\n",
    "* the number of clusters you selected in part 2\n",
    "* a re-assignment ratio of 0.4\n",
    "* a random state of 100.\n"
   ]
  },
  {
   "cell_type": "code",
   "execution_count": null,
   "metadata": {},
   "outputs": [],
   "source": []
  },
  {
   "cell_type": "markdown",
   "metadata": {},
   "source": [
    "### 1.3. Reading in the Batches\n",
    "\n",
    "Then, one at a time, read in each of your csv files and update the mini-batch k-means algorithm with this batch of data. Once you are finished updating the algorithm with this dataframe, either delete it or overwrite it."
   ]
  },
  {
   "cell_type": "code",
   "execution_count": null,
   "metadata": {},
   "outputs": [],
   "source": []
  },
  {
   "cell_type": "markdown",
   "metadata": {},
   "source": [
    "### 1.4. Random Sample of the Full Dataset\n",
    "\n",
    "Ideally, we would like to collect a random sample of size 300 from the full dataset. One at a time, for each of the csv batches, do the following.\n",
    "* Read in the csv into a dataframe.\n",
    "* Collect a random sample of 10 observtions from this dataframe (without replacement), using a random state of 100 for each sample.\n",
    "* Concatenate this random sample dataframe to a \"total sample dataframe\" which will eventually contain 300 observations (= your 30 random samples of size 10).\n",
    "\n",
    "Once you are finished with a given batch dataframe, either delete it or overwrite it.\n",
    "\n",
    "Show your \"total sample dataframe\" below."
   ]
  },
  {
   "cell_type": "code",
   "execution_count": null,
   "metadata": {},
   "outputs": [],
   "source": [
    "                           "
   ]
  },
  {
   "cell_type": "markdown",
   "metadata": {},
   "source": [
    "### 1.5. Cluster Labels for your Random Sample\n",
    "\n",
    "Next, get the mini-batch k-means cluster labels for each of the 300 observations in your \"total sample dataframe.\""
   ]
  },
  {
   "cell_type": "code",
   "execution_count": null,
   "metadata": {},
   "outputs": [],
   "source": []
  },
  {
   "cell_type": "markdown",
   "metadata": {},
   "source": [
    "### 1.6. t-SNE Algorithm\n",
    "\n",
    "Finally, using 6 different perplexity values and at least two random states for each perplexity value, map your random sample of 300 observations onto a two-dimensional dataset with the t-SNE algorithm. Show your projected coordinates in a scatterplot for each combination of random states and perplexity value. Color code the points in your t-SNE plots by the mini-batch k-means cluster labels.\n",
    "\n",
    "**Important Hint:**\n",
    "The output of **tsne.fit_transform()** is a numpy array. So normally when we have created t-SNE plots in the past, we have converted this numpy array into a dataframe by using the **pd.DataFrame()** function. When you do this, you should set the index of this dataframe to be the same as the index of your 'total sample dataframe'.\n",
    "\n",
    "Without doing this, when we would have tried to concatenate our t-SNE coordinates dataframe with our 'total sample dataframe' we would have had a problem, because the indexes of the two dataframes would not have matched. This is because the indexes of the 'total sample dataframe' have been reordered."
   ]
  },
  {
   "cell_type": "code",
   "execution_count": null,
   "metadata": {
    "scrolled": false
   },
   "outputs": [],
   "source": []
  },
  {
   "cell_type": "markdown",
   "metadata": {},
   "source": [
    "### 1.7. t-SNE Plot Interpretation\n",
    "\n",
    "Use your t-SNE plots above to answer the following questions.\n",
    "\n",
    "1. How many clusters does the t-SNE plot above suggest are in the random sample of 300 observations?\n",
    "2. To what extent did the results of our mini-batch k-means algorithm agree with the clustering structure suggested by the t-SNE plots above? Explain.\n",
    "\n",
    "Choose a random state and perplexity value that best reflects what you answered in 1.7.1 above and show this plot below."
   ]
  },
  {
   "cell_type": "markdown",
   "metadata": {},
   "source": []
  },
  {
   "cell_type": "code",
   "execution_count": null,
   "metadata": {},
   "outputs": [],
   "source": []
  },
  {
   "cell_type": "markdown",
   "metadata": {},
   "source": [
    "## 2. Parameter Selection for Mini-Batch k-means\n",
    "\n",
    "### 2.1. Testing out Reassignment Ratios\n",
    "\n",
    "Next, we would like to see if we can select a reassignment ratio in which the mini-batch k-means cluster labels will agree *more* with the clusters suggested by the t-SNE plots.\n",
    "\n",
    "Using the following reassignment ratios (0.01, 0.1, 0.2, 0.4, and 0.8) do the following:\n",
    "1. Instantiate mini-batch k-means with:\n",
    "    * 3 clusters\n",
    "    * a batch size of 100\n",
    "    * the reassignment ratio that you are considering\n",
    "    * a random state of 100\n",
    "2. Read in each of the 30 csv batches and fit that given mini-batch k-means class that you instantiated with each of these batches one at a time. Again, make sure that you delete or overwrite a batch dataframe when you are done with it.\n",
    "3. Using your final fitted mini-batch k-means results for that given reassignment ratio, get the cluster labels for your total random sample of 300 observations.\n",
    "4. Plot your t-SNE plot of this total random sample, color coding your points by the given cluster labels.\n",
    "\n"
   ]
  },
  {
   "cell_type": "code",
   "execution_count": null,
   "metadata": {
    "scrolled": false
   },
   "outputs": [],
   "source": [
    "\n",
    "    "
   ]
  },
  {
   "cell_type": "markdown",
   "metadata": {},
   "source": [
    "### 2.2. Selecting a Reassignment Ratio\n",
    "\n",
    "Of the reassignment ratios that you considered, which reassignment ratio produced clustering results that had the most amount of agreement with the clustering structure suggested by your t-SNE plot?"
   ]
  },
  {
   "cell_type": "markdown",
   "metadata": {},
   "source": []
  }
 ],
 "metadata": {
  "kernelspec": {
   "display_name": "Python 3",
   "language": "python",
   "name": "python3"
  },
  "language_info": {
   "codemirror_mode": {
    "name": "ipython",
    "version": 3
   },
   "file_extension": ".py",
   "mimetype": "text/x-python",
   "name": "python",
   "nbconvert_exporter": "python",
   "pygments_lexer": "ipython3",
   "version": "3.8.3"
  }
 },
 "nbformat": 4,
 "nbformat_minor": 4
}
