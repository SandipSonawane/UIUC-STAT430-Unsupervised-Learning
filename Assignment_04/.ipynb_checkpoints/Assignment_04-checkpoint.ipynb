{
 "cells": [
  {
   "cell_type": "markdown",
   "metadata": {},
   "source": [
    "# Homework Assignment 4 - [30 points]\n",
    "\n",
    "<hr>\n"
   ]
  },
  {
   "cell_type": "markdown",
   "metadata": {},
   "source": [
    "## <u>Case Study</u>: Continuation of Wheat Seed Analysis\n",
    "\n",
    "Suppose that you are biologist working for an agricultural company. Specifically, you would like to learn more about some of the biological properties of three types of wheat seeds: Kama wheat seeds, Canadian wheat seeds, and Rosa wheat seeds.\n",
    "\n",
    "The attached seeds.csv contains seven numerical attributes for 70 Kama seeds, 70 Canadian seeds, and 70 Rosa seeds. In this analysis we would like to answer the following research questions.\n",
    "\n",
    "### <u>Research Questions</u>:\n",
    "\n",
    "* Do there exist nested subclusters in this dataset?\n",
    "* How similar are the different clusters and subclusters in this dataset?\n",
    "* Is there evidence to suggest that there are different \"subtypes\" of seed classes? For instance, could there be multiple, distinct types of Kama seeds? If so, what is different about these different types of Kama seeds?"
   ]
  },
  {
   "cell_type": "markdown",
   "metadata": {},
   "source": [
    "### Imports"
   ]
  },
  {
   "cell_type": "code",
   "execution_count": null,
   "metadata": {},
   "outputs": [],
   "source": []
  },
  {
   "cell_type": "markdown",
   "metadata": {},
   "source": [
    "<hr>\n",
    "\n",
    "### <u>Tutorial</u>: Scatterplot Design\n",
    "You may find this useful in answering some of the questions below.\n",
    "\n",
    "In the **sns.scatterplot()** function:\n",
    "* the **hue** parameter can color code the points according to the given column name in the dataframe,\n",
    "* the **style** parameter can change the shape of the points according to the given column name in the dataframe,\n",
    "* the **size** parameter can change the size of the points according to the given column name in the dataframe.\n"
   ]
  },
  {
   "cell_type": "code",
   "execution_count": 1,
   "metadata": {},
   "outputs": [
    {
     "data": {
      "text/html": [
       "<div>\n",
       "<style scoped>\n",
       "    .dataframe tbody tr th:only-of-type {\n",
       "        vertical-align: middle;\n",
       "    }\n",
       "\n",
       "    .dataframe tbody tr th {\n",
       "        vertical-align: top;\n",
       "    }\n",
       "\n",
       "    .dataframe thead th {\n",
       "        text-align: right;\n",
       "    }\n",
       "</style>\n",
       "<table border=\"1\" class=\"dataframe\">\n",
       "  <thead>\n",
       "    <tr style=\"text-align: right;\">\n",
       "      <th></th>\n",
       "      <th>x</th>\n",
       "      <th>y</th>\n",
       "      <th>z</th>\n",
       "      <th>cat1</th>\n",
       "      <th>cat2</th>\n",
       "    </tr>\n",
       "  </thead>\n",
       "  <tbody>\n",
       "    <tr>\n",
       "      <th>0</th>\n",
       "      <td>4</td>\n",
       "      <td>9</td>\n",
       "      <td>1</td>\n",
       "      <td>a</td>\n",
       "      <td>c</td>\n",
       "    </tr>\n",
       "    <tr>\n",
       "      <th>1</th>\n",
       "      <td>3</td>\n",
       "      <td>3</td>\n",
       "      <td>25</td>\n",
       "      <td>b</td>\n",
       "      <td>c</td>\n",
       "    </tr>\n",
       "    <tr>\n",
       "      <th>2</th>\n",
       "      <td>6</td>\n",
       "      <td>5</td>\n",
       "      <td>3</td>\n",
       "      <td>a</td>\n",
       "      <td>d</td>\n",
       "    </tr>\n",
       "    <tr>\n",
       "      <th>3</th>\n",
       "      <td>4</td>\n",
       "      <td>3</td>\n",
       "      <td>50</td>\n",
       "      <td>b</td>\n",
       "      <td>d</td>\n",
       "    </tr>\n",
       "  </tbody>\n",
       "</table>\n",
       "</div>"
      ],
      "text/plain": [
       "   x  y   z cat1 cat2\n",
       "0  4  9   1    a    c\n",
       "1  3  3  25    b    c\n",
       "2  6  5   3    a    d\n",
       "3  4  3  50    b    d"
      ]
     },
     "execution_count": 1,
     "metadata": {},
     "output_type": "execute_result"
    }
   ],
   "source": [
    "import pandas as pd\n",
    "import seaborn as sns\n",
    "import matplotlib.pyplot as plt\n",
    "tmp=pd.DataFrame({'x': [4,3,6,4], 'y': [9,3,5,3], 'z':[1,25,3,50],'cat1': ['a', 'b', 'a', 'b'], 'cat2': ['c','c','d','d']})\n",
    "tmp"
   ]
  },
  {
   "cell_type": "code",
   "execution_count": 2,
   "metadata": {},
   "outputs": [
    {
     "data": {
      "image/png": "[encoded data removed]",
      "text/plain": [
       "<Figure size 432x288 with 1 Axes>"
      ]
     },
     "metadata": {
      "needs_background": "light"
     },
     "output_type": "display_data"
    }
   ],
   "source": [
    "sns.scatterplot(x='x', y='y', hue='z', style='cat1', size='cat2', data=tmp)\n",
    "plt.legend(bbox_to_anchor=(1,1))\n",
    "plt.show()"
   ]
  },
  {
   "cell_type": "markdown",
   "metadata": {},
   "source": [
    "<hr>\n",
    "\n",
    "### 1. [0.25 pt] Data Reading and Preprocessing\n",
    "\n",
    "This is the same dataset that we used in assignment 3. So below you should do the following steps again:\n",
    "* Read the seeds.csv into a dataframe.\n",
    "* Create another dataframe that contains the scaled numerical variables.\n",
    "* Create another dataframe that contains the scaled numerical variables and the seed class labels. Call this **df_stand**.\n",
    "\n",
    "You should scale the variables the same way that you did in assignment 3 (ie. mean subtract and divide by the standard deviation)."
   ]
  },
  {
   "cell_type": "code",
   "execution_count": null,
   "metadata": {},
   "outputs": [],
   "source": []
  },
  {
   "cell_type": "code",
   "execution_count": null,
   "metadata": {},
   "outputs": [],
   "source": []
  },
  {
   "cell_type": "code",
   "execution_count": null,
   "metadata": {},
   "outputs": [],
   "source": []
  },
  {
   "cell_type": "code",
   "execution_count": null,
   "metadata": {
    "scrolled": true
   },
   "outputs": [],
   "source": []
  },
  {
   "cell_type": "code",
   "execution_count": null,
   "metadata": {},
   "outputs": [],
   "source": []
  },
  {
   "cell_type": "markdown",
   "metadata": {},
   "source": [
    "**Run this code below after you have created 'df_stand', to create a new column that has concatenated the class and the id of the seed.** \n",
    "\n",
    "We will use this later."
   ]
  },
  {
   "cell_type": "code",
   "execution_count": null,
   "metadata": {},
   "outputs": [],
   "source": [
    "df_stand['seed_class_and_id']=df_stand['seed_class']+'-'+df_stand.index.astype(str)\n",
    "df_stand.head()"
   ]
  },
  {
   "cell_type": "markdown",
   "metadata": {},
   "source": [
    "### 2. Basic Descriptive Analytics\n",
    "\n",
    "#### 2.1. [0.5 pt] Pairwise scatterplots\n",
    "For every pair of **scaled** numerical attributes, plot a scatterplot, color-coding the points by the seed class labels."
   ]
  },
  {
   "cell_type": "code",
   "execution_count": null,
   "metadata": {},
   "outputs": [],
   "source": []
  },
  {
   "cell_type": "markdown",
   "metadata": {},
   "source": [
    "#### 2.2. [0.25 pt] Outliers\n",
    "\n",
    "Is there any evidence of outliers in this dataset?"
   ]
  },
  {
   "cell_type": "markdown",
   "metadata": {},
   "source": []
  },
  {
   "cell_type": "markdown",
   "metadata": {},
   "source": [
    "### 3. Pre-Cluster Analysis\n",
    "\n",
    "#### 3.1. [0.25 pt] t-SNE Plot with Seed Class Labels\n",
    "\n",
    "Using the perplexity value and the random state that you used in Assignment 3, plot the t-SNE scatterplot for this **scaled** dataset, color-coding the points by the seed class labels."
   ]
  },
  {
   "cell_type": "code",
   "execution_count": null,
   "metadata": {},
   "outputs": [],
   "source": []
  },
  {
   "cell_type": "markdown",
   "metadata": {},
   "source": [
    "#### 3.2. [1 pt] Nested Sub-Clusters\n",
    "\n",
    "Looking at your t-SNE plot, is there evidence to suggest that there may be sub-**clusters** in the scaled dataset? Explain. \n",
    "\n",
    "*(This answer is subjective. As long as your reasoning is accurate and explained, then you will get full credit).*"
   ]
  },
  {
   "cell_type": "markdown",
   "metadata": {},
   "source": []
  },
  {
   "cell_type": "markdown",
   "metadata": {},
   "source": [
    "#### 3.3.  [1 pt] Sub-Classes of Seeds\n",
    "\n",
    "Looking at your t-SNE plot, is there evidence to suggest that there may be different sub-**classes** of one or more seed class? Explain.\n",
    "\n",
    "*(This answer is subjective. As long as your reasoning is accurate and explained, then you will get full credit).*"
   ]
  },
  {
   "cell_type": "markdown",
   "metadata": {},
   "source": []
  },
  {
   "cell_type": "markdown",
   "metadata": {},
   "source": [
    "### 4. Clustering Algorithm Selection - Given Knowledge about the Dataset\n",
    "\n",
    "#### 4.1.  [1 pt] k-Means\n",
    "Give at least one reason why k-means may not be the \"ideal\" algorithm to cluster this dataset."
   ]
  },
  {
   "cell_type": "markdown",
   "metadata": {},
   "source": []
  },
  {
   "cell_type": "markdown",
   "metadata": {},
   "source": [
    "#### 4.2.  [1 pt] Hierarchical Agglomerative Clustering with Single Linkage\n",
    "\n",
    "Give at least one reason why hierarchical agglomerative clustering with single linkage may not be the \"ideal\" algorithm to cluster this dataset for the purpose of identifying clusters (and perhaps subclusters) in the dataset."
   ]
  },
  {
   "cell_type": "markdown",
   "metadata": {},
   "source": [
    "\n"
   ]
  },
  {
   "cell_type": "markdown",
   "metadata": {},
   "source": [
    "#### 4.3.  [1 pt] Hierarchical Agglomerative Clustering with Ward's Linkage\n",
    "Give at least one reason why hierarchical agglomerative clustering with Ward's linkage may not be the \"ideal\" algorithm to cluster this dataset for the purpose of identifying clusters (and perhaps subclusters) in the dataset."
   ]
  },
  {
   "cell_type": "markdown",
   "metadata": {},
   "source": []
  },
  {
   "cell_type": "markdown",
   "metadata": {},
   "source": [
    "### 5. Clustering Algorithm Selection - Using Average Silhouette Score\n",
    "\n",
    "#### 5.1.  [2 pt] Average Silhouette Score Plots\n",
    "\n",
    "Create 5 average silhouette score plots with this **scaled** dataset, one for each of the following clustering algorithms:\n",
    "* k-means\n",
    "* Hierarchical agglomerative clustering with single linkage\n",
    "* Hierarchical agglomerative clustering with average linkage\n",
    "* Hierarchical agglomerative clustering with complete linkage\n",
    "* Hierarchical agglomerative clustering with Ward's linkage\n",
    "\n",
    "Each of your average silhouette score plots should plot the average silhouette score for clusterings with k=2, k=3, ..., k=14 clusters, respectively."
   ]
  },
  {
   "cell_type": "code",
   "execution_count": null,
   "metadata": {},
   "outputs": [],
   "source": []
  },
  {
   "cell_type": "code",
   "execution_count": null,
   "metadata": {},
   "outputs": [],
   "source": []
  },
  {
   "cell_type": "markdown",
   "metadata": {},
   "source": [
    "#### 5.2. Interpreting Average Silhouette Score Plots\n",
    "\n",
    "Use your five plots above to answer the following questions below.\n",
    "\n",
    "* **5.2.1.**  [1 pt] Which clustering algorithm(s) and cluster number(s) (k) yields the clustering with the best cohesion and separation in this dataset? Explain.\n",
    "\n",
    "* **5.2.2.**  [1 pt] What do these plot suggest is the \"best\" number of clusters to ask each of the 5 clustering algorithms for? Explain."
   ]
  },
  {
   "cell_type": "markdown",
   "metadata": {},
   "source": []
  },
  {
   "cell_type": "markdown",
   "metadata": {},
   "source": [
    "### 6. Hierarchical Agglomerative Clustering with Single Linkage\n",
    "\n"
   ]
  },
  {
   "cell_type": "markdown",
   "metadata": {},
   "source": [
    "#### 6.1. [0.5 pt] Dendrogram\n",
    "\n",
    "Create a dendrogram using hierarchical agglomerative clustering with single linkage for the **scaled** dataset. \n",
    "* Label the points with the 'seed_class_and_id' column that we created in part 1. \n",
    "* Make sure you are able to read the seed_class_and_id labels in your dendrogram."
   ]
  },
  {
   "cell_type": "code",
   "execution_count": null,
   "metadata": {},
   "outputs": [],
   "source": []
  },
  {
   "cell_type": "markdown",
   "metadata": {},
   "source": [
    "#### 6.2. [0.5 pt] t-SNE Individual Clustering Visualization\n",
    "\n",
    "Then for each of the clusterings with k=2,k=3,...,k=14 clusters, color code the points in your selected t-SNE plot with the respective cluster labels. Also, define the **shape** of the points by the seed class."
   ]
  },
  {
   "cell_type": "code",
   "execution_count": null,
   "metadata": {
    "scrolled": false
   },
   "outputs": [],
   "source": []
  },
  {
   "cell_type": "markdown",
   "metadata": {},
   "source": [
    "### 7. Hierarchical Agglomerative Clustering with Average Linkage\n",
    "\n"
   ]
  },
  {
   "cell_type": "markdown",
   "metadata": {},
   "source": [
    "#### 7.1. [0.5 pt] Dendrogram\n",
    "\n",
    "Create a dendrogram using hierarchical agglomerative clustering with average linkage for the **scaled** dataset. \n",
    "* Label the points with the 'seed_class_and_id' column that we created in part 1. \n",
    "* Make sure you are able to read the seed_class_and_id labels in your dendrogram."
   ]
  },
  {
   "cell_type": "code",
   "execution_count": null,
   "metadata": {},
   "outputs": [],
   "source": []
  },
  {
   "cell_type": "markdown",
   "metadata": {},
   "source": [
    "#### 7.2. [0.5 pt] t-SNE Individual Clustering Visualization\n",
    "\n",
    "Then for each of the clusterings with k=2,k=3,...,k=14 clusters, color code the points in your selected t-SNE plot with the respective cluster labels. Also, define the **shape** of the points by the seed class."
   ]
  },
  {
   "cell_type": "code",
   "execution_count": null,
   "metadata": {
    "scrolled": false
   },
   "outputs": [],
   "source": []
  },
  {
   "cell_type": "markdown",
   "metadata": {},
   "source": [
    "### 8. Hierarchical Agglomerative Clustering with Complete Linkage\n",
    "\n"
   ]
  },
  {
   "cell_type": "markdown",
   "metadata": {},
   "source": [
    "#### 8.1. [0.5 pt] Dendrogram\n",
    "\n",
    "Create a dendrogram using hierarchical agglomerative clustering with complete linkage for the **scaled** dataset. \n",
    "* Label the points with the 'seed_class_and_id' column that we created in part 1. \n",
    "* Make sure you are able to read the seed_class_and_id labels in your dendrogram."
   ]
  },
  {
   "cell_type": "code",
   "execution_count": null,
   "metadata": {},
   "outputs": [],
   "source": []
  },
  {
   "cell_type": "markdown",
   "metadata": {},
   "source": [
    "#### 8.2. [0.5 pt] t-SNE Individual Clustering Visualization\n",
    "\n",
    "Then for each of the clusterings with k=2,k=3,...,k=14 clusters, color code the points in your selected t-SNE plot with the respective cluster labels. Also, define the **shape** of the points by the seed class."
   ]
  },
  {
   "cell_type": "code",
   "execution_count": null,
   "metadata": {
    "scrolled": false
   },
   "outputs": [],
   "source": []
  },
  {
   "cell_type": "markdown",
   "metadata": {},
   "source": [
    "### 9. Hierarchical Agglomerative Clustering with Ward's Linkage\n",
    "\n"
   ]
  },
  {
   "cell_type": "markdown",
   "metadata": {},
   "source": [
    "#### 9.1. [0.5 pt] Dendrogram\n",
    "\n",
    "Create a dendrogram using hierarchical agglomerative clustering with Ward's linkage for the **scaled** dataset. \n",
    "* Label the points with the 'seed_class_and_id' column that we created in part 1. \n",
    "* Make sure you are able to read the seed_class_and_id labels in your dendrogram."
   ]
  },
  {
   "cell_type": "code",
   "execution_count": null,
   "metadata": {},
   "outputs": [],
   "source": []
  },
  {
   "cell_type": "markdown",
   "metadata": {},
   "source": [
    "#### 9.2. [0.5 pt] t-SNE Individual Clustering Visualization\n",
    "\n",
    "Then for each of the clusterings with k=2,k=3,...,k=14 clusters, color code the points in your selected t-SNE plot with the respective cluster labels. Also, define the **shape** of the points by the seed class."
   ]
  },
  {
   "cell_type": "code",
   "execution_count": null,
   "metadata": {
    "scrolled": false
   },
   "outputs": [],
   "source": []
  },
  {
   "cell_type": "markdown",
   "metadata": {},
   "source": [
    "### 10. [1.5 pt] Select One Clustering\n",
    "\n",
    "Suppose that the goal of this analysis is to find two \"naturally occuring\" sub-types for each of the three types of seeds. Thus you would want your clustering to have k=6 clusters.\n",
    "\n",
    "(When we say \"naturally occurring\", this means that we have evidence to believe that there is some form of distinct separation between the two sub-types). With this goal in mind, select the best clustering from all of the clusterings that you examined in 6-9 above, that best meets this goal. **Explain your answer.**\n",
    "\n",
    "**Generally speaking, for the purpose of our specific research goal with the seeds, we would not consider a singleton cluster a \"subcluster\" of seeds.**\n",
    "\n",
    "Color-code the cluster labels for this clustering that you chose in your t-SNE plot below. Also, define the **shape** of the points by the seed class.\n",
    "\n"
   ]
  },
  {
   "cell_type": "code",
   "execution_count": null,
   "metadata": {},
   "outputs": [],
   "source": []
  },
  {
   "cell_type": "code",
   "execution_count": null,
   "metadata": {},
   "outputs": [],
   "source": []
  },
  {
   "cell_type": "markdown",
   "metadata": {},
   "source": []
  },
  {
   "cell_type": "markdown",
   "metadata": {},
   "source": [
    "### 11. Learning More about Seed Class Subtypes\n",
    "\n",
    "#### 11.1. [1.25 pt] t-SNE plots\n",
    "\n",
    "Plot your t-SNE plot 7 times, each time color-coding the points by one of the scaled numerical attributes in your dataset. Also, define the **shape** of the points by the **cluster labels** in the clustering that you chose in 10. Define the size of the points by the seed class."
   ]
  },
  {
   "cell_type": "code",
   "execution_count": null,
   "metadata": {
    "scrolled": false
   },
   "outputs": [],
   "source": []
  },
  {
   "cell_type": "markdown",
   "metadata": {},
   "source": [
    "#### 11.2 Seed Class Subtypes\n",
    "\n",
    "Use the plots that you created above to answer the following questions.\n",
    "\n",
    "* **11.2.1.** [0.5 pt] What is different about the two Canadian seed subtypes?\n",
    "* **11.2.2.** [0.5 pt] What is different about the two kama seed subtypes?\n",
    "* **11.2.3.** [0.5 pt] What is different about the two rosa seed subtypes?\n"
   ]
  },
  {
   "cell_type": "markdown",
   "metadata": {},
   "source": []
  },
  {
   "cell_type": "markdown",
   "metadata": {},
   "source": [
    "### 12. Cluster Similarity\n",
    "\n",
    "Using the dendrogram that corresponds to the final clustering that you chose in 10, answer the following questions.\n",
    "\n",
    "* **12.1**: Of the six clusters you selected, which cluster (or set of clusters) were considered to be most dissimilar to the other clusters? Explain.\n",
    "* **12.2**: Of the six clusters you selected, which cluster (or set of clusters) were considered to be the second most dissimilar to other cluster(s)? Explain."
   ]
  },
  {
   "cell_type": "markdown",
   "metadata": {},
   "source": []
  },
  {
   "cell_type": "code",
   "execution_count": null,
   "metadata": {},
   "outputs": [],
   "source": []
  }
 ],
 "metadata": {
  "kernelspec": {
   "display_name": "Python 3",
   "language": "python",
   "name": "python3"
  },
  "language_info": {
   "codemirror_mode": {
    "name": "ipython",
    "version": 3
   },
   "file_extension": ".py",
   "mimetype": "text/x-python",
   "name": "python",
   "nbconvert_exporter": "python",
   "pygments_lexer": "ipython3",
   "version": "3.8.3"
  }
 },
 "nbformat": 4,
 "nbformat_minor": 4
}
