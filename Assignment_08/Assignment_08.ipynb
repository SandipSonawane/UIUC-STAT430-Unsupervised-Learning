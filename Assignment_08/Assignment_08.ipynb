{
 "cells": [
  {
   "cell_type": "markdown",
   "metadata": {},
   "source": [
    "# Assignment 8 - [30 points]\n",
    "\n",
    "## <u>Case Study 1</u>: Seattle Airbnb Listing Analysis - Full Dataset - *Mixed Data Types*\n",
    "\n",
    "Suppose that you work as a data scientist at Airbnb. You'd like to learn more about the main different types of Airbnb listings in the Seattle area and then use this information to advertise these different types of listings to interested customers. \n",
    "\n",
    "The following dataset is a sample of available Airbnb listings in Seattle, WA. These listings were collected in January 2016, and filtered to just contain listings from the five most popular Seattle neighborhoods (for Airbnb listings) and just contain listings that are either in a house or apartment property. Rows with missing values have already been dropped from the dataset.\n",
    "\n",
    "This dataset contains the following variables.\n",
    "\n",
    "**Listing Information**\n",
    "The dataset contains the following information about the Airbnb *listing*:\n",
    "* <u>price</u>: price of the listing (per night)(in US dollars)\n",
    "* <u>review_scores_rating</u>: the average rating of the listing [0,100] (100 is the best)\n",
    "* <u>number_of_reviews</u>: the number of reviews for the listing\n",
    "* <u>security_deposit</u>: the security deposit required for the listing (in US dollars)\n",
    "* <u>cleaning_fee</u>: the cleaning fee required for the listing (in US dollars)\n",
    "* <u>neighborhood</u>: the neighborhood of Seattle the listing is located in\n",
    "* <u>property_type</u>: is the listing in a 'House' or 'Apartment'\n",
    "* <u>room_type</u>: is the listing a 'Entire home/apt', 'Private room', or 'Shared room'\n",
    "* <u>accommodates</u>: how many guests will the listing accommodate\n",
    "* <u>bathrooms</u>:how many bathrooms does the listing have\n",
    "* <u>beds</u>: how many beds does the listing have\n",
    "\n",
    "**Host Information**\n",
    "The dataset also contains the following information about the *host* of the given Airbnb listing:\n",
    "* <u>host_is_superhost</u>: is the host a \"superhost\": t=True, f=False\n",
    "* <u>host_has_profile_pic</u>: does the host have a profile pic in their bio: t=True, f=False\n",
    "* <u>host_response_time</u>: how fast will the host respond to requests (on average)\n",
    "* <u>host_acceptance_rate</u>: what percent of booking requests will the host accept\n",
    "\n",
    "### <u>Research Goals</u>:\n",
    "\n",
    "In this analysis, we have the following research goals.\n",
    "\n",
    "1. Identify larger \"main clusters\" of Airbnb listings in the Seattle area. In general, we would like for most of our listings to be clustered in with a larger cluster, rather than be separated as small or singleton clusters.\n",
    "2. We would also like to identify potential sub-clusters of listings within each of the \"main clusters.\"\n",
    "3. What are the most dissimilar clusters of Airbnb listings in this dataset? What makes them so dissimilar?\n",
    "4. What attributes characterize each of these clusters and sub-clusters?"
   ]
  },
  {
   "cell_type": "markdown",
   "metadata": {},
   "source": [
    "#### Imports"
   ]
  },
  {
   "cell_type": "code",
   "execution_count": null,
   "metadata": {},
   "outputs": [],
   "source": []
  },
  {
   "cell_type": "markdown",
   "metadata": {},
   "source": [
    "## 1. Data Preprocessing and Cleaning\n",
    "\n",
    "### 1.1. Original Dataset\n",
    "Read the seattle_airbnb_listings_cleaned.csv into a dataframe. This dataframe has already been cleaned (rows with missing values have already been dropped)."
   ]
  },
  {
   "cell_type": "code",
   "execution_count": null,
   "metadata": {},
   "outputs": [],
   "source": []
  },
  {
   "cell_type": "code",
   "execution_count": null,
   "metadata": {},
   "outputs": [],
   "source": []
  },
  {
   "cell_type": "markdown",
   "metadata": {},
   "source": [
    "### 1.2. Numerical Variable Scaling\n",
    "\n",
    "Next, we would like to cluster this dataset with the k-prototypes clustering algorithm and would like to determine if we should scale our numerical variables before running this algorithm.\n",
    "\n",
    "\n",
    "#### 1.2.1. Describe the numerical variables\n",
    "\n",
    "First, calculate the mean, standard deviation, minimum, maximum, median, Q1, and Q3 for each of the numerical variables in the dataset."
   ]
  },
  {
   "cell_type": "code",
   "execution_count": null,
   "metadata": {},
   "outputs": [],
   "source": []
  },
  {
   "cell_type": "markdown",
   "metadata": {},
   "source": [
    "#### 1.2.2. Should we scale?\n",
    "\n",
    "Do we think that there are some numerical variables that will have a stronger influence on the the k-prototypes algorithm results than others? If so, give a numerical variable that we think will have a strong influence and one that we think will have a weak influence. Why do we think that these variables will have a stronger and weaker effect on k-prototypes, respectively?"
   ]
  },
  {
   "cell_type": "markdown",
   "metadata": {},
   "source": []
  },
  {
   "cell_type": "markdown",
   "metadata": {},
   "source": [
    "#### 1.2.3. Scale the numerical variables\n",
    "\n",
    "Next, create a new dataframe that is comprised of the numerical and categorical variables, where the numerical variables have been scaled. You should scale each of the numerical variables by subtracting their respective means and then dividing by their respective standard deviations.\n",
    "\n",
    "You should also make a copy of this dataframe that will be used just for clustering and checking clusterability."
   ]
  },
  {
   "cell_type": "code",
   "execution_count": null,
   "metadata": {},
   "outputs": [],
   "source": []
  },
  {
   "cell_type": "code",
   "execution_count": null,
   "metadata": {},
   "outputs": [],
   "source": []
  },
  {
   "cell_type": "code",
   "execution_count": null,
   "metadata": {},
   "outputs": [],
   "source": []
  },
  {
   "cell_type": "code",
   "execution_count": null,
   "metadata": {},
   "outputs": [],
   "source": []
  },
  {
   "cell_type": "code",
   "execution_count": null,
   "metadata": {},
   "outputs": [],
   "source": []
  },
  {
   "cell_type": "code",
   "execution_count": null,
   "metadata": {},
   "outputs": [],
   "source": []
  },
  {
   "cell_type": "markdown",
   "metadata": {},
   "source": [
    "### 1.3. Gower's distance matrix\n",
    "\n",
    "Next, use this resulting copied dataframe from 1.2.3 to create a Gower's distance matrix for the Airbnb listings."
   ]
  },
  {
   "cell_type": "code",
   "execution_count": null,
   "metadata": {},
   "outputs": [],
   "source": []
  },
  {
   "cell_type": "markdown",
   "metadata": {},
   "source": [
    "## 2. Clusterability\n",
    "\n",
    "### 2.1. t-SNE Plots\n",
    "Using 6 different perplexity values and at least two random states for each perplexity value, map this **distance matrix** onto a two-dimensional dataset with the t-SNE algorithm. Show your projected coordinates in a scatterplot for each combination of random states and perplexity value."
   ]
  },
  {
   "cell_type": "code",
   "execution_count": null,
   "metadata": {},
   "outputs": [],
   "source": []
  },
  {
   "cell_type": "markdown",
   "metadata": {},
   "source": [
    "### 2.2 Assessing Clustering Structure\n",
    "\n",
    "Answer the following questions below.\n",
    "\n",
    "1. Does the t-SNE algorithm suggest that this dataset is clusterable?\n",
    "2. How many \"main clusters\" do you think that this dataset has? *[Subjective Answer: As long as your logic is correct, you will not lose points].*\n",
    "3. Do you think that this dataset has nested clusters (ie. subclusters)? Explain. *[Subjective Answer: As long as your logic is correct, you will not lose points].*\n",
    "\n",
    "Finally, pick out a random state and perplexity value that reflects the answers to your questions and show the corresponding t-SNE plot below."
   ]
  },
  {
   "cell_type": "markdown",
   "metadata": {},
   "source": []
  },
  {
   "cell_type": "code",
   "execution_count": null,
   "metadata": {},
   "outputs": [],
   "source": []
  },
  {
   "cell_type": "markdown",
   "metadata": {},
   "source": [
    "### 2.3. Association between the Attributes and the Clustering Structure Suggested by the t-SNE Plots\n",
    "\n",
    "Finally, we would like to assess how each of our 17 attributes is individually associated with the clustering structure suggested by our selected t-SNE plot from 2.2. Below, plot your t-SNE plot 17 times, each time color coding the points by each of the 17 attributes."
   ]
  },
  {
   "cell_type": "code",
   "execution_count": null,
   "metadata": {},
   "outputs": [],
   "source": []
  },
  {
   "cell_type": "markdown",
   "metadata": {},
   "source": [
    "## 3. K-Prototypes - *Parameter Selection*\n",
    "\n",
    "First, we would like to cluster this dataset with the k-prototypes algorithm. We would like to explore what the best values of $k$ and $\\gamma$ would be to use in this clustering algorithm to meet our research goals.\n",
    "\n"
   ]
  },
  {
   "cell_type": "markdown",
   "metadata": {},
   "source": [
    "### 3.1. $\\gamma = 0.25$\n",
    "\n",
    "#### 3.1.1. Elbow Plot\n",
    "Create an elbow plot for the k-prototypes algorithm using a value of $\\gamma=0.25$. Your plot should assess clusterings with k=1, k=2,..., k=16 clusters. For each k, run a single k-prototypes algorith, using a random state of 100."
   ]
  },
  {
   "cell_type": "code",
   "execution_count": null,
   "metadata": {},
   "outputs": [],
   "source": []
  },
  {
   "cell_type": "code",
   "execution_count": null,
   "metadata": {},
   "outputs": [],
   "source": []
  },
  {
   "cell_type": "markdown",
   "metadata": {},
   "source": [
    "#### 3.1.2. t-SNE Plots\n",
    "\n",
    "For k=1, k=2,..., k=10, run the k-prototypes clustering algorithm on your dataset, using a value of $\\gamma=0.25$ and a random state of 100. For each of your clusterings, plot a t-SNE plot in which you have color coded the points by their cluster labels."
   ]
  },
  {
   "cell_type": "code",
   "execution_count": null,
   "metadata": {},
   "outputs": [],
   "source": []
  },
  {
   "cell_type": "markdown",
   "metadata": {},
   "source": [
    "### 3.2. $\\gamma = 0.5$ \n",
    "\n",
    "#### 3.2.1. Elbow Plot\n",
    "Create an elbow plot for the k-prototypes algorithm using a value of $\\gamma=0.5$. Your plot should assess clusterings with k=1, k=2,..., k=16 clusters. For each k, run a single k-prototypes algorith, using a random state of 100."
   ]
  },
  {
   "cell_type": "code",
   "execution_count": null,
   "metadata": {},
   "outputs": [],
   "source": []
  },
  {
   "cell_type": "code",
   "execution_count": null,
   "metadata": {},
   "outputs": [],
   "source": []
  },
  {
   "cell_type": "markdown",
   "metadata": {},
   "source": [
    "#### 3.1.2. t-SNE Plots\n",
    "\n",
    "For k=1, k=2,..., k=10, run the k-prototypes clustering algorithm on your dataset, using a value of $\\gamma=0.5$ and a random state of 100. For each of your clusterings, plot a t-SNE plot in which you have color coded the points by their cluster labels."
   ]
  },
  {
   "cell_type": "code",
   "execution_count": null,
   "metadata": {},
   "outputs": [],
   "source": []
  },
  {
   "cell_type": "markdown",
   "metadata": {},
   "source": [
    "### 3.3. $\\gamma = 100$ \n",
    "\n",
    "#### 3.3.1. Elbow Plot\n",
    "Create an elbow plot for the k-prototypes algorithm using a value of $\\gamma=100$. Your plot should assess clusterings with k=1, k=2,..., k=16 clusters. For each k, run a single k-prototypes algorith, using a random state of 100."
   ]
  },
  {
   "cell_type": "code",
   "execution_count": null,
   "metadata": {},
   "outputs": [],
   "source": []
  },
  {
   "cell_type": "code",
   "execution_count": null,
   "metadata": {},
   "outputs": [],
   "source": []
  },
  {
   "cell_type": "markdown",
   "metadata": {},
   "source": [
    "#### 3.1.3. t-SNE Plots\n",
    "\n",
    "For k=1, k=2,..., k=10, run the k-prototypes clustering algorithm on your dataset, using a value of $\\gamma=100$ and a random state of 100. For each of your clusterings, plot a t-SNE plot in which you have color coded the points by their cluster labels."
   ]
  },
  {
   "cell_type": "code",
   "execution_count": null,
   "metadata": {},
   "outputs": [],
   "source": []
  },
  {
   "cell_type": "markdown",
   "metadata": {},
   "source": [
    "### 3.4. Interpretation\n",
    "\n",
    "#### 3.4.1. Elbow Plots\n",
    "\n",
    "Do we think that any of the values of gamma used above (ie. $\\gamma \\in \\{0.25, 0.5, 100\\}$) in the k-prototypes algorithm will be able to identify a *strong* clustering relationship in the dataset? Explain."
   ]
  },
  {
   "cell_type": "markdown",
   "metadata": {},
   "source": []
  },
  {
   "cell_type": "markdown",
   "metadata": {},
   "source": [
    "#### 3.4.2. $\\gamma$ Interpretation\n",
    "\n",
    "Which value of $\\gamma \\in \\{0.25, 0.5, 100\\}$  will the numerical variables have the strongest influence on the results of the k-prototypes algorithm? Which value of $\\gamma \\in \\{0.25, 0.5, 100\\}$  will the categorical variables have the strongest influence on the results of the k-prototypes algorithm?"
   ]
  },
  {
   "cell_type": "markdown",
   "metadata": {},
   "source": []
  },
  {
   "cell_type": "markdown",
   "metadata": {},
   "source": [
    "#### 3.4.3. Result that is most consistent with t-SNE plots\n",
    "\n",
    "Which value of $\\gamma \\in \\{0.25, 0.5, 100\\}$ produced k-prototypes clustering results that were most consistent with the clustering structure suggested by the t-SNE plots?"
   ]
  },
  {
   "cell_type": "markdown",
   "metadata": {},
   "source": []
  },
  {
   "cell_type": "markdown",
   "metadata": {},
   "source": [
    "#### 3.4.4. t-SNE Plot with Gower's Distance\n",
    "\n",
    "Using what we know so far, do we think that the clustering structure that is suggested by this particular t-SNE plot happens to be more dominated by the categorical variables, the numerical variables, or are the numerical and categorical variables equally represented? Explain."
   ]
  },
  {
   "cell_type": "markdown",
   "metadata": {},
   "source": []
  },
  {
   "cell_type": "markdown",
   "metadata": {},
   "source": [
    "<hr>\n",
    "\n",
    "**Tutorial**:\n",
    "You can use the **.inverse_transform()** function to unscale a set of numerical values using the same column means and and standard deviations that were used to scale another dataset."
   ]
  },
  {
   "cell_type": "code",
   "execution_count": 1,
   "metadata": {},
   "outputs": [
    {
     "data": {
      "text/html": [
       "<div>\n",
       "<style scoped>\n",
       "    .dataframe tbody tr th:only-of-type {\n",
       "        vertical-align: middle;\n",
       "    }\n",
       "\n",
       "    .dataframe tbody tr th {\n",
       "        vertical-align: top;\n",
       "    }\n",
       "\n",
       "    .dataframe thead th {\n",
       "        text-align: right;\n",
       "    }\n",
       "</style>\n",
       "<table border=\"1\" class=\"dataframe\">\n",
       "  <thead>\n",
       "    <tr style=\"text-align: right;\">\n",
       "      <th></th>\n",
       "      <th>x</th>\n",
       "      <th>y</th>\n",
       "    </tr>\n",
       "  </thead>\n",
       "  <tbody>\n",
       "    <tr>\n",
       "      <th>0</th>\n",
       "      <td>1</td>\n",
       "      <td>-1</td>\n",
       "    </tr>\n",
       "    <tr>\n",
       "      <th>1</th>\n",
       "      <td>2</td>\n",
       "      <td>10</td>\n",
       "    </tr>\n",
       "    <tr>\n",
       "      <th>2</th>\n",
       "      <td>3</td>\n",
       "      <td>3</td>\n",
       "    </tr>\n",
       "  </tbody>\n",
       "</table>\n",
       "</div>"
      ],
      "text/plain": [
       "   x   y\n",
       "0  1  -1\n",
       "1  2  10\n",
       "2  3   3"
      ]
     },
     "execution_count": 1,
     "metadata": {},
     "output_type": "execute_result"
    }
   ],
   "source": [
    "import pandas as pd\n",
    "tmp1=pd.DataFrame({'x': [1,2,3], 'y': [-1,10,3]})\n",
    "tmp1"
   ]
  },
  {
   "cell_type": "code",
   "execution_count": 2,
   "metadata": {},
   "outputs": [
    {
     "data": {
      "text/plain": [
       "array([[-1.22474487, -1.09985336],\n",
       "       [ 0.        ,  1.31982404],\n",
       "       [ 1.22474487, -0.21997067]])"
      ]
     },
     "execution_count": 2,
     "metadata": {},
     "output_type": "execute_result"
    }
   ],
   "source": [
    "from sklearn.preprocessing import StandardScaler\n",
    "st_tmp=StandardScaler()\n",
    "\n",
    "st_tmp.fit_transform(tmp1)"
   ]
  },
  {
   "cell_type": "code",
   "execution_count": 3,
   "metadata": {},
   "outputs": [
    {
     "data": {
      "text/html": [
       "<div>\n",
       "<style scoped>\n",
       "    .dataframe tbody tr th:only-of-type {\n",
       "        vertical-align: middle;\n",
       "    }\n",
       "\n",
       "    .dataframe tbody tr th {\n",
       "        vertical-align: top;\n",
       "    }\n",
       "\n",
       "    .dataframe thead th {\n",
       "        text-align: right;\n",
       "    }\n",
       "</style>\n",
       "<table border=\"1\" class=\"dataframe\">\n",
       "  <thead>\n",
       "    <tr style=\"text-align: right;\">\n",
       "      <th></th>\n",
       "      <th>x</th>\n",
       "      <th>y</th>\n",
       "    </tr>\n",
       "  </thead>\n",
       "  <tbody>\n",
       "    <tr>\n",
       "      <th>0</th>\n",
       "      <td>0.0</td>\n",
       "      <td>2.0</td>\n",
       "    </tr>\n",
       "    <tr>\n",
       "      <th>1</th>\n",
       "      <td>1.0</td>\n",
       "      <td>-1.0</td>\n",
       "    </tr>\n",
       "  </tbody>\n",
       "</table>\n",
       "</div>"
      ],
      "text/plain": [
       "     x    y\n",
       "0  0.0  2.0\n",
       "1  1.0 -1.0"
      ]
     },
     "execution_count": 3,
     "metadata": {},
     "output_type": "execute_result"
    }
   ],
   "source": [
    "tmp2=pd.DataFrame({'x': [0.0,1.0], 'y': [2.-0,-1.0]})\n",
    "tmp2"
   ]
  },
  {
   "cell_type": "code",
   "execution_count": 4,
   "metadata": {},
   "outputs": [
    {
     "data": {
      "text/plain": [
       "array([[ 2.        , 13.09212113],\n",
       "       [ 2.81649658, -0.54606057]])"
      ]
     },
     "execution_count": 4,
     "metadata": {},
     "output_type": "execute_result"
    }
   ],
   "source": [
    "st_tmp.inverse_transform(tmp2)"
   ]
  },
  {
   "cell_type": "markdown",
   "metadata": {},
   "source": [
    "<hr>"
   ]
  },
  {
   "cell_type": "markdown",
   "metadata": {},
   "source": [
    "### 3.5. Post Cluster Analysis with k-Prototypes and k=4 Clusters and $\\gamma =100$.\n",
    "\n",
    "#### 3.5.1. Cluster the Dataset\n",
    "\n",
    "Finally, cluster the dataset one more time with k-Prototypes using k=4 Clusters and $\\gamma =100$."
   ]
  },
  {
   "cell_type": "code",
   "execution_count": null,
   "metadata": {},
   "outputs": [],
   "source": []
  },
  {
   "cell_type": "markdown",
   "metadata": {},
   "source": [
    "#### 3.5.2. Prototypes\n",
    "\n",
    "Next, display the four cluster prototypes. The numerical values in your prototypes that you display should be **unscaled**. Put your four prototypes all into the same dataframe."
   ]
  },
  {
   "cell_type": "code",
   "execution_count": null,
   "metadata": {},
   "outputs": [],
   "source": []
  },
  {
   "cell_type": "code",
   "execution_count": null,
   "metadata": {},
   "outputs": [],
   "source": []
  },
  {
   "cell_type": "code",
   "execution_count": null,
   "metadata": {},
   "outputs": [],
   "source": []
  },
  {
   "cell_type": "code",
   "execution_count": null,
   "metadata": {},
   "outputs": [],
   "source": []
  },
  {
   "cell_type": "code",
   "execution_count": null,
   "metadata": {},
   "outputs": [],
   "source": []
  },
  {
   "cell_type": "markdown",
   "metadata": {},
   "source": [
    "#### 3.5.3. Interpretation\n",
    "\n",
    "What type of categorical attribute values are most common in the cluster with the highest average listing price?\n",
    "\n",
    "*(Note: In a full analysis you would want to describe and compare every prototype to learn more about the cluster attributes)*."
   ]
  },
  {
   "cell_type": "markdown",
   "metadata": {},
   "source": []
  },
  {
   "cell_type": "markdown",
   "metadata": {},
   "source": [
    "## 4. Hierarchical Agglomerative Clustering\n",
    "\n",
    "Next, we would like to cluster our Gower's distance matrix with hierarchical agglomerative clustering using single linkage, complete linkage, and average linkage.\n",
    "\n"
   ]
  },
  {
   "cell_type": "markdown",
   "metadata": {},
   "source": [
    "### 4.1. Single Linkage\n",
    "\n",
    "#### 4.1.1. Dendrogram\n",
    "\n",
    "Create a dendrogram using hierarchical agglomerative clustering with single linkage for using your Gower's distance matrix. \n",
    "* Because this is a small dataset, we do not need/want to truncate our dendrogram results. You should be able to see the indices of each of your observations at the leaves of your dendrogram tree.\n",
    "* Make sure you are able to read the indices labels in your dendrogram."
   ]
  },
  {
   "cell_type": "code",
   "execution_count": null,
   "metadata": {},
   "outputs": [],
   "source": []
  },
  {
   "cell_type": "code",
   "execution_count": null,
   "metadata": {},
   "outputs": [],
   "source": []
  },
  {
   "cell_type": "code",
   "execution_count": null,
   "metadata": {},
   "outputs": [],
   "source": []
  },
  {
   "cell_type": "markdown",
   "metadata": {},
   "source": [
    "#### 4.1.2 [0.5 pt] t-SNE Individual Clustering Visualization\n",
    "\n",
    "Then for each of the clusterings with k=2,k=3,...,k=10 clusters, color code the points in your selected t-SNE plot with the respective cluster labels."
   ]
  },
  {
   "cell_type": "code",
   "execution_count": null,
   "metadata": {},
   "outputs": [],
   "source": []
  },
  {
   "cell_type": "markdown",
   "metadata": {},
   "source": [
    "### 4.2. Complete Linkage\n",
    "\n",
    "#### 4.2.1. Dendrogram\n",
    "\n",
    "Create a dendrogram using hierarchical agglomerative clustering with complete linkage using your Gower's distance matrix.\n",
    "* Because this is a small dataset, we do not need/want to truncate our dendrogram results. You should be able to see the indices of each of your observations at the leaves of your dendrogram tree.\n",
    "* Make sure you are able to read the indices labels in your dendrogram."
   ]
  },
  {
   "cell_type": "code",
   "execution_count": null,
   "metadata": {},
   "outputs": [],
   "source": []
  },
  {
   "cell_type": "code",
   "execution_count": null,
   "metadata": {},
   "outputs": [],
   "source": []
  },
  {
   "cell_type": "markdown",
   "metadata": {},
   "source": [
    "#### 4.2.2 [0.5 pt] t-SNE Individual Clustering Visualization\n",
    "\n",
    "Then for each of the clusterings with k=2,k=3,...,k=10 clusters, color code the points in your selected t-SNE plot with the respective cluster labels."
   ]
  },
  {
   "cell_type": "code",
   "execution_count": null,
   "metadata": {},
   "outputs": [],
   "source": []
  },
  {
   "cell_type": "markdown",
   "metadata": {},
   "source": [
    "### 4.3. Average Linkage\n",
    "\n",
    "#### 4.3.1. Dendrogram\n",
    "\n",
    "Create a dendrogram using hierarchical agglomerative clustering with average linkage using your Gower's distance matrix.\n",
    "* Because this is a small dataset, we do not need/want to truncate our dendrogram results. You should be able to see the indices of each of your observations at the leaves of your dendrogram tree.\n",
    "* Make sure you are able to read the indices labels in your dendrogram."
   ]
  },
  {
   "cell_type": "code",
   "execution_count": null,
   "metadata": {},
   "outputs": [],
   "source": []
  },
  {
   "cell_type": "code",
   "execution_count": null,
   "metadata": {},
   "outputs": [],
   "source": []
  },
  {
   "cell_type": "markdown",
   "metadata": {},
   "source": [
    "#### 4.2.2 [0.5 pt] t-SNE Individual Clustering Visualization\n",
    "\n",
    "Then for each of the clusterings with k=2,k=3,...,k=10 clusters, color code the points in your selected t-SNE plot with the respective cluster labels."
   ]
  },
  {
   "cell_type": "code",
   "execution_count": null,
   "metadata": {},
   "outputs": [],
   "source": []
  },
  {
   "cell_type": "markdown",
   "metadata": {},
   "source": [
    "### 4.4. Interpretation\n",
    "\n",
    "The goal of our cluster analysis in this example is to do the following.\n",
    "1. Identify the \"main clusters\" that are actually present in this dataset.\n",
    "2. Identify the nested nature of the clusters in this dataset.\n",
    "3. To have most of our observations placed in a larger \"main cluster\" rather than being placed in a small/singleton clusters.\n",
    "\n",
    "Given the goals of this cluster analysis, which of the following linkage functions do we think best met this goal: single linkage, complete linkage, or average linkage? Explain."
   ]
  },
  {
   "cell_type": "markdown",
   "metadata": {},
   "source": []
  },
  {
   "cell_type": "markdown",
   "metadata": {},
   "source": [
    "## 5. Complete Linkage Post-Cluster Analysis\n",
    "\n",
    "We will choose to examine the clusterings with k=2 and k=3 returned by the hierarchical agglomerative clustering algorithm with complete linkage. \n",
    "\n",
    "### 5.1. Clustering with k=2 Clusters\n",
    "\n",
    "\n",
    "#### 5.1.1. Cluster Characterization\n",
    "\n",
    "The k=2 clusters in this dataset are the two most distinct groups of listings in the dataset (using the complete linkage function to measure cluster distance).\n",
    "\n",
    "What attributes had a strong association with the k=2 cluster labels? What attribute values characterize these two most distinct clusters in this dataset? You should examine both the numerical and categorical attributes here. For the numerical attributes, make sure that you look at the **unscaled data**."
   ]
  },
  {
   "cell_type": "markdown",
   "metadata": {},
   "source": []
  },
  {
   "cell_type": "code",
   "execution_count": null,
   "metadata": {},
   "outputs": [],
   "source": []
  },
  {
   "cell_type": "code",
   "execution_count": null,
   "metadata": {},
   "outputs": [],
   "source": []
  },
  {
   "cell_type": "markdown",
   "metadata": {},
   "source": [
    "Let's first examine the numerial attributes for the clustering with k=2 clusters."
   ]
  },
  {
   "cell_type": "code",
   "execution_count": null,
   "metadata": {},
   "outputs": [],
   "source": []
  },
  {
   "cell_type": "markdown",
   "metadata": {},
   "source": [
    "### 5.2. Clustering with k=3 Clusters\n",
    "\n",
    "Next, let's examine *just* the two *new* clusters that were created when we split one of the clusters going from the clustering with k=2 clusters to the clustering with k=3 clusters.\n",
    "\n",
    "#### 5.2.1. Finding the cluster labels\n",
    "\n",
    "First, in the clustering with k=3 clusters, what are the cluster labels belonging to these two clusters that were created by splitting one of the clusters in the clustering with k=2 clusters?"
   ]
  },
  {
   "cell_type": "markdown",
   "metadata": {},
   "source": []
  },
  {
   "cell_type": "code",
   "execution_count": null,
   "metadata": {},
   "outputs": [],
   "source": []
  },
  {
   "cell_type": "code",
   "execution_count": null,
   "metadata": {},
   "outputs": [],
   "source": []
  },
  {
   "cell_type": "code",
   "execution_count": null,
   "metadata": {},
   "outputs": [],
   "source": []
  },
  {
   "cell_type": "markdown",
   "metadata": {},
   "source": [
    "#### 5.2.2. Cluster Characterization\n",
    "\n",
    "We can think of these two clusters as the second most distinct set of clusters in the dataset (according to the complete linkage function).\n",
    "\n",
    "What attributes had a strong association with these two newly formed clusters? What attribute values characterize these two clusters in this dataset? You should examine both the numerical and categorical attributes here. For the numerical attributes, make sure that you look at the **unscaled data**."
   ]
  },
  {
   "cell_type": "markdown",
   "metadata": {},
   "source": []
  },
  {
   "cell_type": "code",
   "execution_count": null,
   "metadata": {},
   "outputs": [],
   "source": []
  },
  {
   "cell_type": "code",
   "execution_count": null,
   "metadata": {},
   "outputs": [],
   "source": []
  },
  {
   "cell_type": "markdown",
   "metadata": {},
   "source": [
    "<hr>\n",
    "\n",
    "## <u>Case Study 2</u>: Seattle Airbnb Listing Analysis - Reduced Dataset - *Just Categorical Variables*\n",
    "\n",
    "Next, we would like to try clustering our Airbnb listing dataset now using just the categorical variables. How will our results differ when just considering the categorical variables?\n",
    "\n",
    "## 6. Data Preprocessing and Cleaning"
   ]
  },
  {
   "cell_type": "markdown",
   "metadata": {},
   "source": [
    "### 6.1. Categorical Dataset\n",
    "\n",
    "Next, create a dataframe that is just comprised of the categorical variables."
   ]
  },
  {
   "cell_type": "code",
   "execution_count": null,
   "metadata": {},
   "outputs": [],
   "source": []
  },
  {
   "cell_type": "code",
   "execution_count": null,
   "metadata": {},
   "outputs": [],
   "source": []
  },
  {
   "cell_type": "code",
   "execution_count": null,
   "metadata": {},
   "outputs": [],
   "source": []
  },
  {
   "cell_type": "markdown",
   "metadata": {},
   "source": [
    "### 6.2. Hamming distance matrix\n",
    "\n",
    "Finally, create a Hamming distance matrix of your categorical variables."
   ]
  },
  {
   "cell_type": "code",
   "execution_count": null,
   "metadata": {},
   "outputs": [],
   "source": []
  },
  {
   "cell_type": "markdown",
   "metadata": {},
   "source": [
    "## 7. Clusterability\n",
    "\n",
    "### 7.1. t-SNE Plots\n",
    "Using 6 different perplexity values and at least two random states for each perplexity value, map this **distance matrix** onto a two-dimensional dataset with the t-SNE algorithm. Show your projected coordinates in a scatterplot for each combination of random states and perplexity value."
   ]
  },
  {
   "cell_type": "code",
   "execution_count": null,
   "metadata": {},
   "outputs": [],
   "source": []
  },
  {
   "cell_type": "markdown",
   "metadata": {},
   "source": [
    "### 7.2 Assessing Clustering Structure\n",
    "\n",
    "Answer the following questions below.\n",
    "\n",
    "1. Does the t-SNE algorith suggest that this dataset is clusterable?\n",
    "2. How many \"main clusters\" do you think that this dataset has? *[Subjective Answer: As long as your logic is correct, you will not lose points].*\n",
    "\n",
    "Finally, pick out a random state and perplexity value that reflects the answers to your questions and show the corresponding t-SNE plot below."
   ]
  },
  {
   "cell_type": "markdown",
   "metadata": {},
   "source": []
  },
  {
   "cell_type": "code",
   "execution_count": null,
   "metadata": {},
   "outputs": [],
   "source": []
  },
  {
   "cell_type": "markdown",
   "metadata": {},
   "source": [
    "### 7.3. Association between the Attributes and the Clustering Structure Suggested by the t-SNE Plots\n",
    "\n",
    "Finally, we would like to assess how each of our 7 categorical attributes is individually associated with the clustering structure suggested by our selected t-SNE from 7.2. In the code below, plot your t-SNE plot 7 times, each time color coding the points by each of the 7 categorical attributes."
   ]
  },
  {
   "cell_type": "code",
   "execution_count": null,
   "metadata": {},
   "outputs": [],
   "source": []
  },
  {
   "cell_type": "markdown",
   "metadata": {},
   "source": [
    "### 7.4. Interpretation\n",
    "\n",
    "Select one of the smaller *highly* dense clouds of points in your t-SNE plot. Do the categorical attribute values in the points in this dense cloud that you selected differ at all?"
   ]
  },
  {
   "cell_type": "markdown",
   "metadata": {},
   "source": []
  },
  {
   "cell_type": "markdown",
   "metadata": {},
   "source": [
    "## 8. K-Modes - *Parameter Selection*\n",
    "\n",
    "Next, we would like to cluster this dataset with the k-modes algorithm. We would like to explore what the best values of $k$  would be to use in this clustering algorithm to meet our research goals.\n"
   ]
  },
  {
   "cell_type": "markdown",
   "metadata": {},
   "source": [
    "### 8.1. Elbow Plot\n",
    "\n",
    "Create an elbow plot for the k-modes algorithm. Your plot should assess clusterings with k=1, k=2,..., k=16 clusters. For each k, run a single k-modes algorithm, using a random state of 100."
   ]
  },
  {
   "cell_type": "code",
   "execution_count": null,
   "metadata": {},
   "outputs": [],
   "source": []
  },
  {
   "cell_type": "code",
   "execution_count": null,
   "metadata": {},
   "outputs": [],
   "source": []
  },
  {
   "cell_type": "markdown",
   "metadata": {},
   "source": [
    "### 8.2. t-SNE Plots\n",
    "\n",
    "For k=1, k=2,..., k=10, run the k-modes clustering algorithm on your dataset, using a random state of 100. For each of your clusterings, plot a t-SNE plot in which you have color coded the points by their cluster labels."
   ]
  },
  {
   "cell_type": "code",
   "execution_count": null,
   "metadata": {},
   "outputs": [],
   "source": []
  },
  {
   "cell_type": "markdown",
   "metadata": {},
   "source": [
    "### 8.3. Interpretation\n",
    "\n",
    "How many clusters does your elbow plot suggest are in this dataset? Does the k-modes clustering with this k number of clusters *strongly* agree with the clustering structured suggested by the t-SNE plot?"
   ]
  },
  {
   "cell_type": "markdown",
   "metadata": {},
   "source": []
  },
  {
   "cell_type": "markdown",
   "metadata": {},
   "source": [
    "## 9. Hierarchical Agglomerative Clustering\n",
    "\n",
    "Next, we would like to cluster our Hamming distance matrix with hierarchical agglomerative clustering using single linkage, complete linkage, and average linkage.\n",
    "\n"
   ]
  },
  {
   "cell_type": "markdown",
   "metadata": {},
   "source": [
    "### 9.1. Single Linkage\n",
    "\n",
    "#### 9.1.1. Dendrogram\n",
    "\n",
    "Create a dendrogram using hierarchical agglomerative clustering with single linkage for using your Hamming distance matrix. \n",
    "* Because this is a small dataset, we do not need/want to truncate our dendrogram results. You should be able to see the indices of each of your observations at the leaves of your dendrogram tree.\n",
    "* Make sure you are able to read the indices labels in your dendrogram."
   ]
  },
  {
   "cell_type": "code",
   "execution_count": null,
   "metadata": {},
   "outputs": [],
   "source": []
  },
  {
   "cell_type": "code",
   "execution_count": null,
   "metadata": {},
   "outputs": [],
   "source": []
  },
  {
   "cell_type": "code",
   "execution_count": null,
   "metadata": {},
   "outputs": [],
   "source": []
  },
  {
   "cell_type": "markdown",
   "metadata": {},
   "source": [
    "#### 9.1.2 [0.5 pt] t-SNE Individual Clustering Visualization\n",
    "\n",
    "Then for each of the clusterings with k=2,k=3,...,k=10 clusters, color code the points in your selected t-SNE plot with the respective cluster labels."
   ]
  },
  {
   "cell_type": "code",
   "execution_count": null,
   "metadata": {},
   "outputs": [],
   "source": []
  },
  {
   "cell_type": "markdown",
   "metadata": {},
   "source": [
    "### 9.2. Complete Linkage\n",
    "\n",
    "#### 9.2.1. Dendrogram\n",
    "\n",
    "Create a dendrogram using hierarchical agglomerative clustering with complete linkage using your Hamming distance matrix.\n",
    "* Because this is a small dataset, we do not need/want to truncate our dendrogram results. You should be able to see the indices of each of your observations at the leaves of your dendrogram tree.\n",
    "* Make sure you are able to read the indices labels in your dendrogram."
   ]
  },
  {
   "cell_type": "code",
   "execution_count": null,
   "metadata": {},
   "outputs": [],
   "source": []
  },
  {
   "cell_type": "code",
   "execution_count": null,
   "metadata": {},
   "outputs": [],
   "source": []
  },
  {
   "cell_type": "markdown",
   "metadata": {},
   "source": [
    "#### 9.2.2 [0.5 pt] t-SNE Individual Clustering Visualization\n",
    "\n",
    "Then for each of the clusterings with k=2,k=3,...,k=10 clusters, color code the points in your selected t-SNE plot with the respective cluster labels."
   ]
  },
  {
   "cell_type": "code",
   "execution_count": null,
   "metadata": {},
   "outputs": [],
   "source": []
  },
  {
   "cell_type": "markdown",
   "metadata": {},
   "source": [
    "### 9.3. Average Linkage\n",
    "\n",
    "#### 9.3.1. Dendrogram\n",
    "\n",
    "Create a dendrogram using hierarchical agglomerative clustering with average linkage using your Hamming distance matrix.\n",
    "* Because this is a small dataset, we do not need/want to truncate our dendrogram results. You should be able to see the indices of each of your observations at the leaves of your dendrogram tree.\n",
    "* Make sure you are able to read the indices labels in your dendrogram."
   ]
  },
  {
   "cell_type": "code",
   "execution_count": null,
   "metadata": {},
   "outputs": [],
   "source": []
  },
  {
   "cell_type": "code",
   "execution_count": null,
   "metadata": {},
   "outputs": [],
   "source": []
  },
  {
   "cell_type": "markdown",
   "metadata": {},
   "source": [
    "#### 9.2.2 [0.5 pt] t-SNE Individual Clustering Visualization\n",
    "\n",
    "Then for each of the clusterings with k=2,k=3,...,k=10 clusters, color code the points in your selected t-SNE plot with the respective cluster labels."
   ]
  },
  {
   "cell_type": "code",
   "execution_count": null,
   "metadata": {},
   "outputs": [],
   "source": []
  },
  {
   "cell_type": "markdown",
   "metadata": {},
   "source": [
    "## More information (if you're interested)\n",
    "\n",
    "In a full analysis, it would also be insightful to do the following.\n",
    "\n",
    "1. Create a t-SNE plot with just the numerical variables and run a numerical clustering algorithm on the numerical dataset (like k-means).\n",
    "\n",
    "2. Then select your besting clusterings that you found with the a.) full mixed dataset, b.) the categorical variables dataset, and the c.) numerical variables dataset.\n",
    "\n",
    "3. To what extent do these clusterings agree? You could use the adjusted rand score, homogeneity score, completeness score, V-score (or other clustering comparison metrics) to compare them.\n",
    "\n"
   ]
  }
 ],
 "metadata": {
  "kernelspec": {
   "display_name": "Python 3",
   "language": "python",
   "name": "python3"
  },
  "language_info": {
   "codemirror_mode": {
    "name": "ipython",
    "version": 3
   },
   "file_extension": ".py",
   "mimetype": "text/x-python",
   "name": "python",
   "nbconvert_exporter": "python",
   "pygments_lexer": "ipython3",
   "version": "3.8.5"
  }
 },
 "nbformat": 4,
 "nbformat_minor": 4
}
