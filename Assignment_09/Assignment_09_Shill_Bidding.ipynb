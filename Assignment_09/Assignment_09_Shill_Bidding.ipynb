{
 "cells": [
  {
   "cell_type": "markdown",
   "metadata": {},
   "source": [
    "# Assignment 9 - [30 points] Solutions\n",
    "\n",
    "## <u>Case Study 2</u>: Learning More about Clusters in the Shill Bidding Dataset\n",
    "\n",
    "In previous analyses we used several different clustering algorithms to cluster our shill bidding dataset. In this analysis we will use k-means to cluster the shill bidding dataset into the four underyling cluster (as suggested by the t-SNE algorithm). We will then use PCA four times on the data in each of the four clusters to learn more about what makes the data in each of the four clusters distinct. Specifically, we would like to learn more about the *linear relationship between the attributes* along the vector that describes the most amount of variance for each of the four clusters.\n",
    "\n",
    "\n",
    "### <u>Research Goals</u>:\n",
    "\n",
    "In this analysis, we have the following research goal.\n",
    "\n",
    "#### Attribute Relationships that Describe the Most Amount of Variance in each of the Four k-Means Clusters\n",
    "\n",
    "We would like to determine which attribute relationships describe the most amount of variance in the dataset. We will use the loading vectors from our PCA to determine this.\n"
   ]
  },
  {
   "cell_type": "code",
   "execution_count": null,
   "metadata": {},
   "outputs": [],
   "source": [
    "\n",
    "\n"
   ]
  },
  {
   "cell_type": "markdown",
   "metadata": {},
   "source": [
    "## 1. Data Preprocessing and Cleaning\n",
    "\n",
    "Read the shill_bidding.csv file into a dataframe, **call it df**. Then create another dataframe that is a copy of this and drop the class labels."
   ]
  },
  {
   "cell_type": "code",
   "execution_count": null,
   "metadata": {},
   "outputs": [],
   "source": []
  },
  {
   "cell_type": "code",
   "execution_count": null,
   "metadata": {},
   "outputs": [],
   "source": []
  },
  {
   "cell_type": "markdown",
   "metadata": {},
   "source": [
    "## 2. Clusterability\n",
    "\n",
    "We have already used the t-SNE algorithm which suggests that this dataset is clusterable with 4 non-spherical clusters. Create a t-SNE plot below that uses a perplexity of 30 and a random state of 2."
   ]
  },
  {
   "cell_type": "code",
   "execution_count": null,
   "metadata": {},
   "outputs": [],
   "source": []
  },
  {
   "cell_type": "markdown",
   "metadata": {},
   "source": [
    "## 3. Clustering with k-Means\n",
    "\n",
    "Next, cluster this dataset with k-means, using 4 clusters and a random state of 100. Color code the points in your t-SNE plot with your resulting k-means cluster labels."
   ]
  },
  {
   "cell_type": "code",
   "execution_count": null,
   "metadata": {},
   "outputs": [],
   "source": []
  },
  {
   "cell_type": "code",
   "execution_count": null,
   "metadata": {},
   "outputs": [],
   "source": []
  },
  {
   "cell_type": "markdown",
   "metadata": {},
   "source": [
    "## 4. Post-Cluster Analysis\n",
    "\n",
    "Next, we would like to use to PCA on the data in *each* of the 4 resulting clusters to learn more about what attributes and *attribute relationships* distinguish the four clusters from each other.\n",
    "\n",
    "### 4.1. Four Cluster Datasets\n",
    "\n",
    "First, create four dataframes from your **df** dataframe, one for each of the four corresponding clusters found by k-means. Then, mean-scale each of these four dataframes."
   ]
  },
  {
   "cell_type": "code",
   "execution_count": null,
   "metadata": {},
   "outputs": [],
   "source": []
  },
  {
   "cell_type": "code",
   "execution_count": null,
   "metadata": {},
   "outputs": [],
   "source": []
  },
  {
   "cell_type": "code",
   "execution_count": null,
   "metadata": {},
   "outputs": [],
   "source": []
  },
  {
   "cell_type": "markdown",
   "metadata": {},
   "source": [
    "### 4.2. Cluster 0 PCA Analysis\n",
    "\n",
    "We would like to perform PCA on just the observations in cluster 0.\n",
    "\n",
    "#### 4.2.1. Percent of Original Attribute Variance\n",
    "\n",
    "For just the cluster 0 dataset, create a plot below that plots the following:\n",
    "* on the x-axis is k = number of principal components used in a PCA of the cluster 0 dataset\n",
    "* on the y-axis is the percent of total (mean-scaled) original attribute variance (of the cluster 0 dataset) that would be preserved by using the corresponding k principal components."
   ]
  },
  {
   "cell_type": "code",
   "execution_count": null,
   "metadata": {},
   "outputs": [],
   "source": []
  },
  {
   "cell_type": "code",
   "execution_count": null,
   "metadata": {},
   "outputs": [],
   "source": []
  },
  {
   "cell_type": "code",
   "execution_count": null,
   "metadata": {},
   "outputs": [],
   "source": []
  },
  {
   "cell_type": "code",
   "execution_count": null,
   "metadata": {},
   "outputs": [],
   "source": []
  },
  {
   "cell_type": "markdown",
   "metadata": {},
   "source": [
    "#### 4.2.2. PCA on Cluster 0\n",
    "\n",
    "Next, we would like to determine the linear relationship between the five attributes that capture the most amount of variability in the cluster 0 data.\n",
    "\n",
    "Perform PCA on just the cluster 0 dataset, using just one principal component (and a random state of 100). Then display the loading vector that corresponds to this one principal component.\n",
    "\n"
   ]
  },
  {
   "cell_type": "code",
   "execution_count": null,
   "metadata": {},
   "outputs": [],
   "source": []
  },
  {
   "cell_type": "markdown",
   "metadata": {},
   "source": [
    "#### 4.2.3. PCA Loading Vector Analysis for Cluster 0\n",
    "\n",
    "Answer the following questions.\n",
    "\n",
    "1. What attribute is most important in the creation of the first principal component? Explain.\n",
    "2. If we were to increase the bidder tendency by 1 along this vector that captures the maximum variance, how much would we expect the other attributes to change?"
   ]
  },
  {
   "cell_type": "markdown",
   "metadata": {},
   "source": []
  },
  {
   "cell_type": "code",
   "execution_count": null,
   "metadata": {},
   "outputs": [],
   "source": []
  },
  {
   "cell_type": "markdown",
   "metadata": {},
   "source": [
    "### 4.3. Cluster 1 PCA Analysis\n",
    "\n",
    "We would like to perform PCA on just the observations in cluster 1.\n",
    "\n",
    "#### 4.3.1. Percent of Original Attribute Variance\n",
    "\n",
    "For just the cluster 1 dataset, create a plot below that plots the following:\n",
    "* on the x-axis is k = number of principal components used in a PCA of the cluster 1 dataset\n",
    "* on the y-axis is the percent of total (mean-scaled) original attribute variance (of the cluster 1 dataset) that would be preserved by using the corresponding k principal components."
   ]
  },
  {
   "cell_type": "code",
   "execution_count": null,
   "metadata": {},
   "outputs": [],
   "source": []
  },
  {
   "cell_type": "code",
   "execution_count": null,
   "metadata": {},
   "outputs": [],
   "source": []
  },
  {
   "cell_type": "code",
   "execution_count": null,
   "metadata": {},
   "outputs": [],
   "source": []
  },
  {
   "cell_type": "code",
   "execution_count": null,
   "metadata": {},
   "outputs": [],
   "source": []
  },
  {
   "cell_type": "markdown",
   "metadata": {},
   "source": [
    "#### 4.3.2. PCA on Cluster 1\n",
    "\n",
    "Next, we would like to determine the linear relationship between the five attributes that capture the most amount of variability in the cluster 1 data.\n",
    "\n",
    "Perform PCA on just the cluster 1 dataset, using just one principal component. Then display the loading vector that corresponds to this one principal component.\n",
    "\n"
   ]
  },
  {
   "cell_type": "code",
   "execution_count": null,
   "metadata": {},
   "outputs": [],
   "source": []
  },
  {
   "cell_type": "markdown",
   "metadata": {},
   "source": [
    "#### 4.3.3. PCA Loading Vector Analysis for Cluster 1\n",
    "\n",
    "Answer the following questions.\n",
    "\n",
    "1. What attribute is most important in the creation of the first principal component? Explain.\n",
    "2. If we were to increase the bidder tendency by 1 along this vector that captures the maximum variance, how much would we expect the other attributes to change?"
   ]
  },
  {
   "cell_type": "markdown",
   "metadata": {},
   "source": []
  },
  {
   "cell_type": "code",
   "execution_count": null,
   "metadata": {},
   "outputs": [],
   "source": []
  },
  {
   "cell_type": "markdown",
   "metadata": {},
   "source": [
    "### 4.4. Cluster 2 PCA Analysis\n",
    "\n",
    "We would like to perform PCA on just the observations in cluster 2.\n",
    "\n",
    "#### 4.4.1. Percent of Original Attribute Variance\n",
    "\n",
    "For just the cluster 2 dataset, create a plot below that plots the following:\n",
    "* on the x-axis is k = number of principal components used in a PCA of the cluster 2 dataset\n",
    "* on the y-axis is the percent of total (mean-scaled) original attribute variance (of the cluster 2 dataset) that would be preserved by using the corresponding k principal components."
   ]
  },
  {
   "cell_type": "code",
   "execution_count": null,
   "metadata": {},
   "outputs": [],
   "source": []
  },
  {
   "cell_type": "code",
   "execution_count": null,
   "metadata": {},
   "outputs": [],
   "source": []
  },
  {
   "cell_type": "code",
   "execution_count": null,
   "metadata": {},
   "outputs": [],
   "source": []
  },
  {
   "cell_type": "code",
   "execution_count": null,
   "metadata": {},
   "outputs": [],
   "source": []
  },
  {
   "cell_type": "markdown",
   "metadata": {},
   "source": [
    "#### 4.4.2. PCA on Cluster 2\n",
    "\n",
    "Next, we would like to determine the linear relationship between the five attributes that capture the most amount of variability in the cluster 2 data.\n",
    "\n",
    "Perform PCA on just the cluster 2 dataset, using just one principal component. Then display the loading vector that corresponds to this one principal component.\n",
    "\n"
   ]
  },
  {
   "cell_type": "code",
   "execution_count": null,
   "metadata": {},
   "outputs": [],
   "source": []
  },
  {
   "cell_type": "markdown",
   "metadata": {},
   "source": [
    "#### 4.4.3. PCA Loading Vector Analysis for Cluster 2\n",
    "\n",
    "Answer the following questions.\n",
    "\n",
    "1. What attribute is most important in the creation of the first principal component? Explain.\n",
    "2. If we were to increase the bidder tendency by 1 along this vector that captures the maximum variance, how much would we expect the other attributes to change?"
   ]
  },
  {
   "cell_type": "markdown",
   "metadata": {},
   "source": []
  },
  {
   "cell_type": "code",
   "execution_count": null,
   "metadata": {},
   "outputs": [],
   "source": []
  },
  {
   "cell_type": "markdown",
   "metadata": {},
   "source": [
    "### 4.5. Cluster 3 PCA Analysis\n",
    "\n",
    "We would like to perform PCA on just the observations in cluster 3.\n",
    "\n",
    "#### 4.5.1. Percent of Original Attribute Variance\n",
    "\n",
    "For just the cluster 3 dataset, create a plot below that plots the following:\n",
    "* on the x-axis is k = number of principal components used in a PCA of the cluster 3 dataset\n",
    "* on the y-axis is the percent of total (mean-scaled) original attribute variance (of the cluster 3 dataset) that would be preserved by using the corresponding k principal components."
   ]
  },
  {
   "cell_type": "code",
   "execution_count": null,
   "metadata": {},
   "outputs": [],
   "source": []
  },
  {
   "cell_type": "code",
   "execution_count": null,
   "metadata": {},
   "outputs": [],
   "source": []
  },
  {
   "cell_type": "code",
   "execution_count": null,
   "metadata": {},
   "outputs": [],
   "source": []
  },
  {
   "cell_type": "code",
   "execution_count": null,
   "metadata": {},
   "outputs": [],
   "source": []
  },
  {
   "cell_type": "markdown",
   "metadata": {},
   "source": [
    "#### 4.5.2. PCA on Cluster 3\n",
    "\n",
    "Next, we would like to determine the linear relationship between the five attributes that capture the most amount of variability in the cluster 3 data.\n",
    "\n",
    "Perform PCA on just the cluster 3 dataset, using just one principal component. Then display the loading vector that corresponds to this one principal component.\n",
    "\n"
   ]
  },
  {
   "cell_type": "code",
   "execution_count": null,
   "metadata": {},
   "outputs": [],
   "source": []
  },
  {
   "cell_type": "markdown",
   "metadata": {},
   "source": [
    "#### 4.5.3. PCA Loading Vector Analysis for Cluster 3\n",
    "\n",
    "Answer the following questions.\n",
    "\n",
    "1. What attribute is most important in the creation of the first principal component? Explain.\n",
    "2. If we were to increase the bidder tendency by 1 along this vector that captures the maximum variance, how much would we expect the other attributes to change?"
   ]
  },
  {
   "cell_type": "markdown",
   "metadata": {},
   "source": []
  },
  {
   "cell_type": "code",
   "execution_count": null,
   "metadata": {},
   "outputs": [],
   "source": []
  },
  {
   "cell_type": "markdown",
   "metadata": {},
   "source": [
    "## 4.6. Summarizing the Four PCA Cluster Results\n",
    "\n",
    "#### 4.6.1. Highest Amount of Variance Capture\n",
    "\n",
    "Which of the four k-means cluster datasets had the highest percent of total original attribute variance that was captured by their first principal component?"
   ]
  },
  {
   "cell_type": "markdown",
   "metadata": {},
   "source": []
  },
  {
   "cell_type": "markdown",
   "metadata": {},
   "source": [
    "#### 4.6.2. Linear Relationships\n",
    "\n",
    "For each of the four cluster datasets, list which attributes have a *positive* relationship with each other in the first loading vector."
   ]
  },
  {
   "cell_type": "code",
   "execution_count": null,
   "metadata": {},
   "outputs": [],
   "source": []
  },
  {
   "cell_type": "markdown",
   "metadata": {},
   "source": []
  }
 ],
 "metadata": {
  "kernelspec": {
   "display_name": "Python 3",
   "language": "python",
   "name": "python3"
  },
  "language_info": {
   "codemirror_mode": {
    "name": "ipython",
    "version": 3
   },
   "file_extension": ".py",
   "mimetype": "text/x-python",
   "name": "python",
   "nbconvert_exporter": "python",
   "pygments_lexer": "ipython3",
   "version": "3.8.3"
  }
 },
 "nbformat": 4,
 "nbformat_minor": 4
}
