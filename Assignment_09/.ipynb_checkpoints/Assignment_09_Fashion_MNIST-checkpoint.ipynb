{
 "cells": [
  {
   "cell_type": "markdown",
   "metadata": {},
   "source": [
    "# Assignment 9 - [30 points] Solutions\n",
    "\n",
    "## <u>Case Study 1</u>: Fashion MNIST Dataset Principal Component Analysis for Quick Summarization\n",
    "\n",
    "In this analysis, we will continue our exploration of the same random sample of the \"Fashion MNIST\" dataset. *As a reminder, this dataset is comprised of 500 28-by-28 pixel images of fashion items. Each of the 784 image pixels is represented by a numerical gray scale value which can range from 0 (black) to 255 (white). Each object has an associated pre-assigned class label, which corresponds to the fashion item that the image is a picture of. The 10 types of fashion items included in this dataset are: Pullover, Sandal, Bag, Ankle boot, Coat, Shirt, T-shirt/top, Sneaker, Dress, and Trousers.*\n",
    "\n",
    "### <u>Research Goals</u>:\n",
    "\n",
    "In this analysis, we have the following research goals.\n",
    "\n",
    "#### Pixel Relationships that Describe the Most Amount of Variance in the Dataset\n",
    "\n",
    "First, we would like to determine which pixel relationships describe the most amount of variance in the dataset. We will use the loading vectors from our PCA to determine this.\n",
    "\n",
    "#### Quick Summarization of the Images\n",
    "\n",
    "Next, we will use the loading vectors and the principal component coordinates of the objects to quickly summarize each of of the 500 objects in the dataset.\n"
   ]
  },
  {
   "cell_type": "code",
   "execution_count": 47,
   "metadata": {},
   "outputs": [],
   "source": [
    "# imports\n",
    "import pandas as pd\n",
    "import numpy as np\n",
    "import matplotlib.pyplot as plt\n",
    "plt.style.use('seaborn')\n",
    "import seaborn as sns\n",
    "from sklearn.datasets import load_digits\n",
    "from sklearn.decomposition import PCA\n",
    "from sklearn.preprocessing import StandardScaler\n",
    "import warnings\n",
    "warnings.filterwarnings('ignore')"
   ]
  },
  {
   "cell_type": "markdown",
   "metadata": {},
   "source": [
    "## 1. Data Preprocessing and Cleaning\n",
    "\n",
    "### 1.1. Before Mean Scaling\n",
    "\n",
    "#### 1.1.1. Original Dataset\n",
    "First, read the fashion_mnist_sample.csv into a dataframe. Then make a copy of this dataset that has dropped the pre-assigned class labels and has divided each of the values in this dataframe by 255. "
   ]
  },
  {
   "cell_type": "code",
   "execution_count": 2,
   "metadata": {},
   "outputs": [
    {
     "data": {
      "text/html": [
       "<div>\n",
       "<style scoped>\n",
       "    .dataframe tbody tr th:only-of-type {\n",
       "        vertical-align: middle;\n",
       "    }\n",
       "\n",
       "    .dataframe tbody tr th {\n",
       "        vertical-align: top;\n",
       "    }\n",
       "\n",
       "    .dataframe thead th {\n",
       "        text-align: right;\n",
       "    }\n",
       "</style>\n",
       "<table border=\"1\" class=\"dataframe\">\n",
       "  <thead>\n",
       "    <tr style=\"text-align: right;\">\n",
       "      <th></th>\n",
       "      <th>label</th>\n",
       "      <th>pixel1</th>\n",
       "      <th>pixel2</th>\n",
       "      <th>pixel3</th>\n",
       "      <th>pixel4</th>\n",
       "      <th>pixel5</th>\n",
       "      <th>pixel6</th>\n",
       "      <th>pixel7</th>\n",
       "      <th>pixel8</th>\n",
       "      <th>pixel9</th>\n",
       "      <th>...</th>\n",
       "      <th>pixel775</th>\n",
       "      <th>pixel776</th>\n",
       "      <th>pixel777</th>\n",
       "      <th>pixel778</th>\n",
       "      <th>pixel779</th>\n",
       "      <th>pixel780</th>\n",
       "      <th>pixel781</th>\n",
       "      <th>pixel782</th>\n",
       "      <th>pixel783</th>\n",
       "      <th>pixel784</th>\n",
       "    </tr>\n",
       "  </thead>\n",
       "  <tbody>\n",
       "    <tr>\n",
       "      <th>0</th>\n",
       "      <td>Dress</td>\n",
       "      <td>0</td>\n",
       "      <td>0</td>\n",
       "      <td>0</td>\n",
       "      <td>0</td>\n",
       "      <td>0</td>\n",
       "      <td>0</td>\n",
       "      <td>0</td>\n",
       "      <td>0</td>\n",
       "      <td>0</td>\n",
       "      <td>...</td>\n",
       "      <td>162</td>\n",
       "      <td>176</td>\n",
       "      <td>128</td>\n",
       "      <td>0</td>\n",
       "      <td>0</td>\n",
       "      <td>0</td>\n",
       "      <td>0</td>\n",
       "      <td>0</td>\n",
       "      <td>0</td>\n",
       "      <td>0</td>\n",
       "    </tr>\n",
       "    <tr>\n",
       "      <th>1</th>\n",
       "      <td>Shirt</td>\n",
       "      <td>0</td>\n",
       "      <td>0</td>\n",
       "      <td>0</td>\n",
       "      <td>0</td>\n",
       "      <td>0</td>\n",
       "      <td>0</td>\n",
       "      <td>0</td>\n",
       "      <td>0</td>\n",
       "      <td>0</td>\n",
       "      <td>...</td>\n",
       "      <td>117</td>\n",
       "      <td>57</td>\n",
       "      <td>0</td>\n",
       "      <td>0</td>\n",
       "      <td>0</td>\n",
       "      <td>0</td>\n",
       "      <td>0</td>\n",
       "      <td>0</td>\n",
       "      <td>0</td>\n",
       "      <td>0</td>\n",
       "    </tr>\n",
       "    <tr>\n",
       "      <th>2</th>\n",
       "      <td>Trousers</td>\n",
       "      <td>0</td>\n",
       "      <td>0</td>\n",
       "      <td>0</td>\n",
       "      <td>0</td>\n",
       "      <td>0</td>\n",
       "      <td>0</td>\n",
       "      <td>0</td>\n",
       "      <td>0</td>\n",
       "      <td>0</td>\n",
       "      <td>...</td>\n",
       "      <td>0</td>\n",
       "      <td>0</td>\n",
       "      <td>0</td>\n",
       "      <td>0</td>\n",
       "      <td>0</td>\n",
       "      <td>0</td>\n",
       "      <td>0</td>\n",
       "      <td>0</td>\n",
       "      <td>0</td>\n",
       "      <td>0</td>\n",
       "    </tr>\n",
       "    <tr>\n",
       "      <th>3</th>\n",
       "      <td>Sandal</td>\n",
       "      <td>0</td>\n",
       "      <td>0</td>\n",
       "      <td>0</td>\n",
       "      <td>0</td>\n",
       "      <td>0</td>\n",
       "      <td>0</td>\n",
       "      <td>0</td>\n",
       "      <td>0</td>\n",
       "      <td>0</td>\n",
       "      <td>...</td>\n",
       "      <td>0</td>\n",
       "      <td>0</td>\n",
       "      <td>0</td>\n",
       "      <td>0</td>\n",
       "      <td>0</td>\n",
       "      <td>0</td>\n",
       "      <td>0</td>\n",
       "      <td>0</td>\n",
       "      <td>0</td>\n",
       "      <td>0</td>\n",
       "    </tr>\n",
       "    <tr>\n",
       "      <th>4</th>\n",
       "      <td>Bag</td>\n",
       "      <td>0</td>\n",
       "      <td>0</td>\n",
       "      <td>0</td>\n",
       "      <td>0</td>\n",
       "      <td>0</td>\n",
       "      <td>0</td>\n",
       "      <td>0</td>\n",
       "      <td>0</td>\n",
       "      <td>0</td>\n",
       "      <td>...</td>\n",
       "      <td>0</td>\n",
       "      <td>0</td>\n",
       "      <td>0</td>\n",
       "      <td>0</td>\n",
       "      <td>0</td>\n",
       "      <td>0</td>\n",
       "      <td>0</td>\n",
       "      <td>0</td>\n",
       "      <td>0</td>\n",
       "      <td>0</td>\n",
       "    </tr>\n",
       "  </tbody>\n",
       "</table>\n",
       "<p>5 rows × 785 columns</p>\n",
       "</div>"
      ],
      "text/plain": [
       "      label  pixel1  pixel2  pixel3  pixel4  pixel5  pixel6  pixel7  pixel8  \\\n",
       "0     Dress       0       0       0       0       0       0       0       0   \n",
       "1     Shirt       0       0       0       0       0       0       0       0   \n",
       "2  Trousers       0       0       0       0       0       0       0       0   \n",
       "3    Sandal       0       0       0       0       0       0       0       0   \n",
       "4       Bag       0       0       0       0       0       0       0       0   \n",
       "\n",
       "   pixel9  ...  pixel775  pixel776  pixel777  pixel778  pixel779  pixel780  \\\n",
       "0       0  ...       162       176       128         0         0         0   \n",
       "1       0  ...       117        57         0         0         0         0   \n",
       "2       0  ...         0         0         0         0         0         0   \n",
       "3       0  ...         0         0         0         0         0         0   \n",
       "4       0  ...         0         0         0         0         0         0   \n",
       "\n",
       "   pixel781  pixel782  pixel783  pixel784  \n",
       "0         0         0         0         0  \n",
       "1         0         0         0         0  \n",
       "2         0         0         0         0  \n",
       "3         0         0         0         0  \n",
       "4         0         0         0         0  \n",
       "\n",
       "[5 rows x 785 columns]"
      ]
     },
     "execution_count": 2,
     "metadata": {},
     "output_type": "execute_result"
    }
   ],
   "source": [
    "df = pd.read_csv('fashion_mnist_sample.csv')\n",
    "df.head()"
   ]
  },
  {
   "cell_type": "code",
   "execution_count": 3,
   "metadata": {},
   "outputs": [],
   "source": [
    "X = df.iloc[:, 1:]/255\n",
    "df_scaled = X.copy()\n",
    "df_scaled[\"label\"] = df.label"
   ]
  },
  {
   "cell_type": "markdown",
   "metadata": {},
   "source": [
    "#### 1.1.2. Original Pixel Means\n",
    "\n",
    "Calculate the mean of each of the 784 pixels. Save these 784 pixel means as an numpy array object.\n",
    "\n",
    "**Hint:** you can convert a pandas series to a numpy array by using **np.array( pandas_series)**. "
   ]
  },
  {
   "cell_type": "code",
   "execution_count": 12,
   "metadata": {},
   "outputs": [
    {
     "data": {
      "text/plain": [
       "array([0.00000000e+00, 0.00000000e+00, 7.05882353e-05, 1.41176471e-04,\n",
       "       1.49019608e-04])"
      ]
     },
     "execution_count": 12,
     "metadata": {},
     "output_type": "execute_result"
    }
   ],
   "source": [
    "mean_list = np.array(df_scaled.iloc[:, :-1].mean())\n",
    "mean_list[:5]"
   ]
  },
  {
   "cell_type": "markdown",
   "metadata": {},
   "source": [
    "### 1.2. Mean Scaling\n",
    "\n",
    "Next, mean-scale your dataset and save it as a new dataframe."
   ]
  },
  {
   "cell_type": "code",
   "execution_count": 14,
   "metadata": {},
   "outputs": [
    {
     "data": {
      "text/plain": [
       "array([[ 0.00000000e+00,  0.00000000e+00, -7.05882353e-05, ...,\n",
       "        -8.47058824e-03, -3.99215686e-03, -7.84313725e-04],\n",
       "       [ 0.00000000e+00,  0.00000000e+00, -7.05882353e-05, ...,\n",
       "        -8.47058824e-03, -3.99215686e-03, -7.84313725e-04],\n",
       "       [ 0.00000000e+00,  0.00000000e+00, -7.05882353e-05, ...,\n",
       "        -8.47058824e-03, -3.99215686e-03, -7.84313725e-04],\n",
       "       ...,\n",
       "       [ 0.00000000e+00,  0.00000000e+00, -7.05882353e-05, ...,\n",
       "        -8.47058824e-03, -3.99215686e-03, -7.84313725e-04],\n",
       "       [ 0.00000000e+00,  0.00000000e+00, -7.05882353e-05, ...,\n",
       "        -8.47058824e-03, -3.99215686e-03, -7.84313725e-04],\n",
       "       [ 0.00000000e+00,  0.00000000e+00, -7.05882353e-05, ...,\n",
       "        -8.47058824e-03, -3.99215686e-03, -7.84313725e-04]])"
      ]
     },
     "execution_count": 14,
     "metadata": {},
     "output_type": "execute_result"
    }
   ],
   "source": [
    "X = StandardScaler(with_std=False).fit_transform(X)\n",
    "X"
   ]
  },
  {
   "cell_type": "markdown",
   "metadata": {},
   "source": [
    "Checking if the mean is zero"
   ]
  },
  {
   "cell_type": "code",
   "execution_count": 17,
   "metadata": {},
   "outputs": [
    {
     "data": {
      "text/plain": [
       "0.0"
      ]
     },
     "execution_count": 17,
     "metadata": {},
     "output_type": "execute_result"
    }
   ],
   "source": [
    "np.sum(np.round(np.mean(X,axis=0), 2))"
   ]
  },
  {
   "cell_type": "markdown",
   "metadata": {},
   "source": [
    "## 2. Descriptive Analytics\n",
    "\n",
    "### 2.1. Pixel Variability\n",
    "\n",
    "First, calculate the variance of each of the 784 pixels in your mean-scaled dataset. Display these 784 variances in a histogram."
   ]
  },
  {
   "cell_type": "code",
   "execution_count": 20,
   "metadata": {},
   "outputs": [
    {
     "name": "stdout",
     "output_type": "stream",
     "text": [
      "(784, 784)\n"
     ]
    },
    {
     "data": {
      "text/html": [
       "<div>\n",
       "<style scoped>\n",
       "    .dataframe tbody tr th:only-of-type {\n",
       "        vertical-align: middle;\n",
       "    }\n",
       "\n",
       "    .dataframe tbody tr th {\n",
       "        vertical-align: top;\n",
       "    }\n",
       "\n",
       "    .dataframe thead th {\n",
       "        text-align: right;\n",
       "    }\n",
       "</style>\n",
       "<table border=\"1\" class=\"dataframe\">\n",
       "  <thead>\n",
       "    <tr style=\"text-align: right;\">\n",
       "      <th></th>\n",
       "      <th>pixel 0</th>\n",
       "      <th>pixel 1</th>\n",
       "      <th>pixel 2</th>\n",
       "      <th>pixel 3</th>\n",
       "      <th>pixel 4</th>\n",
       "      <th>pixel 5</th>\n",
       "      <th>pixel 6</th>\n",
       "      <th>pixel 7</th>\n",
       "      <th>pixel 8</th>\n",
       "      <th>pixel 9</th>\n",
       "      <th>...</th>\n",
       "      <th>pixel 774</th>\n",
       "      <th>pixel 775</th>\n",
       "      <th>pixel 776</th>\n",
       "      <th>pixel 777</th>\n",
       "      <th>pixel 778</th>\n",
       "      <th>pixel 779</th>\n",
       "      <th>pixel 780</th>\n",
       "      <th>pixel 781</th>\n",
       "      <th>pixel 782</th>\n",
       "      <th>pixel 783</th>\n",
       "    </tr>\n",
       "  </thead>\n",
       "  <tbody>\n",
       "    <tr>\n",
       "      <th>pixel 0</th>\n",
       "      <td>0.0</td>\n",
       "      <td>0.0</td>\n",
       "      <td>0.000000e+00</td>\n",
       "      <td>0.000000e+00</td>\n",
       "      <td>0.000000e+00</td>\n",
       "      <td>0.000000e+00</td>\n",
       "      <td>0.000000e+00</td>\n",
       "      <td>0.000000e+00</td>\n",
       "      <td>0.000000e+00</td>\n",
       "      <td>0.000000</td>\n",
       "      <td>...</td>\n",
       "      <td>0.000000</td>\n",
       "      <td>0.000000</td>\n",
       "      <td>0.000000</td>\n",
       "      <td>0.000000</td>\n",
       "      <td>0.000000e+00</td>\n",
       "      <td>0.000000e+00</td>\n",
       "      <td>0.000000e+00</td>\n",
       "      <td>0.000000e+00</td>\n",
       "      <td>0.000000e+00</td>\n",
       "      <td>0.000000e+00</td>\n",
       "    </tr>\n",
       "    <tr>\n",
       "      <th>pixel 1</th>\n",
       "      <td>0.0</td>\n",
       "      <td>0.0</td>\n",
       "      <td>0.000000e+00</td>\n",
       "      <td>0.000000e+00</td>\n",
       "      <td>0.000000e+00</td>\n",
       "      <td>0.000000e+00</td>\n",
       "      <td>0.000000e+00</td>\n",
       "      <td>0.000000e+00</td>\n",
       "      <td>0.000000e+00</td>\n",
       "      <td>0.000000</td>\n",
       "      <td>...</td>\n",
       "      <td>0.000000</td>\n",
       "      <td>0.000000</td>\n",
       "      <td>0.000000</td>\n",
       "      <td>0.000000</td>\n",
       "      <td>0.000000e+00</td>\n",
       "      <td>0.000000e+00</td>\n",
       "      <td>0.000000e+00</td>\n",
       "      <td>0.000000e+00</td>\n",
       "      <td>0.000000e+00</td>\n",
       "      <td>0.000000e+00</td>\n",
       "    </tr>\n",
       "    <tr>\n",
       "      <th>pixel 2</th>\n",
       "      <td>0.0</td>\n",
       "      <td>0.0</td>\n",
       "      <td>6.422071e-07</td>\n",
       "      <td>1.441098e-07</td>\n",
       "      <td>2.027893e-08</td>\n",
       "      <td>7.223983e-08</td>\n",
       "      <td>-1.594577e-07</td>\n",
       "      <td>-7.389173e-07</td>\n",
       "      <td>-2.696666e-07</td>\n",
       "      <td>0.000005</td>\n",
       "      <td>...</td>\n",
       "      <td>0.000021</td>\n",
       "      <td>0.000021</td>\n",
       "      <td>0.000022</td>\n",
       "      <td>0.000033</td>\n",
       "      <td>-1.678405e-07</td>\n",
       "      <td>1.579784e-07</td>\n",
       "      <td>2.556932e-06</td>\n",
       "      <td>8.493727e-07</td>\n",
       "      <td>-2.515450e-07</td>\n",
       "      <td>-5.547427e-08</td>\n",
       "    </tr>\n",
       "    <tr>\n",
       "      <th>pixel 3</th>\n",
       "      <td>0.0</td>\n",
       "      <td>0.0</td>\n",
       "      <td>1.441098e-07</td>\n",
       "      <td>1.027877e-06</td>\n",
       "      <td>3.795673e-07</td>\n",
       "      <td>1.752987e-07</td>\n",
       "      <td>-3.189154e-07</td>\n",
       "      <td>-7.381776e-07</td>\n",
       "      <td>8.552283e-06</td>\n",
       "      <td>0.000023</td>\n",
       "      <td>...</td>\n",
       "      <td>0.000015</td>\n",
       "      <td>0.000007</td>\n",
       "      <td>0.000012</td>\n",
       "      <td>0.000004</td>\n",
       "      <td>-2.092366e-06</td>\n",
       "      <td>9.407573e-06</td>\n",
       "      <td>9.582625e-06</td>\n",
       "      <td>1.082365e-06</td>\n",
       "      <td>-5.647281e-07</td>\n",
       "      <td>-1.109485e-07</td>\n",
       "    </tr>\n",
       "    <tr>\n",
       "      <th>pixel 4</th>\n",
       "      <td>0.0</td>\n",
       "      <td>0.0</td>\n",
       "      <td>2.027893e-08</td>\n",
       "      <td>3.795673e-07</td>\n",
       "      <td>8.098627e-07</td>\n",
       "      <td>1.079899e-07</td>\n",
       "      <td>-6.268593e-08</td>\n",
       "      <td>2.508177e-06</td>\n",
       "      <td>1.651130e-05</td>\n",
       "      <td>0.000022</td>\n",
       "      <td>...</td>\n",
       "      <td>0.000023</td>\n",
       "      <td>0.000016</td>\n",
       "      <td>0.000015</td>\n",
       "      <td>0.000003</td>\n",
       "      <td>-4.573114e-06</td>\n",
       "      <td>-2.999925e-07</td>\n",
       "      <td>4.840438e-07</td>\n",
       "      <td>-6.287084e-08</td>\n",
       "      <td>-5.961019e-07</td>\n",
       "      <td>-1.171123e-07</td>\n",
       "    </tr>\n",
       "  </tbody>\n",
       "</table>\n",
       "<p>5 rows × 784 columns</p>\n",
       "</div>"
      ],
      "text/plain": [
       "         pixel 0  pixel 1       pixel 2       pixel 3       pixel 4  \\\n",
       "pixel 0      0.0      0.0  0.000000e+00  0.000000e+00  0.000000e+00   \n",
       "pixel 1      0.0      0.0  0.000000e+00  0.000000e+00  0.000000e+00   \n",
       "pixel 2      0.0      0.0  6.422071e-07  1.441098e-07  2.027893e-08   \n",
       "pixel 3      0.0      0.0  1.441098e-07  1.027877e-06  3.795673e-07   \n",
       "pixel 4      0.0      0.0  2.027893e-08  3.795673e-07  8.098627e-07   \n",
       "\n",
       "              pixel 5       pixel 6       pixel 7       pixel 8   pixel 9  \\\n",
       "pixel 0  0.000000e+00  0.000000e+00  0.000000e+00  0.000000e+00  0.000000   \n",
       "pixel 1  0.000000e+00  0.000000e+00  0.000000e+00  0.000000e+00  0.000000   \n",
       "pixel 2  7.223983e-08 -1.594577e-07 -7.389173e-07 -2.696666e-07  0.000005   \n",
       "pixel 3  1.752987e-07 -3.189154e-07 -7.381776e-07  8.552283e-06  0.000023   \n",
       "pixel 4  1.079899e-07 -6.268593e-08  2.508177e-06  1.651130e-05  0.000022   \n",
       "\n",
       "         ...  pixel 774  pixel 775  pixel 776  pixel 777     pixel 778  \\\n",
       "pixel 0  ...   0.000000   0.000000   0.000000   0.000000  0.000000e+00   \n",
       "pixel 1  ...   0.000000   0.000000   0.000000   0.000000  0.000000e+00   \n",
       "pixel 2  ...   0.000021   0.000021   0.000022   0.000033 -1.678405e-07   \n",
       "pixel 3  ...   0.000015   0.000007   0.000012   0.000004 -2.092366e-06   \n",
       "pixel 4  ...   0.000023   0.000016   0.000015   0.000003 -4.573114e-06   \n",
       "\n",
       "            pixel 779     pixel 780     pixel 781     pixel 782     pixel 783  \n",
       "pixel 0  0.000000e+00  0.000000e+00  0.000000e+00  0.000000e+00  0.000000e+00  \n",
       "pixel 1  0.000000e+00  0.000000e+00  0.000000e+00  0.000000e+00  0.000000e+00  \n",
       "pixel 2  1.579784e-07  2.556932e-06  8.493727e-07 -2.515450e-07 -5.547427e-08  \n",
       "pixel 3  9.407573e-06  9.582625e-06  1.082365e-06 -5.647281e-07 -1.109485e-07  \n",
       "pixel 4 -2.999925e-07  4.840438e-07 -6.287084e-08 -5.961019e-07 -1.171123e-07  \n",
       "\n",
       "[5 rows x 784 columns]"
      ]
     },
     "execution_count": 20,
     "metadata": {},
     "output_type": "execute_result"
    }
   ],
   "source": [
    "#Note you want to transpose X\n",
    "C = np.cov(X.T)\n",
    "print(np.shape(C))\n",
    "\n",
    "df_covariance=pd.DataFrame(C, columns=['pixel '+str(i) for i in range(0,784)], index=['pixel '+str(i) for i in range(0,784)])\n",
    "df_covariance.head()"
   ]
  },
  {
   "cell_type": "code",
   "execution_count": 24,
   "metadata": {},
   "outputs": [
    {
     "data": {
      "image/png": "[encoded data removed]",
      "text/plain": [
       "<Figure size 576x396 with 1 Axes>"
      ]
     },
     "metadata": {},
     "output_type": "display_data"
    }
   ],
   "source": [
    "plt.hist(np.diag(C))\n",
    "plt.show()"
   ]
  },
  {
   "cell_type": "markdown",
   "metadata": {},
   "source": [
    "### 2.2. Total Pixel Variance\n",
    "\n",
    "Calculate the sum of all of the pixel variances."
   ]
  },
  {
   "cell_type": "code",
   "execution_count": 25,
   "metadata": {},
   "outputs": [
    {
     "data": {
      "text/plain": [
       "68.99745631603076"
      ]
     },
     "execution_count": 25,
     "metadata": {},
     "output_type": "execute_result"
    }
   ],
   "source": [
    "np.sum(np.diag(C))"
   ]
  },
  {
   "cell_type": "markdown",
   "metadata": {},
   "source": [
    "## 3. Selecting the Number of Principal Components\n",
    "\n",
    "In this case study, we would like to use PCA to learn more about what pixel relationships in the images account for the most (second most, third most, etc) amount of variance in the mean-scaled dataset. In addition, we would like to preserve as much of the mean-scaled pixel variance as possible while keeping the number of principal components that we use relatively low.\n",
    "\n",
    "\n",
    "### 3.1. Percent of Total Original Pixel Variance\n",
    "\n",
    "First, create a plot below that plots the following:\n",
    "* on the x-axis is k = number of principal components used in a PCA\n",
    "* on the y-axis is the percent of total (mean-scaled) original pixel variance that would be preserved by using the corresponding k principal components."
   ]
  },
  {
   "cell_type": "code",
   "execution_count": 28,
   "metadata": {},
   "outputs": [
    {
     "name": "stdout",
     "output_type": "stream",
     "text": [
      "Eigenvalues of the the Covariance Matrix\n",
      "[20.3  +0.j 12.423+0.j  4.058+0.j  3.598+0.j  2.581+0.j]\n",
      "Sorted Eigenvalues of the Covariance Matrix\n",
      "[20.3  +0.j 12.423+0.j  4.058+0.j  3.598+0.j  2.581+0.j]\n",
      "Eigenvectors of the Covariance Matrix (sorted by the order of their corresponding eigenvalues)\n",
      "Eigenvectors of the the Covariance Matrix\n",
      "[[ 0.00000000e+00+0.j  0.00000000e+00+0.j  0.00000000e+00+0.j ...\n",
      "   0.00000000e+00+0.j  0.00000000e+00+0.j  0.00000000e+00+0.j]\n",
      " [ 0.00000000e+00+0.j  0.00000000e+00+0.j  0.00000000e+00+0.j ...\n",
      "   1.00000000e+00+0.j  0.00000000e+00+0.j  0.00000000e+00+0.j]\n",
      " [ 1.25577188e-05+0.j -1.82835807e-07+0.j -2.91192419e-05+0.j ...\n",
      "   0.00000000e+00+0.j  0.00000000e+00+0.j  0.00000000e+00+0.j]\n",
      " ...\n",
      " [-8.11242858e-03+0.j  8.69908042e-03+0.j  7.41857773e-03+0.j ...\n",
      "   0.00000000e+00+0.j  0.00000000e+00+0.j  0.00000000e+00+0.j]\n",
      " [-4.11038791e-02+0.j  5.49439430e-02+0.j  5.45241187e-02+0.j ...\n",
      "   0.00000000e+00+0.j  0.00000000e+00+0.j  0.00000000e+00+0.j]\n",
      " [-1.51546297e-02+0.j  8.37723467e-02+0.j -1.97788819e-03+0.j ...\n",
      "   0.00000000e+00+0.j  0.00000000e+00+0.j  0.00000000e+00+0.j]]\n"
     ]
    }
   ],
   "source": [
    "l, v = np.linalg.eig(C)\n",
    "print('Eigenvalues of the the Covariance Matrix')\n",
    "print(np.round(l[:5],3))\n",
    "\n",
    "print('Sorted Eigenvalues of the Covariance Matrix')\n",
    "l_sort=np.sort(l)[::-1]\n",
    "print(np.round(l_sort[:5],3))\n",
    "\n",
    "sort_order=np.argsort(l)[::-1]\n",
    "\n",
    "print('Eigenvectors of the Covariance Matrix (sorted by the order of their corresponding eigenvalues)')\n",
    "print('Eigenvectors of the the Covariance Matrix')\n",
    "print(v[sort_order])"
   ]
  },
  {
   "cell_type": "code",
   "execution_count": 31,
   "metadata": {
    "scrolled": true
   },
   "outputs": [
    {
     "data": {
      "text/plain": [
       "(68.9975+0j)"
      ]
     },
     "execution_count": 31,
     "metadata": {},
     "output_type": "execute_result"
    }
   ],
   "source": [
    "np.round(np.sum(l_sort),4)"
   ]
  },
  {
   "cell_type": "code",
   "execution_count": 66,
   "metadata": {},
   "outputs": [
    {
     "data": {
      "image/png": "[encoded data removed]",
      "text/plain": [
       "<Figure size 576x396 with 1 Axes>"
      ]
     },
     "metadata": {},
     "output_type": "display_data"
    }
   ],
   "source": [
    "x = np.arange(1, 785, 1)\n",
    "y = l_sort*100/np.sum(l_sort)\n",
    "plt.plot(x[:150],y[:150])\n",
    "plt.scatter(x[:150], y[:150], c='r', s=15)\n",
    "plt.xlabel('number of principle components')\n",
    "plt.ylabel('percentage variation explained')\n",
    "plt.show()"
   ]
  },
  {
   "cell_type": "markdown",
   "metadata": {},
   "source": [
    "<font color='orange'> I have used only 150 PCAs to show in the graph as beyong 150 its a straight line and 150 shows us how initial few PCAs are important."
   ]
  },
  {
   "cell_type": "markdown",
   "metadata": {},
   "source": [
    "### 3.2. How many principal components to use?\n",
    "\n",
    "Suppowe we know that we would like for at least 80% of the original pixel variance to preserved in our principal components. What is the minimum number of principal components what we would need to use in order for our principal components to preserve at least 80% of the original (mean-scaled) total pixel variance?"
   ]
  },
  {
   "cell_type": "code",
   "execution_count": 54,
   "metadata": {},
   "outputs": [
    {
     "data": {
      "text/plain": [
       "20"
      ]
     },
     "execution_count": 54,
     "metadata": {},
     "output_type": "execute_result"
    }
   ],
   "source": [
    "number_of_PCAs_for_explaining_80_percent_variation = 0\n",
    "\n",
    "varSum = 0\n",
    "for i in y:\n",
    "    if varSum<80:\n",
    "        varSum+=i\n",
    "        number_of_PCAs_for_explaining_80_percent_variation+= 1\n",
    "    else:\n",
    "        break\n",
    "        \n",
    "number_of_PCAs_for_explaining_80_percent_variation"
   ]
  },
  {
   "cell_type": "code",
   "execution_count": 55,
   "metadata": {},
   "outputs": [],
   "source": [
    "varSum = 0\n",
    "cumulative_sum = []\n",
    "for i in y:\n",
    "    if varSum<98:\n",
    "        varSum+=i\n",
    "        cumulative_sum.append(varSum)\n",
    "    else:\n",
    "        break"
   ]
  },
  {
   "cell_type": "code",
   "execution_count": 65,
   "metadata": {},
   "outputs": [
    {
     "data": {
      "image/png": "[encoded data removed]",
      "text/plain": [
       "<Figure size 576x396 with 1 Axes>"
      ]
     },
     "metadata": {},
     "output_type": "display_data"
    }
   ],
   "source": [
    "plt.scatter(x=np.arange(1,len(cumulative_sum)+1,1), y=cumulative_sum, s=10, c='0')\n",
    "plt.axvline(x=20)\n",
    "plt.xlabel('number of principle components')\n",
    "plt.ylabel('percentage cumulative variation explained')\n",
    "plt.show()"
   ]
  },
  {
   "cell_type": "markdown",
   "metadata": {},
   "source": [
    "- We will need 20 principle components in order to explain 80% of the variation."
   ]
  },
  {
   "cell_type": "markdown",
   "metadata": {},
   "source": [
    "## 4. PCA\n",
    "\n",
    "### 4.1. Performing PCA\n",
    "\n",
    "Using $k$, the number of principal components that you selected in #3.2, project your mean-scaled pixel dataset onto $k$ principal components.\n",
    "\n",
    "Use a random state of 100."
   ]
  },
  {
   "cell_type": "code",
   "execution_count": null,
   "metadata": {},
   "outputs": [],
   "source": []
  },
  {
   "cell_type": "markdown",
   "metadata": {},
   "source": [
    "### 4.2. Pixel Relationships in the Loading Vectors\n",
    "\n",
    "#### 4.2.1. Without Re-Adding the Pixel Means\n",
    "\n",
    "Next, visualize each of the $k$ loading vectors in a 28-by-28 pixel image. In 4.2.1 we would like to visualize each loading vector just as they are (without re-adding the pixel means)."
   ]
  },
  {
   "cell_type": "code",
   "execution_count": null,
   "metadata": {},
   "outputs": [],
   "source": []
  },
  {
   "cell_type": "markdown",
   "metadata": {},
   "source": [
    "#### 4.2.2. Re-Adding the Pixel Means\n",
    "\n",
    "Next, add your saved pixel means (from 1.1.2) to each of the loading vectors. Then visualize each of these \"mean-added\" $k$ loading vectors in the 28-by-28 pixel image."
   ]
  },
  {
   "cell_type": "code",
   "execution_count": null,
   "metadata": {},
   "outputs": [],
   "source": []
  },
  {
   "cell_type": "code",
   "execution_count": null,
   "metadata": {},
   "outputs": [],
   "source": []
  },
  {
   "cell_type": "markdown",
   "metadata": {},
   "source": [
    "#### 4.2.3. Interpretation\n",
    "\n",
    "What you might have noticed is that the images in 4.2.1 have much more visible variation, distinctness, and interpretability than the images in 4.2.2.\n",
    "\n",
    "Explore the numerical values in the vectors that we visualized above in 4.2.1 and 4.2.2 and figure out why this happened."
   ]
  },
  {
   "cell_type": "markdown",
   "metadata": {},
   "source": []
  },
  {
   "cell_type": "code",
   "execution_count": null,
   "metadata": {
    "scrolled": true
   },
   "outputs": [],
   "source": []
  },
  {
   "cell_type": "code",
   "execution_count": null,
   "metadata": {
    "scrolled": true
   },
   "outputs": [],
   "source": []
  },
  {
   "cell_type": "markdown",
   "metadata": {},
   "source": [
    "### 4.3. Analyzing Principal Component Coordinates\n",
    "\n",
    "#### 4.3.1. First Two Principal Components\n",
    "Next, plot your first two principal component attributes in a scatterplot. Color-code the points in your scatterplot by the fashion item labels."
   ]
  },
  {
   "cell_type": "code",
   "execution_count": null,
   "metadata": {},
   "outputs": [],
   "source": []
  },
  {
   "cell_type": "code",
   "execution_count": null,
   "metadata": {},
   "outputs": [],
   "source": []
  },
  {
   "cell_type": "markdown",
   "metadata": {},
   "source": [
    "#### 4.3.2. Third and Fourth Principal Components\n",
    "Next, plot the third and fourth principal component attributes in a scatterplot. Color-code the points in your scatterplot by the fashion item labels."
   ]
  },
  {
   "cell_type": "code",
   "execution_count": null,
   "metadata": {},
   "outputs": [],
   "source": []
  },
  {
   "cell_type": "markdown",
   "metadata": {},
   "source": [
    "#### 4.3.3. Boxplots of Principal Component Values\n",
    "\n",
    "* Create a side-by-side boxplot plot, plotting the principal component 1 value for each of the 10 fashion items.\n",
    "* Create a side-by-side boxplot plot, plotting the principal component 2 value for each of the 10 fashion items.\n",
    "* Create a side-by-side boxplot plot, plotting the principal component 3 value for each of the 10 fashion items."
   ]
  },
  {
   "cell_type": "code",
   "execution_count": null,
   "metadata": {},
   "outputs": [],
   "source": []
  },
  {
   "cell_type": "code",
   "execution_count": null,
   "metadata": {},
   "outputs": [],
   "source": []
  },
  {
   "cell_type": "code",
   "execution_count": null,
   "metadata": {},
   "outputs": [],
   "source": []
  },
  {
   "cell_type": "markdown",
   "metadata": {},
   "source": [
    "### 4.4. Principal Component 1 Interpretation\n",
    "\n",
    "Use your results from 4.3 and 4.2.1 to answer the following questions below. You may also need to rely on prior knowledge of what each of these fashion items looks like. In assignment 6 we visualized a handful of each type of fashion item).\n",
    "\n",
    "1.  What kind of fashion items have the highest positive median principal component 1 values? Give 2.\n",
    "1.  What kind of fashion items have the highest negative median principal component 1 values? Give 3.\n",
    "3.  What kind of fashion items have the lowest magnitude median principal component 1 values? Give 2.\n",
    "4.  Describe the pixel relationship that accounts for the *most* amount of image variability in this dataset."
   ]
  },
  {
   "cell_type": "markdown",
   "metadata": {},
   "source": []
  },
  {
   "cell_type": "markdown",
   "metadata": {},
   "source": [
    "### 4.5. Principal Component 2 Interpretation\n",
    "\n",
    "Use your results from 4.3 and 4.2.1 to answer the following questions below. You may also need to rely on prior knowledge of what each of these fashion items looks like. In assignment 6 we visualized a handful of each type of fashion item).\n",
    "\n",
    "1.  What kind of fashion items have the highest positive median principal component 2 values? Give 2.\n",
    "2.  What kind of fashion items have the highest negative median principal component 2 values? Give 2.\n",
    "3.  What kind of fashion items have the lowest magnitude median principal component 2 values? Give 2.\n",
    "4.  Describe the pixel relationship that accounts for the *second* most amount of image variability in this dataset."
   ]
  },
  {
   "cell_type": "markdown",
   "metadata": {},
   "source": []
  },
  {
   "cell_type": "markdown",
   "metadata": {},
   "source": [
    "### 4.6. Principal Component 3 Interpretation\n",
    "\n",
    "Use your results from 4.3 and 4.2.1 to answer the following questions below. You may also need to rely on prior knowledge of what each of these fashion items looks like. In assignment 6 we visualized a handful of each type of fashion item).\n",
    "\n",
    "1.  What kind of fashion items have the highest positive median principal component 3 values? Give 2.\n",
    "2.  What kind of fashion items have the highest negative median principal component 3 values? Give 1.\n",
    "3.  Describe the pixel relationship that accounts for the *third* most amount of image variability in this dataset."
   ]
  },
  {
   "cell_type": "markdown",
   "metadata": {},
   "source": []
  },
  {
   "cell_type": "markdown",
   "metadata": {},
   "source": [
    "### 4.7. The Variability of Sandals... Again &#128514;\n",
    "\n",
    "#### 4.7.1. High and Low Principal Component 1 Values for Sandals\n",
    "\n",
    "Finally, visualize the image of the sandal that has the highest magnitude value for principal component 1. Then visualize the image of the sandal that has the lowest magnitude value for principal component 1."
   ]
  },
  {
   "cell_type": "markdown",
   "metadata": {},
   "source": []
  },
  {
   "cell_type": "code",
   "execution_count": null,
   "metadata": {},
   "outputs": [],
   "source": []
  },
  {
   "cell_type": "code",
   "execution_count": null,
   "metadata": {},
   "outputs": [],
   "source": []
  },
  {
   "cell_type": "code",
   "execution_count": null,
   "metadata": {},
   "outputs": [],
   "source": []
  },
  {
   "cell_type": "markdown",
   "metadata": {},
   "source": [
    "#### 4.7.2. Interpretation\n",
    "\n",
    "Why do we think image with the higher principal component 1 magnitude was given a mucher higher value than the other sandal image that we looked at?"
   ]
  },
  {
   "cell_type": "markdown",
   "metadata": {},
   "source": []
  },
  {
   "cell_type": "markdown",
   "metadata": {},
   "source": [
    "## 5. Double Checking Desired PCA Properties\n",
    "\n",
    "### 5.1. Attribute Variances\n",
    "\n",
    "Calculate the variances of your k principal components."
   ]
  },
  {
   "cell_type": "code",
   "execution_count": null,
   "metadata": {},
   "outputs": [],
   "source": []
  },
  {
   "cell_type": "markdown",
   "metadata": {},
   "source": [
    "### 5.2. Percent of Total Pixel Variance\n",
    "\n",
    "Calculate the the sum of the principal component variances. Then divide this value by the total pixel attribute variance from 2.2."
   ]
  },
  {
   "cell_type": "code",
   "execution_count": null,
   "metadata": {},
   "outputs": [],
   "source": []
  },
  {
   "cell_type": "markdown",
   "metadata": {},
   "source": [
    "### 5.3. Covariance Matrix\n",
    "\n",
    "Finally, calculate the covariance matrix of your principal components."
   ]
  },
  {
   "cell_type": "code",
   "execution_count": null,
   "metadata": {},
   "outputs": [],
   "source": []
  }
 ],
 "metadata": {
  "kernelspec": {
   "display_name": "Python 3",
   "language": "python",
   "name": "python3"
  },
  "language_info": {
   "codemirror_mode": {
    "name": "ipython",
    "version": 3
   },
   "file_extension": ".py",
   "mimetype": "text/x-python",
   "name": "python",
   "nbconvert_exporter": "python",
   "pygments_lexer": "ipython3",
   "version": "3.8.5"
  }
 },
 "nbformat": 4,
 "nbformat_minor": 4
}
