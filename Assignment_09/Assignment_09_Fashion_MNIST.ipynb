{
 "cells": [
  {
   "cell_type": "markdown",
   "metadata": {},
   "source": [
    "# Assignment 9 - [30 points] Solutions\n",
    "\n",
    "## <u>Case Study 1</u>: Fashion MNIST Dataset Principal Component Analysis for Quick Summarization\n",
    "\n",
    "In this analysis, we will continue our exploration of the same random sample of the \"Fashion MNIST\" dataset. *As a reminder, this dataset is comprised of 500 28-by-28 pixel images of fashion items. Each of the 784 image pixels is represented by a numerical gray scale value which can range from 0 (black) to 255 (white). Each object has an associated pre-assigned class label, which corresponds to the fashion item that the image is a picture of. The 10 types of fashion items included in this dataset are: Pullover, Sandal, Bag, Ankle boot, Coat, Shirt, T-shirt/top, Sneaker, Dress, and Trousers.*\n",
    "\n",
    "### <u>Research Goals</u>:\n",
    "\n",
    "In this analysis, we have the following research goals.\n",
    "\n",
    "#### Pixel Relationships that Describe the Most Amount of Variance in the Dataset\n",
    "\n",
    "First, we would like to determine which pixel relationships describe the most amount of variance in the dataset. We will use the loading vectors from our PCA to determine this.\n",
    "\n",
    "#### Quick Summarization of the Images\n",
    "\n",
    "Next, we will use the loading vectors and the principal component coordinates of the objects to quickly summarize each of of the 500 objects in the dataset.\n"
   ]
  },
  {
   "cell_type": "code",
   "execution_count": null,
   "metadata": {},
   "outputs": [],
   "source": [
    "\n"
   ]
  },
  {
   "cell_type": "markdown",
   "metadata": {},
   "source": [
    "## 1. Data Preprocessing and Cleaning\n",
    "\n",
    "### 1.1. Before Mean Scaling\n",
    "\n",
    "#### 1.1.1. Original Dataset\n",
    "First, read the fashion_mnist_sample.csv into a dataframe. Then make a copy of this dataset that has dropped the pre-assigned class labels and has divided each of the values in this dataframe by 255. "
   ]
  },
  {
   "cell_type": "code",
   "execution_count": null,
   "metadata": {},
   "outputs": [],
   "source": []
  },
  {
   "cell_type": "code",
   "execution_count": null,
   "metadata": {},
   "outputs": [],
   "source": []
  },
  {
   "cell_type": "markdown",
   "metadata": {},
   "source": [
    "#### 1.1.2. Original Pixel Means\n",
    "\n",
    "Calculate the mean of each of the 784 pixels. Save these 784 pixel means as an numpy array object.\n",
    "\n",
    "**Hint:** you can convert a pandas series to a numpy array by using **np.array( pandas_series)**. "
   ]
  },
  {
   "cell_type": "code",
   "execution_count": null,
   "metadata": {},
   "outputs": [],
   "source": []
  },
  {
   "cell_type": "code",
   "execution_count": null,
   "metadata": {},
   "outputs": [],
   "source": []
  },
  {
   "cell_type": "markdown",
   "metadata": {},
   "source": [
    "### 1.2. Mean Scaling\n",
    "\n",
    "Next, mean-scale your dataset and save it as a new dataframe."
   ]
  },
  {
   "cell_type": "code",
   "execution_count": null,
   "metadata": {},
   "outputs": [],
   "source": []
  },
  {
   "cell_type": "markdown",
   "metadata": {},
   "source": [
    "## 2. Descriptive Analytics\n",
    "\n",
    "### 2.1. Pixel Variability\n",
    "\n",
    "First, calculate the variance of each of the 784 pixels in your mean-scaled dataset. Display these 784 variances in a histogram."
   ]
  },
  {
   "cell_type": "code",
   "execution_count": null,
   "metadata": {},
   "outputs": [],
   "source": []
  },
  {
   "cell_type": "code",
   "execution_count": null,
   "metadata": {},
   "outputs": [],
   "source": []
  },
  {
   "cell_type": "markdown",
   "metadata": {},
   "source": [
    "### 2.2. Total Pixel Variance\n",
    "\n",
    "Calculate the sum of all of the pixel variances."
   ]
  },
  {
   "cell_type": "code",
   "execution_count": null,
   "metadata": {},
   "outputs": [],
   "source": []
  },
  {
   "cell_type": "markdown",
   "metadata": {},
   "source": [
    "## 3. Selecting the Number of Principal Components\n",
    "\n",
    "In this case study, we would like to use PCA to learn more about what pixel relationships in the images account for the most (second most, third most, etc) amount of variance in the mean-scaled dataset. In addition, we would like to preserve as much of the mean-scaled pixel variance as possible while keeping the number of principal components that we use relatively low.\n",
    "\n",
    "\n",
    "### 3.1. Percent of Total Original Pixel Variance\n",
    "\n",
    "First, create a plot below that plots the following:\n",
    "* on the x-axis is k = number of principal components used in a PCA\n",
    "* on the y-axis is the percent of total (mean-scaled) original pixel variance that would be preserved by using the corresponding k principal components."
   ]
  },
  {
   "cell_type": "code",
   "execution_count": null,
   "metadata": {},
   "outputs": [],
   "source": []
  },
  {
   "cell_type": "code",
   "execution_count": null,
   "metadata": {
    "scrolled": true
   },
   "outputs": [],
   "source": []
  },
  {
   "cell_type": "code",
   "execution_count": null,
   "metadata": {},
   "outputs": [],
   "source": []
  },
  {
   "cell_type": "code",
   "execution_count": null,
   "metadata": {},
   "outputs": [],
   "source": []
  },
  {
   "cell_type": "markdown",
   "metadata": {},
   "source": [
    "### 3.2. How many principal components to use?\n",
    "\n",
    "Suppowe we know that we would like for at least 80% of the original pixel variance to preserved in our principal components. What is the minimum number of principal components what we would need to use in order for our principal components to preserve at least 80% of the original (mean-scaled) total pixel variance?"
   ]
  },
  {
   "cell_type": "markdown",
   "metadata": {},
   "source": []
  },
  {
   "cell_type": "markdown",
   "metadata": {},
   "source": [
    "## 4. PCA\n",
    "\n",
    "### 4.1. Performing PCA\n",
    "\n",
    "Using $k$, the number of principal components that you selected in #3.2, project your mean-scaled pixel dataset onto $k$ principal components.\n",
    "\n",
    "Use a random state of 100."
   ]
  },
  {
   "cell_type": "code",
   "execution_count": null,
   "metadata": {},
   "outputs": [],
   "source": []
  },
  {
   "cell_type": "markdown",
   "metadata": {},
   "source": [
    "### 4.2. Pixel Relationships in the Loading Vectors\n",
    "\n",
    "#### 4.2.1. Without Re-Adding the Pixel Means\n",
    "\n",
    "Next, visualize each of the $k$ loading vectors in a 28-by-28 pixel image. In 4.2.1 we would like to visualize each loading vector just as they are (without re-adding the pixel means)."
   ]
  },
  {
   "cell_type": "code",
   "execution_count": null,
   "metadata": {},
   "outputs": [],
   "source": []
  },
  {
   "cell_type": "markdown",
   "metadata": {},
   "source": [
    "#### 4.2.2. Re-Adding the Pixel Means\n",
    "\n",
    "Next, add your saved pixel means (from 1.1.2) to each of the loading vectors. Then visualize each of these \"mean-added\" $k$ loading vectors in the 28-by-28 pixel image."
   ]
  },
  {
   "cell_type": "code",
   "execution_count": null,
   "metadata": {},
   "outputs": [],
   "source": []
  },
  {
   "cell_type": "code",
   "execution_count": null,
   "metadata": {},
   "outputs": [],
   "source": []
  },
  {
   "cell_type": "markdown",
   "metadata": {},
   "source": [
    "#### 4.2.3. Interpretation\n",
    "\n",
    "What you might have noticed is that the images in 4.2.1 have much more visible variation, distinctness, and interpretability than the images in 4.2.2.\n",
    "\n",
    "Explore the numerical values in the vectors that we visualized above in 4.2.1 and 4.2.2 and figure out why this happened."
   ]
  },
  {
   "cell_type": "markdown",
   "metadata": {},
   "source": []
  },
  {
   "cell_type": "code",
   "execution_count": null,
   "metadata": {
    "scrolled": true
   },
   "outputs": [],
   "source": []
  },
  {
   "cell_type": "code",
   "execution_count": null,
   "metadata": {
    "scrolled": true
   },
   "outputs": [],
   "source": []
  },
  {
   "cell_type": "markdown",
   "metadata": {},
   "source": [
    "### 4.3. Analyzing Principal Component Coordinates\n",
    "\n",
    "#### 4.3.1. First Two Principal Components\n",
    "Next, plot your first two principal component attributes in a scatterplot. Color-code the points in your scatterplot by the fashion item labels."
   ]
  },
  {
   "cell_type": "code",
   "execution_count": null,
   "metadata": {},
   "outputs": [],
   "source": []
  },
  {
   "cell_type": "code",
   "execution_count": null,
   "metadata": {},
   "outputs": [],
   "source": []
  },
  {
   "cell_type": "markdown",
   "metadata": {},
   "source": [
    "#### 4.3.2. Third and Fourth Principal Components\n",
    "Next, plot the third and fourth principal component attributes in a scatterplot. Color-code the points in your scatterplot by the fashion item labels."
   ]
  },
  {
   "cell_type": "code",
   "execution_count": null,
   "metadata": {},
   "outputs": [],
   "source": []
  },
  {
   "cell_type": "markdown",
   "metadata": {},
   "source": [
    "#### 4.3.3. Boxplots of Principal Component Values\n",
    "\n",
    "* Create a side-by-side boxplot plot, plotting the principal component 1 value for each of the 10 fashion items.\n",
    "* Create a side-by-side boxplot plot, plotting the principal component 2 value for each of the 10 fashion items.\n",
    "* Create a side-by-side boxplot plot, plotting the principal component 3 value for each of the 10 fashion items."
   ]
  },
  {
   "cell_type": "code",
   "execution_count": null,
   "metadata": {},
   "outputs": [],
   "source": []
  },
  {
   "cell_type": "code",
   "execution_count": null,
   "metadata": {},
   "outputs": [],
   "source": []
  },
  {
   "cell_type": "code",
   "execution_count": null,
   "metadata": {},
   "outputs": [],
   "source": []
  },
  {
   "cell_type": "markdown",
   "metadata": {},
   "source": [
    "### 4.4. Principal Component 1 Interpretation\n",
    "\n",
    "Use your results from 4.3 and 4.2.1 to answer the following questions below. You may also need to rely on prior knowledge of what each of these fashion items looks like. In assignment 6 we visualized a handful of each type of fashion item).\n",
    "\n",
    "1.  What kind of fashion items have the highest positive median principal component 1 values? Give 2.\n",
    "1.  What kind of fashion items have the highest negative median principal component 1 values? Give 3.\n",
    "3.  What kind of fashion items have the lowest magnitude median principal component 1 values? Give 2.\n",
    "4.  Describe the pixel relationship that accounts for the *most* amount of image variability in this dataset."
   ]
  },
  {
   "cell_type": "markdown",
   "metadata": {},
   "source": []
  },
  {
   "cell_type": "markdown",
   "metadata": {},
   "source": [
    "### 4.5. Principal Component 2 Interpretation\n",
    "\n",
    "Use your results from 4.3 and 4.2.1 to answer the following questions below. You may also need to rely on prior knowledge of what each of these fashion items looks like. In assignment 6 we visualized a handful of each type of fashion item).\n",
    "\n",
    "1.  What kind of fashion items have the highest positive median principal component 2 values? Give 2.\n",
    "2.  What kind of fashion items have the highest negative median principal component 2 values? Give 2.\n",
    "3.  What kind of fashion items have the lowest magnitude median principal component 2 values? Give 2.\n",
    "4.  Describe the pixel relationship that accounts for the *second* most amount of image variability in this dataset."
   ]
  },
  {
   "cell_type": "markdown",
   "metadata": {},
   "source": []
  },
  {
   "cell_type": "markdown",
   "metadata": {},
   "source": [
    "### 4.6. Principal Component 3 Interpretation\n",
    "\n",
    "Use your results from 4.3 and 4.2.1 to answer the following questions below. You may also need to rely on prior knowledge of what each of these fashion items looks like. In assignment 6 we visualized a handful of each type of fashion item).\n",
    "\n",
    "1.  What kind of fashion items have the highest positive median principal component 3 values? Give 2.\n",
    "2.  What kind of fashion items have the highest negative median principal component 3 values? Give 1.\n",
    "3.  Describe the pixel relationship that accounts for the *third* most amount of image variability in this dataset."
   ]
  },
  {
   "cell_type": "markdown",
   "metadata": {},
   "source": []
  },
  {
   "cell_type": "markdown",
   "metadata": {},
   "source": [
    "### 4.7. The Variability of Sandals... Again &#128514;\n",
    "\n",
    "#### 4.7.1. High and Low Principal Component 1 Values for Sandals\n",
    "\n",
    "Finally, visualize the image of the sandal that has the highest magnitude value for principal component 1. Then visualize the image of the sandal that has the lowest magnitude value for principal component 1."
   ]
  },
  {
   "cell_type": "markdown",
   "metadata": {},
   "source": []
  },
  {
   "cell_type": "code",
   "execution_count": null,
   "metadata": {},
   "outputs": [],
   "source": []
  },
  {
   "cell_type": "code",
   "execution_count": null,
   "metadata": {},
   "outputs": [],
   "source": []
  },
  {
   "cell_type": "code",
   "execution_count": null,
   "metadata": {},
   "outputs": [],
   "source": []
  },
  {
   "cell_type": "markdown",
   "metadata": {},
   "source": [
    "#### 4.7.2. Interpretation\n",
    "\n",
    "Why do we think image with the higher principal component 1 magnitude was given a mucher higher value than the other sandal image that we looked at?"
   ]
  },
  {
   "cell_type": "markdown",
   "metadata": {},
   "source": []
  },
  {
   "cell_type": "markdown",
   "metadata": {},
   "source": [
    "## 5. Double Checking Desired PCA Properties\n",
    "\n",
    "### 5.1. Attribute Variances\n",
    "\n",
    "Calculate the variances of your k principal components."
   ]
  },
  {
   "cell_type": "code",
   "execution_count": null,
   "metadata": {},
   "outputs": [],
   "source": []
  },
  {
   "cell_type": "markdown",
   "metadata": {},
   "source": [
    "### 5.2. Percent of Total Pixel Variance\n",
    "\n",
    "Calculate the the sum of the principal component variances. Then divide this value by the total pixel attribute variance from 2.2."
   ]
  },
  {
   "cell_type": "code",
   "execution_count": null,
   "metadata": {},
   "outputs": [],
   "source": []
  },
  {
   "cell_type": "markdown",
   "metadata": {},
   "source": [
    "### 5.3. Covariance Matrix\n",
    "\n",
    "Finally, calculate the covariance matrix of your principal components."
   ]
  },
  {
   "cell_type": "code",
   "execution_count": null,
   "metadata": {},
   "outputs": [],
   "source": []
  }
 ],
 "metadata": {
  "kernelspec": {
   "display_name": "Python 3",
   "language": "python",
   "name": "python3"
  },
  "language_info": {
   "codemirror_mode": {
    "name": "ipython",
    "version": 3
   },
   "file_extension": ".py",
   "mimetype": "text/x-python",
   "name": "python",
   "nbconvert_exporter": "python",
   "pygments_lexer": "ipython3",
   "version": "3.8.3"
  }
 },
 "nbformat": 4,
 "nbformat_minor": 4
}
