{
 "cells": [
  {
   "cell_type": "markdown",
   "metadata": {},
   "source": [
    "# Assignment 05 - [30 points] Solutions\n",
    "\n",
    "## <u>Case Study</u>: Wine Dataset Analysis\n",
    "\n",
    "Suppose that you are chemist who is interested in studying the properties of different types of wine. The data contained in the wine.csv file contains the results of a chemical analysis of 178 types of wines grown in the same region in Italy but derived from three different cultivars. The cultivar is listed in the 'Wine Class' column. The analysis determined the numerical quantities of 13 constituents found in each of the three types of wines.\n",
    "\n",
    "For *this* case study, the goal of our cluster analysis is to find the larger naturally occuring clusters in the dataset and learn more about them. *If* we find that there are outliers and noise in this dataset, then it is ok to identify them as such and leave them out of the clusters. However, if a point is not *actually* noise or an outlier, we would like for it to be considered as part of a cluster in our final clustering.\n",
    "\n",
    "https://archive.ics.uci.edu/ml/datasets/wine\n",
    "\n",
    "### <u>Research Questions</u>:\n",
    "\n",
    "We would like to answer the following research questions about the dataset.\n",
    "* Is this dataset clusterable? If so, how many, what are their shapes and sizes (ie. number of objects in them), and are they well-separated?\n",
    "* How far apart are these clusters? Are they cohesive?\n",
    "* How do these clusters associate with the wine class labels (ie. the three cultivars)? How homogeneous are the clusters with respect to the wine class labels? To what extent are the wine classes completely together in the clusters that are naturally occuring in this dataset?\n",
    "* Are there noise and outliers in this dataset?\n",
    "* Which clustering algorithm will be most useful in identifying the naturally occuring large clusters in the dataset?\n",
    "\n",
    "\n",
    "<hr style=\"height:1px;border:none;color:#333;background-color:#333;\" />"
   ]
  },
  {
   "cell_type": "markdown",
   "metadata": {},
   "source": [
    "### Imports"
   ]
  },
  {
   "cell_type": "code",
   "execution_count": null,
   "metadata": {},
   "outputs": [],
   "source": []
  },
  {
   "cell_type": "markdown",
   "metadata": {},
   "source": [
    "## 1. [0.5 pt] Data Pre-Processing \n",
    "\n",
    "This dataset does not have any missing values.\n",
    "\n",
    "* Read the wine.csv into a dataframe.\n",
    "* Create another dataframe that contains the scaled numerical variables.\n",
    "* Create another dataframe that contains the scaled numerical variables and the seed class labels.\n",
    "\n",
    "You should scale the variables by mean subtracting and dividing by the standard deviation)."
   ]
  },
  {
   "cell_type": "code",
   "execution_count": null,
   "metadata": {},
   "outputs": [],
   "source": []
  },
  {
   "cell_type": "code",
   "execution_count": null,
   "metadata": {},
   "outputs": [],
   "source": []
  },
  {
   "cell_type": "code",
   "execution_count": null,
   "metadata": {},
   "outputs": [],
   "source": []
  },
  {
   "cell_type": "code",
   "execution_count": null,
   "metadata": {},
   "outputs": [],
   "source": []
  },
  {
   "cell_type": "code",
   "execution_count": null,
   "metadata": {},
   "outputs": [],
   "source": []
  },
  {
   "cell_type": "markdown",
   "metadata": {},
   "source": [
    "## 2. Clusterability\n",
    "\n",
    "### 2.1. [0.5 pt] t-SNE Plots\n",
    "Using 6 different perplexity values and at least two random states for each perplexity value, map this dataset onto a two-dimensional dataset with the t-SNE algorithm. Show your projected coordinates in a scatterplot for each combination of random states and perplexity value. Also, color code your points by the Wine Class labels."
   ]
  },
  {
   "cell_type": "code",
   "execution_count": null,
   "metadata": {
    "scrolled": false
   },
   "outputs": [],
   "source": []
  },
  {
   "cell_type": "markdown",
   "metadata": {},
   "source": [
    "### 2.2. [1.5 pt] Interpretation:\n",
    "\n",
    "Use your t-SNE plots to answer the following questions.\n",
    "\n",
    "1. Is this dataset clusterable?\n",
    "2. If so, how many clusters are in this dataset?\n",
    "3. What is the shape of the clusters in this dataset?\n",
    "4. Are these clusters well separated?\n",
    "5. Are these clusters balanced in size?\n",
    "6. Describe the relationship between the clusters suggested by the t-SNE plots and the wine classes.\n",
    "\n",
    "Finally, pick out a random state and perplexity value that reflects the answers to your questions and show the corresponding t-SNE plot below."
   ]
  },
  {
   "cell_type": "markdown",
   "metadata": {},
   "source": []
  },
  {
   "cell_type": "code",
   "execution_count": null,
   "metadata": {},
   "outputs": [],
   "source": []
  },
  {
   "cell_type": "markdown",
   "metadata": {},
   "source": [
    "## 3. Dataset Noise Assessment\n",
    "\n",
    "### 3.1. [1.5 pt] Nearest Neighbor Distance Plots\n",
    "\n",
    "For your scaled dataset, create the following 4 plots:\n",
    "* k=2 nearest neighbor sorted distance plot,\n",
    "* k=3 nearest neighbor sorted distance plot,\n",
    "* k=4 nearest neighbor sorted distance plot,\n",
    "* k=5 nearest neighbor sorted distance plot.\n",
    "\n",
    "See DBSCAN application notes for code assistance."
   ]
  },
  {
   "cell_type": "code",
   "execution_count": null,
   "metadata": {},
   "outputs": [],
   "source": []
  },
  {
   "cell_type": "markdown",
   "metadata": {},
   "source": [
    "### 3.2. [1.5 pt] Noise Assessment\n",
    "\n",
    "Based on these plots above, would you say that your dataset has a lot of noise? Explain."
   ]
  },
  {
   "cell_type": "markdown",
   "metadata": {},
   "source": []
  },
  {
   "cell_type": "markdown",
   "metadata": {},
   "source": [
    "## 4. Clustering Algorithm Selection\n",
    "\n",
    "### 4.1. DBSCAN - Parameter Selection and Algorithm Fit\n",
    "\n",
    "We would like to try to use DBSCAN to cluster this dataset, but first we need to determine the best parameter values for $\\epsilon$ and $minpts$. For *this* case study, the goal of our cluster analysis is to find the naturally occuring clusters in the dataset and learn more about them. It is ok if not all points, whether they be outliers or noise are not included in the final clustering. But if we have a strong indication that there are not a lot of noise and outliers, then we should not expect to see too many points labeled as such in our result.\n",
    "\n",
    "#### 4.1.1.  [3 pt] t-SNE Plots\n",
    "\n",
    "Try to find a pair of $minpts$ and $epsilon$ values for which DBSCAN will mostly identify the main k clusters suggested by the t-SNE plots and have very few noise points. If you are unable to find a pair of parameter values that can do this, explain why this might have happened.\n",
    "\n",
    "<u>Hint</u>: *To test this out, you should try out many different combinations of minpts and epsilon values. Try out $minpts\\in[2,3,4,5]$ and many values of $\\epsilon$ in the range $[1.5,4.5]$.*"
   ]
  },
  {
   "cell_type": "code",
   "execution_count": null,
   "metadata": {
    "scrolled": false
   },
   "outputs": [],
   "source": []
  },
  {
   "cell_type": "code",
   "execution_count": null,
   "metadata": {},
   "outputs": [],
   "source": []
  },
  {
   "cell_type": "code",
   "execution_count": null,
   "metadata": {},
   "outputs": [],
   "source": []
  },
  {
   "cell_type": "code",
   "execution_count": null,
   "metadata": {},
   "outputs": [],
   "source": []
  },
  {
   "cell_type": "code",
   "execution_count": null,
   "metadata": {},
   "outputs": [],
   "source": []
  },
  {
   "cell_type": "markdown",
   "metadata": {},
   "source": []
  },
  {
   "cell_type": "markdown",
   "metadata": {},
   "source": [
    "### 4.2.  [1 pt] k-Means: Algorithm Fit\n",
    "\n",
    "List three reasons why this dataset might be a good fit for k-means (aside from the fact that this is a numerical dataset)."
   ]
  },
  {
   "cell_type": "markdown",
   "metadata": {},
   "source": []
  },
  {
   "cell_type": "markdown",
   "metadata": {},
   "source": [
    "### 4.3. k-Means Clustering\n",
    "\n",
    "#### 4.3.1.  [1 pt] Cluster the data\n",
    "\n",
    "Cluster this dataset into the number of clusters that your t-SNE plots are suggesting. Then color code your clustering results on your t-SNE plot. Use a random state of 100."
   ]
  },
  {
   "cell_type": "code",
   "execution_count": null,
   "metadata": {},
   "outputs": [],
   "source": []
  },
  {
   "cell_type": "code",
   "execution_count": null,
   "metadata": {},
   "outputs": [],
   "source": []
  },
  {
   "cell_type": "markdown",
   "metadata": {},
   "source": [
    "#### 4.3.2 [1 pt] Interpretation:\n",
    "\n",
    "For *this* case study, one of the goals of our cluster analysis is to find larger, naturally occuring clusters in the dataset and learn more about them. How well did k-means do in meeting this goal? Explain."
   ]
  },
  {
   "cell_type": "markdown",
   "metadata": {},
   "source": []
  },
  {
   "cell_type": "markdown",
   "metadata": {},
   "source": [
    "## 5. Post k-Means Cluster Analysis\n",
    "\n",
    "### 5.1.Cluster Sorted Similarity Matrix\n",
    "\n",
    "#### 5.1.1. [2 pt] Create it\n",
    "Create a cluster sorted similarity matrix for this k-means clustering and your scaled dataset."
   ]
  },
  {
   "cell_type": "code",
   "execution_count": null,
   "metadata": {},
   "outputs": [],
   "source": []
  },
  {
   "cell_type": "code",
   "execution_count": null,
   "metadata": {},
   "outputs": [],
   "source": []
  },
  {
   "cell_type": "code",
   "execution_count": null,
   "metadata": {},
   "outputs": [],
   "source": []
  },
  {
   "cell_type": "code",
   "execution_count": null,
   "metadata": {},
   "outputs": [],
   "source": []
  },
  {
   "cell_type": "markdown",
   "metadata": {},
   "source": [
    "#### 5.1.2. [2 pt] Interpretation\n",
    "\n",
    "Use this cluster sorted distance matrix to answer the following questions.\n",
    "\n",
    "1. Which two clusters are furthest part? Explain.\n",
    "2. Which cluster has the worst overall cohesion? Explain."
   ]
  },
  {
   "cell_type": "markdown",
   "metadata": {},
   "source": []
  },
  {
   "cell_type": "markdown",
   "metadata": {},
   "source": [
    "### 5.2. Cluster Sorted Similarity Matrix Correlation\n",
    "\n",
    "#### 5.2.1. [1 pt] Calculate correlation coefficient\n",
    "Scale this clustered sorted similarity matrix (using the method we discussed in class) and calculate the correlation of this scaled matrix to the \"ideal\" scaled cluster sorted similarity matrix which has the same number of clusters and the same number of objects within each of these clusters."
   ]
  },
  {
   "cell_type": "code",
   "execution_count": null,
   "metadata": {},
   "outputs": [],
   "source": []
  },
  {
   "cell_type": "code",
   "execution_count": null,
   "metadata": {},
   "outputs": [],
   "source": []
  },
  {
   "cell_type": "code",
   "execution_count": null,
   "metadata": {},
   "outputs": [],
   "source": []
  },
  {
   "cell_type": "code",
   "execution_count": null,
   "metadata": {},
   "outputs": [],
   "source": []
  },
  {
   "cell_type": "markdown",
   "metadata": {},
   "source": [
    "#### 5.2.2. [1 pt] Interpretation\n",
    "\n",
    "Does this correlation coefficient suggest that this clustering has a very *high* amount of cohesion and separation? Explain."
   ]
  },
  {
   "cell_type": "markdown",
   "metadata": {},
   "source": []
  },
  {
   "cell_type": "markdown",
   "metadata": {},
   "source": [
    "### 5.3 Pre-Assigned Class Label Association\n",
    "\n",
    "#### 5.3.1. [1 pt] Homogeneity and Completeness\n",
    "Calculate the homogeneity score, the completeness score, and the V-score between the Wine Class labels and the k-means clustering."
   ]
  },
  {
   "cell_type": "code",
   "execution_count": null,
   "metadata": {},
   "outputs": [],
   "source": []
  },
  {
   "cell_type": "code",
   "execution_count": null,
   "metadata": {},
   "outputs": [],
   "source": []
  },
  {
   "cell_type": "code",
   "execution_count": null,
   "metadata": {},
   "outputs": [],
   "source": []
  },
  {
   "cell_type": "markdown",
   "metadata": {},
   "source": [
    "#### 5.3.2. [1 pt] Interpretation\n",
    "\n",
    "1. Interpret your homogeneity score and your completeness score."
   ]
  },
  {
   "cell_type": "markdown",
   "metadata": {},
   "source": []
  },
  {
   "cell_type": "markdown",
   "metadata": {},
   "source": [
    "2. In your t-SNE plot, color code the points by the k-means cluster labels and code the shape of points by the wine class labels. Does the homogeneity score and the completeness score that you just calculated agree with what you see in this t-SNE plot? Explain."
   ]
  },
  {
   "cell_type": "code",
   "execution_count": null,
   "metadata": {},
   "outputs": [],
   "source": []
  },
  {
   "cell_type": "markdown",
   "metadata": {},
   "source": []
  }
 ],
 "metadata": {
  "kernelspec": {
   "display_name": "Python 3",
   "language": "python",
   "name": "python3"
  },
  "language_info": {
   "codemirror_mode": {
    "name": "ipython",
    "version": 3
   },
   "file_extension": ".py",
   "mimetype": "text/x-python",
   "name": "python",
   "nbconvert_exporter": "python",
   "pygments_lexer": "ipython3",
   "version": "3.8.3"
  }
 },
 "nbformat": 4,
 "nbformat_minor": 4
}
