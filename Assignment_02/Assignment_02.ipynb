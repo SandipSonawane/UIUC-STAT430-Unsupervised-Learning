{
 "cells": [
  {
   "cell_type": "markdown",
   "metadata": {},
   "source": [
    "# Homework Assignment 2 - Question 5\n",
    "\n",
    "## <u>Case Study</u>: Clustering and Missing Data Choices\n",
    "\n",
    "Let's learn more about how data cleaning choices might affect our cluster analysis results.\n",
    "\n",
    "In this case study we will first perform a cluster analysis on a two dimensional, artificial dataset (**dataset1.csv**) that has no missing values. Then we will perform a cluster analysis on this same dataset that now has some missing values (**dataset1_missing.csv**). We will try out the following methods of missing data cleaning and see how that affects our clustering results:\n",
    "1. dropping the missing value rows\n",
    "2. imputing the missing values with 0\n",
    "\n"
   ]
  },
  {
   "cell_type": "markdown",
   "metadata": {},
   "source": [
    "### Imports"
   ]
  },
  {
   "cell_type": "code",
   "execution_count": 23,
   "metadata": {},
   "outputs": [],
   "source": [
    "import matplotlib.pyplot as plt\n",
    "import pandas as pd\n",
    "import numpy as np\n",
    "import seaborn as sns\n",
    "import random\n",
    "from sklearn.cluster import KMeans\n",
    "from sklearn.metrics import adjusted_rand_score, silhouette_samples, silhouette_score\n",
    "from pyclustertend import hopkins\n",
    "import warnings\n",
    "warnings.filterwarnings(\"ignore\")\n",
    "%matplotlib inline"
   ]
  },
  {
   "cell_type": "markdown",
   "metadata": {},
   "source": [
    "\n",
    "\n",
    "### 5.1. Full Dataset Cluster Analysis\n",
    "\n",
    "The attached **dataset1.csv** file is the dataset in case study 1 that contains no missing values.\n",
    "\n",
    "#### 5.1.1 [1.5 pt]  Read and visualize the 'full dataset'\n",
    "\n",
    "Read the 'dataset1.csv' file into a dataframe.  Then plot a scatterplot of the data.\n",
    "\n",
    "**You should use the plt.xlim([0,14]) and plt.ylim([0,14]) lines of code below to aid in the analysis and visualization**."
   ]
  },
  {
   "cell_type": "code",
   "execution_count": 2,
   "metadata": {},
   "outputs": [
    {
     "data": {
      "text/html": [
       "<div>\n",
       "<style scoped>\n",
       "    .dataframe tbody tr th:only-of-type {\n",
       "        vertical-align: middle;\n",
       "    }\n",
       "\n",
       "    .dataframe tbody tr th {\n",
       "        vertical-align: top;\n",
       "    }\n",
       "\n",
       "    .dataframe thead th {\n",
       "        text-align: right;\n",
       "    }\n",
       "</style>\n",
       "<table border=\"1\" class=\"dataframe\">\n",
       "  <thead>\n",
       "    <tr style=\"text-align: right;\">\n",
       "      <th></th>\n",
       "      <th>x</th>\n",
       "      <th>y</th>\n",
       "    </tr>\n",
       "  </thead>\n",
       "  <tbody>\n",
       "    <tr>\n",
       "      <th>0</th>\n",
       "      <td>10.705230</td>\n",
       "      <td>8.119633</td>\n",
       "    </tr>\n",
       "    <tr>\n",
       "      <th>1</th>\n",
       "      <td>8.934889</td>\n",
       "      <td>10.490133</td>\n",
       "    </tr>\n",
       "    <tr>\n",
       "      <th>2</th>\n",
       "      <td>11.167742</td>\n",
       "      <td>8.997835</td>\n",
       "    </tr>\n",
       "    <tr>\n",
       "      <th>3</th>\n",
       "      <td>9.696713</td>\n",
       "      <td>5.796868</td>\n",
       "    </tr>\n",
       "    <tr>\n",
       "      <th>4</th>\n",
       "      <td>9.387122</td>\n",
       "      <td>12.192666</td>\n",
       "    </tr>\n",
       "  </tbody>\n",
       "</table>\n",
       "</div>"
      ],
      "text/plain": [
       "           x          y\n",
       "0  10.705230   8.119633\n",
       "1   8.934889  10.490133\n",
       "2  11.167742   8.997835\n",
       "3   9.696713   5.796868\n",
       "4   9.387122  12.192666"
      ]
     },
     "execution_count": 2,
     "metadata": {},
     "output_type": "execute_result"
    }
   ],
   "source": [
    "df_no_missing = pd.read_csv('dataset1.csv')\n",
    "df_no_missing.head()"
   ]
  },
  {
   "cell_type": "code",
   "execution_count": 5,
   "metadata": {},
   "outputs": [
    {
     "data": {
      "text/plain": [
       "(300, 2)"
      ]
     },
     "execution_count": 5,
     "metadata": {},
     "output_type": "execute_result"
    }
   ],
   "source": [
    "df_no_missing.shape"
   ]
  },
  {
   "cell_type": "code",
   "execution_count": 6,
   "metadata": {},
   "outputs": [
    {
     "data": {
      "text/html": [
       "<div>\n",
       "<style scoped>\n",
       "    .dataframe tbody tr th:only-of-type {\n",
       "        vertical-align: middle;\n",
       "    }\n",
       "\n",
       "    .dataframe tbody tr th {\n",
       "        vertical-align: top;\n",
       "    }\n",
       "\n",
       "    .dataframe thead th {\n",
       "        text-align: right;\n",
       "    }\n",
       "</style>\n",
       "<table border=\"1\" class=\"dataframe\">\n",
       "  <thead>\n",
       "    <tr style=\"text-align: right;\">\n",
       "      <th></th>\n",
       "      <th>x</th>\n",
       "      <th>y</th>\n",
       "    </tr>\n",
       "  </thead>\n",
       "  <tbody>\n",
       "    <tr>\n",
       "      <th>count</th>\n",
       "      <td>300.000000</td>\n",
       "      <td>300.000000</td>\n",
       "    </tr>\n",
       "    <tr>\n",
       "      <th>mean</th>\n",
       "      <td>9.972056</td>\n",
       "      <td>10.019372</td>\n",
       "    </tr>\n",
       "    <tr>\n",
       "      <th>std</th>\n",
       "      <td>0.697989</td>\n",
       "      <td>1.767069</td>\n",
       "    </tr>\n",
       "    <tr>\n",
       "      <th>min</th>\n",
       "      <td>7.715299</td>\n",
       "      <td>5.170847</td>\n",
       "    </tr>\n",
       "    <tr>\n",
       "      <th>25%</th>\n",
       "      <td>9.529000</td>\n",
       "      <td>8.767867</td>\n",
       "    </tr>\n",
       "    <tr>\n",
       "      <th>50%</th>\n",
       "      <td>9.979886</td>\n",
       "      <td>10.020059</td>\n",
       "    </tr>\n",
       "    <tr>\n",
       "      <th>75%</th>\n",
       "      <td>10.432473</td>\n",
       "      <td>11.290418</td>\n",
       "    </tr>\n",
       "    <tr>\n",
       "      <th>max</th>\n",
       "      <td>12.092064</td>\n",
       "      <td>14.433791</td>\n",
       "    </tr>\n",
       "  </tbody>\n",
       "</table>\n",
       "</div>"
      ],
      "text/plain": [
       "                x           y\n",
       "count  300.000000  300.000000\n",
       "mean     9.972056   10.019372\n",
       "std      0.697989    1.767069\n",
       "min      7.715299    5.170847\n",
       "25%      9.529000    8.767867\n",
       "50%      9.979886   10.020059\n",
       "75%     10.432473   11.290418\n",
       "max     12.092064   14.433791"
      ]
     },
     "execution_count": 6,
     "metadata": {},
     "output_type": "execute_result"
    }
   ],
   "source": [
    "df_no_missing.describe()"
   ]
  },
  {
   "cell_type": "code",
   "execution_count": 101,
   "metadata": {},
   "outputs": [
    {
     "data": {
      "image/png": "[encoded data removed]",
      "text/plain": [
       "<Figure size 432x288 with 1 Axes>"
      ]
     },
     "metadata": {
      "needs_background": "light"
     },
     "output_type": "display_data"
    }
   ],
   "source": [
    "#Your code here\n",
    "# plt.figure(figsize=(7,7))\n",
    "plt.scatter(df_no_missing.x, df_no_missing.y)\n",
    "\n",
    "#Use this code below (in addition to other code that you write above) to set the x-axis and y-axis plot limits to be between 0 to 14\n",
    "plt.xlim([0,14])\n",
    "plt.ylim([0,14])\n",
    "plt.show()"
   ]
  },
  {
   "cell_type": "markdown",
   "metadata": {},
   "source": [
    "#### 5.1.2. [0.5 pt] Visual assessment of clusterability\n",
    "\n",
    "Using the scatterplot above, would you say that this dataset is clusterable?"
   ]
  },
  {
   "cell_type": "markdown",
   "metadata": {},
   "source": [
    "> The above plot shows that there does not exist different clusters. There is no separation for a cluster to be formed."
   ]
  },
  {
   "cell_type": "markdown",
   "metadata": {},
   "source": [
    "#### 5.1.3. [1 pt] Quantitative assessment of clusterability\n",
    "\n",
    "Calculate five Hopkin's statistics for this dataset.\n",
    "\n",
    "(See the Lecture 3 Jupyter notebook for code assistance)."
   ]
  },
  {
   "cell_type": "markdown",
   "metadata": {},
   "source": [
    "$ Hopkins Statistic = \\frac{\\sum_{i=1}^{p}w_i}{\\sum_{i=1}^{p}w_i + \\sum_{i=1}^{p}u_i}$"
   ]
  },
  {
   "cell_type": "code",
   "execution_count": 15,
   "metadata": {},
   "outputs": [],
   "source": [
    "X = df_no_missing.copy()"
   ]
  },
  {
   "cell_type": "code",
   "execution_count": 56,
   "metadata": {},
   "outputs": [
    {
     "name": "stdout",
     "output_type": "stream",
     "text": [
      "[0.3235986810443183, 0.3609385395938882, 0.2700611916143349, 0.34979430625954433, 0.31508473446487]\n"
     ]
    }
   ],
   "source": [
    "num_trials=5\n",
    "hopkins_stats=[]\n",
    "for i in range(0,num_trials):\n",
    "    n = len(X)\n",
    "    p = int(0.1 * n)\n",
    "    hopkins_stats.append(hopkins(X,p))\n",
    "print(hopkins_stats)"
   ]
  },
  {
   "cell_type": "markdown",
   "metadata": {},
   "source": [
    "#### 5.1.4. [1 pt] Analysis of Hopkin's statistic\n",
    "\n",
    "Do the Hopkin's statistics that you calculated suggest that this dataset is clusterable? Explain."
   ]
  },
  {
   "cell_type": "markdown",
   "metadata": {},
   "source": [
    "> Out of 5 Hopkins Statistics, 5 are closer to 0.5. This suggests that dataset is not clusterable."
   ]
  },
  {
   "cell_type": "markdown",
   "metadata": {},
   "source": [
    "#### 5.1.5. [1 pt] k-means elbow plot\n",
    "\n",
    "Finally create a k-means elbow plot for this full dataset."
   ]
  },
  {
   "cell_type": "code",
   "execution_count": 24,
   "metadata": {},
   "outputs": [
    {
     "data": {
      "image/png": "[encoded data removed]",
      "text/plain": [
       "<Figure size 432x288 with 1 Axes>"
      ]
     },
     "metadata": {
      "needs_background": "light"
     },
     "output_type": "display_data"
    }
   ],
   "source": [
    "cluster_num_list=range(1,15)\n",
    "avg_inertia_list=[]\n",
    "for k in cluster_num_list:\n",
    "    sub_inertia_list=[]\n",
    "    for i in range(0,3):\n",
    "        kmeans=KMeans(n_clusters=k).fit(X)\n",
    "        sub_inertia_list.append(kmeans.inertia_)\n",
    "    avg_inertia_list.append(np.average(sub_inertia_list))\n",
    "\n",
    "#Plot it    \n",
    "plt.plot(cluster_num_list,avg_inertia_list)\n",
    "plt.xlabel('Number of Clusters Requested in K-means')\n",
    "plt.ylabel('Average Inertia of the K-Means Results (3 trials)')\n",
    "plt.title('Elbow Method Results for Data')\n",
    "plt.show()"
   ]
  },
  {
   "cell_type": "markdown",
   "metadata": {},
   "source": [
    "> The elbow plot does not show a sharp bend rather a smooth decrease of inertia with increase of number of clusters.\n",
    "\n",
    "> If we decide to go with k-means, by looking at the plot, it seems that 3 no. of clusters is the right choice for number of clusters."
   ]
  },
  {
   "cell_type": "markdown",
   "metadata": {},
   "source": [
    "### 5.2. Incomplete Dataset\n",
    "\n",
    "The **dataset1_missing.csv** contains the same dataset as that in **dataset1.csv**, however some of the values are now considered to be missing. **The way that the missing entries in this csv are coded will be automatically detected and translated into NaN values by Python.**"
   ]
  },
  {
   "cell_type": "markdown",
   "metadata": {},
   "source": [
    "#### 5.2.1 [0.5 pt] Read and visualize the 'incomplete dataset'\n",
    "\n",
    "First, read this 'dataset1_missing.csv' into a new dataframe **call it df_missing**."
   ]
  },
  {
   "cell_type": "code",
   "execution_count": 21,
   "metadata": {},
   "outputs": [
    {
     "data": {
      "text/html": [
       "<div>\n",
       "<style scoped>\n",
       "    .dataframe tbody tr th:only-of-type {\n",
       "        vertical-align: middle;\n",
       "    }\n",
       "\n",
       "    .dataframe tbody tr th {\n",
       "        vertical-align: top;\n",
       "    }\n",
       "\n",
       "    .dataframe thead th {\n",
       "        text-align: right;\n",
       "    }\n",
       "</style>\n",
       "<table border=\"1\" class=\"dataframe\">\n",
       "  <thead>\n",
       "    <tr style=\"text-align: right;\">\n",
       "      <th></th>\n",
       "      <th>x</th>\n",
       "      <th>y</th>\n",
       "    </tr>\n",
       "  </thead>\n",
       "  <tbody>\n",
       "    <tr>\n",
       "      <th>0</th>\n",
       "      <td>10.705230</td>\n",
       "      <td>8.119633</td>\n",
       "    </tr>\n",
       "    <tr>\n",
       "      <th>1</th>\n",
       "      <td>8.934889</td>\n",
       "      <td>10.490133</td>\n",
       "    </tr>\n",
       "    <tr>\n",
       "      <th>2</th>\n",
       "      <td>11.167742</td>\n",
       "      <td>8.997835</td>\n",
       "    </tr>\n",
       "    <tr>\n",
       "      <th>3</th>\n",
       "      <td>9.696713</td>\n",
       "      <td>5.796868</td>\n",
       "    </tr>\n",
       "    <tr>\n",
       "      <th>4</th>\n",
       "      <td>9.387122</td>\n",
       "      <td>12.192666</td>\n",
       "    </tr>\n",
       "  </tbody>\n",
       "</table>\n",
       "</div>"
      ],
      "text/plain": [
       "           x          y\n",
       "0  10.705230   8.119633\n",
       "1   8.934889  10.490133\n",
       "2  11.167742   8.997835\n",
       "3   9.696713   5.796868\n",
       "4   9.387122  12.192666"
      ]
     },
     "execution_count": 21,
     "metadata": {},
     "output_type": "execute_result"
    }
   ],
   "source": [
    "df_missing = pd.read_csv('dataset1_missing.csv')\n",
    "df_missing.head()"
   ]
  },
  {
   "cell_type": "code",
   "execution_count": 22,
   "metadata": {},
   "outputs": [
    {
     "data": {
      "text/html": [
       "<div>\n",
       "<style scoped>\n",
       "    .dataframe tbody tr th:only-of-type {\n",
       "        vertical-align: middle;\n",
       "    }\n",
       "\n",
       "    .dataframe tbody tr th {\n",
       "        vertical-align: top;\n",
       "    }\n",
       "\n",
       "    .dataframe thead th {\n",
       "        text-align: right;\n",
       "    }\n",
       "</style>\n",
       "<table border=\"1\" class=\"dataframe\">\n",
       "  <thead>\n",
       "    <tr style=\"text-align: right;\">\n",
       "      <th></th>\n",
       "      <th>x</th>\n",
       "      <th>y</th>\n",
       "    </tr>\n",
       "  </thead>\n",
       "  <tbody>\n",
       "    <tr>\n",
       "      <th>count</th>\n",
       "      <td>300.000000</td>\n",
       "      <td>198.000000</td>\n",
       "    </tr>\n",
       "    <tr>\n",
       "      <th>mean</th>\n",
       "      <td>9.972056</td>\n",
       "      <td>10.059045</td>\n",
       "    </tr>\n",
       "    <tr>\n",
       "      <th>std</th>\n",
       "      <td>0.697989</td>\n",
       "      <td>2.142087</td>\n",
       "    </tr>\n",
       "    <tr>\n",
       "      <th>min</th>\n",
       "      <td>7.715299</td>\n",
       "      <td>5.170847</td>\n",
       "    </tr>\n",
       "    <tr>\n",
       "      <th>25%</th>\n",
       "      <td>9.529000</td>\n",
       "      <td>8.262657</td>\n",
       "    </tr>\n",
       "    <tr>\n",
       "      <th>50%</th>\n",
       "      <td>9.979886</td>\n",
       "      <td>10.401848</td>\n",
       "    </tr>\n",
       "    <tr>\n",
       "      <th>75%</th>\n",
       "      <td>10.432473</td>\n",
       "      <td>11.756148</td>\n",
       "    </tr>\n",
       "    <tr>\n",
       "      <th>max</th>\n",
       "      <td>12.092064</td>\n",
       "      <td>14.433791</td>\n",
       "    </tr>\n",
       "  </tbody>\n",
       "</table>\n",
       "</div>"
      ],
      "text/plain": [
       "                x           y\n",
       "count  300.000000  198.000000\n",
       "mean     9.972056   10.059045\n",
       "std      0.697989    2.142087\n",
       "min      7.715299    5.170847\n",
       "25%      9.529000    8.262657\n",
       "50%      9.979886   10.401848\n",
       "75%     10.432473   11.756148\n",
       "max     12.092064   14.433791"
      ]
     },
     "execution_count": 22,
     "metadata": {},
     "output_type": "execute_result"
    }
   ],
   "source": [
    "df_missing.describe()"
   ]
  },
  {
   "cell_type": "markdown",
   "metadata": {},
   "source": [
    "#### <u>Tutorial</u>: For detecting NaN values\n",
    "\n",
    "We can use the **.isna()** pandas function to evaluate whether each value in a dataframe contains a NaN value.\n",
    "\n",
    "**NaN**, standing for not a number, is a numeric data type used to represent any value that is undefined or unpresentable. It can be useful to use as a placeholder for or representative of a missing value entry in a numerical column in a dataframe. By represening these missing values as NaN, we are still able to perform mathematical functions on the numerical variable in the dataframe without getting errors."
   ]
  },
  {
   "cell_type": "code",
   "execution_count": 3,
   "metadata": {},
   "outputs": [
    {
     "data": {
      "text/html": [
       "<div>\n",
       "<style scoped>\n",
       "    .dataframe tbody tr th:only-of-type {\n",
       "        vertical-align: middle;\n",
       "    }\n",
       "\n",
       "    .dataframe tbody tr th {\n",
       "        vertical-align: top;\n",
       "    }\n",
       "\n",
       "    .dataframe thead th {\n",
       "        text-align: right;\n",
       "    }\n",
       "</style>\n",
       "<table border=\"1\" class=\"dataframe\">\n",
       "  <thead>\n",
       "    <tr style=\"text-align: right;\">\n",
       "      <th></th>\n",
       "      <th>col1</th>\n",
       "      <th>col2</th>\n",
       "    </tr>\n",
       "  </thead>\n",
       "  <tbody>\n",
       "    <tr>\n",
       "      <th>0</th>\n",
       "      <td>NaN</td>\n",
       "      <td>NaN</td>\n",
       "    </tr>\n",
       "    <tr>\n",
       "      <th>1</th>\n",
       "      <td>4.0</td>\n",
       "      <td>3.0</td>\n",
       "    </tr>\n",
       "    <tr>\n",
       "      <th>2</th>\n",
       "      <td>NaN</td>\n",
       "      <td>7.0</td>\n",
       "    </tr>\n",
       "    <tr>\n",
       "      <th>3</th>\n",
       "      <td>2.0</td>\n",
       "      <td>8.0</td>\n",
       "    </tr>\n",
       "  </tbody>\n",
       "</table>\n",
       "</div>"
      ],
      "text/plain": [
       "   col1  col2\n",
       "0   NaN   NaN\n",
       "1   4.0   3.0\n",
       "2   NaN   7.0\n",
       "3   2.0   8.0"
      ]
     },
     "execution_count": 3,
     "metadata": {},
     "output_type": "execute_result"
    }
   ],
   "source": [
    "import pandas as pd\n",
    "tmp=pd.DataFrame({'col1':[None,4,None,2], 'col2': [None,3,7,8]})\n",
    "tmp"
   ]
  },
  {
   "cell_type": "code",
   "execution_count": 4,
   "metadata": {},
   "outputs": [
    {
     "data": {
      "text/html": [
       "<div>\n",
       "<style scoped>\n",
       "    .dataframe tbody tr th:only-of-type {\n",
       "        vertical-align: middle;\n",
       "    }\n",
       "\n",
       "    .dataframe tbody tr th {\n",
       "        vertical-align: top;\n",
       "    }\n",
       "\n",
       "    .dataframe thead th {\n",
       "        text-align: right;\n",
       "    }\n",
       "</style>\n",
       "<table border=\"1\" class=\"dataframe\">\n",
       "  <thead>\n",
       "    <tr style=\"text-align: right;\">\n",
       "      <th></th>\n",
       "      <th>col1</th>\n",
       "      <th>col2</th>\n",
       "    </tr>\n",
       "  </thead>\n",
       "  <tbody>\n",
       "    <tr>\n",
       "      <th>0</th>\n",
       "      <td>True</td>\n",
       "      <td>True</td>\n",
       "    </tr>\n",
       "    <tr>\n",
       "      <th>1</th>\n",
       "      <td>False</td>\n",
       "      <td>False</td>\n",
       "    </tr>\n",
       "    <tr>\n",
       "      <th>2</th>\n",
       "      <td>True</td>\n",
       "      <td>False</td>\n",
       "    </tr>\n",
       "    <tr>\n",
       "      <th>3</th>\n",
       "      <td>False</td>\n",
       "      <td>False</td>\n",
       "    </tr>\n",
       "  </tbody>\n",
       "</table>\n",
       "</div>"
      ],
      "text/plain": [
       "    col1   col2\n",
       "0   True   True\n",
       "1  False  False\n",
       "2   True  False\n",
       "3  False  False"
      ]
     },
     "execution_count": 4,
     "metadata": {},
     "output_type": "execute_result"
    }
   ],
   "source": [
    "tmp.isna()"
   ]
  },
  {
   "cell_type": "markdown",
   "metadata": {},
   "source": [
    "We can furthermore use the pandas **.sum()** function to take the sum of each of the columns in a given dataframe. Generally, when we use a mathematical function in Python with Boolean values, the True values are automatically converted to a 1, and the False values are automatically converted to a 0."
   ]
  },
  {
   "cell_type": "code",
   "execution_count": 5,
   "metadata": {},
   "outputs": [
    {
     "data": {
      "text/plain": [
       "col1    2\n",
       "col2    1\n",
       "dtype: int64"
      ]
     },
     "execution_count": 5,
     "metadata": {},
     "output_type": "execute_result"
    }
   ],
   "source": [
    "tmp.isna().sum()"
   ]
  },
  {
   "cell_type": "markdown",
   "metadata": {},
   "source": [
    "Thus, by using the **tmp.isna().sum()** above, we add up all of the values in each column of the dataframe in which it is **True** that they are represented as a **NaN.**"
   ]
  },
  {
   "cell_type": "markdown",
   "metadata": {},
   "source": [
    "#### 5.2.2. [0.5 pt] How many NaN values does each column of the data in the dataset1_missing.csv file contain?"
   ]
  },
  {
   "cell_type": "code",
   "execution_count": 27,
   "metadata": {},
   "outputs": [
    {
     "data": {
      "text/plain": [
       "x      0\n",
       "y    102\n",
       "dtype: int64"
      ]
     },
     "execution_count": 27,
     "metadata": {},
     "output_type": "execute_result"
    }
   ],
   "source": [
    "df_missing.isna().sum()"
   ]
  },
  {
   "cell_type": "markdown",
   "metadata": {},
   "source": [
    "> column y contains aroung 102 NaN values"
   ]
  },
  {
   "cell_type": "markdown",
   "metadata": {},
   "source": [
    "### 5.3. Incomplete Dataset - Dropping the Missing Value Rows"
   ]
  },
  {
   "cell_type": "markdown",
   "metadata": {},
   "source": [
    "#### <u>Tutorial</u>: Dropping rows with NaN values\n",
    "\n",
    "We can use the **.dropna()** pandas function to drop all rows in the given dataframe that contain a NaN value."
   ]
  },
  {
   "cell_type": "code",
   "execution_count": 6,
   "metadata": {},
   "outputs": [
    {
     "data": {
      "text/html": [
       "<div>\n",
       "<style scoped>\n",
       "    .dataframe tbody tr th:only-of-type {\n",
       "        vertical-align: middle;\n",
       "    }\n",
       "\n",
       "    .dataframe tbody tr th {\n",
       "        vertical-align: top;\n",
       "    }\n",
       "\n",
       "    .dataframe thead th {\n",
       "        text-align: right;\n",
       "    }\n",
       "</style>\n",
       "<table border=\"1\" class=\"dataframe\">\n",
       "  <thead>\n",
       "    <tr style=\"text-align: right;\">\n",
       "      <th></th>\n",
       "      <th>col1</th>\n",
       "      <th>col2</th>\n",
       "    </tr>\n",
       "  </thead>\n",
       "  <tbody>\n",
       "    <tr>\n",
       "      <th>0</th>\n",
       "      <td>NaN</td>\n",
       "      <td>NaN</td>\n",
       "    </tr>\n",
       "    <tr>\n",
       "      <th>1</th>\n",
       "      <td>4.0</td>\n",
       "      <td>3.0</td>\n",
       "    </tr>\n",
       "    <tr>\n",
       "      <th>2</th>\n",
       "      <td>NaN</td>\n",
       "      <td>7.0</td>\n",
       "    </tr>\n",
       "    <tr>\n",
       "      <th>3</th>\n",
       "      <td>2.0</td>\n",
       "      <td>8.0</td>\n",
       "    </tr>\n",
       "  </tbody>\n",
       "</table>\n",
       "</div>"
      ],
      "text/plain": [
       "   col1  col2\n",
       "0   NaN   NaN\n",
       "1   4.0   3.0\n",
       "2   NaN   7.0\n",
       "3   2.0   8.0"
      ]
     },
     "execution_count": 6,
     "metadata": {},
     "output_type": "execute_result"
    }
   ],
   "source": [
    "tmp=pd.DataFrame({'col1':[None,4,None,2], 'col2': [None,3,7,8]})\n",
    "tmp"
   ]
  },
  {
   "cell_type": "code",
   "execution_count": 7,
   "metadata": {},
   "outputs": [
    {
     "data": {
      "text/html": [
       "<div>\n",
       "<style scoped>\n",
       "    .dataframe tbody tr th:only-of-type {\n",
       "        vertical-align: middle;\n",
       "    }\n",
       "\n",
       "    .dataframe tbody tr th {\n",
       "        vertical-align: top;\n",
       "    }\n",
       "\n",
       "    .dataframe thead th {\n",
       "        text-align: right;\n",
       "    }\n",
       "</style>\n",
       "<table border=\"1\" class=\"dataframe\">\n",
       "  <thead>\n",
       "    <tr style=\"text-align: right;\">\n",
       "      <th></th>\n",
       "      <th>col1</th>\n",
       "      <th>col2</th>\n",
       "    </tr>\n",
       "  </thead>\n",
       "  <tbody>\n",
       "    <tr>\n",
       "      <th>1</th>\n",
       "      <td>4.0</td>\n",
       "      <td>3.0</td>\n",
       "    </tr>\n",
       "    <tr>\n",
       "      <th>3</th>\n",
       "      <td>2.0</td>\n",
       "      <td>8.0</td>\n",
       "    </tr>\n",
       "  </tbody>\n",
       "</table>\n",
       "</div>"
      ],
      "text/plain": [
       "   col1  col2\n",
       "1   4.0   3.0\n",
       "3   2.0   8.0"
      ]
     },
     "execution_count": 7,
     "metadata": {},
     "output_type": "execute_result"
    }
   ],
   "source": [
    "tmp=tmp.dropna()\n",
    "tmp"
   ]
  },
  {
   "cell_type": "markdown",
   "metadata": {},
   "source": [
    "#### 5.3.1. [1 pt] Create a new dataframe that has dropped all rows with missing values in df_missing."
   ]
  },
  {
   "cell_type": "code",
   "execution_count": 28,
   "metadata": {},
   "outputs": [
    {
     "data": {
      "text/html": [
       "<div>\n",
       "<style scoped>\n",
       "    .dataframe tbody tr th:only-of-type {\n",
       "        vertical-align: middle;\n",
       "    }\n",
       "\n",
       "    .dataframe tbody tr th {\n",
       "        vertical-align: top;\n",
       "    }\n",
       "\n",
       "    .dataframe thead th {\n",
       "        text-align: right;\n",
       "    }\n",
       "</style>\n",
       "<table border=\"1\" class=\"dataframe\">\n",
       "  <thead>\n",
       "    <tr style=\"text-align: right;\">\n",
       "      <th></th>\n",
       "      <th>x</th>\n",
       "      <th>y</th>\n",
       "    </tr>\n",
       "  </thead>\n",
       "  <tbody>\n",
       "    <tr>\n",
       "      <th>count</th>\n",
       "      <td>198.000000</td>\n",
       "      <td>198.000000</td>\n",
       "    </tr>\n",
       "    <tr>\n",
       "      <th>mean</th>\n",
       "      <td>9.957385</td>\n",
       "      <td>10.059045</td>\n",
       "    </tr>\n",
       "    <tr>\n",
       "      <th>std</th>\n",
       "      <td>0.674958</td>\n",
       "      <td>2.142087</td>\n",
       "    </tr>\n",
       "    <tr>\n",
       "      <th>min</th>\n",
       "      <td>8.477957</td>\n",
       "      <td>5.170847</td>\n",
       "    </tr>\n",
       "    <tr>\n",
       "      <th>25%</th>\n",
       "      <td>9.519536</td>\n",
       "      <td>8.262657</td>\n",
       "    </tr>\n",
       "    <tr>\n",
       "      <th>50%</th>\n",
       "      <td>9.944950</td>\n",
       "      <td>10.401848</td>\n",
       "    </tr>\n",
       "    <tr>\n",
       "      <th>75%</th>\n",
       "      <td>10.408862</td>\n",
       "      <td>11.756148</td>\n",
       "    </tr>\n",
       "    <tr>\n",
       "      <th>max</th>\n",
       "      <td>11.837278</td>\n",
       "      <td>14.433791</td>\n",
       "    </tr>\n",
       "  </tbody>\n",
       "</table>\n",
       "</div>"
      ],
      "text/plain": [
       "                x           y\n",
       "count  198.000000  198.000000\n",
       "mean     9.957385   10.059045\n",
       "std      0.674958    2.142087\n",
       "min      8.477957    5.170847\n",
       "25%      9.519536    8.262657\n",
       "50%      9.944950   10.401848\n",
       "75%     10.408862   11.756148\n",
       "max     11.837278   14.433791"
      ]
     },
     "execution_count": 28,
     "metadata": {},
     "output_type": "execute_result"
    }
   ],
   "source": [
    "df_missing_new = df_missing.dropna()\n",
    "df_missing_new.describe()"
   ]
  },
  {
   "cell_type": "code",
   "execution_count": 39,
   "metadata": {},
   "outputs": [
    {
     "data": {
      "image/png": "[encoded data removed]",
      "text/plain": [
       "<Figure size 432x288 with 1 Axes>"
      ]
     },
     "metadata": {
      "needs_background": "light"
     },
     "output_type": "display_data"
    }
   ],
   "source": [
    "plt.scatter(df_missing_new.x, df_missing_new.y, c='red')\n",
    "\n",
    "#Use this code below (in addition to other code that you write above) to set the x-axis and y-axis plot limits to be between 0 to 14\n",
    "plt.xlim([0,14])\n",
    "plt.ylim([0,14])\n",
    "plt.show()"
   ]
  },
  {
   "cell_type": "markdown",
   "metadata": {},
   "source": [
    "#### 5.3.2. [1 pt] Then, calculate five Hopkin's statistics for this dataframe that you created above in 5.3.1."
   ]
  },
  {
   "cell_type": "code",
   "execution_count": 52,
   "metadata": {},
   "outputs": [
    {
     "name": "stdout",
     "output_type": "stream",
     "text": [
      "[0.4876875481348249, 0.4186908743103624, 0.39016778146099035, 0.3813598170397246, 0.4134296185858608]\n"
     ]
    }
   ],
   "source": [
    "num_trials=5\n",
    "hopkins_stats=[]\n",
    "for i in range(0,num_trials):\n",
    "    n = len(df_missing_new)\n",
    "    p = int(0.1 * n)\n",
    "    hopkins_stats.append(hopkins(df_missing_new,p))\n",
    "print(hopkins_stats)"
   ]
  },
  {
   "cell_type": "markdown",
   "metadata": {},
   "source": [
    "#### 5.3.3. [1 pt] Do the Hopkin's statistics that you calculated suggest that this dataset is clusterable? Explain."
   ]
  },
  {
   "cell_type": "markdown",
   "metadata": {},
   "source": [
    "> Since the Hopkin's statistics values are more closer to 0.5 than 0, the Hopkin's statistic suggests that the dataset is not clusterable."
   ]
  },
  {
   "cell_type": "markdown",
   "metadata": {},
   "source": [
    "#### 5.3.4. [1 pt] k-means elbow plot\n",
    "\n",
    "Create a k-means elbow plot for this dataframe that you created in 5.3.1."
   ]
  },
  {
   "cell_type": "code",
   "execution_count": 30,
   "metadata": {},
   "outputs": [
    {
     "data": {
      "image/png": "[encoded data removed]",
      "text/plain": [
       "<Figure size 432x288 with 1 Axes>"
      ]
     },
     "metadata": {
      "needs_background": "light"
     },
     "output_type": "display_data"
    }
   ],
   "source": [
    "cluster_num_list=range(1,15)\n",
    "avg_inertia_list=[]\n",
    "for k in cluster_num_list:\n",
    "    sub_inertia_list=[]\n",
    "    for i in range(0,3):\n",
    "        kmeans=KMeans(n_clusters=k).fit(df_missing_new)\n",
    "        sub_inertia_list.append(kmeans.inertia_)\n",
    "    avg_inertia_list.append(np.average(sub_inertia_list))\n",
    "\n",
    "#Plot it    \n",
    "plt.plot(cluster_num_list,avg_inertia_list)\n",
    "plt.xlabel('Number of Clusters Requested in K-means')\n",
    "plt.ylabel('Average Inertia of the K-Means Results (3 trials)')\n",
    "plt.title('Elbow Method Results for Data')\n",
    "plt.show()"
   ]
  },
  {
   "cell_type": "markdown",
   "metadata": {},
   "source": [
    "#### 5.3.5. [1 pt] Does this elbow plot suggest that the dataset with missing values dropped is clusterable? If so, how many clusters does this dataset have? Explain."
   ]
  },
  {
   "cell_type": "markdown",
   "metadata": {},
   "source": [
    "> Dataset with missing values dropped gives out two clusters.\n",
    "\n",
    "> The elbow plot shows that when number of clusters are two, there is significant drop of inertia from only one cluster. We can cluster the dataset with two clusters."
   ]
  },
  {
   "cell_type": "markdown",
   "metadata": {},
   "source": [
    "#### 5.3.6. [0.5 pt] Do your answers about clusterability in 5.3.3 and 5.3.6 agree?"
   ]
  },
  {
   "cell_type": "markdown",
   "metadata": {},
   "source": [
    "> These do not agree.\n",
    "\n",
    "> Hopkin's statistic suggests that the dataset is not clusterable whereas elbow plot shows there could be two clusters."
   ]
  },
  {
   "cell_type": "markdown",
   "metadata": {},
   "source": [
    "#### 5.3.7. [1.5 pt] Use the fact that this is a two dimensional dataset (in which we can visualize both dimensions) to explain why the elbow plot for the full dataset in 5.1.5 looks different and suggests something different than the elbow plot for the dataset with missing values dropped in 5.3.4."
   ]
  },
  {
   "cell_type": "code",
   "execution_count": 99,
   "metadata": {},
   "outputs": [
    {
     "data": {
      "image/png": "[encoded data removed]",
      "text/plain": [
       "<Figure size 1152x432 with 2 Axes>"
      ]
     },
     "metadata": {
      "needs_background": "light"
     },
     "output_type": "display_data"
    }
   ],
   "source": [
    "#Your code here\n",
    "plt.figure(figsize=(16,6))\n",
    "plt.subplot(121)\n",
    "\n",
    "plt.scatter(df_missing_new.x, df_missing_new.y, c='r')\n",
    "plt.title('Scatter plot of dataframe containing missing Y values dropped \\n corresponding to 5.3.4')\n",
    "plt.xlabel('x')\n",
    "plt.ylabel('y')\n",
    "#Use this code below (in addition to other code that you write above) to set the x-axis and y-axis plot limits to be between 0 to 14\n",
    "plt.xlim([0,14])\n",
    "plt.xlim([0,14])\n",
    "\n",
    "plt.subplot(122)\n",
    "\n",
    "plt.scatter(X.x, X.y)\n",
    "plt.title('Scatter plot of original dataframe without dropped Y values \\n corresponding to 5.1.5')\n",
    "#Use this code below (in addition to other code that you write above) to set the x-axis and y-axis plot limits to be between 0 to 14\n",
    "plt.xlabel('x')\n",
    "plt.ylabel('y')\n",
    "plt.xlim([0,14])\n",
    "plt.xlim([0,14])\n",
    "plt.tight_layout()\n",
    "plt.show()"
   ]
  },
  {
   "cell_type": "markdown",
   "metadata": {},
   "source": [
    "> As can be seen from the above plots, the one on the left has some objects removed. This makes the elbow plot to bend sharper from one cluster inertia to two clusters inertia. Also, from the plot, we can see, there could be two clusters that can be formed.\n",
    "\n",
    "> On the other hand, the original dataframe objects do not show any patterns of clusters. This is the reason, the elbow plot does not show any signs of clusterability."
   ]
  },
  {
   "cell_type": "markdown",
   "metadata": {},
   "source": [
    "### 5.4. Incomplete Dataset - Imputing the Missing Values with 0"
   ]
  },
  {
   "cell_type": "markdown",
   "metadata": {},
   "source": [
    "#### <u>Tutorial</u>: Filling rows with NaN values\n",
    "\n",
    "We can use the **.fillna()** pandas function to fill all NaN values in the given dataframe with a given value."
   ]
  },
  {
   "cell_type": "code",
   "execution_count": 9,
   "metadata": {},
   "outputs": [
    {
     "data": {
      "text/html": [
       "<div>\n",
       "<style scoped>\n",
       "    .dataframe tbody tr th:only-of-type {\n",
       "        vertical-align: middle;\n",
       "    }\n",
       "\n",
       "    .dataframe tbody tr th {\n",
       "        vertical-align: top;\n",
       "    }\n",
       "\n",
       "    .dataframe thead th {\n",
       "        text-align: right;\n",
       "    }\n",
       "</style>\n",
       "<table border=\"1\" class=\"dataframe\">\n",
       "  <thead>\n",
       "    <tr style=\"text-align: right;\">\n",
       "      <th></th>\n",
       "      <th>col1</th>\n",
       "      <th>col2</th>\n",
       "    </tr>\n",
       "  </thead>\n",
       "  <tbody>\n",
       "    <tr>\n",
       "      <th>0</th>\n",
       "      <td>NaN</td>\n",
       "      <td>NaN</td>\n",
       "    </tr>\n",
       "    <tr>\n",
       "      <th>1</th>\n",
       "      <td>4.0</td>\n",
       "      <td>3.0</td>\n",
       "    </tr>\n",
       "    <tr>\n",
       "      <th>2</th>\n",
       "      <td>NaN</td>\n",
       "      <td>7.0</td>\n",
       "    </tr>\n",
       "    <tr>\n",
       "      <th>3</th>\n",
       "      <td>2.0</td>\n",
       "      <td>8.0</td>\n",
       "    </tr>\n",
       "  </tbody>\n",
       "</table>\n",
       "</div>"
      ],
      "text/plain": [
       "   col1  col2\n",
       "0   NaN   NaN\n",
       "1   4.0   3.0\n",
       "2   NaN   7.0\n",
       "3   2.0   8.0"
      ]
     },
     "execution_count": 9,
     "metadata": {},
     "output_type": "execute_result"
    }
   ],
   "source": [
    "tmp=pd.DataFrame({'col1':[None,4,None,2], 'col2': [None,3,7,8]})\n",
    "tmp"
   ]
  },
  {
   "cell_type": "markdown",
   "metadata": {},
   "source": [
    "For instance, the code below fills all NaN values with the value 20."
   ]
  },
  {
   "cell_type": "code",
   "execution_count": 10,
   "metadata": {},
   "outputs": [
    {
     "data": {
      "text/html": [
       "<div>\n",
       "<style scoped>\n",
       "    .dataframe tbody tr th:only-of-type {\n",
       "        vertical-align: middle;\n",
       "    }\n",
       "\n",
       "    .dataframe tbody tr th {\n",
       "        vertical-align: top;\n",
       "    }\n",
       "\n",
       "    .dataframe thead th {\n",
       "        text-align: right;\n",
       "    }\n",
       "</style>\n",
       "<table border=\"1\" class=\"dataframe\">\n",
       "  <thead>\n",
       "    <tr style=\"text-align: right;\">\n",
       "      <th></th>\n",
       "      <th>col1</th>\n",
       "      <th>col2</th>\n",
       "    </tr>\n",
       "  </thead>\n",
       "  <tbody>\n",
       "    <tr>\n",
       "      <th>0</th>\n",
       "      <td>20.0</td>\n",
       "      <td>20.0</td>\n",
       "    </tr>\n",
       "    <tr>\n",
       "      <th>1</th>\n",
       "      <td>4.0</td>\n",
       "      <td>3.0</td>\n",
       "    </tr>\n",
       "    <tr>\n",
       "      <th>2</th>\n",
       "      <td>20.0</td>\n",
       "      <td>7.0</td>\n",
       "    </tr>\n",
       "    <tr>\n",
       "      <th>3</th>\n",
       "      <td>2.0</td>\n",
       "      <td>8.0</td>\n",
       "    </tr>\n",
       "  </tbody>\n",
       "</table>\n",
       "</div>"
      ],
      "text/plain": [
       "   col1  col2\n",
       "0  20.0  20.0\n",
       "1   4.0   3.0\n",
       "2  20.0   7.0\n",
       "3   2.0   8.0"
      ]
     },
     "execution_count": 10,
     "metadata": {},
     "output_type": "execute_result"
    }
   ],
   "source": [
    "tmp=tmp.fillna(20)\n",
    "tmp"
   ]
  },
  {
   "cell_type": "markdown",
   "metadata": {},
   "source": [
    "#### 5.4.1. [1 pt] Create a new dataframe that fills NaN values with 0 in df_missing."
   ]
  },
  {
   "cell_type": "code",
   "execution_count": 83,
   "metadata": {},
   "outputs": [
    {
     "data": {
      "text/html": [
       "<div>\n",
       "<style scoped>\n",
       "    .dataframe tbody tr th:only-of-type {\n",
       "        vertical-align: middle;\n",
       "    }\n",
       "\n",
       "    .dataframe tbody tr th {\n",
       "        vertical-align: top;\n",
       "    }\n",
       "\n",
       "    .dataframe thead th {\n",
       "        text-align: right;\n",
       "    }\n",
       "</style>\n",
       "<table border=\"1\" class=\"dataframe\">\n",
       "  <thead>\n",
       "    <tr style=\"text-align: right;\">\n",
       "      <th></th>\n",
       "      <th>x</th>\n",
       "      <th>y</th>\n",
       "    </tr>\n",
       "  </thead>\n",
       "  <tbody>\n",
       "    <tr>\n",
       "      <th>count</th>\n",
       "      <td>300.000000</td>\n",
       "      <td>300.000000</td>\n",
       "    </tr>\n",
       "    <tr>\n",
       "      <th>mean</th>\n",
       "      <td>9.972056</td>\n",
       "      <td>6.638970</td>\n",
       "    </tr>\n",
       "    <tr>\n",
       "      <th>std</th>\n",
       "      <td>0.697989</td>\n",
       "      <td>5.079855</td>\n",
       "    </tr>\n",
       "    <tr>\n",
       "      <th>min</th>\n",
       "      <td>7.715299</td>\n",
       "      <td>0.000000</td>\n",
       "    </tr>\n",
       "    <tr>\n",
       "      <th>25%</th>\n",
       "      <td>9.529000</td>\n",
       "      <td>0.000000</td>\n",
       "    </tr>\n",
       "    <tr>\n",
       "      <th>50%</th>\n",
       "      <td>9.979886</td>\n",
       "      <td>8.216145</td>\n",
       "    </tr>\n",
       "    <tr>\n",
       "      <th>75%</th>\n",
       "      <td>10.432473</td>\n",
       "      <td>11.290418</td>\n",
       "    </tr>\n",
       "    <tr>\n",
       "      <th>max</th>\n",
       "      <td>12.092064</td>\n",
       "      <td>14.433791</td>\n",
       "    </tr>\n",
       "  </tbody>\n",
       "</table>\n",
       "</div>"
      ],
      "text/plain": [
       "                x           y\n",
       "count  300.000000  300.000000\n",
       "mean     9.972056    6.638970\n",
       "std      0.697989    5.079855\n",
       "min      7.715299    0.000000\n",
       "25%      9.529000    0.000000\n",
       "50%      9.979886    8.216145\n",
       "75%     10.432473   11.290418\n",
       "max     12.092064   14.433791"
      ]
     },
     "execution_count": 83,
     "metadata": {},
     "output_type": "execute_result"
    }
   ],
   "source": [
    "df_missing_with_zeros = df_missing.fillna(0)\n",
    "df_missing_with_zeros.describe()"
   ]
  },
  {
   "cell_type": "markdown",
   "metadata": {},
   "source": [
    "#### 5.4.2. [1 pt] Then, calculate five Hopkin's statistics for this dataframe that you created above in 5.4.1."
   ]
  },
  {
   "cell_type": "code",
   "execution_count": 84,
   "metadata": {},
   "outputs": [
    {
     "name": "stdout",
     "output_type": "stream",
     "text": [
      "[0.18976635771574207, 0.14642447126622382, 0.12628161541017716, 0.15880658771099312, 0.1358661615074133]\n"
     ]
    }
   ],
   "source": [
    "num_trials=5\n",
    "hopkins_stats=[]\n",
    "for i in range(0,num_trials):\n",
    "    n = len(X)\n",
    "    p = int(0.1 * n)\n",
    "    hopkins_stats.append(hopkins(df_missing_with_zeros,p))\n",
    "print(hopkins_stats)"
   ]
  },
  {
   "cell_type": "markdown",
   "metadata": {},
   "source": [
    "#### 5.4.3. [1 pt] Do the Hopkin's statistics that you calculated suggest that this dataset is clusterable? Explain."
   ]
  },
  {
   "cell_type": "markdown",
   "metadata": {},
   "source": [
    "> Since all of these Hopkin's statistics are closer to 0 compared to 0.5, Hopkin's statistic suggests that the dataset is cluterable."
   ]
  },
  {
   "cell_type": "markdown",
   "metadata": {},
   "source": [
    "#### 5.4.4. [1 pt] k-means elbow plot\n",
    "\n",
    "Create a k-means elbow plot for this dataframe that you created in 5.4.1."
   ]
  },
  {
   "cell_type": "code",
   "execution_count": 85,
   "metadata": {},
   "outputs": [
    {
     "data": {
      "image/png": "[encoded data removed]",
      "text/plain": [
       "<Figure size 432x288 with 1 Axes>"
      ]
     },
     "metadata": {
      "needs_background": "light"
     },
     "output_type": "display_data"
    }
   ],
   "source": [
    "cluster_num_list=range(1,15)\n",
    "avg_inertia_list=[]\n",
    "for k in cluster_num_list:\n",
    "    sub_inertia_list=[]\n",
    "    for i in range(0,3):\n",
    "        kmeans=KMeans(n_clusters=k).fit(df_missing_with_zeros)\n",
    "        sub_inertia_list.append(kmeans.inertia_)\n",
    "    avg_inertia_list.append(np.average(sub_inertia_list))\n",
    "\n",
    "#Plot it    \n",
    "plt.plot(cluster_num_list,avg_inertia_list)\n",
    "plt.xlabel('Number of Clusters Requested in K-means')\n",
    "plt.ylabel('Average Inertia of the K-Means Results (3 trials)')\n",
    "plt.title('Elbow Method Results for Data')\n",
    "plt.show()"
   ]
  },
  {
   "cell_type": "markdown",
   "metadata": {},
   "source": [
    "#### 5.4.5. [1 pt] Does this elbow plot suggest that the dataset with missing values dropped is clusterable? If so, how many clusters does it have? Explain."
   ]
  },
  {
   "cell_type": "markdown",
   "metadata": {},
   "source": [
    "> The elbow plot suggests that the dataset with missing values replaced with zeros is clusterable.\n",
    "\n",
    "> It can be seen that there is a sharp drop of average inertia when we move from one cluster to two clusters. This drop continues till three clusters although the drop of avg. inertia from two clusters to three clusters is not as significant from one cluster to two, it is still considerable drop compared to clusters after that.\n",
    "\n",
    "> The elbow plot suggests that there are three clusters."
   ]
  },
  {
   "cell_type": "markdown",
   "metadata": {},
   "source": [
    "#### 5.4.6. [1.5 pt] Use the fact that this is a two dimensional dataset (in which we can visualize both dimensions) to explain why the elbow plot for the full dataset in 5.1.5 looks different and suggests something different than the elbow plot for the dataset with missing values filled with 0 in 5.4.4."
   ]
  },
  {
   "cell_type": "code",
   "execution_count": 98,
   "metadata": {},
   "outputs": [
    {
     "data": {
      "image/png": "[encoded data removed]",
      "text/plain": [
       "<Figure size 1152x720 with 3 Axes>"
      ]
     },
     "metadata": {
      "needs_background": "light"
     },
     "output_type": "display_data"
    }
   ],
   "source": [
    "#Your code here\n",
    "plt.figure(figsize=(16,10))\n",
    "plt.subplot(221)\n",
    "plt.scatter(df_missing_with_zeros.x, df_missing_with_zeros.y, c='orange')\n",
    "plt.title('Scatter plot of dataframe with missing Y replaced with 0  \\n plot corresponding to 5.4.4')\n",
    "plt.xlabel('x')\n",
    "plt.ylabel('y')\n",
    "#Use this code below (in addition to other code that you write above) to set the x-axis and y-axis plot limits to be between 0 to 14\n",
    "plt.xlim([0,14])\n",
    "plt.xlim([0,14])\n",
    "\n",
    "plt.subplot(222)\n",
    "\n",
    "plt.scatter(df_missing_new.x, df_missing_new.y, c='r')\n",
    "plt.title('Scatter plot of dataframe containing missing Y values dropped \\n plot corresponding to 5.3.4 used just for a ref. in this plot')\n",
    "plt.xlabel('x')\n",
    "plt.ylabel('y')\n",
    "#Use this code below (in addition to other code that you write above) to set the x-axis and y-axis plot limits to be between 0 to 14\n",
    "plt.xlim([0,14])\n",
    "plt.xlim([0,14])\n",
    "\n",
    "plt.subplot(223)\n",
    "\n",
    "plt.scatter(X.x, X.y)\n",
    "plt.title('Scatter plot of original dataframe without dropped Y values \\n plot corresponding to 5.1.5')\n",
    "#Use this code below (in addition to other code that you write above) to set the x-axis and y-axis plot limits to be between 0 to 14\n",
    "plt.xlabel('x')\n",
    "plt.ylabel('y')\n",
    "plt.xlim([0,14])\n",
    "plt.xlim([0,14])\n",
    "plt.tight_layout()\n",
    "plt.show()"
   ]
  },
  {
   "cell_type": "markdown",
   "metadata": {},
   "source": [
    "> As can be seen from the above plots, the first plot has missing Y objects replaced with 0. This makes the elbow plot to bend sharper from one cluster inertia to two clusters inertia till three cluster inertia. Also, from the plot, we can see, there could be three clusters that can be formed.\n",
    "\n",
    "> On the other hand, the original dataframe objects (last plot) do not show any patterns of clusters. This is the reason, the elbow plot does not show any signs of clusterability."
   ]
  }
 ],
 "metadata": {
  "kernelspec": {
   "display_name": "Python 3",
   "language": "python",
   "name": "python3"
  },
  "language_info": {
   "codemirror_mode": {
    "name": "ipython",
    "version": 3
   },
   "file_extension": ".py",
   "mimetype": "text/x-python",
   "name": "python",
   "nbconvert_exporter": "python",
   "pygments_lexer": "ipython3",
   "version": "3.8.5"
  }
 },
 "nbformat": 4,
 "nbformat_minor": 4
}
