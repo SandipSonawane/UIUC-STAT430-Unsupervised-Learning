{
 "cells": [
  {
   "cell_type": "markdown",
   "metadata": {},
   "source": [
    "### Evaluate Topic Model in Python: Latent Dirichlet Allocation (LDA)\n",
    "\n",
    "In the previous article, I introduced the concept of topic modeling and walked through the code for developing your first topic model using Latent Dirichlet Allocation (LDA) method in the python using gensim implementation.\n",
    "\n",
    "Pursuing on that understanding, in this article, I'll go a few steps deeper by outlining the framework to quantitatively evaluate topic models through the measure of topic coherence and share the code template in python using Gensim implementation to allow for end-to-end model development.\n",
    "\n",
    "### Why evaluate topic models?\n",
    "\n",
    "![img](https://tinyurl.com/y3xznjwq)\n",
    "\n",
    "We know probabilistic topic models, such as LDA, are popular tools for analysis of the text, providing both a predictive and latent topic representation of the corpus. There is a longstanding assumption that the latent space discovered by these models is meaningful and useful, and evaluating such assumptions is challenging due to its unsupervised training process. There is a no-gold standard list of topics to compare against every corpus.\n",
    "\n",
    "However, it is equally important to identify if a trained model is objectively good or bad, as well have an ability to compare different models/methods and to do so, we require an objective measure for the quality. Traditionally, and still for many practical applications, to evaluate if \"the correct thing\" has been learned about the corpus, we use implicit knowledge and \"eyeballing\" approaches. Ideally, we'd like to capture this information in a single metric that can be maximized, and compared. Let's take a look at roughly what approaches are commonly used for the evaluation:\n",
    "\n",
    "**Eye Balling Models**\n",
    "- Top N words\n",
    "- Topics / Documents\n",
    "\n",
    "**Intrinsic Evaluation Metrics**\n",
    "- Capturing model semantics\n",
    "- Topics interpretability\n",
    "\n",
    "**Human Judgements**\n",
    "- What is a topic\n",
    "\n",
    "**Extrinsic Evaluation Metrics/Evaluation at task**\n",
    "- Is model good at performing predefined tasks, such as classification\n",
    "\n",
    "Natural language is messy, ambiguous and full of subjective interpretation, and sometimes trying to cleanse ambiguity reduces the language to an unnatural form. Nevertheless, in this article, we'll explore more about topic coherence, and how we can use it to quantitatively justify the model selection.\n",
    "\n",
    "### What is Topic Coherence?\n",
    "\n",
    "Perplexity is often used as an example of an intrinsic evaluation measure. It comes from the language modeling community and aims to capture how surprised a model is of new data it has not seen before. It is measured as the normalized log-likelihood of a held-out test set.\n",
    "\n",
    "Focussing on the log-likelihood part, you can think of the perplexity metric as measuring how probable some new unseen data is given the model that was learned earlier. That is to say, how well does the model represent or reproduce the statistics of the held-out data.\n",
    "\n",
    "However, past research has shown that predictive likelihood (or equivalently, perplexity) and human judgment are often not correlated, and even sometimes slightly anti-correlated. And that served as a motivation for more work trying to model the human judgment, and thus `Topic Coherence`.\n",
    "\n",
    "The topic coherence concept combines a number of papers into one framework that allows evaluating the coherence of topics inferred by a topic model. But,\n",
    "\n",
    "#### What is topic coherence?\n",
    "Topic Coherence measures score a single topic by measuring the degree of semantic similarity between high scoring words in the topic. These measurements help distinguish between topics that are semantically interpretable topics and topics that are artifacts of statistical inference. But,\n",
    "\n",
    "#### What is coherence?\n",
    "A set of statements or facts is said to be coherent, if they support each other. Thus, a coherent fact set can be interpreted in a context that covers all or most of the facts. An example of a coherent fact set is \"the game is a team sport\", \"the game is played with a ball\", \"the game demands great physical efforts\"\n",
    "\n",
    "### Coherence Measures\n",
    "\n",
    "1. `C_v` measure is based on a sliding window, one-set segmentation of the top words and an indirect confirmation measure that uses normalized pointwise mutual information (NPMI) and the cosine similarity\n",
    "2. `C_p` is based on a sliding window, one-preceding segmentation of the top words and the confirmation measure of Fitelson's coherence\n",
    "3. `C_uci` measure is based on a sliding window and the pointwise mutual information (PMI) of all word pairs of the given top words\n",
    "4. `C_umass` is based on document cooccurrence counts, a one-preceding segmentation and a logarithmic conditional probability as confirmation measure\n",
    "5. `C_npmi` is an enhanced version of the C_uci coherence using the normalized pointwise mutual information (NPMI)\n",
    "6. `C_a` is baseed on a context window, a pairwise comparison of the top words and an indirect confirmation measure that uses normalized pointwise mutual information (NPMI) and the cosine similarity"
   ]
  },
  {
   "cell_type": "markdown",
   "metadata": {},
   "source": [
    "### Model Implementation\n",
    "1. Loading Data\n",
    "2. Data Cleaning\n",
    "3. Phrase Modeling: Bi-grams and Tri-grams\n",
    "4. Data Transformation: Corpus and Dictionary\n",
    "5. Base Model\n",
    "6. Hyper-parameter Tuning\n",
    "7. Final model\n",
    "8. Visualize Results\n",
    "\n",
    "** **\n",
    "\n",
    "For this tutorial, we’ll use the dataset of papers published in NeurIPS (NIPS) conference which is one of the most prestigious yearly events in the machine learning community. The CSV data file contains information on the different NeurIPS papers that were published from 1987 until 2016 (29 years!). These papers discuss a wide variety of topics in machine learning, from neural networks to optimization methods, and many more.\n",
    "\n",
    "<img src=\"https://s3.amazonaws.com/assets.datacamp.com/production/project_158/img/nips_logo.png\" alt=\"The logo of NIPS (Neural Information Processing Systems)\">\n",
    "\n",
    "Let’s start by looking at the content of the file\n",
    "\n",
    "** **\n",
    "#### Step 1: Loading Data\n",
    "** **"
   ]
  },
  {
   "cell_type": "code",
   "execution_count": 1,
   "metadata": {},
   "outputs": [],
   "source": [
    "# Importing modules\n",
    "import pandas as pd\n",
    "import os\n",
    "import warnings\n",
    "warnings.filterwarnings('ignore')\n",
    "\n",
    "# Read data into papers\n",
    "df = pd.read_excel('Job_data.xlsx')"
   ]
  },
  {
   "cell_type": "markdown",
   "metadata": {},
   "source": [
    "** **\n",
    "#### Step 2: Data Cleaning\n",
    "** **\n",
    "\n",
    "Since the goal of this analysis is to perform topic modeling, we will solely focus on the text data from each paper, and drop other metadata columns"
   ]
  },
  {
   "cell_type": "code",
   "execution_count": 2,
   "metadata": {},
   "outputs": [],
   "source": [
    "df = df.drop(columns=['Unnamed: 0', 'location_and_id', 'posting_date', 'country_name',\n",
    "                      'alpha_2', 'alpha_3', 'un_code', 'link', 'city', 'job_id'])\n",
    "df = df[df.company=='Facebook']"
   ]
  },
  {
   "cell_type": "code",
   "execution_count": 3,
   "metadata": {},
   "outputs": [],
   "source": [
    "df = df.drop_duplicates(subset='qualifications', keep=\"last\")\n",
    "df = df.reset_index(drop=True)"
   ]
  },
  {
   "cell_type": "code",
   "execution_count": 4,
   "metadata": {},
   "outputs": [],
   "source": [
    "df[\"information\"] = df[\"description\"] + df[\"qualifications\"]\n",
    "df[\"paper_text\"] = df[\"description\"] + df[\"qualifications\"]"
   ]
  },
  {
   "cell_type": "code",
   "execution_count": 5,
   "metadata": {},
   "outputs": [],
   "source": [
    "papers = df[[\"paper_text\"]]"
   ]
  },
  {
   "cell_type": "code",
   "execution_count": 6,
   "metadata": {},
   "outputs": [],
   "source": [
    "# # Remove the columns\n",
    "# papers = papers.drop(columns=['id', 'title', 'abstract', \n",
    "#                               'event_type', 'pdf_name', 'year'], axis=1)\n",
    "\n",
    "# # sample only 100 papers\n",
    "# papers = papers.sample(100)\n",
    "\n",
    "# # Print out the first rows of papers\n",
    "# papers.head()"
   ]
  },
  {
   "cell_type": "markdown",
   "metadata": {},
   "source": [
    "##### Remove punctuation/lower casing\n",
    "\n",
    "Next, let’s perform a simple preprocessing on the content of paper_text column to make them more amenable for analysis, and reliable results. To do that, we’ll use a regular expression to remove any punctuation, and then lowercase the text"
   ]
  },
  {
   "cell_type": "code",
   "execution_count": 7,
   "metadata": {},
   "outputs": [
    {
     "data": {
      "text/plain": [
       "0    lead the ideation technical development and la...\n",
       "1    lead the ideation technical development and la...\n",
       "2    display strong leadership organizational and e...\n",
       "3    lead a team through the ideation technical dev...\n",
       "4    lead a team through the ideation technical dev...\n",
       "Name: paper_text_processed, dtype: object"
      ]
     },
     "execution_count": 7,
     "metadata": {},
     "output_type": "execute_result"
    }
   ],
   "source": [
    "# Load the regular expression library\n",
    "import re\n",
    "\n",
    "# Remove punctuation\n",
    "papers['paper_text_processed'] = papers['paper_text'].map(lambda x: re.sub('[,\\.!?]', '', x))\n",
    "\n",
    "# Convert the titles to lowercase\n",
    "papers['paper_text_processed'] = papers['paper_text_processed'].map(lambda x: x.lower())\n",
    "\n",
    "# Print out the first rows of papers\n",
    "papers['paper_text_processed'].head()"
   ]
  },
  {
   "cell_type": "markdown",
   "metadata": {},
   "source": [
    "##### Tokenize words and further clean-up text\n",
    "\n",
    "Let’s tokenize each sentence into a list of words, removing punctuations and unnecessary characters altogether."
   ]
  },
  {
   "cell_type": "code",
   "execution_count": 8,
   "metadata": {},
   "outputs": [
    {
     "name": "stdout",
     "output_type": "stream",
     "text": [
      "['lead', 'the', 'ideation', 'technical', 'development', 'and', 'launch', 'of', 'innovative', 'products', 'establish', 'shared', 'vision', 'across', 'the', 'company', 'by', 'building', 'consensus', 'on', 'priorities', 'leading', 'to', 'product', 'execution', 'drive', 'product', 'development', 'with', 'team']\n"
     ]
    }
   ],
   "source": [
    "import gensim\n",
    "from gensim.utils import simple_preprocess\n",
    "\n",
    "def sent_to_words(sentences):\n",
    "    for sentence in sentences:\n",
    "        yield(gensim.utils.simple_preprocess(str(sentence), deacc=True))  # deacc=True removes punctuations\n",
    "\n",
    "data = papers.paper_text_processed.values.tolist()\n",
    "data_words = list(sent_to_words(data))\n",
    "\n",
    "print(data_words[:1][0][:30])"
   ]
  },
  {
   "cell_type": "markdown",
   "metadata": {},
   "source": [
    "** **\n",
    "#### Step 3: Phrase Modeling: Bigram and Trigram Models\n",
    "** **\n",
    "\n",
    "Bigrams are two words frequently occurring together in the document. Trigrams are 3 words frequently occurring. Some examples in our example are: 'back_bumper', 'oil_leakage', 'maryland_college_park' etc.\n",
    "\n",
    "Gensim's Phrases model can build and implement the bigrams, trigrams, quadgrams and more. The two important arguments to Phrases are min_count and threshold."
   ]
  },
  {
   "cell_type": "code",
   "execution_count": 9,
   "metadata": {},
   "outputs": [],
   "source": [
    "# Build the bigram and trigram models\n",
    "bigram = gensim.models.Phrases(data_words, min_count=5, threshold=100) # higher threshold fewer phrases.\n",
    "trigram = gensim.models.Phrases(bigram[data_words], threshold=100)  \n",
    "\n",
    "# Faster way to get a sentence clubbed as a trigram/bigram\n",
    "bigram_mod = gensim.models.phrases.Phraser(bigram)\n",
    "trigram_mod = gensim.models.phrases.Phraser(trigram)"
   ]
  },
  {
   "cell_type": "markdown",
   "metadata": {},
   "source": [
    "#### Remove Stopwords, Make Bigrams and Lemmatize\n",
    "\n",
    "The phrase models are ready. Let’s define the functions to remove the stopwords, make trigrams and lemmatization and call them sequentially."
   ]
  },
  {
   "cell_type": "code",
   "execution_count": 10,
   "metadata": {},
   "outputs": [],
   "source": [
    "new_stopwords = ['age', 'sexual', 'gender', 'disability', 'race', 'religion', 'belief', 'opportunity', 'employer',\n",
    "                 'discrimate', 'opportunity', 'equal', 'national', 'origin', 'national', 'veteran', 'orientation',\n",
    "                 'legally', 'problems', 'solutions', 'processing', 'state', 'peer', 'environment', 'proven',\n",
    "                 'visit', 'https', 'status', 'jobs', 'amazon', 'diverse', 'individual', 'protected', 'discriminate',\n",
    "                 'disabilities', 'individuals', 'workplace', 'inclusive', 'please', 'us', 'en', 'new', 'committed',\n",
    "                 'demonstrated', 'minimum', 'current', 'system', 'pattern', 'fundamental',\n",
    "                 'strong', 'degree', 'year', 'one', 'least', 'identity', 'accommodation', 'years', 'e g', 'ability',\n",
    "                 'request', 'basis', 'g', 's', 'record', 'experience', 'working', 'etc', 'e', 'knowledge', 'using', 'team',\n",
    "                 'design', 'bachelor', 'solution', 'field', 'related', 'work', 'hands', 'building', 'relevant',\n",
    "                 'industry', 'equivalent', 'business', 'problem', 'skill', 'skills', 'application', 'track', 'similar', 'plus',\n",
    "                 'including', 'professional', 'c c', 'reliability', 'role', 'etl', 'fluid', 'messenger', 'whatsapp',\n",
    "                'experiecne', 'team', 'datum', 'year', 'work']"
   ]
  },
  {
   "cell_type": "code",
   "execution_count": 11,
   "metadata": {},
   "outputs": [
    {
     "name": "stderr",
     "output_type": "stream",
     "text": [
      "[nltk_data] Downloading package stopwords to\n",
      "[nltk_data]     C:\\Users\\Sandi\\AppData\\Roaming\\nltk_data...\n",
      "[nltk_data]   Package stopwords is already up-to-date!\n"
     ]
    }
   ],
   "source": [
    "# NLTK Stop words\n",
    "import nltk\n",
    "nltk.download('stopwords')\n",
    "from nltk.corpus import stopwords\n",
    "\n",
    "stop_words = stopwords.words('english')\n",
    "stop_words.extend(new_stopwords)"
   ]
  },
  {
   "cell_type": "code",
   "execution_count": 12,
   "metadata": {},
   "outputs": [],
   "source": [
    "# Define functions for stopwords, bigrams, trigrams and lemmatization\n",
    "def remove_stopwords(texts):\n",
    "    return [[word for word in simple_preprocess(str(doc)) if word not in stop_words] for doc in texts]\n",
    "\n",
    "def make_bigrams(texts):\n",
    "    return [bigram_mod[doc] for doc in texts]\n",
    "\n",
    "def make_trigrams(texts):\n",
    "    return [trigram_mod[bigram_mod[doc]] for doc in texts]\n",
    "\n",
    "def lemmatization(texts, allowed_postags=['NOUN', 'ADJ', 'VERB', 'ADV']):\n",
    "    \"\"\"https://spacy.io/api/annotation\"\"\"\n",
    "    texts_out = []\n",
    "    for sent in texts:\n",
    "        doc = nlp(\" \".join(sent)) \n",
    "        texts_out.append([token.lemma_ for token in doc if token.pos_ in allowed_postags])\n",
    "    return texts_out"
   ]
  },
  {
   "cell_type": "markdown",
   "metadata": {},
   "source": [
    "Let's call the functions in order."
   ]
  },
  {
   "cell_type": "code",
   "execution_count": 13,
   "metadata": {},
   "outputs": [],
   "source": [
    "# !python -m spacy download en_core_web_sm"
   ]
  },
  {
   "cell_type": "code",
   "execution_count": 14,
   "metadata": {},
   "outputs": [
    {
     "name": "stdout",
     "output_type": "stream",
     "text": [
      "['lead', 'ideation', 'technical', 'development', 'launch', 'innovative', 'product', 'establish_share', 'vision', 'company', 'consensus', 'priority', 'lead', 'product', 'execution', 'drive', 'product', 'development', 'world_class', 'engineer', 'designer', 'integrate_usability', 'study', 'research', 'market', 'analysis', 'product', 'requirement', 'enhance', 'user_satisfaction']\n"
     ]
    }
   ],
   "source": [
    "import spacy\n",
    "\n",
    "# Remove Stop Words\n",
    "data_words_nostops = remove_stopwords(data_words)\n",
    "\n",
    "# Form Bigrams\n",
    "data_words_bigrams = make_bigrams(data_words_nostops)\n",
    "\n",
    "# Initialize spacy 'en' model, keeping only tagger component (for efficiency)\n",
    "nlp = spacy.load(\"en_core_web_sm\", disable=['parser', 'ner'])\n",
    "\n",
    "# Do lemmatization keeping only noun, adj, vb, adv\n",
    "data_lemmatized = lemmatization(data_words_bigrams, allowed_postags=['NOUN', 'ADJ', 'VERB', 'ADV'])\n",
    "\n",
    "print(data_lemmatized[:1][0][:30])"
   ]
  },
  {
   "cell_type": "markdown",
   "metadata": {},
   "source": [
    "** **\n",
    "#### Step 4: Data transformation: Corpus and Dictionary\n",
    "** **\n",
    "\n",
    "The two main inputs to the LDA topic model are the dictionary(id2word) and the corpus. Let’s create them."
   ]
  },
  {
   "cell_type": "code",
   "execution_count": 15,
   "metadata": {},
   "outputs": [
    {
     "name": "stdout",
     "output_type": "stream",
     "text": [
      "[(0, 1), (1, 1), (2, 1), (3, 1), (4, 1), (5, 1), (6, 1), (7, 1), (8, 1), (9, 2), (10, 1), (11, 2), (12, 2), (13, 1), (14, 1), (15, 1), (16, 1), (17, 1), (18, 1), (19, 1), (20, 1), (21, 1), (22, 1), (23, 1), (24, 1), (25, 1), (26, 1), (27, 2), (28, 1), (29, 1)]\n"
     ]
    }
   ],
   "source": [
    "import gensim.corpora as corpora\n",
    "\n",
    "# Create Dictionary\n",
    "id2word = corpora.Dictionary(data_lemmatized)\n",
    "\n",
    "# Create Corpus\n",
    "texts = data_lemmatized\n",
    "\n",
    "# Term Document Frequency\n",
    "corpus = [id2word.doc2bow(text) for text in texts]\n",
    "\n",
    "# View\n",
    "print(corpus[:1][0][:30])"
   ]
  },
  {
   "cell_type": "markdown",
   "metadata": {},
   "source": [
    "** **\n",
    "#### Step 5: Base Model \n",
    "** **\n",
    "\n",
    "We have everything required to train the base LDA model. In addition to the corpus and dictionary, you need to provide the number of topics as well. Apart from that, alpha and eta are hyperparameters that affect sparsity of the topics. According to the Gensim docs, both defaults to 1.0/num_topics prior (we'll use default for the base model).\n",
    "\n",
    "chunksize controls how many documents are processed at a time in the training algorithm. Increasing chunksize will speed up training, at least as long as the chunk of documents easily fit into memory.\n",
    "\n",
    "passes controls how often we train the model on the entire corpus (set to 10). Another word for passes might be \"epochs\". iterations is somewhat technical, but essentially it controls how often we repeat a particular loop over each document. It is important to set the number of \"passes\" and \"iterations\" high enough."
   ]
  },
  {
   "cell_type": "code",
   "execution_count": 16,
   "metadata": {},
   "outputs": [],
   "source": [
    "# Build LDA model\n",
    "lda_model = gensim.models.LdaMulticore(corpus=corpus,\n",
    "                                       id2word=id2word,\n",
    "                                       num_topics=10, \n",
    "                                       random_state=100,\n",
    "                                       chunksize=100,\n",
    "                                       passes=10,\n",
    "                                       per_word_topics=True)"
   ]
  },
  {
   "cell_type": "markdown",
   "metadata": {},
   "source": [
    "** **\n",
    "The above LDA model is built with 10 different topics where each topic is a combination of keywords and each keyword contributes a certain weightage to the topic.\n",
    "\n",
    "You can see the keywords for each topic and the weightage(importance) of each keyword using `lda_model.print_topics()`"
   ]
  },
  {
   "cell_type": "code",
   "execution_count": 17,
   "metadata": {},
   "outputs": [
    {
     "name": "stdout",
     "output_type": "stream",
     "text": [
      "[(0,\n",
      "  '0.015*\"team\" + 0.015*\"partner\" + 0.014*\"manage\" + 0.013*\"strategy\" + '\n",
      "  '0.012*\"drive\" + 0.012*\"recruit\" + 0.012*\"management\" + 0.011*\"datum\" + '\n",
      "  '0.011*\"lead\" + 0.011*\"research\"'),\n",
      " (1,\n",
      "  '0.039*\"product\" + 0.024*\"datum\" + 0.023*\"research\" + 0.018*\"analysis\" + '\n",
      "  '0.013*\"marketing\" + 0.013*\"quantitative\" + 0.012*\"team\" + 0.011*\"strategy\" '\n",
      "  '+ 0.010*\"partner\" + 0.010*\"science\"'),\n",
      " (2,\n",
      "  '0.028*\"datum\" + 0.014*\"process\" + 0.012*\"manage\" + 0.011*\"stakeholder\" + '\n",
      "  '0.011*\"partner\" + 0.011*\"immigration\" + 0.011*\"need\" + 0.010*\"internal\" + '\n",
      "  '0.010*\"report\" + 0.008*\"project\"'),\n",
      " (3,\n",
      "  '0.014*\"audio\" + 0.013*\"project\" + 0.012*\"manage\" + 0.012*\"product\" + '\n",
      "  '0.011*\"change\" + 0.011*\"team\" + 0.010*\"management\" + 0.009*\"functional\" + '\n",
      "  '0.009*\"drive\" + 0.009*\"datum\"'),\n",
      " (4,\n",
      "  '0.027*\"software\" + 0.016*\"network\" + 0.012*\"system\" + 0.012*\"ar_vr\" + '\n",
      "  '0.012*\"real_time\" + 0.011*\"develop\" + 0.010*\"engineering\" + '\n",
      "  '0.010*\"computer\" + 0.010*\"debug\" + 0.009*\"development\"'),\n",
      " (5,\n",
      "  '0.016*\"hire\" + 0.014*\"research\" + 0.013*\"source\" + 0.011*\"partner\" + '\n",
      "  '0.011*\"develop\" + 0.009*\"lead\" + 0.009*\"manager\" + 0.009*\"recruiter\" + '\n",
      "  '0.008*\"talent\" + 0.008*\"candidate\"'),\n",
      " (6,\n",
      "  '0.021*\"management\" + 0.020*\"partner\" + 0.020*\"program\" + 0.016*\"project\" + '\n",
      "  '0.013*\"cross\" + 0.012*\"team\" + 0.011*\"process\" + 0.011*\"manage\" + '\n",
      "  '0.011*\"functional\" + 0.010*\"product\"'),\n",
      " (7,\n",
      "  '0.039*\"datum\" + 0.037*\"product\" + 0.012*\"build\" + 0.011*\"develop\" + '\n",
      "  '0.010*\"development\" + 0.010*\"software\" + 0.010*\"research\" + 0.009*\"drive\" + '\n",
      "  '0.009*\"computer\" + 0.009*\"system\"'),\n",
      " (8,\n",
      "  '0.019*\"system\" + 0.018*\"engineering\" + 0.015*\"software\" + 0.013*\"computer\" '\n",
      "  '+ 0.012*\"hardware\" + 0.009*\"development\" + 0.009*\"team\" + 0.008*\"develop\" + '\n",
      "  '0.008*\"technology\" + 0.008*\"prototype\"'),\n",
      " (9,\n",
      "  '0.029*\"product\" + 0.017*\"datum\" + 0.015*\"technical\" + 0.015*\"team\" + '\n",
      "  '0.015*\"drive\" + 0.012*\"partner\" + 0.012*\"cross\" + 0.011*\"engineering\" + '\n",
      "  '0.011*\"functional\" + 0.010*\"project\"')]\n"
     ]
    }
   ],
   "source": [
    "from pprint import pprint\n",
    "\n",
    "# Print the Keyword in the 10 topics\n",
    "pprint(lda_model.print_topics())\n",
    "doc_lda = lda_model[corpus]"
   ]
  },
  {
   "cell_type": "markdown",
   "metadata": {},
   "source": [
    "#### Compute Model Perplexity and Coherence Score\n",
    "\n",
    "Let's calculate the baseline coherence score"
   ]
  },
  {
   "cell_type": "code",
   "execution_count": 18,
   "metadata": {},
   "outputs": [
    {
     "name": "stdout",
     "output_type": "stream",
     "text": [
      "Coherence Score:  0.39389188474921344\n"
     ]
    }
   ],
   "source": [
    "from gensim.models import CoherenceModel\n",
    "\n",
    "# Compute Coherence Score\n",
    "coherence_model_lda = CoherenceModel(model=lda_model, texts=data_lemmatized, dictionary=id2word, coherence='c_v')\n",
    "coherence_lda = coherence_model_lda.get_coherence()\n",
    "print('Coherence Score: ', coherence_lda)"
   ]
  },
  {
   "cell_type": "markdown",
   "metadata": {},
   "source": [
    "** **\n",
    "#### Step 6: Hyperparameter tuning\n",
    "** **\n",
    "First, let's differentiate between model hyperparameters and model parameters :\n",
    "\n",
    "- `Model hyperparameters` can be thought of as settings for a machine learning algorithm that are tuned by the data scientist before training. Examples would be the number of trees in the random forest, or in our case, number of topics K\n",
    "\n",
    "- `Model parameters` can be thought of as what the model learns during training, such as the weights for each word in a given topic.\n",
    "\n",
    "Now that we have the baseline coherence score for the default LDA model, let's perform a series of sensitivity tests to help determine the following model hyperparameters: \n",
    "- Number of Topics (K)\n",
    "- Dirichlet hyperparameter alpha: Document-Topic Density\n",
    "- Dirichlet hyperparameter beta: Word-Topic Density\n",
    "\n",
    "We'll perform these tests in sequence, one parameter at a time by keeping others constant and run them over the two difference validation corpus sets. We'll use `C_v` as our choice of metric for performance comparison "
   ]
  },
  {
   "cell_type": "code",
   "execution_count": 19,
   "metadata": {},
   "outputs": [],
   "source": [
    "# supporting function\n",
    "def compute_coherence_values(corpus, dictionary, k, a, b):\n",
    "    \n",
    "    lda_model = gensim.models.LdaMulticore(corpus=corpus,\n",
    "                                           id2word=dictionary,\n",
    "                                           num_topics=k, \n",
    "                                           random_state=100,\n",
    "                                           chunksize=100,\n",
    "                                           passes=10,\n",
    "                                           alpha=a,\n",
    "                                           eta=b)\n",
    "    \n",
    "    coherence_model_lda = CoherenceModel(model=lda_model, texts=data_lemmatized, dictionary=id2word, coherence='c_v')\n",
    "    \n",
    "    return coherence_model_lda.get_coherence()"
   ]
  },
  {
   "cell_type": "markdown",
   "metadata": {},
   "source": [
    "Let's call the function, and iterate it over the range of topics, alpha, and beta parameter values"
   ]
  },
  {
   "cell_type": "code",
   "execution_count": 20,
   "metadata": {},
   "outputs": [
    {
     "name": "stderr",
     "output_type": "stream",
     "text": [
      "100%|██████████| 540/540 [2:30:01<00:00, 16.67s/it]  \n"
     ]
    }
   ],
   "source": [
    "import numpy as np\n",
    "import tqdm\n",
    "\n",
    "grid = {}\n",
    "grid['Validation_Set'] = {}\n",
    "\n",
    "# Topics range\n",
    "min_topics = 2\n",
    "max_topics = 11\n",
    "step_size = 1\n",
    "topics_range = range(min_topics, max_topics, step_size)\n",
    "\n",
    "# Alpha parameter\n",
    "alpha = list(np.arange(0.01, 1, 0.3))\n",
    "alpha.append('symmetric')\n",
    "alpha.append('asymmetric')\n",
    "\n",
    "# Beta parameter\n",
    "beta = list(np.arange(0.01, 1, 0.3))\n",
    "beta.append('symmetric')\n",
    "\n",
    "# Validation sets\n",
    "num_of_docs = len(corpus)\n",
    "corpus_sets = [gensim.utils.ClippedCorpus(corpus, int(num_of_docs*0.75)), \n",
    "               corpus]\n",
    "\n",
    "corpus_title = ['75% Corpus', '100% Corpus']\n",
    "\n",
    "model_results = {'Validation_Set': [],\n",
    "                 'Topics': [],\n",
    "                 'Alpha': [],\n",
    "                 'Beta': [],\n",
    "                 'Coherence': []\n",
    "                }\n",
    "\n",
    "# Can take a long time to run\n",
    "if 1 == 1:\n",
    "    pbar = tqdm.tqdm(total=(len(beta)*len(alpha)*len(topics_range)*len(corpus_title)))\n",
    "    \n",
    "    # iterate through validation corpuses\n",
    "    for i in range(len(corpus_sets)):\n",
    "#     i = 1\n",
    "        # iterate through number of topics\n",
    "        for k in topics_range:\n",
    "            # iterate through alpha values\n",
    "            for a in alpha:\n",
    "                # iterare through beta values\n",
    "                for b in beta:\n",
    "                    # get the coherence score for the given parameters\n",
    "                    cv = compute_coherence_values(corpus=corpus_sets[i], dictionary=id2word, \n",
    "                                                  k=k, a=a, b=b)\n",
    "                    # Save the model results\n",
    "                    model_results['Validation_Set'].append(corpus_title[i])\n",
    "                    model_results['Topics'].append(k)\n",
    "                    model_results['Alpha'].append(a)\n",
    "                    model_results['Beta'].append(b)\n",
    "                    model_results['Coherence'].append(cv)\n",
    "\n",
    "                    pbar.update(1)\n",
    "        pd.DataFrame(model_results).to_csv('./results/lda_tuning_results_top_skills.csv', index=False)\n",
    "    pbar.close()"
   ]
  },
  {
   "cell_type": "code",
   "execution_count": 30,
   "metadata": {},
   "outputs": [
    {
     "data": {
      "text/html": [
       "<div>\n",
       "<style scoped>\n",
       "    .dataframe tbody tr th:only-of-type {\n",
       "        vertical-align: middle;\n",
       "    }\n",
       "\n",
       "    .dataframe tbody tr th {\n",
       "        vertical-align: top;\n",
       "    }\n",
       "\n",
       "    .dataframe thead th {\n",
       "        text-align: right;\n",
       "    }\n",
       "</style>\n",
       "<table border=\"1\" class=\"dataframe\">\n",
       "  <thead>\n",
       "    <tr style=\"text-align: right;\">\n",
       "      <th></th>\n",
       "      <th>Validation_Set</th>\n",
       "      <th>Topics</th>\n",
       "      <th>Alpha</th>\n",
       "      <th>Beta</th>\n",
       "      <th>Coherence</th>\n",
       "    </tr>\n",
       "  </thead>\n",
       "  <tbody>\n",
       "    <tr>\n",
       "      <th>0</th>\n",
       "      <td>75% Corpus</td>\n",
       "      <td>2</td>\n",
       "      <td>0.01</td>\n",
       "      <td>0.01</td>\n",
       "      <td>0.327254</td>\n",
       "    </tr>\n",
       "    <tr>\n",
       "      <th>1</th>\n",
       "      <td>75% Corpus</td>\n",
       "      <td>2</td>\n",
       "      <td>0.01</td>\n",
       "      <td>0.31</td>\n",
       "      <td>0.327254</td>\n",
       "    </tr>\n",
       "    <tr>\n",
       "      <th>2</th>\n",
       "      <td>75% Corpus</td>\n",
       "      <td>2</td>\n",
       "      <td>0.01</td>\n",
       "      <td>0.61</td>\n",
       "      <td>0.327254</td>\n",
       "    </tr>\n",
       "    <tr>\n",
       "      <th>3</th>\n",
       "      <td>75% Corpus</td>\n",
       "      <td>2</td>\n",
       "      <td>0.01</td>\n",
       "      <td>0.9099999999999999</td>\n",
       "      <td>0.327254</td>\n",
       "    </tr>\n",
       "    <tr>\n",
       "      <th>4</th>\n",
       "      <td>75% Corpus</td>\n",
       "      <td>2</td>\n",
       "      <td>0.01</td>\n",
       "      <td>symmetric</td>\n",
       "      <td>0.327254</td>\n",
       "    </tr>\n",
       "  </tbody>\n",
       "</table>\n",
       "</div>"
      ],
      "text/plain": [
       "  Validation_Set  Topics Alpha                Beta  Coherence\n",
       "0     75% Corpus       2  0.01                0.01   0.327254\n",
       "1     75% Corpus       2  0.01                0.31   0.327254\n",
       "2     75% Corpus       2  0.01                0.61   0.327254\n",
       "3     75% Corpus       2  0.01  0.9099999999999999   0.327254\n",
       "4     75% Corpus       2  0.01           symmetric   0.327254"
      ]
     },
     "execution_count": 30,
     "metadata": {},
     "output_type": "execute_result"
    }
   ],
   "source": [
    "result_hy_opt = pd.read_csv('./results/lda_tuning_results_top_skills.csv')\n",
    "result_hy_opt.head()"
   ]
  },
  {
   "cell_type": "code",
   "execution_count": 39,
   "metadata": {},
   "outputs": [
    {
     "data": {
      "image/png": "[encoded data removed]",
      "text/plain": [
       "<Figure size 576x396 with 1 Axes>"
      ]
     },
     "metadata": {},
     "output_type": "display_data"
    }
   ],
   "source": [
    "import matplotlib.pyplot as plt\n",
    "plt.style.use('seaborn')\n",
    "result_hy_opt.groupby(by=['Topics']).mean().plot()\n",
    "plt.title('Mean Coherence by number of topics')\n",
    "plt.show()"
   ]
  },
  {
   "cell_type": "code",
   "execution_count": 40,
   "metadata": {},
   "outputs": [
    {
     "data": {
      "image/png": "[encoded data removed]",
      "text/plain": [
       "<Figure size 576x396 with 1 Axes>"
      ]
     },
     "metadata": {},
     "output_type": "display_data"
    }
   ],
   "source": [
    "import matplotlib.pyplot as plt\n",
    "plt.style.use('seaborn')\n",
    "result_hy_opt.groupby(by=['Topics']).max().plot()\n",
    "plt.title('Max Coherence by number of topics')\n",
    "plt.show()"
   ]
  },
  {
   "cell_type": "code",
   "execution_count": 95,
   "metadata": {},
   "outputs": [
    {
     "data": {
      "text/html": [
       "<div>\n",
       "<style scoped>\n",
       "    .dataframe tbody tr th:only-of-type {\n",
       "        vertical-align: middle;\n",
       "    }\n",
       "\n",
       "    .dataframe tbody tr th {\n",
       "        vertical-align: top;\n",
       "    }\n",
       "\n",
       "    .dataframe thead th {\n",
       "        text-align: right;\n",
       "    }\n",
       "</style>\n",
       "<table border=\"1\" class=\"dataframe\">\n",
       "  <thead>\n",
       "    <tr style=\"text-align: right;\">\n",
       "      <th></th>\n",
       "      <th>Topics</th>\n",
       "      <th>Coherence</th>\n",
       "    </tr>\n",
       "    <tr>\n",
       "      <th>Alpha</th>\n",
       "      <th></th>\n",
       "      <th></th>\n",
       "    </tr>\n",
       "  </thead>\n",
       "  <tbody>\n",
       "    <tr>\n",
       "      <th>0.01</th>\n",
       "      <td>6.0</td>\n",
       "      <td>0.374598</td>\n",
       "    </tr>\n",
       "    <tr>\n",
       "      <th>0.31</th>\n",
       "      <td>6.0</td>\n",
       "      <td>0.376009</td>\n",
       "    </tr>\n",
       "    <tr>\n",
       "      <th>0.61</th>\n",
       "      <td>6.0</td>\n",
       "      <td>0.373987</td>\n",
       "    </tr>\n",
       "    <tr>\n",
       "      <th>0.9099999999999999</th>\n",
       "      <td>6.0</td>\n",
       "      <td>0.371469</td>\n",
       "    </tr>\n",
       "    <tr>\n",
       "      <th>asymmetric</th>\n",
       "      <td>6.0</td>\n",
       "      <td>0.379601</td>\n",
       "    </tr>\n",
       "    <tr>\n",
       "      <th>symmetric</th>\n",
       "      <td>6.0</td>\n",
       "      <td>0.375557</td>\n",
       "    </tr>\n",
       "  </tbody>\n",
       "</table>\n",
       "</div>"
      ],
      "text/plain": [
       "                    Topics  Coherence\n",
       "Alpha                                \n",
       "0.01                   6.0   0.374598\n",
       "0.31                   6.0   0.376009\n",
       "0.61                   6.0   0.373987\n",
       "0.9099999999999999     6.0   0.371469\n",
       "asymmetric             6.0   0.379601\n",
       "symmetric              6.0   0.375557"
      ]
     },
     "execution_count": 95,
     "metadata": {},
     "output_type": "execute_result"
    }
   ],
   "source": [
    "result_hy_opt.groupby(by=['Alpha']).mean()"
   ]
  },
  {
   "cell_type": "code",
   "execution_count": 99,
   "metadata": {},
   "outputs": [
    {
     "data": {
      "image/png": "[encoded data removed]",
      "text/plain": [
       "<Figure size 576x396 with 1 Axes>"
      ]
     },
     "metadata": {},
     "output_type": "display_data"
    }
   ],
   "source": [
    "import matplotlib.pyplot as plt\n",
    "plt.style.use('seaborn')\n",
    "result_hy_opt.groupby(by=['Alpha']).mean()['Coherence'].plot()\n",
    "plt.title('Mean Coherence by Apha values')\n",
    "plt.show()"
   ]
  },
  {
   "cell_type": "code",
   "execution_count": 98,
   "metadata": {},
   "outputs": [
    {
     "data": {
      "image/png": "[encoded data removed]",
      "text/plain": [
       "<Figure size 576x396 with 1 Axes>"
      ]
     },
     "metadata": {},
     "output_type": "display_data"
    }
   ],
   "source": [
    "import matplotlib.pyplot as plt\n",
    "plt.style.use('seaborn')\n",
    "result_hy_opt.groupby(by=['Beta']).mean()['Coherence'].plot()\n",
    "plt.title('Mean Coherence b Beta values')\n",
    "plt.show()"
   ]
  },
  {
   "cell_type": "code",
   "execution_count": 42,
   "metadata": {},
   "outputs": [
    {
     "data": {
      "text/html": [
       "<div>\n",
       "<style scoped>\n",
       "    .dataframe tbody tr th:only-of-type {\n",
       "        vertical-align: middle;\n",
       "    }\n",
       "\n",
       "    .dataframe tbody tr th {\n",
       "        vertical-align: top;\n",
       "    }\n",
       "\n",
       "    .dataframe thead th {\n",
       "        text-align: right;\n",
       "    }\n",
       "</style>\n",
       "<table border=\"1\" class=\"dataframe\">\n",
       "  <thead>\n",
       "    <tr style=\"text-align: right;\">\n",
       "      <th></th>\n",
       "      <th>Validation_Set</th>\n",
       "      <th>Topics</th>\n",
       "      <th>Alpha</th>\n",
       "      <th>Beta</th>\n",
       "      <th>Coherence</th>\n",
       "    </tr>\n",
       "  </thead>\n",
       "  <tbody>\n",
       "    <tr>\n",
       "      <th>173</th>\n",
       "      <td>75% Corpus</td>\n",
       "      <td>7</td>\n",
       "      <td>symmetric</td>\n",
       "      <td>0.9099999999999999</td>\n",
       "      <td>0.469246</td>\n",
       "    </tr>\n",
       "    <tr>\n",
       "      <th>158</th>\n",
       "      <td>75% Corpus</td>\n",
       "      <td>7</td>\n",
       "      <td>0.31</td>\n",
       "      <td>0.9099999999999999</td>\n",
       "      <td>0.466774</td>\n",
       "    </tr>\n",
       "    <tr>\n",
       "      <th>153</th>\n",
       "      <td>75% Corpus</td>\n",
       "      <td>7</td>\n",
       "      <td>0.01</td>\n",
       "      <td>0.9099999999999999</td>\n",
       "      <td>0.464637</td>\n",
       "    </tr>\n",
       "    <tr>\n",
       "      <th>177</th>\n",
       "      <td>75% Corpus</td>\n",
       "      <td>7</td>\n",
       "      <td>asymmetric</td>\n",
       "      <td>0.61</td>\n",
       "      <td>0.443427</td>\n",
       "    </tr>\n",
       "    <tr>\n",
       "      <th>92</th>\n",
       "      <td>75% Corpus</td>\n",
       "      <td>5</td>\n",
       "      <td>0.01</td>\n",
       "      <td>0.61</td>\n",
       "      <td>0.438970</td>\n",
       "    </tr>\n",
       "    <tr>\n",
       "      <th>...</th>\n",
       "      <td>...</td>\n",
       "      <td>...</td>\n",
       "      <td>...</td>\n",
       "      <td>...</td>\n",
       "      <td>...</td>\n",
       "    </tr>\n",
       "    <tr>\n",
       "      <th>472</th>\n",
       "      <td>100% Corpus</td>\n",
       "      <td>8</td>\n",
       "      <td>symmetric</td>\n",
       "      <td>0.61</td>\n",
       "      <td>0.319129</td>\n",
       "    </tr>\n",
       "    <tr>\n",
       "      <th>458</th>\n",
       "      <td>100% Corpus</td>\n",
       "      <td>8</td>\n",
       "      <td>0.31</td>\n",
       "      <td>0.9099999999999999</td>\n",
       "      <td>0.318572</td>\n",
       "    </tr>\n",
       "    <tr>\n",
       "      <th>473</th>\n",
       "      <td>100% Corpus</td>\n",
       "      <td>8</td>\n",
       "      <td>symmetric</td>\n",
       "      <td>0.9099999999999999</td>\n",
       "      <td>0.315634</td>\n",
       "    </tr>\n",
       "    <tr>\n",
       "      <th>453</th>\n",
       "      <td>100% Corpus</td>\n",
       "      <td>8</td>\n",
       "      <td>0.01</td>\n",
       "      <td>0.9099999999999999</td>\n",
       "      <td>0.312288</td>\n",
       "    </tr>\n",
       "    <tr>\n",
       "      <th>452</th>\n",
       "      <td>100% Corpus</td>\n",
       "      <td>8</td>\n",
       "      <td>0.01</td>\n",
       "      <td>0.61</td>\n",
       "      <td>0.311586</td>\n",
       "    </tr>\n",
       "  </tbody>\n",
       "</table>\n",
       "<p>540 rows × 5 columns</p>\n",
       "</div>"
      ],
      "text/plain": [
       "    Validation_Set  Topics       Alpha                Beta  Coherence\n",
       "173     75% Corpus       7   symmetric  0.9099999999999999   0.469246\n",
       "158     75% Corpus       7        0.31  0.9099999999999999   0.466774\n",
       "153     75% Corpus       7        0.01  0.9099999999999999   0.464637\n",
       "177     75% Corpus       7  asymmetric                0.61   0.443427\n",
       "92      75% Corpus       5        0.01                0.61   0.438970\n",
       "..             ...     ...         ...                 ...        ...\n",
       "472    100% Corpus       8   symmetric                0.61   0.319129\n",
       "458    100% Corpus       8        0.31  0.9099999999999999   0.318572\n",
       "473    100% Corpus       8   symmetric  0.9099999999999999   0.315634\n",
       "453    100% Corpus       8        0.01  0.9099999999999999   0.312288\n",
       "452    100% Corpus       8        0.01                0.61   0.311586\n",
       "\n",
       "[540 rows x 5 columns]"
      ]
     },
     "execution_count": 42,
     "metadata": {},
     "output_type": "execute_result"
    }
   ],
   "source": [
    "result_hy_opt.sort_values(by='Coherence', ascending=False)"
   ]
  },
  {
   "cell_type": "markdown",
   "metadata": {},
   "source": [
    "** **\n",
    "#### Step 7: Final Model\n",
    "** **\n",
    "\n",
    "Based on external evaluation (Code to be added from Excel based analysis), let's train the final model with parameters yielding highest coherence score"
   ]
  },
  {
   "cell_type": "code",
   "execution_count": 43,
   "metadata": {},
   "outputs": [],
   "source": [
    "num_topics = 7\n",
    "\n",
    "lda_model = gensim.models.LdaMulticore(corpus=corpus,\n",
    "                                           id2word=id2word,\n",
    "                                           num_topics=num_topics, \n",
    "                                           random_state=100,\n",
    "                                           chunksize=100,\n",
    "                                           passes=10,\n",
    "                                           alpha=0.31,\n",
    "                                           eta=0.91)"
   ]
  },
  {
   "cell_type": "code",
   "execution_count": 44,
   "metadata": {},
   "outputs": [
    {
     "name": "stdout",
     "output_type": "stream",
     "text": [
      "[(0, '0.013*\"team\" + 0.012*\"manage\" + 0.012*\"partner\" + 0.011*\"drive\" + 0.011*\"management\" + 0.011*\"strategy\" + 0.010*\"product\" + 0.009*\"program\" + 0.009*\"datum\" + 0.009*\"cross\"'), (1, '0.032*\"product\" + 0.031*\"datum\" + 0.016*\"research\" + 0.014*\"analysis\" + 0.011*\"drive\" + 0.010*\"team\" + 0.010*\"quantitative\" + 0.009*\"strategy\" + 0.009*\"partner\" + 0.009*\"marketing\"'), (2, '0.004*\"datum\" + 0.003*\"product\" + 0.002*\"cross\" + 0.002*\"video\" + 0.002*\"manage\" + 0.002*\"partner\" + 0.002*\"functional\" + 0.002*\"drive\" + 0.002*\"process\" + 0.002*\"team\"'), (3, '0.040*\"product\" + 0.009*\"datum\" + 0.008*\"drive\" + 0.008*\"development\" + 0.008*\"technical\" + 0.007*\"lead\" + 0.006*\"engineer\" + 0.006*\"platform\" + 0.005*\"process\" + 0.005*\"management\"'), (4, '0.015*\"system\" + 0.013*\"software\" + 0.013*\"computer\" + 0.011*\"research\" + 0.011*\"engineering\" + 0.009*\"develop\" + 0.007*\"hardware\" + 0.007*\"science\" + 0.007*\"development\" + 0.006*\"machine_learne\"'), (5, '0.004*\"product\" + 0.003*\"datum\" + 0.002*\"drive\" + 0.002*\"lead\" + 0.002*\"cross\" + 0.002*\"partner\" + 0.002*\"develop\" + 0.002*\"team\" + 0.002*\"technical\" + 0.002*\"management\"'), (6, '0.016*\"partner\" + 0.014*\"project\" + 0.013*\"management\" + 0.012*\"product\" + 0.011*\"team\" + 0.010*\"cross\" + 0.009*\"program\" + 0.009*\"process\" + 0.008*\"functional\" + 0.008*\"manage\"')]\n"
     ]
    }
   ],
   "source": [
    "from pprint import pprint\n",
    "\n",
    "# Print the Keyword in the 10 topics\n",
    "print(lda_model.print_topics())\n",
    "doc_lda = lda_model[corpus]"
   ]
  },
  {
   "cell_type": "markdown",
   "metadata": {},
   "source": [
    "** **\n",
    "#### Step 8: Visualize Results\n",
    "** **"
   ]
  },
  {
   "cell_type": "code",
   "execution_count": 69,
   "metadata": {},
   "outputs": [
    {
     "data": {
      "text/html": [
       "\n",
       "<link rel=\"stylesheet\" type=\"text/css\" href=\"https://cdn.jsdelivr.net/gh/bmabey/pyLDAvis@3.3.1/pyLDAvis/js/ldavis.v1.0.0.css\">\n",
       "\n",
       "\n",
       "<div id=\"ldavis_el685441619270145744138991415\"></div>\n",
       "<script type=\"text/javascript\">\n",
       "\n",
       "var ldavis_el685441619270145744138991415_data = {\"mdsDat\": {\"x\": [0.15570093463006607, 0.14070284328231378, -0.0266113072368762, 0.06776895153437627, -0.06264807132992534, -0.1380548350684447, -0.13685851581150993], \"y\": [0.03149387656244994, -0.04557468775049537, -0.15034395609005735, 0.09710637271717529, 0.0024134766987492008, 0.032427592117580846, 0.03247732574459742], \"topics\": [1, 2, 3, 4, 5, 6, 7], \"cluster\": [1, 1, 1, 1, 1, 1, 1], \"Freq\": [41.284695325918186, 26.86907218289431, 16.965596964353978, 10.665358929496675, 3.685676091232877, 0.29252929184174353, 0.2370712142622313]}, \"tinfo\": {\"Term\": [\"product\", \"datum\", \"software\", \"recruit\", \"research\", \"partner\", \"computer\", \"system\", \"technical\", \"science\", \"quantitative\", \"program\", \"development\", \"recruiting\", \"manage\", \"lead\", \"engineer\", \"management\", \"analysis\", \"strategy\", \"drive\", \"engineering\", \"hire\", \"manager\", \"hr\", \"platform\", \"talent\", \"source\", \"hardware\", \"authorization\", \"policy\", \"immigration\", \"workflow\", \"day\", \"audit\", \"potential\", \"legal\", \"escalate\", \"roadblock\", \"risk\", \"mobility\", \"relocation\", \"escalation\", \"account\", \"operational\", \"remove\", \"enforcement\", \"gaming\", \"executing_measure\", \"negotiate\", \"detail_oriente\", \"creator\", \"coordination\", \"spot\", \"prepare\", \"matter\", \"ongoing\", \"mba\", \"entrepreneurial\", \"firm\", \"review\", \"operation\", \"resolve\", \"go\", \"global\", \"program\", \"partnership\", \"feedback\", \"management\", \"developer\", \"content\", \"partner\", \"ensure\", \"project\", \"communication\", \"strategic\", \"effectively\", \"functional\", \"support\", \"cross\", \"market\", \"issue\", \"initiative\", \"process\", \"provide\", \"internal\", \"manage\", \"team\", \"goal\", \"relationship\", \"strategy\", \"stakeholder\", \"product\", \"lead\", \"drive\", \"develop\", \"facebook\", \"technical\", \"identify\", \"development\", \"scale\", \"engineering\", \"datum\", \"statistical\", \"statistic\", \"economic\", \"experimentation\", \"number\", \"mining\", \"see_beyond\", \"analyst\", \"hive\", \"distributed_compute\", \"dashboard\", \"hive_hadoop\", \"psychology\", \"regression\", \"hypothesis_teste\", \"warehouse\", \"sociology\", \"survey\", \"manipulate\", \"bachelors_master\", \"programming_language\", \"sql\", \"quantitative\", \"econometric\", \"unstructured\", \"hypothesis\", \"users_interact\", \"hadoop\", \"advertising\", \"scripting_language\", \"behavior\", \"visualization\", \"datum\", \"data\", \"analysis\", \"apply\", \"analytic\", \"method\", \"study\", \"research\", \"marketing\", \"insight\", \"science\", \"product\", \"measurement\", \"expertise\", \"audience\", \"communicate\", \"eg\", \"drive\", \"understand\", \"set\", \"analytical\", \"result\", \"model\", \"identify\", \"influence\", \"large\", \"team\", \"engineering\", \"build\", \"strategy\", \"cross\", \"technical\", \"project\", \"partner\", \"functional\", \"manage\", \"authorization\", \"graphic\", \"algorithm\", \"debug\", \"publication\", \"electrical\", \"maintain_ongoe\", \"optical\", \"prototype\", \"sensor\", \"must_obtain\", \"employment\", \"robotic\", \"hardware\", \"mechanical\", \"optic\", \"scientific\", \"device\", \"render\", \"image\", \"audio\", \"patent\", \"novel\", \"embed\", \"kernel\", \"coding_competition\", \"obtaining_phd\", \"reconstruction\", \"camera\", \"linux\", \"ai\", \"component\", \"real_time\", \"software\", \"network\", \"currently\", \"machine_learne\", \"computer\", \"system\", \"conference\", \"country\", \"code\", \"test\", \"engineering\", \"research\", \"science\", \"architecture\", \"engineer\", \"develop\", \"development\", \"vision\", \"technology\", \"model\", \"infrastructure\", \"performance\", \"collaborate\", \"lead\", \"team\", \"cross\", \"high\", \"product\", \"candidate\", \"recruiting\", \"recruit\", \"talent\", \"recruiter\", \"diversity\", \"recruitment\", \"sourcer\", \"compensation\", \"inclusion\", \"interviewer\", \"match\", \"pipeline_activity\", \"referral\", \"passive_candidate\", \"hr\", \"coordinator\", \"dei\", \"search_firm\", \"amplify\", \"hiring\", \"diversity_equity\", \"referral_generation\", \"strategize_different\", \"resume\", \"search_engagement\", \"search\", \"job\", \"mapping\", \"activate_passive\", \"source\", \"hire\", \"coaching\", \"constantly_change\", \"intern\", \"career\", \"manager\", \"internally\", \"supply\", \"leader\", \"innovative\", \"facilitate\", \"organization\", \"manage\", \"need\", \"program\", \"tech\", \"strategy\", \"partner\", \"management\", \"technical\", \"leadership\", \"datum\", \"team\", \"drive\", \"stakeholder\", \"process\", \"lead\", \"develop\", \"support\", \"relationship\", \"development\", \"functional\", \"provide\", \"maximize_efficiency\", \"integrate_usability\", \"competitive_position\", \"constantly_evolve\", \"io\", \"user_satisfaction\", \"native\", \"android\", \"norm\", \"antenna\", \"establish_share\", \"carrier\", \"react\", \"lifecycle_integrate\", \"clinical\", \"basis\", \"unit_testing\", \"pre_post\", \"maintainable\", \"compatibility\", \"designer\", \"front_end\", \"multithreade\", \"reusable\", \"ideation\", \"entirely\", \"mock\", \"up\", \"browser\", \"back_end\", \"consensus\", \"cellular\", \"world_class\", \"mobile\", \"innovative\", \"product\", \"recognize\", \"interface\", \"feature\", \"engineer\", \"platform\", \"application\", \"technical\", \"development\", \"creative\", \"lead\", \"launch\", \"user\", \"drive\", \"software\", \"build\", \"execution\", \"vision\", \"requirement\", \"technology\", \"manager\", \"complex\", \"management\", \"analyze\", \"intuitive\", \"angularjs\", \"auditable\", \"reactjs\", \"downstream\", \"modelling\", \"permission\", \"factory\", \"bem\", \"cnc\", \"completely\", \"fly\", \"focusse\", \"hwte\", \"laundry\", \"lem\", \"magnetic\", \"multiphysic\", \"graphql\", \"recording\", \"instrument\", \"demos\", \"folding\", \"amplifier\", \"demo\", \"transactional\", \"specialized\", \"alert\", \"upstream\", \"unexpected\", \"poc\", \"rest_apis\", \"chain\", \"speaker\", \"acoustic\", \"transducer\", \"bem\", \"cnc\", \"completely\", \"fly\", \"focusse\", \"hwte\", \"laundry\", \"lem\", \"magnetic\", \"angularjs\", \"auditable\", \"reactjs\", \"empowerment\", \"diagraming\", \"delight\", \"financially\", \"fund\", \"gradle\", \"intellij\", \"natively\", \"rock\", \"cto\", \"methodically\", \"prodanduct\", \"constantly_evolving\", \"roadmaps\", \"lockdown\", \"smartphone\", \"umt\", \"waiver\", \"pytorch_caffe\", \"scheduler\", \"expreience\", \"reposition\", \"bizop\", \"clerkship\", \"stance\", \"tank\", \"sunset\", \"assimilate\", \"entrepreneur\", \"investor\", \"npe\", \"thesis\", \"concert\", \"dris\", \"granular\", \"intimately\", \"lithography\", \"s\", \"therefore\", \"freedom\", \"frontend\", \"steer\", \"inner\", \"okrs\", \"tl\", \"evangelism\", \"opinionated\", \"wallet\", \"combined\", \"substantive\", \"rigorous\", \"fairness\", \"broadly\", \"efficient\", \"hire\", \"area\", \"discussion\", \"performance\", \"deliverable\", \"build\", \"research\", \"independently\", \"facebook\", \"evolve\", \"solve\", \"product\", \"methodologie\", \"wide\", \"drive\", \"define\", \"collaborate\", \"programming\", \"technical\", \"analyze\", \"develop\", \"opportunity\", \"software\", \"task\", \"team\", \"closely\"], \"Freq\": [1782.0, 1432.0, 367.0, 179.0, 765.0, 955.0, 360.0, 410.0, 599.0, 428.0, 341.0, 511.0, 508.0, 125.0, 679.0, 579.0, 224.0, 773.0, 612.0, 652.0, 842.0, 597.0, 175.0, 236.0, 127.0, 167.0, 98.0, 137.0, 136.0, 112.0, 156.86079153509374, 46.081695498817844, 64.62676413105817, 48.83363977770945, 26.424479092981475, 29.63037982541214, 102.79027981878016, 25.476987792344275, 24.523724546331707, 138.3963729525717, 22.782649701157727, 20.163601170572345, 28.961571546961462, 28.021116610650502, 177.48819405922663, 24.434112609460705, 28.625009573932395, 18.154664833958655, 18.086468270708036, 21.917380305607367, 21.79636131154168, 49.28662537940323, 24.97353869866425, 17.2037408785828, 25.390387807745643, 15.577360621168134, 25.515946689964, 49.191329336133336, 15.423955627630447, 21.090746190394974, 62.574850263650916, 311.55774847743595, 59.47210947443688, 67.2279351183784, 195.7344945938433, 389.50864514170496, 176.1922640313198, 75.81262321367241, 566.9519211222234, 57.40812468242002, 116.42816855286412, 673.2576092417083, 182.66971357333793, 506.65369994332906, 251.04542210492997, 222.68909577917773, 124.12739353422604, 460.27631071106424, 355.45445405948334, 513.6393580646211, 173.66917727098394, 165.6934536840874, 139.03342744102582, 345.3784173291405, 213.69469895896913, 198.12536057906058, 422.64775750560955, 563.9671711939387, 160.43485777966922, 187.0563735662015, 383.3190485487072, 257.2760533692547, 825.0628146163352, 334.40919690114356, 431.0248219991352, 333.756599536957, 206.13483282534057, 286.2476963483349, 213.4445890312099, 219.72699906061604, 187.62164974156153, 200.1376313294524, 203.42077488393485, 148.9877011200161, 139.30511454232143, 83.03337163512896, 52.45328238453588, 41.01542422639334, 47.390963655699586, 34.317684532433105, 39.21723774306683, 24.777806630580415, 24.00512926527181, 61.64407013271919, 22.29958607698035, 31.359261169492346, 42.52531691919749, 20.50446709302177, 20.423619905168636, 19.68857695093807, 51.44495818328103, 47.50728491667473, 22.27160548809162, 33.082485731040926, 127.83101205128425, 288.87714194703534, 15.412159383116167, 15.30324886362529, 18.19626934891947, 14.539235416345083, 14.537016406257933, 39.923144718749725, 25.214121181431352, 53.13700226817453, 95.55547874102007, 1053.8805896706249, 174.28314037076314, 432.4111752060047, 153.05266282287573, 215.49343430197584, 103.52773959953038, 58.060580964294196, 438.33846858005245, 192.78606788724485, 217.90993177363995, 250.39999446588882, 713.7182281783109, 69.25593968245865, 93.06880940053904, 108.94929725630583, 174.84670574752695, 110.88154203716849, 275.45343975963357, 157.71463602606354, 131.54786447815368, 120.87534966893003, 117.77172030354073, 122.62590942592504, 165.69119348986803, 154.46007185116682, 132.51315643226766, 234.56612537932918, 171.52802948186823, 144.58677376789407, 164.4285692282123, 168.21399884546315, 150.62198775727177, 150.70237158573042, 157.74731188985533, 142.48058266681684, 134.17860248438774, 108.97397159816984, 58.43391900573964, 71.41528650282483, 57.35103743206775, 48.600516873689905, 57.458202792526144, 53.76991943756354, 43.75523595012201, 74.90634516625596, 36.45798315787544, 43.91162199131286, 107.83179646862101, 29.159064218608556, 123.52551072768979, 29.010959517054598, 33.968900096614256, 27.988448700354887, 60.25101856613179, 24.245547260230268, 38.1013322714146, 72.15334593683708, 21.84664891852944, 38.373672266126555, 25.894242482908734, 20.147817299196294, 19.423343517797814, 21.491309344543154, 18.598108687919826, 18.54933066654397, 19.914577614433185, 52.845088152277256, 46.08121138734412, 48.114438903637364, 262.21270856328596, 87.58033228591229, 35.57706064104247, 112.18355970522467, 240.1174484713487, 266.16449772408424, 42.226913675228325, 52.931727797333714, 77.79335049171252, 80.70462798858478, 219.96262461546948, 233.30247019837398, 157.3397992201907, 69.8732740849113, 92.61753738768591, 166.06183759370128, 122.59043178330705, 76.64102269434547, 97.79676584938062, 80.53495836704494, 66.01193181960129, 80.33517271065213, 67.88323720300788, 71.67332081103395, 74.78621539614346, 72.49026860179833, 66.70962376001299, 75.17743507574627, 82.68567909697808, 120.6857318275761, 169.36422197303082, 92.5860420784773, 44.81827212506245, 51.910663987168654, 23.377207415450652, 21.429742572895048, 27.098091495133737, 31.1265531230459, 14.219908623035156, 14.807599177727653, 13.54866117710033, 11.359480658824292, 9.964172418148406, 97.80441011395475, 9.243750711020844, 8.495911637697283, 7.8108453328087455, 8.862834858231771, 10.410052613304494, 10.419791084062762, 7.100088645868979, 7.100088645868979, 7.0958553849414985, 7.093289392247834, 9.174470699769234, 8.577052423182442, 18.244114895132782, 6.3835066718157165, 88.97177717484674, 105.67511049578934, 13.168466692515572, 8.951855755326333, 10.570172468298303, 31.445799160275254, 86.4789197516451, 30.272954782787558, 14.037200627564143, 44.48608923288417, 27.885830351519875, 23.299954135768555, 73.5963202907724, 114.37290013069187, 71.44701089192168, 90.54135973288969, 33.74909917301953, 101.26782784924436, 122.12778030891427, 90.69465286494332, 75.22033987324042, 56.45481072434579, 108.49652963832905, 90.58068624320711, 83.21322378615838, 60.067269818829146, 67.2716266253364, 61.64303894524687, 63.132000246229964, 57.080762457504306, 46.97553090597928, 54.46104455307342, 54.89783061215042, 47.0358726396794, 12.870318054576984, 9.371053511400932, 9.339174561129889, 14.300684125013836, 10.070081628552176, 8.83229264820554, 8.287768480225258, 24.803338840459812, 14.727137311925514, 10.010301580453284, 11.174530419593186, 6.770578495603159, 5.255017952923967, 3.9016487924523546, 3.8321465725178245, 3.439030083836243, 3.439030083836243, 4.377955969021463, 5.3529957851707755, 2.9198728765182973, 18.73908917085492, 5.5848813048669514, 3.4430390970866025, 5.924681446125389, 11.288007761141895, 2.441811821140582, 2.435762703654208, 2.435762703654208, 3.4295171640434248, 4.793644438416708, 11.251584698461683, 4.106002604021517, 9.45803797597012, 16.853057172696133, 17.52247880850684, 157.05120771900863, 8.724610804063692, 13.96228849007042, 16.206163768651283, 26.735977500716054, 22.349402576250387, 12.59972338331464, 35.995264006792034, 30.394655780639766, 13.702760651699942, 29.57842258140579, 15.361886668420196, 16.67006770579075, 24.626505593417747, 18.619598412612156, 17.20789250659341, 13.962610416290143, 14.20546330193081, 13.672199122574227, 12.903576334881764, 11.82119187166947, 11.901712222836984, 12.174953292715822, 11.622613746662877, 0.3456473307643897, 0.19799813656121837, 0.19799813656121837, 0.19799813656121837, 0.19643092434921125, 0.1958984145155197, 0.1880996481433321, 0.2027165779182464, 0.13205321745148188, 0.13205321745148188, 0.13205321745148188, 0.13205321745148188, 0.13205321745148188, 0.13205321745148188, 0.13205321745148188, 0.13205321745148188, 0.13205321745148188, 0.1458184787245417, 0.17389841409858178, 0.13159952274204365, 0.12980445587478923, 0.11694692797688379, 0.11694108890959445, 0.11691702834901088, 0.11690667690293273, 0.1687844721585644, 0.12712755881588136, 0.1747619409025891, 0.15804142366856716, 0.12593189308893749, 0.13160579584939797, 0.15778411161494715, 0.1667441398968521, 0.1400484975104507, 0.1632066642306048, 0.14151545465688126, 0.056397486601153235, 0.056397486601153235, 0.056397486601153235, 0.056397486601153235, 0.056397486601153235, 0.056397486601153235, 0.056397486601153235, 0.056397486601153235, 0.056397486601153235, 0.05643440088089826, 0.05643440088089826, 0.05643440088089826, 0.056395754377670054, 0.05638581234403862, 0.05638607781890194, 0.05638607781890194, 0.05638607781890194, 0.05638938961782189, 0.05638938961782189, 0.05638938961782189, 0.05638938961782189, 0.05638956217648305, 0.05639387614301204, 0.056394241170949114, 0.05639598666817546, 0.05638682114851924, 0.056386522489298006, 0.056386522489298006, 0.056386522489298006, 0.056386522489298006, 0.05641871795334747, 0.05641871795334747, 0.05640355933865174, 0.05640355933865174, 0.05653757768652864, 0.05653757768652864, 0.05653757768652864, 0.05653757768652864, 0.05640355933865174, 0.05657265355284516, 0.05657265355284516, 0.05657265355284516, 0.05657265355284516, 0.05657265355284516, 0.05650215006601822, 0.05650215006601822, 0.05650215006601822, 0.05650215006601822, 0.05650215006601822, 0.05650215006601822, 0.05650215006601822, 0.05652992537359336, 0.05652992537359336, 0.05652992537359336, 0.05662027310645367, 0.05662027310645367, 0.05650215006601822, 0.05652101869192888, 0.05652101869192888, 0.0565110965689122, 0.0565110965689122, 0.056607915251566, 0.05670732231413719, 0.056697260816817266, 0.056668795274597485, 0.056661136324790626, 0.056659948324777255, 0.05665874705102072, 0.05665868068230489, 0.05665818291693616, 0.056658043542632916, 0.056655395430871267, 0.05665284023531179, 0.05665271413475171, 0.056652242916869315, 0.056647424548100005, 0.0566471922575946, 0.05664572550897474, 0.05664445122963079, 0.05664412602292322, 0.056644112749180055, 0.05664404638046422, 0.05664381408995881, 0.05664344906202175, 0.056643402603920666, 0.05664320349777317, 0.05664294465978143, 0.05664283183296452, 0.05664251326312853, 0.056642486715642204, 0.05664224115139363, 0.056642101777090385], \"Total\": [1782.0, 1432.0, 367.0, 179.0, 765.0, 955.0, 360.0, 410.0, 599.0, 428.0, 341.0, 511.0, 508.0, 125.0, 679.0, 579.0, 224.0, 773.0, 612.0, 652.0, 842.0, 597.0, 175.0, 236.0, 127.0, 167.0, 98.0, 137.0, 136.0, 112.0, 163.0733945460111, 48.872310003379795, 70.48916875854401, 54.05355509241017, 29.447316504465515, 33.04689170293722, 114.65354466111357, 28.453451651361835, 27.550157580406115, 155.8336888588172, 25.744836201687008, 22.985206694140047, 33.042589275679056, 32.0023852996133, 203.72168235867147, 28.160550412239225, 33.04111519722363, 21.130720778476967, 21.101815595944398, 25.58903760617169, 25.504711079981796, 57.685063660705595, 29.288301767239453, 20.194469150346087, 29.874253893976817, 18.367814674713923, 30.09289095674859, 58.54406041857919, 18.357484926890383, 25.17091346328549, 75.20302558879942, 385.55607709872675, 71.78687107773895, 81.9318577206429, 248.51098163690412, 511.34882918764885, 224.22828166031692, 93.3447393263378, 773.8221469206732, 69.97611957317538, 147.4390034139313, 955.9543879542364, 242.01184892362443, 735.7373199873945, 347.52865357870957, 310.4841045086377, 163.53652710159236, 694.6951110108995, 529.8540403685704, 806.1883065996709, 239.83233372990443, 228.71523626433958, 188.9045177665005, 531.8776276321013, 309.54683418344956, 283.81359383872507, 679.4159143259128, 970.8969619573617, 223.46913173231644, 270.3245076260708, 652.9318684182791, 400.1281179709787, 1782.4131249973918, 579.4222702997992, 842.0762117717547, 682.5708457082726, 333.9446807620953, 599.2684482690894, 423.0642343199119, 508.2577777572495, 336.23247197972415, 597.5060945504026, 1432.1654698594687, 153.4239877474997, 145.57352704764324, 86.81179406301351, 56.116789860519596, 44.08291977630623, 50.93740092558692, 37.19090398452509, 43.19654891161604, 27.71572529813521, 26.85379997701229, 69.38475730761316, 25.132077207586875, 35.36484993578251, 48.3134797979424, 23.411499378641874, 23.344225234837804, 22.54280506697097, 59.509181137296984, 54.95507470355715, 26.04027292207172, 38.76088686262135, 150.41365813584542, 341.29777782725074, 18.238852793400003, 18.238532032683064, 21.72928751445977, 17.37496396304385, 17.375924678042153, 47.783495148815916, 30.180864438725138, 64.35662276154842, 120.03942840577893, 1432.1654698594687, 225.78382379989944, 612.3506655172891, 205.17744459037675, 300.0998985534581, 144.3152292085532, 75.5792153918681, 765.2550525917508, 300.1263529774847, 355.03608323956615, 428.39700559875826, 1782.4131249973918, 98.83923406576831, 145.11709286044444, 179.8771795924966, 362.3015891828511, 192.33839262505282, 842.0762117717547, 365.04010461372144, 277.289862957381, 242.5866715145576, 234.82733921645672, 253.4206435817356, 423.0642343199119, 378.9181445995366, 305.0228902677289, 970.8969619573617, 597.5060945504026, 392.6841336779816, 652.9318684182791, 806.1883065996709, 599.2684482690894, 735.7373199873945, 955.9543879542364, 694.6951110108995, 679.4159143259128, 112.54165636338908, 61.30620502341201, 75.16983526553364, 60.402298823276865, 51.538670743733086, 61.008147920564596, 57.26498848567523, 46.67805576563347, 80.55472114442773, 39.357178614026886, 47.51845578154513, 117.90825447694944, 32.0436713561747, 136.03169235201415, 32.02254045542179, 37.63376521893156, 31.221501592885822, 67.34059587359327, 27.1266330909432, 42.82216029541385, 81.31205208977093, 24.727642779989264, 43.54828753777081, 29.53903977602477, 23.09723279330911, 22.2878937425107, 24.746094799204627, 21.47739918853002, 21.463030906187285, 23.0787300105499, 63.53864932044642, 55.515208706460896, 59.25574418583382, 367.6265780002749, 112.98455687643877, 42.9230617945721, 152.20791112724893, 360.2385613436517, 410.61290952579674, 52.23422871354009, 68.4564040518943, 118.04546735673756, 130.2112769077629, 597.5060945504026, 765.2550525917508, 428.39700559875826, 115.2543240576259, 224.6486193533061, 682.5708457082726, 508.2577777572495, 184.15494300226297, 341.17033841815817, 253.4206435817356, 138.6342085755149, 279.7930876882654, 269.05004800670764, 579.4222702997992, 970.8969619573617, 806.1883065996709, 286.7980545994237, 1782.4131249973918, 86.09808983671473, 125.94764511301939, 179.00604380094322, 98.8239496090759, 48.10646265728849, 58.83604355450567, 26.586080194251867, 24.380194682879736, 30.988268902500145, 36.34597132159667, 17.223546612429, 17.97147946149507, 16.495137687125517, 14.355671406075741, 12.911744077586937, 127.26486613884005, 12.19576771329459, 11.487966407718387, 10.76167720983005, 12.302719827913903, 14.561772117045816, 14.623322567460539, 10.043819144930438, 10.043819144930438, 10.044963750694937, 10.04517486110131, 13.111729348539615, 12.330455189447889, 26.554110759856144, 9.326963673129075, 137.16742975338713, 175.50170621725468, 20.137933636723787, 13.19966844546971, 16.1663135532702, 64.16698071819712, 236.5296617390977, 64.24095696348908, 24.390465873273165, 133.73861075393063, 70.3452866806583, 55.46737054910679, 335.2870149407494, 679.4159143259128, 322.01217296214185, 511.34882918764885, 101.49546816417043, 652.9318684182791, 955.9543879542364, 773.8221469206732, 599.2684482690894, 327.4342208781616, 1432.1654698594687, 970.8969619573617, 842.0762117717547, 400.1281179709787, 531.8776276321013, 579.4222702997992, 682.5708457082726, 529.8540403685704, 270.3245076260708, 508.2577777572495, 694.6951110108995, 309.54683418344956, 16.063376503498805, 12.589544012066847, 12.614928293485782, 19.45355597842331, 13.775376447703295, 12.12284169837777, 11.654818805652672, 36.16645476293023, 21.814653215294836, 15.444463427136448, 19.019631604511826, 11.974721609411635, 9.44059899229451, 7.1075310319880405, 7.151116821568745, 6.581551087978188, 6.581551087978188, 8.429288699037533, 11.057714947797903, 6.099202224440248, 39.42081334229182, 11.859585107019605, 7.388976991039157, 13.13465977823461, 25.619993115502794, 5.587108262791884, 5.59184589735546, 5.59184589735546, 8.21610559864152, 11.718293703203273, 28.31092678701498, 10.280054192312042, 28.73874341053741, 62.074747740515605, 70.3452866806583, 1782.4131249973918, 28.880169667885564, 63.70836108620179, 81.27773671084125, 224.6486193533061, 167.80619013225416, 70.91069259187408, 599.2684482690894, 508.2577777572495, 88.56571111522983, 579.4222702997992, 158.12720353299693, 211.8856803948949, 842.0762117717547, 367.6265780002749, 392.6841336779816, 164.61145619980044, 184.15494300226297, 170.51356523413307, 341.17033841815817, 236.5296617390977, 280.73337508986515, 773.8221469206732, 212.81920403835713, 5.846893390459265, 3.9548880170013336, 3.9548880170013336, 3.9548880170013336, 4.535517193443154, 4.572330392995256, 4.987898406484212, 5.508814966172334, 3.785085863605448, 3.785085863605448, 3.785085863605448, 3.785085863605448, 3.785085863605448, 3.785085863605448, 3.785085863605448, 3.785085863605448, 3.785085863605448, 4.461221922653022, 5.557894711153879, 4.328995941747968, 4.848868616280669, 4.744317404390179, 4.74439358068904, 4.744707282497964, 4.744845760003978, 7.048336321180476, 5.6004337269261795, 7.797282847966348, 7.061636162779326, 5.682499465301016, 5.979290719638791, 8.075109513158118, 9.10928132461716, 8.581501255539361, 18.108570857859025, 10.192251236687019, 3.785085863605448, 3.785085863605448, 3.785085863605448, 3.785085863605448, 3.785085863605448, 3.785085863605448, 3.785085863605448, 3.785085863605448, 3.785085863605448, 3.9548880170013336, 3.9548880170013336, 3.9548880170013336, 4.092396959768118, 4.092738838338387, 4.101009301165405, 4.101009301165405, 4.101009301165405, 4.103858146199355, 4.103858146199355, 4.103858146199355, 4.103858146199355, 4.107341371787518, 4.107943888962382, 4.108346201746138, 4.110768805478766, 4.1117653520684785, 4.116020919866905, 4.116020919866905, 4.116020919866905, 4.116020919866905, 4.134069852714818, 4.134069852714818, 4.130668288076892, 4.130668288076892, 4.262996957711309, 4.262996957711309, 4.262996957711309, 4.262996957711309, 4.130668288076892, 4.481092084202629, 4.481092084202629, 4.481092084202629, 4.481092084202629, 4.48109222867463, 4.347138460320072, 4.347138460320072, 4.347138460320072, 4.347138460320072, 4.347138460320072, 4.347138460320072, 4.347138460320072, 4.429173619312156, 4.429173619312156, 4.429173619312156, 5.079903675027163, 5.079903675027163, 4.347138460320072, 4.495176537266766, 4.495176537266766, 4.482618731765512, 4.482618832657811, 5.413549203763578, 18.0630623316714, 8.250712313584915, 15.533320488968707, 52.33346575472142, 175.50170621725468, 181.48603535625793, 30.010242046935513, 279.7930876882654, 44.36771416166816, 392.6841336779816, 765.2550525917508, 123.03301201488671, 333.9446807620953, 36.900013737782345, 269.1295611537389, 1782.4131249973918, 6.578093113793237, 48.267556447005056, 842.0762117717547, 225.53185307612284, 269.05004800670764, 66.10328766476454, 599.2684482690894, 212.81920403835713, 682.5708457082726, 205.22127380700593, 367.6265780002749, 56.29166114371359, 970.8969619573617, 166.30215227794648], \"Category\": [\"Default\", \"Default\", \"Default\", \"Default\", \"Default\", \"Default\", \"Default\", \"Default\", \"Default\", \"Default\", \"Default\", \"Default\", \"Default\", \"Default\", \"Default\", \"Default\", \"Default\", \"Default\", \"Default\", \"Default\", \"Default\", \"Default\", \"Default\", \"Default\", \"Default\", \"Default\", \"Default\", \"Default\", \"Default\", \"Default\", \"Topic1\", \"Topic1\", \"Topic1\", \"Topic1\", \"Topic1\", \"Topic1\", \"Topic1\", \"Topic1\", \"Topic1\", \"Topic1\", \"Topic1\", \"Topic1\", \"Topic1\", \"Topic1\", \"Topic1\", \"Topic1\", \"Topic1\", \"Topic1\", \"Topic1\", \"Topic1\", \"Topic1\", \"Topic1\", \"Topic1\", \"Topic1\", \"Topic1\", \"Topic1\", \"Topic1\", \"Topic1\", \"Topic1\", \"Topic1\", \"Topic1\", \"Topic1\", \"Topic1\", \"Topic1\", \"Topic1\", \"Topic1\", \"Topic1\", \"Topic1\", \"Topic1\", \"Topic1\", \"Topic1\", \"Topic1\", \"Topic1\", \"Topic1\", \"Topic1\", \"Topic1\", \"Topic1\", \"Topic1\", \"Topic1\", \"Topic1\", \"Topic1\", \"Topic1\", \"Topic1\", \"Topic1\", \"Topic1\", \"Topic1\", \"Topic1\", \"Topic1\", \"Topic1\", \"Topic1\", \"Topic1\", \"Topic1\", \"Topic1\", \"Topic1\", \"Topic1\", \"Topic1\", \"Topic1\", \"Topic1\", \"Topic1\", \"Topic1\", \"Topic1\", \"Topic1\", \"Topic1\", \"Topic2\", \"Topic2\", \"Topic2\", \"Topic2\", \"Topic2\", \"Topic2\", \"Topic2\", \"Topic2\", \"Topic2\", \"Topic2\", \"Topic2\", \"Topic2\", \"Topic2\", \"Topic2\", \"Topic2\", \"Topic2\", \"Topic2\", \"Topic2\", \"Topic2\", \"Topic2\", \"Topic2\", \"Topic2\", \"Topic2\", \"Topic2\", \"Topic2\", \"Topic2\", \"Topic2\", \"Topic2\", \"Topic2\", \"Topic2\", \"Topic2\", \"Topic2\", \"Topic2\", \"Topic2\", \"Topic2\", \"Topic2\", \"Topic2\", \"Topic2\", \"Topic2\", \"Topic2\", \"Topic2\", \"Topic2\", \"Topic2\", \"Topic2\", \"Topic2\", \"Topic2\", \"Topic2\", \"Topic2\", \"Topic2\", \"Topic2\", \"Topic2\", \"Topic2\", \"Topic2\", \"Topic2\", \"Topic2\", \"Topic2\", \"Topic2\", \"Topic2\", \"Topic2\", \"Topic2\", \"Topic2\", \"Topic2\", \"Topic2\", \"Topic2\", \"Topic2\", \"Topic2\", \"Topic2\", \"Topic2\", \"Topic3\", \"Topic3\", \"Topic3\", \"Topic3\", \"Topic3\", \"Topic3\", \"Topic3\", \"Topic3\", \"Topic3\", \"Topic3\", \"Topic3\", \"Topic3\", \"Topic3\", \"Topic3\", \"Topic3\", \"Topic3\", \"Topic3\", \"Topic3\", \"Topic3\", \"Topic3\", \"Topic3\", \"Topic3\", \"Topic3\", \"Topic3\", \"Topic3\", \"Topic3\", \"Topic3\", \"Topic3\", \"Topic3\", \"Topic3\", \"Topic3\", \"Topic3\", \"Topic3\", \"Topic3\", \"Topic3\", \"Topic3\", \"Topic3\", \"Topic3\", \"Topic3\", \"Topic3\", \"Topic3\", \"Topic3\", \"Topic3\", \"Topic3\", \"Topic3\", \"Topic3\", \"Topic3\", \"Topic3\", \"Topic3\", \"Topic3\", \"Topic3\", \"Topic3\", \"Topic3\", \"Topic3\", \"Topic3\", \"Topic3\", \"Topic3\", \"Topic3\", \"Topic3\", \"Topic3\", \"Topic3\", \"Topic4\", \"Topic4\", \"Topic4\", \"Topic4\", \"Topic4\", \"Topic4\", \"Topic4\", \"Topic4\", \"Topic4\", \"Topic4\", \"Topic4\", \"Topic4\", \"Topic4\", \"Topic4\", \"Topic4\", \"Topic4\", \"Topic4\", \"Topic4\", \"Topic4\", \"Topic4\", \"Topic4\", \"Topic4\", \"Topic4\", \"Topic4\", \"Topic4\", \"Topic4\", \"Topic4\", \"Topic4\", \"Topic4\", \"Topic4\", \"Topic4\", \"Topic4\", \"Topic4\", \"Topic4\", \"Topic4\", \"Topic4\", \"Topic4\", \"Topic4\", \"Topic4\", \"Topic4\", \"Topic4\", \"Topic4\", \"Topic4\", \"Topic4\", \"Topic4\", \"Topic4\", \"Topic4\", \"Topic4\", \"Topic4\", \"Topic4\", \"Topic4\", \"Topic4\", \"Topic4\", \"Topic4\", \"Topic4\", \"Topic4\", \"Topic4\", \"Topic4\", \"Topic4\", \"Topic4\", \"Topic4\", \"Topic4\", \"Topic4\", \"Topic4\", \"Topic5\", \"Topic5\", \"Topic5\", \"Topic5\", \"Topic5\", \"Topic5\", \"Topic5\", \"Topic5\", \"Topic5\", \"Topic5\", \"Topic5\", \"Topic5\", \"Topic5\", \"Topic5\", \"Topic5\", \"Topic5\", \"Topic5\", \"Topic5\", \"Topic5\", \"Topic5\", \"Topic5\", \"Topic5\", \"Topic5\", \"Topic5\", \"Topic5\", \"Topic5\", \"Topic5\", \"Topic5\", \"Topic5\", \"Topic5\", \"Topic5\", \"Topic5\", \"Topic5\", \"Topic5\", \"Topic5\", \"Topic5\", \"Topic5\", \"Topic5\", \"Topic5\", \"Topic5\", \"Topic5\", \"Topic5\", \"Topic5\", \"Topic5\", \"Topic5\", \"Topic5\", \"Topic5\", \"Topic5\", \"Topic5\", \"Topic5\", \"Topic5\", \"Topic5\", \"Topic5\", \"Topic5\", \"Topic5\", \"Topic5\", \"Topic5\", \"Topic5\", \"Topic5\", \"Topic6\", \"Topic6\", \"Topic6\", \"Topic6\", \"Topic6\", \"Topic6\", \"Topic6\", \"Topic6\", \"Topic6\", \"Topic6\", \"Topic6\", \"Topic6\", \"Topic6\", \"Topic6\", \"Topic6\", \"Topic6\", \"Topic6\", \"Topic6\", \"Topic6\", \"Topic6\", \"Topic6\", \"Topic6\", \"Topic6\", \"Topic6\", \"Topic6\", \"Topic6\", \"Topic6\", \"Topic6\", \"Topic6\", \"Topic6\", \"Topic6\", \"Topic6\", \"Topic6\", \"Topic6\", \"Topic6\", \"Topic6\", \"Topic7\", \"Topic7\", \"Topic7\", \"Topic7\", \"Topic7\", \"Topic7\", \"Topic7\", \"Topic7\", \"Topic7\", \"Topic7\", \"Topic7\", \"Topic7\", \"Topic7\", \"Topic7\", \"Topic7\", \"Topic7\", \"Topic7\", \"Topic7\", \"Topic7\", \"Topic7\", \"Topic7\", \"Topic7\", \"Topic7\", \"Topic7\", \"Topic7\", \"Topic7\", \"Topic7\", \"Topic7\", \"Topic7\", \"Topic7\", \"Topic7\", \"Topic7\", \"Topic7\", \"Topic7\", \"Topic7\", \"Topic7\", \"Topic7\", \"Topic7\", \"Topic7\", \"Topic7\", \"Topic7\", \"Topic7\", \"Topic7\", \"Topic7\", \"Topic7\", \"Topic7\", \"Topic7\", \"Topic7\", \"Topic7\", \"Topic7\", \"Topic7\", \"Topic7\", \"Topic7\", \"Topic7\", \"Topic7\", \"Topic7\", \"Topic7\", \"Topic7\", \"Topic7\", \"Topic7\", \"Topic7\", \"Topic7\", \"Topic7\", \"Topic7\", \"Topic7\", \"Topic7\", \"Topic7\", \"Topic7\", \"Topic7\", \"Topic7\", \"Topic7\", \"Topic7\", \"Topic7\", \"Topic7\", \"Topic7\", \"Topic7\", \"Topic7\", \"Topic7\", \"Topic7\", \"Topic7\", \"Topic7\", \"Topic7\", \"Topic7\", \"Topic7\", \"Topic7\", \"Topic7\", \"Topic7\", \"Topic7\", \"Topic7\", \"Topic7\", \"Topic7\", \"Topic7\"], \"logprob\": [30.0, 29.0, 28.0, 27.0, 26.0, 25.0, 24.0, 23.0, 22.0, 21.0, 20.0, 19.0, 18.0, 17.0, 16.0, 15.0, 14.0, 13.0, 12.0, 11.0, 10.0, 9.0, 8.0, 7.0, 6.0, 5.0, 4.0, 3.0, 2.0, 1.0, -5.5341, -6.759, -6.4208, -6.701, -7.3151, -7.2006, -5.9567, -7.3516, -7.3898, -5.6593, -7.4634, -7.5855, -7.2234, -7.2565, -5.4105, -7.3934, -7.2351, -7.6905, -7.6942, -7.5021, -7.5077, -6.6918, -7.3716, -7.7443, -7.355, -7.8436, -7.3501, -6.6937, -7.8535, -7.5406, -6.453, -4.8478, -6.5039, -6.3813, -5.3127, -4.6245, -5.4178, -6.2611, -4.2491, -6.5392, -5.8321, -4.0773, -5.3817, -4.3616, -5.0638, -5.1836, -5.7681, -4.4576, -4.716, -4.3479, -5.4323, -5.4793, -5.6547, -4.7448, -5.2249, -5.3005, -4.5429, -4.2544, -5.5115, -5.358, -4.6405, -5.0393, -3.874, -4.777, -4.5232, -4.779, -5.2609, -4.9326, -5.226, -5.197, -5.355, -5.2904, -5.2741, -5.156, -5.2232, -5.7407, -6.2, -6.4459, -6.3015, -6.6242, -6.4908, -6.9499, -6.9816, -6.0385, -7.0553, -6.7144, -6.4098, -7.1393, -7.1432, -7.1799, -6.2194, -6.299, -7.0566, -6.6609, -5.3092, -4.4939, -7.4247, -7.4318, -7.2587, -7.483, -7.4832, -6.4729, -6.9325, -6.187, -5.6002, -3.1997, -4.9992, -4.0905, -5.1291, -4.787, -5.5201, -6.0984, -4.0769, -4.8983, -4.7758, -4.6368, -3.5894, -5.9221, -5.6266, -5.469, -4.996, -5.4514, -4.5415, -5.0991, -5.2805, -5.3651, -5.3911, -5.3508, -5.0498, -5.12, -5.2732, -4.7022, -5.0152, -5.186, -5.0574, -5.0347, -5.1451, -5.1446, -5.0989, -5.2007, -5.2607, -5.009, -5.6322, -5.4316, -5.6509, -5.8165, -5.6491, -5.7154, -5.9215, -5.3839, -6.1039, -5.9179, -5.0195, -6.3273, -4.8837, -6.3324, -6.1747, -6.3683, -5.6016, -6.5119, -6.0599, -5.4213, -6.6161, -6.0527, -6.4461, -6.697, -6.7336, -6.6325, -6.777, -6.7797, -6.7087, -5.7327, -5.8697, -5.8265, -4.131, -5.2276, -6.1284, -4.98, -4.219, -4.116, -5.9571, -5.7311, -5.3461, -5.3093, -4.3067, -4.2478, -4.6417, -5.4534, -5.1716, -4.5877, -4.8913, -5.361, -5.1172, -5.3114, -5.5103, -5.3139, -5.4823, -5.428, -5.3855, -5.4167, -5.4998, -5.3803, -4.8209, -4.4427, -4.1039, -4.7078, -5.4333, -5.2864, -6.0842, -6.1711, -5.9365, -5.7979, -6.5813, -6.5408, -6.6296, -6.8059, -6.9369, -4.653, -7.012, -7.0963, -7.1804, -7.0541, -6.8931, -6.8922, -7.2758, -7.2758, -7.2764, -7.2768, -7.0195, -7.0868, -6.3321, -7.3822, -4.7476, -4.5756, -6.6581, -7.0441, -6.8779, -5.7877, -4.776, -5.8257, -6.5942, -5.4407, -5.9078, -6.0875, -4.9373, -4.4965, -4.967, -4.7301, -5.717, -4.6182, -4.4309, -4.7284, -4.9155, -5.2025, -4.5492, -4.7297, -4.8145, -5.1405, -5.0272, -5.1146, -5.0907, -5.1915, -5.3863, -5.2384, -5.2304, -5.385, -5.6185, -5.9357, -5.9392, -5.5131, -5.8638, -5.995, -6.0586, -4.9624, -5.4837, -5.8698, -5.7597, -6.2608, -6.5142, -6.812, -6.8299, -6.9382, -6.9382, -6.6968, -6.4957, -7.1018, -5.2428, -6.4533, -6.937, -6.3942, -5.7496, -7.2806, -7.2831, -7.2831, -6.941, -6.6061, -5.7529, -6.7609, -5.9265, -5.3488, -5.3099, -3.1168, -6.0072, -5.537, -5.388, -4.8874, -5.0666, -5.6397, -4.59, -4.7591, -5.5558, -4.7863, -5.4415, -5.3598, -4.9696, -5.2492, -5.328, -5.537, -5.5197, -5.558, -5.6159, -5.7035, -5.6967, -5.674, -5.7204, -6.7021, -7.2592, -7.2592, -7.2592, -7.2672, -7.2699, -7.3105, -7.2357, -7.6643, -7.6643, -7.6643, -7.6643, -7.6643, -7.6643, -7.6643, -7.6643, -7.6643, -7.5651, -7.389, -7.6677, -7.6815, -7.7858, -7.7858, -7.786, -7.7861, -7.4189, -7.7023, -7.3841, -7.4846, -7.7117, -7.6677, -7.4863, -7.431, -7.6055, -7.4525, -7.5951, -8.3049, -8.3049, -8.3049, -8.3049, -8.3049, -8.3049, -8.3049, -8.3049, -8.3049, -8.3042, -8.3042, -8.3042, -8.3049, -8.3051, -8.3051, -8.3051, -8.3051, -8.305, -8.305, -8.305, -8.305, -8.305, -8.3049, -8.3049, -8.3049, -8.305, -8.3051, -8.3051, -8.3051, -8.3051, -8.3045, -8.3045, -8.3047, -8.3047, -8.3024, -8.3024, -8.3024, -8.3024, -8.3047, -8.3018, -8.3018, -8.3018, -8.3018, -8.3018, -8.303, -8.303, -8.303, -8.303, -8.303, -8.303, -8.303, -8.3025, -8.3025, -8.3025, -8.3009, -8.3009, -8.303, -8.3027, -8.3027, -8.3028, -8.3028, -8.3011, -8.2994, -8.2996, -8.3001, -8.3002, -8.3002, -8.3002, -8.3002, -8.3002, -8.3002, -8.3003, -8.3003, -8.3003, -8.3003, -8.3004, -8.3004, -8.3005, -8.3005, -8.3005, -8.3005, -8.3005, -8.3005, -8.3005, -8.3005, -8.3005, -8.3005, -8.3005, -8.3005, -8.3005, -8.3005, -8.3005], \"loglift\": [30.0, 29.0, 28.0, 27.0, 26.0, 25.0, 24.0, 23.0, 22.0, 21.0, 20.0, 19.0, 18.0, 17.0, 16.0, 15.0, 14.0, 13.0, 12.0, 11.0, 10.0, 9.0, 8.0, 7.0, 6.0, 5.0, 4.0, 3.0, 2.0, 1.0, 0.8458, 0.8259, 0.7978, 0.7831, 0.7764, 0.7756, 0.7755, 0.7742, 0.7683, 0.766, 0.7624, 0.7537, 0.7529, 0.7518, 0.7468, 0.7427, 0.7412, 0.7329, 0.7305, 0.7298, 0.7276, 0.7273, 0.7253, 0.7244, 0.7221, 0.7199, 0.7197, 0.7106, 0.7106, 0.7078, 0.7009, 0.6716, 0.6965, 0.6869, 0.646, 0.6125, 0.6436, 0.6766, 0.5736, 0.6867, 0.6485, 0.5341, 0.6034, 0.5116, 0.5595, 0.5523, 0.609, 0.473, 0.4855, 0.4339, 0.5619, 0.5623, 0.5782, 0.4529, 0.5141, 0.5253, 0.41, 0.3415, 0.5533, 0.5165, 0.3521, 0.443, 0.1144, 0.335, 0.215, 0.1692, 0.4022, 0.1458, 0.2005, 0.0461, 0.3013, -0.2091, -1.067, 1.2849, 1.2702, 1.2697, 1.2467, 1.2421, 1.242, 1.2338, 1.2176, 1.2021, 1.2021, 1.1959, 1.1946, 1.194, 1.1866, 1.1816, 1.1805, 1.1788, 1.1686, 1.1686, 1.1579, 1.1558, 1.1515, 1.1474, 1.1458, 1.1387, 1.1367, 1.136, 1.1358, 1.1345, 1.1344, 1.1226, 1.0861, 1.0075, 1.0553, 0.9663, 1.0211, 0.983, 0.982, 1.0505, 0.757, 0.8716, 0.8261, 0.7772, 0.399, 0.9585, 0.87, 0.8128, 0.5856, 0.7634, 0.1967, 0.475, 0.5685, 0.6176, 0.6241, 0.5883, 0.3768, 0.4168, 0.4805, -0.1063, 0.0662, 0.3151, -0.0648, -0.2529, -0.0667, -0.2714, -0.4875, -0.2701, -0.3079, 1.7418, 1.726, 1.7227, 1.7221, 1.7153, 1.714, 1.711, 1.7093, 1.7013, 1.6975, 1.695, 1.6846, 1.6796, 1.6775, 1.6752, 1.6715, 1.6647, 1.6627, 1.6617, 1.6572, 1.6545, 1.6501, 1.6475, 1.6423, 1.6374, 1.6364, 1.633, 1.63, 1.6281, 1.6265, 1.5897, 1.5877, 1.5657, 1.4361, 1.5193, 1.5863, 1.4689, 1.3683, 1.3404, 1.5613, 1.5168, 1.357, 1.2956, 0.7747, 0.5861, 0.7723, 1.2735, 0.8879, 0.3605, 0.3518, 0.8973, 0.5245, 0.6276, 1.032, 0.5261, 0.3969, -0.3159, -0.7896, -0.6349, 0.3156, -1.3919, 2.1977, 2.1955, 2.1828, 2.173, 2.1674, 2.1129, 2.1095, 2.1092, 2.104, 2.0831, 2.0465, 2.0445, 2.0414, 2.0041, 1.979, 1.9749, 1.961, 1.9365, 1.9177, 1.9102, 1.9025, 1.8993, 1.8913, 1.8913, 1.8906, 1.8902, 1.8811, 1.8752, 1.8628, 1.859, 1.8053, 1.7309, 1.8134, 1.8498, 1.8133, 1.5249, 1.232, 1.4858, 1.6857, 1.1375, 1.3129, 1.3708, 0.7218, 0.4564, 0.7325, 0.5069, 1.1371, 0.3745, 0.1805, 0.0943, 0.1629, 0.4803, -0.3421, -0.1338, -0.0763, 0.3418, 0.1705, -0.0025, -0.1425, 0.01, 0.4882, 0.0047, -0.2998, 0.354, 3.0791, 3.0055, 3.0001, 2.993, 2.9874, 2.984, 2.9598, 2.9236, 2.9078, 2.8671, 2.7689, 2.7305, 2.7149, 2.701, 2.6769, 2.6516, 2.6516, 2.6456, 2.5752, 2.5641, 2.557, 2.5476, 2.5371, 2.5046, 2.4811, 2.473, 2.4697, 2.4697, 2.427, 2.4069, 2.378, 2.383, 2.1893, 1.9969, 1.9108, 0.8716, 2.1037, 1.7828, 1.6882, 1.1722, 1.2847, 1.573, 0.4884, 0.484, 1.4346, 0.3257, 0.9692, 0.7583, -0.2313, 0.3179, 0.1731, 0.8335, 0.7386, 0.7773, 0.0258, 0.3045, 0.14, -0.8512, 0.3932, 3.0061, 2.8399, 2.8399, 2.8399, 2.695, 2.6842, 2.5566, 2.5321, 2.4787, 2.4787, 2.4787, 2.4787, 2.4787, 2.4787, 2.4787, 2.4787, 2.4787, 2.4135, 2.3699, 2.341, 2.2139, 2.1314, 2.1313, 2.131, 2.1309, 2.1024, 2.049, 2.0363, 2.0348, 2.025, 2.0181, 1.899, 1.8338, 1.719, 1.1252, 1.5574, 1.8382, 1.8382, 1.8382, 1.8382, 1.8382, 1.8382, 1.8382, 1.8382, 1.8382, 1.7949, 1.7949, 1.7949, 1.7601, 1.7598, 1.7578, 1.7578, 1.7578, 1.7572, 1.7572, 1.7572, 1.7572, 1.7563, 1.7562, 1.7562, 1.7556, 1.7552, 1.7542, 1.7542, 1.7542, 1.7542, 1.7503, 1.7503, 1.7509, 1.7509, 1.7217, 1.7217, 1.7217, 1.7217, 1.7509, 1.6725, 1.6725, 1.6725, 1.6725, 1.6725, 1.7016, 1.7016, 1.7016, 1.7016, 1.7016, 1.7016, 1.7016, 1.6834, 1.6834, 1.6834, 1.5479, 1.5479, 1.7016, 1.6684, 1.6684, 1.671, 1.671, 1.4841, 0.2808, 1.0642, 0.431, -0.7837, -1.9938, -2.0273, -0.2277, -2.4602, -0.6187, -2.7992, -3.4665, -1.6387, -2.6372, -0.4346, -2.4215, -4.3121, 1.2899, -0.7032, -3.5623, -2.2449, -2.4213, -1.0176, -3.2221, -2.1869, -3.3523, -2.1505, -2.7335, -0.857, -3.7047, -1.9402]}, \"token.table\": {\"Topic\": [1, 2, 3, 4, 1, 2, 3, 4, 1, 2, 3, 4, 1, 2, 3, 4, 1, 2, 3, 4, 5, 1, 2, 3, 4, 1, 2, 3, 4, 1, 2, 3, 4, 1, 2, 3, 4, 1, 2, 3, 4, 5, 1, 2, 3, 4, 1, 2, 3, 4, 1, 2, 3, 4, 5, 1, 2, 3, 4, 5, 1, 2, 3, 4, 5, 1, 2, 3, 4, 1, 2, 3, 4, 5, 1, 2, 3, 4, 5, 1, 2, 3, 4, 1, 2, 3, 4, 5, 1, 2, 3, 4, 5, 1, 2, 3, 4, 1, 2, 3, 4, 5, 1, 2, 3, 4, 1, 2, 3, 4, 1, 2, 3, 4, 1, 2, 3, 4, 1, 2, 3, 4, 1, 2, 3, 4, 5, 1, 2, 3, 4, 5, 1, 2, 3, 4, 1, 2, 3, 4, 1, 2, 3, 4, 5, 1, 2, 3, 4, 1, 2, 3, 4, 5, 1, 2, 3, 4, 5, 1, 2, 3, 4, 1, 2, 3, 4, 1, 2, 3, 4, 1, 2, 3, 4, 5, 1, 2, 3, 4, 5, 1, 2, 3, 4, 5, 1, 2, 3, 4, 5, 1, 2, 3, 4, 5, 1, 2, 3, 4, 5, 1, 2, 3, 4, 1, 2, 3, 4, 1, 2, 3, 4, 5, 1, 2, 3, 4, 1, 2, 3, 4, 5, 1, 2, 3, 4, 1, 2, 3, 4, 1, 2, 3, 4, 5, 1, 2, 3, 4, 5, 1, 2, 3, 4, 1, 2, 3, 4, 5, 1, 2, 3, 4, 1, 2, 3, 4, 5, 1, 2, 3, 4, 5, 1, 2, 3, 4, 5, 1, 2, 3, 4, 1, 2, 3, 4, 1, 2, 3, 4, 5, 1, 2, 3, 4, 1, 2, 3, 4, 5, 1, 2, 3, 4, 5, 1, 2, 3, 4, 1, 2, 3, 4, 1, 2, 3, 4, 1, 2, 3, 4, 1, 2, 3, 4, 5, 1, 2, 3, 4, 1, 2, 3, 4, 5, 1, 2, 3, 4, 5, 1, 2, 3, 4, 5, 1, 2, 3, 4, 1, 2, 3, 4, 5, 1, 2, 3, 4, 5, 1, 2, 3, 4, 1, 2, 3, 4, 5, 1, 2, 3, 4, 5, 1, 2, 3, 4, 1, 2, 3, 4, 5, 1, 2, 3, 4, 5, 1, 2, 3, 4, 1, 2, 3, 4, 1, 2, 3, 4, 5, 1, 2, 3, 4, 1, 2, 3, 4, 5, 1, 2, 3, 4, 5, 1, 2, 3, 4, 5, 1, 2, 3, 4, 5, 1, 2, 3, 4, 5, 1, 2, 3, 4, 5, 1, 2, 3, 4, 1, 2, 3, 4, 1, 2, 3, 4, 1, 2, 3, 4, 5, 1, 2, 3, 4, 1, 2, 3, 4, 5, 1, 2, 3, 4, 1, 2, 3, 4, 5, 1, 2, 3, 4, 1, 2, 3, 4, 5, 1, 2, 3, 4, 1, 2, 3, 4, 5, 1, 2, 3, 4, 1, 2, 3, 4, 1, 2, 3, 4, 5, 1, 2, 3, 4, 1, 2, 3, 4, 5, 1, 2, 3, 4, 5, 1, 2, 3, 4, 5, 1, 2, 3, 4, 5, 1, 2, 3, 4, 1, 2, 3, 4, 1, 2, 3, 4, 5, 1, 2, 3, 4, 1, 2, 3, 4, 5, 1, 2, 3, 4, 1, 2, 3, 4, 5, 1, 2, 3, 4, 1, 2, 3, 4, 5, 1, 2, 3, 4, 1, 2, 3, 4, 1, 2, 3, 4, 5, 1, 2, 3, 4, 5, 1, 2, 3, 4, 1, 2, 3, 4, 1, 2, 3, 4, 5, 1, 2, 3, 4, 5, 1, 2, 3, 4, 5, 1, 2, 3, 4, 5, 1, 2, 3, 4, 5, 1, 2, 3, 4, 1, 2, 3, 4, 1, 2, 3, 4, 1, 2, 3, 4, 1, 2, 3, 4, 5, 1, 2, 3, 4, 1, 2, 3, 4, 5, 1, 2, 3, 4, 5, 1, 2, 3, 4, 1, 2, 3, 4, 5, 1, 2, 3, 4, 5, 1, 2, 3, 4, 5, 1, 2, 3, 4, 5, 1, 2, 3, 4, 1, 2, 3, 4, 1, 2, 3, 4, 5, 1, 2, 3, 4, 1, 2, 3, 4, 5, 1, 2, 3, 4, 5, 1, 2, 3, 4, 5, 1, 2, 3, 4, 1, 2, 3, 4, 1, 2, 3, 4, 1, 2, 3, 4, 1, 2, 3, 4, 1, 2, 3, 4, 1, 2, 3, 4, 1, 2, 3, 4, 5, 1, 2, 3, 4, 5, 1, 2, 3, 4, 1, 2, 3, 4, 1, 2, 3, 4, 1, 2, 3, 4, 5, 1, 2, 3, 4, 5, 1, 2, 3, 4, 5, 1, 2, 3, 4, 5, 1, 2, 3, 4, 1, 2, 3, 4, 5, 1, 2, 3, 4, 1, 2, 3, 4, 5, 1, 2, 3, 4, 5, 1, 2, 3, 4, 5, 1, 2, 3, 4, 5, 1, 2, 3, 4, 1, 2, 3, 4, 5, 1, 2, 3, 4, 1, 2, 3, 4, 1, 2, 3, 4, 1, 2, 3, 4, 1, 2, 3, 4, 1, 2, 3, 4, 5, 1, 2, 3, 4, 5, 1, 2, 3, 4, 1, 2, 3, 4, 1, 2, 3, 4, 5, 1, 2, 3, 4, 5, 1, 2, 3, 4, 1, 2, 3, 4, 5, 1, 2, 3, 4, 5, 1, 2, 3, 4, 5, 1, 2, 3, 4, 5, 1, 2, 3, 4, 1, 2, 3, 4, 5, 1, 2, 3, 4, 5, 1, 2, 3, 4, 1, 2, 3, 4, 5, 1, 2, 3, 4, 5, 1, 2, 3, 4, 1, 2, 3, 4, 1, 2, 3, 4, 5, 1, 2, 3, 4, 5, 1, 2, 3, 4, 5, 1, 2, 3, 4, 5, 1, 2, 3, 4, 1, 2, 3, 4, 1, 2, 3, 4, 5, 1, 2, 3, 4, 5, 1, 2, 3, 4, 1, 2, 3, 4, 1, 2, 3, 4, 5, 1, 2, 3, 4, 1, 2, 3, 4, 5, 1, 2, 3, 4, 1, 2, 3, 4, 1, 2, 3, 4, 5, 1, 2, 3, 4, 5, 1, 2, 3, 4, 1, 2, 3, 4, 5, 1, 2, 3, 4, 1, 2, 3, 4, 5, 1, 2, 3, 4, 5, 1, 2, 3, 4, 5, 1, 2, 3, 4, 1, 2, 3, 4, 5, 1, 2, 3, 4, 1, 2, 3, 4, 5, 1, 2, 3, 4, 5, 1, 2, 3, 4, 5, 1, 2, 3, 4, 5, 1, 2, 3, 4, 5, 1, 2, 3, 4, 5, 1, 2, 3, 4, 1, 2, 3, 4, 1, 2, 3, 4, 1, 2, 3, 4, 1, 2, 3, 4, 1, 2, 3, 4, 1, 2, 3, 4, 1, 2, 3, 4, 1, 2, 3, 4, 1, 2, 3, 4, 5, 1, 2, 3, 4, 1, 2, 3, 4, 1, 2, 3, 4, 5, 1, 2, 3, 4, 5, 1, 2, 3, 4, 1, 2, 3, 4, 1, 2, 3, 4, 1, 2, 3, 4, 5, 1, 2, 3, 4, 1, 2, 3, 4, 1, 2, 3, 4, 5, 1, 2, 3, 4, 1, 2, 3, 4, 1, 2, 3, 4, 1, 2, 3, 4, 5, 1, 2, 3, 4, 5, 1, 2, 3, 4, 5, 1, 2, 3, 4, 5, 1, 2, 3, 4, 5, 1, 2, 3, 4, 5, 1, 2, 3, 4, 5, 1, 2, 3, 4, 1, 2, 3, 4, 5, 1, 2, 3, 4, 1, 2, 3, 4, 5, 1, 2, 3, 4, 1, 2, 3, 4, 1, 2, 3, 4, 5, 1, 2, 3, 4, 1, 2, 3, 4, 5, 1, 2, 3, 4, 1, 2, 3, 4, 1, 2, 3, 4, 5, 1, 2, 3, 4, 1, 2, 3, 4, 5, 1, 2, 3, 4, 5, 1, 2, 3, 4, 1, 2, 3, 4, 1, 2, 3, 4, 1, 2, 3, 4, 1, 2, 3, 4, 1, 2, 3, 4, 1, 2, 3, 4, 5, 1, 2, 3, 4, 1, 2, 3, 4, 5, 1, 2, 3, 4, 1, 2, 3, 4, 5, 1, 2, 3, 4, 5, 1, 2, 3, 4, 5, 1, 2, 3, 4, 5, 1, 2, 3, 4, 1, 2, 3, 4, 1, 2, 3, 4, 1, 2, 3, 4, 5, 1, 2, 3, 4, 1, 2, 3, 4, 1, 2, 3, 4, 1, 2, 3, 4, 1, 2, 3, 4, 5, 1, 2, 3, 4, 1, 2, 3, 4, 5, 1, 2, 3, 4, 1, 2, 3, 4, 5, 1, 2, 3, 4, 5, 1, 2, 3, 4, 5, 1, 2, 3, 4, 1, 2, 3, 4, 1, 2, 3, 4, 1, 2, 3, 4, 1, 2, 3, 4, 1, 2, 3, 4, 1, 2, 3, 4, 1, 2, 3, 4, 5, 1, 2, 3, 4, 5, 1, 2, 3, 4, 1, 2, 3, 4, 5, 1, 2, 3, 4, 5, 1, 2, 3, 4, 1, 2, 3, 4, 1, 2, 3, 4, 1, 2, 3, 4, 1, 2, 3, 4, 1, 2, 3, 4, 1, 2, 3, 4, 1, 2, 3, 4, 5, 1, 2, 3, 4, 1, 2, 3, 4, 1, 2, 3, 4, 1, 2, 3, 4, 5, 1, 2, 3, 4, 1, 2, 3, 4, 5, 1, 2, 3, 4, 5, 1, 2, 3, 4, 1, 2, 3, 4, 5, 1, 2, 3, 4, 1, 2, 3, 4, 1, 2, 3, 4, 1, 2, 3, 4, 5, 1, 2, 3, 4, 1, 2, 3, 4, 5, 1, 2, 3, 4, 5, 1, 2, 3, 4, 5, 1, 2, 3, 4, 1, 2, 3, 4, 5, 1, 2, 3, 4, 5, 1, 2, 3, 4, 5, 1, 2, 3, 4, 1, 2, 3, 4, 1, 2, 3, 4, 1, 2, 3, 4, 1, 2, 3, 4, 1, 2, 3, 4, 5, 1, 2, 3, 4, 5, 1, 2, 3, 4, 1, 2, 3, 4, 5, 1, 2, 3, 4, 1, 2, 3, 4, 5, 1, 2, 3, 4, 1, 2, 3, 4, 5, 1, 2, 3, 4, 5, 1, 2, 3, 4, 1, 2, 3, 4, 5, 1, 2, 3, 4, 1, 2, 3, 4, 5, 1, 2, 3, 4, 1, 2, 3, 4, 5, 1, 2, 3, 4, 5, 1, 2, 3, 4, 5, 1, 2, 3, 4, 5], \"Freq\": [0.8749347818251015, 0.031247670779467912, 0.031247670779467912, 0.031247670779467912, 0.055222469395811276, 0.055222469395811276, 0.8283370409371692, 0.055222469395811276, 0.10721602817870877, 0.10721602817870877, 0.10721602817870877, 0.6432961690722526, 0.10463864111296389, 0.8371091289037111, 0.02092772822259278, 0.02092772822259278, 0.09443071365492861, 0.047215356827464305, 0.8341379706185361, 0.015738452275821435, 0.015738452275821435, 0.38474941316030964, 0.2564996087735397, 0.12824980438676986, 0.12824980438676986, 0.013303208613768417, 0.026606417227536833, 0.9445278115775576, 0.013303208613768417, 0.2107611577406997, 0.2107611577406997, 0.4215223154813994, 0.2107611577406997, 0.08128283940361535, 0.08128283940361535, 0.08128283940361535, 0.7315455546325381, 0.179635633950159, 0.7054781260588062, 0.06695509992687744, 0.03429407557230308, 0.011431358524101027, 0.04629999503182944, 0.902849903120674, 0.02314999751591472, 0.02314999751591472, 0.2399201077609639, 0.7164280995639895, 0.0033322237189022763, 0.03665446090792504, 0.4740573720807199, 0.4987908001892792, 0.008244476036186433, 0.0041222380180932165, 0.01236671405427965, 0.4557859354765624, 0.31482121316422346, 0.12216942600402703, 0.05168706484785759, 0.05638588892493555, 0.027649931588676936, 0.027649931588676936, 0.24884938429809242, 0.027649931588676936, 0.6912482897169234, 0.25285165994616904, 0.25285165994616904, 0.25285165994616904, 0.25285165994616904, 0.06474812185724536, 0.06474812185724536, 0.19424436557173608, 0.06474812185724536, 0.6474812185724536, 0.12692021007042517, 0.014102245563380574, 0.6628055414788869, 0.014102245563380574, 0.18332919232394745, 0.048738300742385894, 0.7456960013585042, 0.19495320296954358, 0.004873830074238589, 0.19955867329107976, 0.13882342489814245, 0.6073524839293731, 0.008676464056133903, 0.03470585622453561, 0.22591269856943433, 0.38019454149490167, 0.33611401494476817, 0.04959059236890022, 0.005510065818766691, 0.22315988629765934, 0.22315988629765934, 0.22315988629765934, 0.22315988629765934, 0.3613576783183642, 0.6059690297954107, 0.02779674448602801, 0.005559348897205603, 0.005559348897205603, 0.07378979924619072, 0.02459659974873024, 0.8854775909542887, 0.01229829987436512, 0.8829327451979283, 0.03395895173838186, 0.03395895173838186, 0.03395895173838186, 0.25285165994616904, 0.25285165994616904, 0.25285165994616904, 0.25285165994616904, 0.00888559874017733, 0.00888559874017733, 0.968530262679329, 0.00888559874017733, 0.0768041105400551, 0.8448452159406061, 0.03840205527002755, 0.03840205527002755, 0.2560099683437641, 0.17067331222917606, 0.08533665611458803, 0.08533665611458803, 0.4266832805729402, 0.15193986746172836, 0.15193986746172836, 0.15193986746172836, 0.15193986746172836, 0.45581960238518504, 0.12430733088094569, 0.8235360670862651, 0.03107683272023642, 0.01553841636011821, 0.2641947992819004, 0.2641947992819004, 0.2641947992819004, 0.2641947992819004, 0.23457675666202535, 0.23457675666202535, 0.23457675666202535, 0.23457675666202535, 0.23457675666202535, 0.1287554712735335, 0.5793996207309008, 0.19313320691030028, 0.06437773563676676, 0.12171216496600819, 0.12171216496600819, 0.24342432993201638, 0.12171216496600819, 0.3651364948980245, 0.3896261317384083, 0.369253523542936, 0.10695619302622973, 0.09167673687962548, 0.0432917924153787, 0.046591742068997515, 0.046591742068997515, 0.8852430993109528, 0.046591742068997515, 0.011614659534218504, 0.011614659534218504, 0.011614659534218504, 0.9640167413401357, 0.32727112550652715, 0.15584339309834627, 0.015584339309834628, 0.4831145186048734, 0.167018496565973, 0.0835092482829865, 0.0835092482829865, 0.0835092482829865, 0.5845647379809056, 0.09727575179008803, 0.09727575179008803, 0.2918272553702641, 0.09727575179008803, 0.3891030071603521, 0.43911257732158254, 0.10977814433039564, 0.21955628866079127, 0.10977814433039564, 0.10977814433039564, 0.23457675666202535, 0.23457675666202535, 0.23457675666202535, 0.23457675666202535, 0.23457675666202535, 0.1398382972830011, 0.1398382972830011, 0.1398382972830011, 0.1398382972830011, 0.5593531891320044, 0.4149074383876761, 0.2946444127680598, 0.0481052102478465, 0.1984339922723668, 0.042092058966865686, 0.2641947992819004, 0.2641947992819004, 0.2641947992819004, 0.2641947992819004, 0.14897258348935874, 0.0993150556595725, 0.04965752782978625, 0.6455478617872212, 0.05082787280487262, 0.24566805189021768, 0.6607623464633441, 0.008471312134145438, 0.03388524853658175, 0.044867407012653474, 0.044867407012653474, 0.852480733240416, 0.044867407012653474, 0.3828284022362714, 0.2081397138371961, 0.25274108108802384, 0.14495444356519013, 0.011150341812706934, 0.22308387960951953, 0.22308387960951953, 0.22308387960951953, 0.22308387960951953, 0.43886089585920585, 0.48302299858717623, 0.03588170846647595, 0.04140197130747225, 0.7222426047904352, 0.17552509518811374, 0.046039369229669176, 0.046039369229669176, 0.008632381730562971, 0.16395586885000762, 0.16395586885000762, 0.16395586885000762, 0.16395586885000762, 0.4918676065500229, 0.03227027631476761, 0.06454055262953522, 0.03227027631476761, 0.8712974604987254, 0.07927116006805918, 0.07927116006805918, 0.07927116006805918, 0.07927116006805918, 0.7134404406125325, 0.2641947992819004, 0.2641947992819004, 0.2641947992819004, 0.2641947992819004, 0.5592495012384722, 0.30990258985826163, 0.05699357974404812, 0.03205888860602706, 0.04274518480803609, 0.07205232751893585, 0.018013081879733963, 0.8286017664677624, 0.018013081879733963, 0.07205232751893585, 0.033311258948073935, 0.2803697628129556, 0.6662251789614787, 0.002775938245672828, 0.01387969122836414, 0.23003638120290557, 0.23003638120290557, 0.23003638120290557, 0.23003638120290557, 0.01914453462085449, 0.01914453462085449, 0.8040704540758886, 0.15315627696683592, 0.423864612072816, 0.141288204024272, 0.035322051006068, 0.035322051006068, 0.388542561066748, 0.1515189573330855, 0.07575947866654276, 0.07575947866654276, 0.6818353079988847, 0.1542134509149595, 0.051404483638319835, 0.051404483638319835, 0.051404483638319835, 0.7196627709364777, 0.24326349822135857, 0.24326349822135857, 0.24326349822135857, 0.24326349822135857, 0.24326349822135857, 0.7867660341838646, 0.1899090427340363, 0.013564931623859735, 0.006782465811929868, 0.8535831199323359, 0.034143324797293435, 0.06828664959458687, 0.034143324797293435, 0.08199565812572024, 0.08199565812572024, 0.08199565812572024, 0.7379609231314821, 0.1899018825199345, 0.01460783711691804, 0.7742153671966561, 0.01460783711691804, 0.45164205758995557, 0.29356733743347113, 0.033873154319246666, 0.056455257198744446, 0.15807472015648444, 0.8494399917491682, 0.10401306021418386, 0.017335510035697308, 0.017335510035697308, 0.6375681658891105, 0.20838803865636293, 0.08930915942415554, 0.05705862963209938, 0.006202024960010802, 0.2434664931599779, 0.2434664931599779, 0.2434664931599779, 0.2434664931599779, 0.2434664931599779, 0.09318999700309884, 0.02329749925077471, 0.8387099730278895, 0.02329749925077471, 0.02329749925077471, 0.08647432422944654, 0.8935680170376142, 0.014412387371574423, 0.014412387371574423, 0.15501553393399298, 0.7706486544147079, 0.02214507627628471, 0.04429015255256942, 0.004429015255256942, 0.1417433978630412, 0.7359484795450514, 0.04608406038896906, 0.07541028063649483, 0.000698243339226804, 0.9065083677887497, 0.018500170771198973, 0.055500512313596914, 0.018500170771198973, 0.01655566128245828, 0.01655566128245828, 0.9436726931001218, 0.01655566128245828, 0.01655566128245828, 0.4522642749074223, 0.2882076261664946, 0.15518872178195864, 0.062075488712783455, 0.044339634794845324, 0.08704760829803027, 0.08704760829803027, 0.08704760829803027, 0.6963808663842421, 0.24384241209007373, 0.24384241209007373, 0.24384241209007373, 0.24384241209007373, 0.24384241209007373, 0.4958560614557663, 0.24792803072788314, 0.13523347130611807, 0.09015564753741205, 0.022538911884353013, 0.21075500671262318, 0.21075500671262318, 0.42151001342524635, 0.21075500671262318, 0.2107784776530012, 0.2107784776530012, 0.4215569553060024, 0.2107784776530012, 0.10146924076040513, 0.10146924076040513, 0.25367310190101283, 0.050734620380202565, 0.4819788936119244, 0.8625857368471591, 0.03920844258396178, 0.03920844258396178, 0.07841688516792356, 0.489326495703788, 0.1640855314934858, 0.2431981984635593, 0.09229811146508576, 0.011720395106677557, 0.8145636018069564, 0.0428717685161556, 0.0428717685161556, 0.0142905895053852, 0.071452947526926, 0.43285122161981915, 0.15936794977820615, 0.24200318299653525, 0.10624529985213743, 0.05902516658452079, 0.059399533789521265, 0.014849883447380316, 0.890993006842819, 0.014849883447380316, 0.029699766894760633, 0.24433516026788324, 0.24433516026788324, 0.24433516026788324, 0.24433516026788324, 0.24433516026788324, 0.5997952289704396, 0.16660978582512212, 0.033321957165024424, 0.1332878286600977, 0.06664391433004885, 0.03723867761195927, 0.8937282626870225, 0.03723867761195927, 0.03723867761195927, 0.050989152545935584, 0.050989152545935584, 0.01699638418197853, 0.8838119774628835, 0.13676782350752156, 0.06838391175376078, 0.06838391175376078, 0.6838391175376078, 0.22048202164147157, 0.22048202164147157, 0.22048202164147157, 0.22048202164147157, 0.22048202164147157, 0.23003638120290557, 0.23003638120290557, 0.23003638120290557, 0.23003638120290557, 0.511830157383454, 0.3265737663119486, 0.03325114711539841, 0.09856590037778813, 0.029688524210177147, 0.054828009816596836, 0.8224201472489525, 0.054828009816596836, 0.054828009816596836, 0.011519172144675831, 0.9560912880080941, 0.011519172144675831, 0.011519172144675831, 0.011519172144675831, 0.7582403894572652, 0.20178978106523995, 0.006114841850461817, 0.03057420925230908, 0.30573171046972963, 0.2484070147566553, 0.15286585523486482, 0.21019055094793912, 0.07643292761743241, 0.1455767598858102, 0.577107869547319, 0.16637343986949737, 0.10918256991435764, 0.01639125320280245, 0.01639125320280245, 0.9343014325597396, 0.01639125320280245, 0.01639125320280245, 0.033853503958908154, 0.033853503958908154, 0.8801911029316121, 0.033853503958908154, 0.008481170418780949, 0.033924681675123795, 0.9159664052283425, 0.033924681675123795, 0.24435557201094724, 0.24435557201094724, 0.24435557201094724, 0.24435557201094724, 0.24435557201094724, 0.8776943461774196, 0.06053064456395998, 0.03026532228197999, 0.03026532228197999, 0.19586143073864595, 0.26263237303591164, 0.4139798422430471, 0.004451396153151045, 0.1201876961350782, 0.334724619253451, 0.28786317255796784, 0.36819708117879607, 0.008368115481336275, 0.001673623096267255, 0.7561613235629312, 0.10743275635320335, 0.008264058181015641, 0.12396087271523462, 0.004132029090507821, 0.17898346567930992, 0.17898346567930992, 0.17898346567930992, 0.17898346567930992, 0.35796693135861984, 0.22315988629765934, 0.22315988629765934, 0.22315988629765934, 0.22315988629765934, 0.8171053965038383, 0.054473693100255884, 0.054473693100255884, 0.054473693100255884, 0.8786280239853942, 0.035145120959415764, 0.035145120959415764, 0.035145120959415764, 0.035145120959415764, 0.877655190943084, 0.06052794420297131, 0.030263972101485653, 0.030263972101485653, 0.2103090156094886, 0.1051545078047443, 0.05257725390237215, 0.1051545078047443, 0.5783497929260936, 0.4449213470081142, 0.2224606735040571, 0.2224606735040571, 0.2224606735040571, 0.406503913700209, 0.2710026091334726, 0.05420052182669453, 0.24390234822012538, 0.027100260913347263, 0.8530071698408481, 0.04738928721338045, 0.04738928721338045, 0.04738928721338045, 0.7107646253854222, 0.09719858124928851, 0.03644946796848319, 0.06682402460888585, 0.08504875859312745, 0.0178199786995218, 0.9266388923751335, 0.0178199786995218, 0.0178199786995218, 0.2411845449085632, 0.6408617907570394, 0.09647381796342529, 0.02067296099216256, 0.24209157701829603, 0.24209157701829603, 0.24209157701829603, 0.24209157701829603, 0.24209157701829603, 0.6168686368349612, 0.19164850853125007, 0.09282974631982426, 0.07186819069921878, 0.02695057151220704, 0.4146581994478622, 0.10817170420379013, 0.054085852101895066, 0.4146581994478622, 0.18152724426952854, 0.3630544885390571, 0.18152724426952854, 0.18152724426952854, 0.36360496960492217, 0.12120165653497406, 0.36360496960492217, 0.12120165653497406, 0.12120165653497406, 0.25837333628901243, 0.04921396881695475, 0.46753270376107015, 0.03691047661271606, 0.196855875267819, 0.8141862149756535, 0.12855571815405054, 0.02142595302567509, 0.010712976512837546, 0.02142595302567509, 0.24384241209007373, 0.24384241209007373, 0.24384241209007373, 0.24384241209007373, 0.24384241209007373, 0.8342963011902917, 0.039728395294775794, 0.039728395294775794, 0.039728395294775794, 0.039728395294775794, 0.2641947992819004, 0.2641947992819004, 0.2641947992819004, 0.2641947992819004, 0.2641947992819004, 0.2641947992819004, 0.2641947992819004, 0.2641947992819004, 0.21077509337974604, 0.21077509337974604, 0.4215501867594921, 0.21077509337974604, 0.22577575095267965, 0.22577575095267965, 0.22577575095267965, 0.22577575095267965, 0.08431998176800527, 0.25295994530401583, 0.16863996353601055, 0.08431998176800527, 0.5059198906080317, 0.22577575095267965, 0.22577575095267965, 0.22577575095267965, 0.22577575095267965, 0.6621609864658783, 0.2044062175612059, 0.048942333782260566, 0.07917142229483327, 0.004318441216081815, 0.24384241209007373, 0.24384241209007373, 0.24384241209007373, 0.24384241209007373, 0.24384241209007373, 0.8518403223771802, 0.04732446235428779, 0.04732446235428779, 0.04732446235428779, 0.7886975404828299, 0.04828760451935694, 0.004023967043279745, 0.15693471468791004, 0.004023967043279745, 0.8177527260329558, 0.12205264567656056, 0.012205264567656056, 0.012205264567656056, 0.03661579370296817, 0.7159825554415129, 0.14767140205981202, 0.04922380068660401, 0.0805480374871702, 0.004474890971509456, 0.24367313985404568, 0.24367313985404568, 0.24367313985404568, 0.24367313985404568, 0.24367313985404568, 0.23003638120290557, 0.23003638120290557, 0.23003638120290557, 0.23003638120290557, 0.01631156258356089, 0.01631156258356089, 0.9460706298465316, 0.01631156258356089, 0.17992424325584053, 0.17992424325584053, 0.35984848651168105, 0.17992424325584053, 0.17992424325584053, 0.05755089404040141, 0.8632634106060212, 0.05755089404040141, 0.05755089404040141, 0.05145859673557428, 0.02940491242032816, 0.9115522850301729, 0.00735122810508204, 0.00735122810508204, 0.5404499699849479, 0.15341805599572714, 0.2336138579934936, 0.06973547999805779, 0.0034867739999028895, 0.03418770181397873, 0.03988565211630852, 0.3133872666281384, 0.6039827320469575, 0.011395900604659576, 0.0686729604035908, 0.1373459208071816, 0.0686729604035908, 0.6867296040359081, 0.03608060006523743, 0.9020150016309357, 0.03608060006523743, 0.03608060006523743, 0.03978978704148338, 0.8753753149126343, 0.03978978704148338, 0.03978978704148338, 0.1414373074526542, 0.07857628191814121, 0.007857628191814122, 0.770047562797784, 0.2641947992819004, 0.2641947992819004, 0.2641947992819004, 0.2641947992819004, 0.09204167410777268, 0.8283750669699541, 0.04602083705388634, 0.04602083705388634, 0.04271405192066818, 0.8969950903340319, 0.04271405192066818, 0.04271405192066818, 0.42935218407001996, 0.07806403346727636, 0.03903201673363818, 0.03903201673363818, 0.42935218407001996, 0.5034696453185264, 0.39237540433274826, 0.01890965804013245, 0.07091121765049668, 0.014182243530099335, 0.07005718486185977, 0.02335239495395326, 0.8873910082502238, 0.02335239495395326, 0.9412282741867295, 0.02046148422145064, 0.02046148422145064, 0.02046148422145064, 0.08254009704281609, 0.0275133656809387, 0.0275133656809387, 0.8529143361090996, 0.5933366891088317, 0.30073229447981886, 0.04063949925402957, 0.0568952989556414, 0.01625579970161183, 0.45920207960453735, 0.40642023137413075, 0.026390924115203294, 0.10556369646081318, 0.0026390924115203295, 0.2091835795650936, 0.2524629408544233, 0.4760729741826268, 0.007213226881554952, 0.05049258817088466, 0.7358214702509865, 0.12704831141024228, 0.005293679642093428, 0.1323419910523357, 0.005293679642093428, 0.19685412637172747, 0.19685412637172747, 0.19685412637172747, 0.39370825274345495, 0.18480271548277588, 0.0426467804960252, 0.1279403414880756, 0.3980366179629019, 0.2558806829761512, 0.30137781778028483, 0.6140220960383372, 0.002816615119441914, 0.0788652233443736, 0.2062336761698137, 0.2062336761698137, 0.2062336761698137, 0.2062336761698137, 0.2062336761698137, 0.07943099440627224, 0.07943099440627224, 0.07943099440627224, 0.07943099440627224, 0.7148789496564503, 0.24367313985404568, 0.24367313985404568, 0.24367313985404568, 0.24367313985404568, 0.24367313985404568, 0.1726617952880038, 0.01569652684436398, 0.5807714932414673, 0.01569652684436398, 0.21975137582109572, 0.12371404237643469, 0.06185702118821734, 0.18557106356465203, 0.6804272330703908, 0.6976410020462657, 0.13036725795814055, 0.042281272851288826, 0.12684381855386648, 0.003523439404274069, 0.4825581913049434, 0.0155663932679014, 0.0155663932679014, 0.466991798037042, 0.05806005130664387, 0.05806005130664387, 0.05806005130664387, 0.8128407182930142, 0.23003638120290557, 0.23003638120290557, 0.23003638120290557, 0.23003638120290557, 0.17103099598699054, 0.34206199197398107, 0.17103099598699054, 0.17103099598699054, 0.22315988629765934, 0.22315988629765934, 0.22315988629765934, 0.22315988629765934, 0.0725932974533502, 0.0725932974533502, 0.0725932974533502, 0.0725932974533502, 0.725932974533502, 0.7257933608242176, 0.20112346143321694, 0.030605744131141706, 0.02186124580795836, 0.026233494969550034, 0.08110000682341202, 0.16220001364682404, 0.08110000682341202, 0.7299000614107082, 0.04329522973374038, 0.04329522973374038, 0.8659045946748076, 0.04329522973374038, 0.35735023002479266, 0.43603284947979287, 0.17047900881916714, 0.02950598229562508, 0.009835327431875027, 0.5691620289814295, 0.3225251497561434, 0.006324022544238105, 0.006324022544238105, 0.09486033816357159, 0.2641947992819004, 0.2641947992819004, 0.2641947992819004, 0.2641947992819004, 0.576436248864209, 0.14152027666726089, 0.12426170634198518, 0.10700313601670945, 0.05177571097582716, 0.5159317837311396, 0.13459090010377556, 0.007477272227987531, 0.32899997803145137, 0.014954544455975062, 0.5466746863535866, 0.26570222185900577, 0.012216194108460036, 0.1710267175184405, 0.003054048527115009, 0.8983586186056571, 0.008721928335977253, 0.008721928335977253, 0.07849735502379528, 0.008721928335977253, 0.2641947992819004, 0.2641947992819004, 0.2641947992819004, 0.2641947992819004, 0.1406958331239661, 0.1406958331239661, 0.1406958331239661, 0.1406958331239661, 0.5627833324958644, 0.04332994057917717, 0.04332994057917717, 0.8665988115835433, 0.04332994057917717, 0.04332994057917717, 0.23003638120290557, 0.23003638120290557, 0.23003638120290557, 0.23003638120290557, 0.24295308976037366, 0.24295308976037366, 0.24295308976037366, 0.24295308976037366, 0.24295308976037366, 0.05255968589774441, 0.19709882211654153, 0.7358356025684217, 0.006569960737218051, 0.006569960737218051, 0.2641947992819004, 0.2641947992819004, 0.2641947992819004, 0.2641947992819004, 0.01746267704655435, 0.01746267704655435, 0.9429845605139349, 0.01746267704655435, 0.0904345974481053, 0.0904345974481053, 0.2713037923443159, 0.0904345974481053, 0.45217298724052646, 0.6225936000037361, 0.197228232625297, 0.0073592624113916795, 0.1677911829797303, 0.004415557446835008, 0.7327265086122237, 0.12276722807435846, 0.011630579501781327, 0.11759808162912232, 0.015507439335708436, 0.3931853591478221, 0.18602318067208787, 0.00422779956072927, 0.3635907622227172, 0.05073359472875124, 0.01819668166032484, 0.8734407196955923, 0.07278672664129936, 0.01819668166032484, 0.07531790531745282, 0.03765895265872641, 0.18829476329363204, 0.6778611478570753, 0.7255068459449516, 0.17095276255024722, 0.004169579574396273, 0.05837411404154783, 0.04169579574396274, 0.3498526502531986, 0.6430624904654032, 0.0033319300024114156, 0.0033319300024114156, 0.0033319300024114156, 0.05564372160581201, 0.05564372160581201, 0.05564372160581201, 0.8346558240871802, 0.8710889282885906, 0.054443058018036915, 0.054443058018036915, 0.054443058018036915, 0.06225341227494652, 0.06225341227494652, 0.06225341227494652, 0.06225341227494652, 0.8092943595743047, 0.8369764524301709, 0.11956806463288155, 0.017081152090411653, 0.017081152090411653, 0.25293599486378887, 0.6981033458240573, 0.030352319383654666, 0.010117439794551555, 0.010117439794551555, 0.031228003330719137, 0.031228003330719137, 0.905612096590855, 0.031228003330719137, 0.05543420499605775, 0.7206446649487508, 0.221736819984231, 0.006929275624507219, 0.2434307836304425, 0.2434307836304425, 0.2434307836304425, 0.2434307836304425, 0.2434307836304425, 0.3040394785239983, 0.3040394785239983, 0.15201973926199916, 0.15201973926199916, 0.15201973926199916, 0.019631940024990146, 0.9227011811745369, 0.019631940024990146, 0.019631940024990146, 0.2416441555703599, 0.14498649334221594, 0.3060825970557892, 0.016109610371357327, 0.27386337631307456, 0.8933830388283013, 0.038842740818621796, 0.038842740818621796, 0.038842740818621796, 0.17883182375839932, 0.17883182375839932, 0.17883182375839932, 0.17883182375839932, 0.35766364751679863, 0.14205630406107364, 0.48535903887533494, 0.3196266841374157, 0.055244118245973084, 0.003946008446140934, 0.2187068549403135, 0.2187068549403135, 0.2187068549403135, 0.2187068549403135, 0.2187068549403135, 0.22415383438385755, 0.22415383438385755, 0.22415383438385755, 0.22415383438385755, 0.13533673216369888, 0.13533673216369888, 0.27067346432739775, 0.13533673216369888, 0.4060101964910966, 0.021044454908157446, 0.021044454908157446, 0.9259560159589276, 0.021044454908157446, 0.08580141971104628, 0.08580141971104628, 0.08580141971104628, 0.08580141971104628, 0.6864113576883702, 0.24367313985404568, 0.24367313985404568, 0.24367313985404568, 0.24367313985404568, 0.24367313985404568, 0.4782427899646682, 0.2670706489413082, 0.027949253958974112, 0.22048855900968467, 0.0031054726621082347, 0.8597431579331429, 0.039079234451506496, 0.07815846890301299, 0.039079234451506496, 0.039079234451506496, 0.15046304087904153, 0.061955369773722985, 0.7788675057268032, 0.008850767110531855, 0.008850767110531855, 0.18336298819526928, 0.04584074704881732, 0.04584074704881732, 0.04584074704881732, 0.6876112057322598, 0.022963015460313298, 0.06888904638093989, 0.8725945874919052, 0.022963015460313298, 0.22315988629765934, 0.22315988629765934, 0.22315988629765934, 0.22315988629765934, 0.02268452282821525, 0.9300654359568251, 0.02268452282821525, 0.02268452282821525, 0.04041041659761771, 0.04041041659761771, 0.848618748549972, 0.04041041659761771, 0.19685412637172747, 0.19685412637172747, 0.19685412637172747, 0.39370825274345495, 0.8639914336368961, 0.06646087951053047, 0.03323043975526523, 0.03323043975526523, 0.8092208073797479, 0.150432073166748, 0.0025936564339094485, 0.036311190074732276, 0.868832408758409, 0.08344718050222007, 0.009817315353202362, 0.034360603736208264, 0.4449213470081142, 0.2224606735040571, 0.2224606735040571, 0.2224606735040571, 0.4970244951111783, 0.45316939260136846, 0.0194911566710266, 0.02436394583878325, 0.00487278916775665, 0.026571882834007608, 0.026571882834007608, 0.9034440163562586, 0.026571882834007608, 0.021423343016275454, 0.021423343016275454, 0.9426270927161201, 0.021423343016275454, 0.5547485936276692, 0.20877635244052065, 0.0029825193205788663, 0.2207064297228361, 0.014912596602894332, 0.7040084845891392, 0.1652798522512392, 0.002092150028496699, 0.12762115173829863, 0.0010460750142483495, 0.7849143680573806, 0.11595325891756758, 0.004459740727598753, 0.09365455527957382, 0.07744887088769568, 0.07744887088769568, 0.07744887088769568, 0.7744887088769568, 0.040440571262588994, 0.040440571262588994, 0.8896925677769578, 0.040440571262588994, 0.4110180167428887, 0.19657383409442503, 0.2859255768646182, 0.07505546392696229, 0.03216662739726955, 0.40097047634330774, 0.20048523817165387, 0.20048523817165387, 0.20048523817165387, 0.06062392560569541, 0.06062392560569541, 0.06062392560569541, 0.8487349584797358, 0.5363330156597187, 0.1608999046979156, 0.1608999046979156, 0.00595925572955243, 0.13110362605015347, 0.1672439168604951, 0.1672439168604951, 0.1672439168604951, 0.5017317505814853, 0.9627566804326412, 0.024528832622487673, 0.006132208155621918, 0.006132208155621918, 0.9078009596083614, 0.03026003198694538, 0.03026003198694538, 0.03026003198694538, 0.11863397205913487, 0.11863397205913487, 0.23726794411826974, 0.11863397205913487, 0.47453588823653947, 0.8368409831664598, 0.033473639326658394, 0.033473639326658394, 0.06694727865331679, 0.033473639326658394, 0.6486454441333183, 0.10528737643903137, 0.09964698127265469, 0.12596882538241252, 0.018801317221255602, 0.24340694549426672, 0.24340694549426672, 0.24340694549426672, 0.24340694549426672, 0.24340694549426672, 0.46285565811304674, 0.40058053320329134, 0.042077787101186065, 0.006171408774840623, 0.08808283433181616, 0.762688751276836, 0.033245407106939004, 0.025422958375894533, 0.17796070863126173, 0.003911224365522236, 0.09076704369725651, 0.2571732904755601, 0.45383521848628255, 0.09076704369725651, 0.10589488431346593, 0.025799203293367868, 0.8513737086811396, 0.07739760988010361, 0.025799203293367868, 0.6891046386075489, 0.20523629276082817, 0.043493783896334445, 0.05708559136393896, 0.005436722987041806, 0.012413921689420107, 0.012413921689420107, 0.9310441267065082, 0.037241765068260324, 0.6913331889324871, 0.11306851220858434, 0.03230528920245267, 0.15183485925152754, 0.012922115680981068, 0.02827666459255041, 0.8765766023690628, 0.05655332918510082, 0.02827666459255041, 0.019402906314218364, 0.019402906314218364, 0.9507424093966999, 0.019402906314218364, 0.24189238102575994, 0.24189238102575994, 0.24189238102575994, 0.24189238102575994, 0.24189238102575994, 0.12891967911455543, 0.8467678923660573, 0.017579956242893924, 0.002929992707148987, 0.10592548214538165, 0.10592548214538165, 0.10592548214538165, 0.10592548214538165, 0.5296274107269082, 0.25285165994616904, 0.25285165994616904, 0.25285165994616904, 0.25285165994616904, 0.033752002062917924, 0.1350080082516717, 0.8100480495100303, 0.016876001031458962, 0.3808841889260741, 0.03462583535691583, 0.03462583535691583, 0.2423808474984108, 0.31163251821224247, 0.04656057240552892, 0.04656057240552892, 0.8846508757050495, 0.04656057240552892, 0.23100044755325377, 0.23100044755325377, 0.23100044755325377, 0.23100044755325377, 0.23100044755325377, 0.02234561423215434, 0.02234561423215434, 0.005586403558038585, 0.9441022013085208, 0.005586403558038585, 0.020787227843460914, 0.020787227843460914, 0.020787227843460914, 0.9354252529557412, 0.023819421135726226, 0.007939807045242076, 0.007939807045242076, 0.9607166524742912, 0.037613668231400596, 0.037613668231400596, 0.037613668231400596, 0.8651143693222136, 0.06965888057153291, 0.06965888057153291, 0.06965888057153291, 0.766247686286862, 0.09956372029107517, 0.09956372029107517, 0.09956372029107517, 0.6969460420375262, 0.04139631441089402, 0.8900207598342214, 0.062094471616341025, 0.02069815720544701, 0.6917611786004608, 0.12207550210596368, 0.01109777291872397, 0.17386510906000888, 0.003699257639574657, 0.8701248705802976, 0.04350624352901489, 0.04350624352901489, 0.04350624352901489, 0.8522560691700488, 0.03551066954875203, 0.03551066954875203, 0.03551066954875203, 0.03551066954875203, 0.036864140000252045, 0.036864140000252045, 0.884739360006049, 0.036864140000252045, 0.24209157701829603, 0.24209157701829603, 0.24209157701829603, 0.24209157701829603, 0.24209157701829603, 0.4750355192490315, 0.13488662892256448, 0.17007444516323347, 0.14075126496267598, 0.082104904561561, 0.05619041632507808, 0.5723581941949815, 0.3044736512498417, 0.0509634008529778, 0.01437429254827579, 0.8218773031089225, 0.09751086647055013, 0.013930123781507162, 0.013930123781507162, 0.04179037134452149, 0.6191866490296718, 0.12383732980593437, 0.12383732980593437, 0.12383732980593437, 0.34067583556043457, 0.502496857451641, 0.08942740683461407, 0.06387671916758149, 0.09955237518212223, 0.09955237518212223, 0.09955237518212223, 0.6968666262748556, 0.076134442527175, 0.076134442527175, 0.380672212635875, 0.076134442527175, 0.45680665516304997, 0.8377322522164997, 0.013297337336769837, 0.13297337336769838, 0.013297337336769837, 0.16608479475486623, 0.38753118776135453, 0.11072319650324415, 0.33216958950973247, 0.8855594769692308, 0.038502585955183945, 0.006417097659197324, 0.06417097659197324, 0.9074358259852638, 0.036297433039410555, 0.036297433039410555, 0.036297433039410555, 0.2432045397476139, 0.2432045397476139, 0.2432045397476139, 0.2432045397476139, 0.2432045397476139, 0.03120741031465184, 0.03120741031465184, 0.9050148991249034, 0.03120741031465184, 0.24367313985404568, 0.24367313985404568, 0.24367313985404568, 0.24367313985404568, 0.24367313985404568, 0.23003638120290557, 0.23003638120290557, 0.23003638120290557, 0.23003638120290557, 0.5591369533497555, 0.18439622929619598, 0.11896530922335223, 0.13681010560685508, 0.0029741327305838057, 0.24189238102575994, 0.24189238102575994, 0.24189238102575994, 0.24189238102575994, 0.24189238102575994, 0.0350142503424713, 0.5835708390411883, 0.3664824869178663, 0.0023342833561647534, 0.009337133424659014, 0.03202920900600955, 0.03202920900600955, 0.8968178521682674, 0.03202920900600955, 0.03313357713892706, 0.8283394284731765, 0.09940073141678119, 0.03313357713892706, 0.1525351802828938, 0.0762675901414469, 0.0762675901414469, 0.6864083112730222, 0.09955028297938102, 0.09955028297938102, 0.09955028297938102, 0.6968519808556672, 0.09292231875218938, 0.09292231875218938, 0.09292231875218938, 0.7433785500175151, 0.026888295063117955, 0.9142020321460105, 0.026888295063117955, 0.026888295063117955, 0.0254083253732929, 0.0254083253732929, 0.9146997134385444, 0.0254083253732929, 0.38587779177649106, 0.47603615434109176, 0.09737103156976877, 0.03966967952842431, 0.0036063345025840283, 0.24295308976037366, 0.24295308976037366, 0.24295308976037366, 0.24295308976037366, 0.24295308976037366, 0.044360051778346316, 0.8872010355669264, 0.044360051778346316, 0.044360051778346316, 0.12240681901939732, 0.09520530368175346, 0.7126797018462688, 0.019041060736350694, 0.051682879141523315, 0.6168032946227462, 0.27124482233409924, 0.07059796745682034, 0.037156824977273864, 0.0037156824977273867, 0.0947746853853911, 0.22600117284208648, 0.021871081242782562, 0.648842076869216, 0.041016899701060226, 0.041016899701060226, 0.041016899701060226, 0.8613548937222648, 0.11652972716801734, 0.11652972716801734, 0.699178363008104, 0.11652972716801734, 0.3571151981290756, 0.1785575990645378, 0.1785575990645378, 0.1785575990645378, 0.8418146510035228, 0.04951850888256017, 0.04951850888256017, 0.04951850888256017, 0.13296664842721323, 0.8509865499341647, 0.013296664842721323, 0.0066483324213606615, 0.6422942764013406, 0.20243516104478051, 0.002499199519071364, 0.14995197114428185, 0.23457675666202535, 0.23457675666202535, 0.23457675666202535, 0.23457675666202535, 0.23457675666202535, 0.006869380857088944, 0.9548439391353631, 0.027477523428355775, 0.006869380857088944, 0.006517885597171207, 0.9711649539785099, 0.013035771194342414, 0.006517885597171207, 0.22577575095267965, 0.22577575095267965, 0.22577575095267965, 0.22577575095267965, 0.7182332259904665, 0.19002583109164808, 0.003220776798163527, 0.07407786635776112, 0.012883107192654107, 0.09956372029107517, 0.09956372029107517, 0.09956372029107517, 0.6969460420375262, 0.5865849386825208, 0.25117475181183657, 0.0015315533647063206, 0.15468688983533838, 0.004594660094118962, 0.026462301700676146, 0.7674067493196082, 0.05292460340135229, 0.013231150850338073, 0.13231150850338072, 0.36944339558409683, 0.18472169779204842, 0.18472169779204842, 0.18472169779204842, 0.24209157701829603, 0.24209157701829603, 0.24209157701829603, 0.24209157701829603, 0.24209157701829603, 0.24599776122254152, 0.04099962687042359, 0.08199925374084718, 0.5739947761859302, 0.6699958346133577, 0.19439315764838264, 0.024535058732320137, 0.10757679598017292, 0.01680412973071909, 0.8570106162666736, 0.01680412973071909, 0.08402064865359546, 0.20457223348629935, 0.12420457033096746, 0.6478120727066146, 0.01704768612385828, 0.0073061511959392625, 0.020238009186148962, 0.03035701377922344, 0.010119004593074481, 0.9410674271559267, 0.23457675666202535, 0.23457675666202535, 0.23457675666202535, 0.23457675666202535, 0.23457675666202535, 0.44411551359578044, 0.23094006706980585, 0.1954108259821434, 0.10658772326298731, 0.017764620543831218, 0.5809061332965308, 0.24204422220688787, 0.07724815602347485, 0.09372776264181615, 0.007209827895524319, 0.45322220619342646, 0.17734781981481904, 0.029557969969136507, 0.3349903263168804, 0.47724855334212, 0.25197388655475567, 0.08510376300855986, 0.12515259265964687, 0.06007324447663049, 0.5158713410316584, 0.13776109675277243, 0.2872465421653553, 0.023448697319620838, 0.038104133144383864, 0.11519739577260633, 0.25343427069973395, 0.6220659371720743, 0.007679826384840422, 0.007679826384840422, 0.23003638120290557, 0.23003638120290557, 0.23003638120290557, 0.23003638120290557, 0.22315987910290555, 0.22315987910290555, 0.22315987910290555, 0.22315987910290555, 0.23003638120290557, 0.23003638120290557, 0.23003638120290557, 0.23003638120290557, 0.5675098090849996, 0.1418774522712499, 0.1418774522712499, 0.1418774522712499, 0.09811375100336017, 0.09811375100336017, 0.6867962570235212, 0.09811375100336017, 0.24295308976037366, 0.24295308976037366, 0.24295308976037366, 0.24295308976037366, 0.24295308976037366, 0.30407617847211094, 0.432829154942284, 0.14245010162657448, 0.09314045106352947, 0.030133675344083063, 0.5279366972788765, 0.17597889909295883, 0.17597889909295883, 0.17597889909295883, 0.15193986746172836, 0.15193986746172836, 0.15193986746172836, 0.15193986746172836, 0.45581960238518504, 0.05482897407576559, 0.8224346111364839, 0.05482897407576559, 0.05482897407576559, 0.17883182375839932, 0.17883182375839932, 0.17883182375839932, 0.17883182375839932, 0.35766364751679863, 0.4248307234819723, 0.14161024116065743, 0.28322048232131486, 0.14161024116065743, 0.34924493180513644, 0.4861111888639061, 0.0849514698985467, 0.004719526105474816, 0.08023194379307187, 0.08248891018133282, 0.08248891018133282, 0.08248891018133282, 0.08248891018133282, 0.7424001916319953, 0.05755407620568175, 0.8633111430852263, 0.05755407620568175, 0.05755407620568175, 0.2552198666718517, 0.19548755745078, 0.4181261645475017, 0.054302099291883336, 0.07602293900863667, 0.15828132683015428, 0.7997372302997269, 0.03332238459582195, 0.008330596148955488, 0.24295308976037366, 0.24295308976037366, 0.24295308976037366, 0.24295308976037366, 0.24295308976037366, 0.22308388463056789, 0.22308388463056789, 0.22308388463056789, 0.22308388463056789, 0.04283714665790869, 0.8567429331581738, 0.04283714665790869, 0.04283714665790869, 0.04283714665790869, 0.745842604224763, 0.10358925058677264, 0.08287140046941811, 0.04143570023470906, 0.04143570023470906, 0.9221274863185464, 0.04255973013777906, 0.014186576712593022, 0.014186576712593022, 0.014186576712593022, 0.31316609329202755, 0.17398116294001528, 0.03479623258800306, 0.13918493035201224, 0.31316609329202755], \"Term\": [\"account\", \"account\", \"account\", \"account\", \"acoustic\", \"acoustic\", \"acoustic\", \"acoustic\", \"activate_passive\", \"activate_passive\", \"activate_passive\", \"activate_passive\", \"advertising\", \"advertising\", \"advertising\", \"advertising\", \"ai\", \"ai\", \"ai\", \"ai\", \"ai\", \"alert\", \"alert\", \"alert\", \"alert\", \"algorithm\", \"algorithm\", \"algorithm\", \"algorithm\", \"amplifier\", \"amplifier\", \"amplifier\", \"amplifier\", \"amplify\", \"amplify\", \"amplify\", \"amplify\", \"analysis\", \"analysis\", \"analysis\", \"analysis\", \"analysis\", \"analyst\", \"analyst\", \"analyst\", \"analyst\", \"analytic\", \"analytic\", \"analytic\", \"analytic\", \"analytical\", \"analytical\", \"analytical\", \"analytical\", \"analytical\", \"analyze\", \"analyze\", \"analyze\", \"analyze\", \"analyze\", \"android\", \"android\", \"android\", \"android\", \"android\", \"angularjs\", \"angularjs\", \"angularjs\", \"angularjs\", \"antenna\", \"antenna\", \"antenna\", \"antenna\", \"antenna\", \"application\", \"application\", \"application\", \"application\", \"application\", \"apply\", \"apply\", \"apply\", \"apply\", \"architecture\", \"architecture\", \"architecture\", \"architecture\", \"architecture\", \"area\", \"area\", \"area\", \"area\", \"area\", \"assimilate\", \"assimilate\", \"assimilate\", \"assimilate\", \"audience\", \"audience\", \"audience\", \"audience\", \"audience\", \"audio\", \"audio\", \"audio\", \"audio\", \"audit\", \"audit\", \"audit\", \"audit\", \"auditable\", \"auditable\", \"auditable\", \"auditable\", \"authorization\", \"authorization\", \"authorization\", \"authorization\", \"bachelors_master\", \"bachelors_master\", \"bachelors_master\", \"bachelors_master\", \"back_end\", \"back_end\", \"back_end\", \"back_end\", \"back_end\", \"basis\", \"basis\", \"basis\", \"basis\", \"basis\", \"behavior\", \"behavior\", \"behavior\", \"behavior\", \"bem\", \"bem\", \"bem\", \"bem\", \"bizop\", \"bizop\", \"bizop\", \"bizop\", \"bizop\", \"broadly\", \"broadly\", \"broadly\", \"broadly\", \"browser\", \"browser\", \"browser\", \"browser\", \"browser\", \"build\", \"build\", \"build\", \"build\", \"build\", \"camera\", \"camera\", \"camera\", \"camera\", \"candidate\", \"candidate\", \"candidate\", \"candidate\", \"career\", \"career\", \"career\", \"career\", \"carrier\", \"carrier\", \"carrier\", \"carrier\", \"carrier\", \"cellular\", \"cellular\", \"cellular\", \"cellular\", \"cellular\", \"chain\", \"chain\", \"chain\", \"chain\", \"chain\", \"clerkship\", \"clerkship\", \"clerkship\", \"clerkship\", \"clerkship\", \"clinical\", \"clinical\", \"clinical\", \"clinical\", \"clinical\", \"closely\", \"closely\", \"closely\", \"closely\", \"closely\", \"cnc\", \"cnc\", \"cnc\", \"cnc\", \"coaching\", \"coaching\", \"coaching\", \"coaching\", \"code\", \"code\", \"code\", \"code\", \"code\", \"coding_competition\", \"coding_competition\", \"coding_competition\", \"coding_competition\", \"collaborate\", \"collaborate\", \"collaborate\", \"collaborate\", \"collaborate\", \"combined\", \"combined\", \"combined\", \"combined\", \"communicate\", \"communicate\", \"communicate\", \"communicate\", \"communication\", \"communication\", \"communication\", \"communication\", \"communication\", \"compatibility\", \"compatibility\", \"compatibility\", \"compatibility\", \"compatibility\", \"compensation\", \"compensation\", \"compensation\", \"compensation\", \"competitive_position\", \"competitive_position\", \"competitive_position\", \"competitive_position\", \"competitive_position\", \"completely\", \"completely\", \"completely\", \"completely\", \"complex\", \"complex\", \"complex\", \"complex\", \"complex\", \"component\", \"component\", \"component\", \"component\", \"component\", \"computer\", \"computer\", \"computer\", \"computer\", \"computer\", \"concert\", \"concert\", \"concert\", \"concert\", \"conference\", \"conference\", \"conference\", \"conference\", \"consensus\", \"consensus\", \"consensus\", \"consensus\", \"consensus\", \"constantly_change\", \"constantly_change\", \"constantly_change\", \"constantly_change\", \"constantly_evolve\", \"constantly_evolve\", \"constantly_evolve\", \"constantly_evolve\", \"constantly_evolve\", \"constantly_evolving\", \"constantly_evolving\", \"constantly_evolving\", \"constantly_evolving\", \"constantly_evolving\", \"content\", \"content\", \"content\", \"content\", \"coordination\", \"coordination\", \"coordination\", \"coordination\", \"coordinator\", \"coordinator\", \"coordinator\", \"coordinator\", \"country\", \"country\", \"country\", \"country\", \"creative\", \"creative\", \"creative\", \"creative\", \"creative\", \"creator\", \"creator\", \"creator\", \"creator\", \"cross\", \"cross\", \"cross\", \"cross\", \"cross\", \"cto\", \"cto\", \"cto\", \"cto\", \"cto\", \"currently\", \"currently\", \"currently\", \"currently\", \"currently\", \"dashboard\", \"dashboard\", \"dashboard\", \"dashboard\", \"data\", \"data\", \"data\", \"data\", \"data\", \"datum\", \"datum\", \"datum\", \"datum\", \"datum\", \"day\", \"day\", \"day\", \"day\", \"debug\", \"debug\", \"debug\", \"debug\", \"debug\", \"define\", \"define\", \"define\", \"define\", \"define\", \"dei\", \"dei\", \"dei\", \"dei\", \"delight\", \"delight\", \"delight\", \"delight\", \"delight\", \"deliverable\", \"deliverable\", \"deliverable\", \"deliverable\", \"deliverable\", \"demo\", \"demo\", \"demo\", \"demo\", \"demos\", \"demos\", \"demos\", \"demos\", \"designer\", \"designer\", \"designer\", \"designer\", \"designer\", \"detail_oriente\", \"detail_oriente\", \"detail_oriente\", \"detail_oriente\", \"develop\", \"develop\", \"develop\", \"develop\", \"develop\", \"developer\", \"developer\", \"developer\", \"developer\", \"developer\", \"development\", \"development\", \"development\", \"development\", \"development\", \"device\", \"device\", \"device\", \"device\", \"device\", \"diagraming\", \"diagraming\", \"diagraming\", \"diagraming\", \"diagraming\", \"discussion\", \"discussion\", \"discussion\", \"discussion\", \"discussion\", \"distributed_compute\", \"distributed_compute\", \"distributed_compute\", \"distributed_compute\", \"diversity\", \"diversity\", \"diversity\", \"diversity\", \"diversity_equity\", \"diversity_equity\", \"diversity_equity\", \"diversity_equity\", \"downstream\", \"downstream\", \"downstream\", \"downstream\", \"downstream\", \"dris\", \"dris\", \"dris\", \"dris\", \"drive\", \"drive\", \"drive\", \"drive\", \"drive\", \"econometric\", \"econometric\", \"econometric\", \"econometric\", \"economic\", \"economic\", \"economic\", \"economic\", \"economic\", \"effectively\", \"effectively\", \"effectively\", \"effectively\", \"efficient\", \"efficient\", \"efficient\", \"efficient\", \"efficient\", \"eg\", \"eg\", \"eg\", \"eg\", \"electrical\", \"electrical\", \"electrical\", \"electrical\", \"electrical\", \"embed\", \"embed\", \"embed\", \"embed\", \"employment\", \"employment\", \"employment\", \"employment\", \"empowerment\", \"empowerment\", \"empowerment\", \"empowerment\", \"empowerment\", \"enforcement\", \"enforcement\", \"enforcement\", \"enforcement\", \"engineer\", \"engineer\", \"engineer\", \"engineer\", \"engineer\", \"engineering\", \"engineering\", \"engineering\", \"engineering\", \"engineering\", \"ensure\", \"ensure\", \"ensure\", \"ensure\", \"ensure\", \"entirely\", \"entirely\", \"entirely\", \"entirely\", \"entirely\", \"entrepreneur\", \"entrepreneur\", \"entrepreneur\", \"entrepreneur\", \"entrepreneurial\", \"entrepreneurial\", \"entrepreneurial\", \"entrepreneurial\", \"escalate\", \"escalate\", \"escalate\", \"escalate\", \"escalate\", \"escalation\", \"escalation\", \"escalation\", \"escalation\", \"establish_share\", \"establish_share\", \"establish_share\", \"establish_share\", \"establish_share\", \"evangelism\", \"evangelism\", \"evangelism\", \"evangelism\", \"evolve\", \"evolve\", \"evolve\", \"evolve\", \"evolve\", \"executing_measure\", \"executing_measure\", \"executing_measure\", \"executing_measure\", \"execution\", \"execution\", \"execution\", \"execution\", \"execution\", \"experimentation\", \"experimentation\", \"experimentation\", \"experimentation\", \"expertise\", \"expertise\", \"expertise\", \"expertise\", \"expreience\", \"expreience\", \"expreience\", \"expreience\", \"expreience\", \"facebook\", \"facebook\", \"facebook\", \"facebook\", \"facebook\", \"facilitate\", \"facilitate\", \"facilitate\", \"facilitate\", \"factory\", \"factory\", \"factory\", \"factory\", \"fairness\", \"fairness\", \"fairness\", \"fairness\", \"fairness\", \"feature\", \"feature\", \"feature\", \"feature\", \"feature\", \"feedback\", \"feedback\", \"feedback\", \"feedback\", \"feedback\", \"financially\", \"financially\", \"financially\", \"financially\", \"financially\", \"firm\", \"firm\", \"firm\", \"firm\", \"firm\", \"fly\", \"fly\", \"fly\", \"fly\", \"focusse\", \"focusse\", \"focusse\", \"focusse\", \"folding\", \"folding\", \"folding\", \"folding\", \"freedom\", \"freedom\", \"freedom\", \"freedom\", \"front_end\", \"front_end\", \"front_end\", \"front_end\", \"front_end\", \"frontend\", \"frontend\", \"frontend\", \"frontend\", \"functional\", \"functional\", \"functional\", \"functional\", \"functional\", \"fund\", \"fund\", \"fund\", \"fund\", \"fund\", \"gaming\", \"gaming\", \"gaming\", \"gaming\", \"global\", \"global\", \"global\", \"global\", \"global\", \"go\", \"go\", \"go\", \"go\", \"go\", \"goal\", \"goal\", \"goal\", \"goal\", \"goal\", \"gradle\", \"gradle\", \"gradle\", \"gradle\", \"gradle\", \"granular\", \"granular\", \"granular\", \"granular\", \"graphic\", \"graphic\", \"graphic\", \"graphic\", \"graphql\", \"graphql\", \"graphql\", \"graphql\", \"graphql\", \"hadoop\", \"hadoop\", \"hadoop\", \"hadoop\", \"hardware\", \"hardware\", \"hardware\", \"hardware\", \"hardware\", \"high\", \"high\", \"high\", \"high\", \"high\", \"hire\", \"hire\", \"hire\", \"hire\", \"hire\", \"hiring\", \"hiring\", \"hiring\", \"hiring\", \"hive\", \"hive\", \"hive\", \"hive\", \"hive_hadoop\", \"hive_hadoop\", \"hive_hadoop\", \"hive_hadoop\", \"hr\", \"hr\", \"hr\", \"hr\", \"hwte\", \"hwte\", \"hwte\", \"hwte\", \"hypothesis\", \"hypothesis\", \"hypothesis\", \"hypothesis\", \"hypothesis_teste\", \"hypothesis_teste\", \"hypothesis_teste\", \"hypothesis_teste\", \"ideation\", \"ideation\", \"ideation\", \"ideation\", \"ideation\", \"identify\", \"identify\", \"identify\", \"identify\", \"identify\", \"image\", \"image\", \"image\", \"image\", \"immigration\", \"immigration\", \"immigration\", \"immigration\", \"inclusion\", \"inclusion\", \"inclusion\", \"inclusion\", \"independently\", \"independently\", \"independently\", \"independently\", \"independently\", \"influence\", \"influence\", \"influence\", \"influence\", \"influence\", \"infrastructure\", \"infrastructure\", \"infrastructure\", \"infrastructure\", \"infrastructure\", \"initiative\", \"initiative\", \"initiative\", \"initiative\", \"initiative\", \"inner\", \"inner\", \"inner\", \"inner\", \"innovative\", \"innovative\", \"innovative\", \"innovative\", \"innovative\", \"insight\", \"insight\", \"insight\", \"insight\", \"instrument\", \"instrument\", \"instrument\", \"instrument\", \"instrument\", \"integrate_usability\", \"integrate_usability\", \"integrate_usability\", \"integrate_usability\", \"integrate_usability\", \"intellij\", \"intellij\", \"intellij\", \"intellij\", \"intellij\", \"interface\", \"interface\", \"interface\", \"interface\", \"interface\", \"intern\", \"intern\", \"intern\", \"intern\", \"internal\", \"internal\", \"internal\", \"internal\", \"internal\", \"internally\", \"internally\", \"internally\", \"internally\", \"interviewer\", \"interviewer\", \"interviewer\", \"interviewer\", \"intimately\", \"intimately\", \"intimately\", \"intimately\", \"intuitive\", \"intuitive\", \"intuitive\", \"intuitive\", \"investor\", \"investor\", \"investor\", \"investor\", \"io\", \"io\", \"io\", \"io\", \"io\", \"issue\", \"issue\", \"issue\", \"issue\", \"issue\", \"job\", \"job\", \"job\", \"job\", \"kernel\", \"kernel\", \"kernel\", \"kernel\", \"large\", \"large\", \"large\", \"large\", \"large\", \"launch\", \"launch\", \"launch\", \"launch\", \"launch\", \"laundry\", \"laundry\", \"laundry\", \"laundry\", \"lead\", \"lead\", \"lead\", \"lead\", \"lead\", \"leader\", \"leader\", \"leader\", \"leader\", \"leader\", \"leadership\", \"leadership\", \"leadership\", \"leadership\", \"leadership\", \"legal\", \"legal\", \"legal\", \"legal\", \"legal\", \"lem\", \"lem\", \"lem\", \"lem\", \"lifecycle_integrate\", \"lifecycle_integrate\", \"lifecycle_integrate\", \"lifecycle_integrate\", \"lifecycle_integrate\", \"linux\", \"linux\", \"linux\", \"linux\", \"linux\", \"lithography\", \"lithography\", \"lithography\", \"lithography\", \"lockdown\", \"lockdown\", \"lockdown\", \"lockdown\", \"lockdown\", \"machine_learne\", \"machine_learne\", \"machine_learne\", \"machine_learne\", \"machine_learne\", \"magnetic\", \"magnetic\", \"magnetic\", \"magnetic\", \"maintain_ongoe\", \"maintain_ongoe\", \"maintain_ongoe\", \"maintain_ongoe\", \"maintainable\", \"maintainable\", \"maintainable\", \"maintainable\", \"maintainable\", \"manage\", \"manage\", \"manage\", \"manage\", \"manage\", \"management\", \"management\", \"management\", \"management\", \"management\", \"manager\", \"manager\", \"manager\", \"manager\", \"manager\", \"manipulate\", \"manipulate\", \"manipulate\", \"manipulate\", \"mapping\", \"mapping\", \"mapping\", \"mapping\", \"market\", \"market\", \"market\", \"market\", \"market\", \"marketing\", \"marketing\", \"marketing\", \"marketing\", \"marketing\", \"match\", \"match\", \"match\", \"match\", \"matter\", \"matter\", \"matter\", \"matter\", \"maximize_efficiency\", \"maximize_efficiency\", \"maximize_efficiency\", \"maximize_efficiency\", \"maximize_efficiency\", \"mba\", \"mba\", \"mba\", \"mba\", \"measurement\", \"measurement\", \"measurement\", \"measurement\", \"measurement\", \"mechanical\", \"mechanical\", \"mechanical\", \"mechanical\", \"method\", \"method\", \"method\", \"method\", \"methodically\", \"methodically\", \"methodically\", \"methodically\", \"methodically\", \"methodologie\", \"methodologie\", \"methodologie\", \"methodologie\", \"methodologie\", \"mining\", \"mining\", \"mining\", \"mining\", \"mobile\", \"mobile\", \"mobile\", \"mobile\", \"mobile\", \"mobility\", \"mobility\", \"mobility\", \"mobility\", \"mock\", \"mock\", \"mock\", \"mock\", \"mock\", \"model\", \"model\", \"model\", \"model\", \"model\", \"modelling\", \"modelling\", \"modelling\", \"modelling\", \"modelling\", \"multiphysic\", \"multiphysic\", \"multiphysic\", \"multiphysic\", \"multithreade\", \"multithreade\", \"multithreade\", \"multithreade\", \"multithreade\", \"must_obtain\", \"must_obtain\", \"must_obtain\", \"must_obtain\", \"native\", \"native\", \"native\", \"native\", \"native\", \"natively\", \"natively\", \"natively\", \"natively\", \"natively\", \"need\", \"need\", \"need\", \"need\", \"need\", \"negotiate\", \"negotiate\", \"negotiate\", \"negotiate\", \"negotiate\", \"network\", \"network\", \"network\", \"network\", \"network\", \"norm\", \"norm\", \"norm\", \"norm\", \"norm\", \"novel\", \"novel\", \"novel\", \"novel\", \"npe\", \"npe\", \"npe\", \"npe\", \"number\", \"number\", \"number\", \"number\", \"obtaining_phd\", \"obtaining_phd\", \"obtaining_phd\", \"obtaining_phd\", \"okrs\", \"okrs\", \"okrs\", \"okrs\", \"ongoing\", \"ongoing\", \"ongoing\", \"ongoing\", \"operation\", \"operation\", \"operation\", \"operation\", \"operational\", \"operational\", \"operational\", \"operational\", \"opinionated\", \"opinionated\", \"opinionated\", \"opinionated\", \"opportunity\", \"opportunity\", \"opportunity\", \"opportunity\", \"opportunity\", \"optic\", \"optic\", \"optic\", \"optic\", \"optical\", \"optical\", \"optical\", \"optical\", \"organization\", \"organization\", \"organization\", \"organization\", \"organization\", \"partner\", \"partner\", \"partner\", \"partner\", \"partner\", \"partnership\", \"partnership\", \"partnership\", \"partnership\", \"passive_candidate\", \"passive_candidate\", \"passive_candidate\", \"passive_candidate\", \"patent\", \"patent\", \"patent\", \"patent\", \"performance\", \"performance\", \"performance\", \"performance\", \"performance\", \"permission\", \"permission\", \"permission\", \"permission\", \"pipeline_activity\", \"pipeline_activity\", \"pipeline_activity\", \"pipeline_activity\", \"platform\", \"platform\", \"platform\", \"platform\", \"platform\", \"poc\", \"poc\", \"poc\", \"poc\", \"policy\", \"policy\", \"policy\", \"policy\", \"potential\", \"potential\", \"potential\", \"potential\", \"pre_post\", \"pre_post\", \"pre_post\", \"pre_post\", \"pre_post\", \"prepare\", \"prepare\", \"prepare\", \"prepare\", \"prepare\", \"process\", \"process\", \"process\", \"process\", \"process\", \"prodanduct\", \"prodanduct\", \"prodanduct\", \"prodanduct\", \"prodanduct\", \"product\", \"product\", \"product\", \"product\", \"product\", \"program\", \"program\", \"program\", \"program\", \"program\", \"programming\", \"programming\", \"programming\", \"programming\", \"programming\", \"programming_language\", \"programming_language\", \"programming_language\", \"programming_language\", \"project\", \"project\", \"project\", \"project\", \"project\", \"prototype\", \"prototype\", \"prototype\", \"prototype\", \"provide\", \"provide\", \"provide\", \"provide\", \"provide\", \"psychology\", \"psychology\", \"psychology\", \"psychology\", \"publication\", \"publication\", \"publication\", \"publication\", \"pytorch_caffe\", \"pytorch_caffe\", \"pytorch_caffe\", \"pytorch_caffe\", \"pytorch_caffe\", \"quantitative\", \"quantitative\", \"quantitative\", \"quantitative\", \"react\", \"react\", \"react\", \"react\", \"react\", \"reactjs\", \"reactjs\", \"reactjs\", \"reactjs\", \"real_time\", \"real_time\", \"real_time\", \"real_time\", \"recognize\", \"recognize\", \"recognize\", \"recognize\", \"recognize\", \"reconstruction\", \"reconstruction\", \"reconstruction\", \"reconstruction\", \"recording\", \"recording\", \"recording\", \"recording\", \"recording\", \"recruit\", \"recruit\", \"recruit\", \"recruit\", \"recruit\", \"recruiter\", \"recruiter\", \"recruiter\", \"recruiter\", \"recruiting\", \"recruiting\", \"recruiting\", \"recruiting\", \"recruitment\", \"recruitment\", \"recruitment\", \"recruitment\", \"referral\", \"referral\", \"referral\", \"referral\", \"referral_generation\", \"referral_generation\", \"referral_generation\", \"referral_generation\", \"regression\", \"regression\", \"regression\", \"regression\", \"relationship\", \"relationship\", \"relationship\", \"relationship\", \"relationship\", \"relocation\", \"relocation\", \"relocation\", \"relocation\", \"remove\", \"remove\", \"remove\", \"remove\", \"remove\", \"render\", \"render\", \"render\", \"render\", \"reposition\", \"reposition\", \"reposition\", \"reposition\", \"reposition\", \"requirement\", \"requirement\", \"requirement\", \"requirement\", \"requirement\", \"research\", \"research\", \"research\", \"research\", \"research\", \"resolve\", \"resolve\", \"resolve\", \"resolve\", \"resolve\", \"rest_apis\", \"rest_apis\", \"rest_apis\", \"rest_apis\", \"result\", \"result\", \"result\", \"result\", \"resume\", \"resume\", \"resume\", \"resume\", \"reusable\", \"reusable\", \"reusable\", \"reusable\", \"reusable\", \"review\", \"review\", \"review\", \"review\", \"rigorous\", \"rigorous\", \"rigorous\", \"rigorous\", \"risk\", \"risk\", \"risk\", \"risk\", \"roadblock\", \"roadblock\", \"roadblock\", \"roadblock\", \"roadmaps\", \"roadmaps\", \"roadmaps\", \"roadmaps\", \"roadmaps\", \"robotic\", \"robotic\", \"robotic\", \"robotic\", \"rock\", \"rock\", \"rock\", \"rock\", \"rock\", \"s\", \"s\", \"s\", \"s\", \"scale\", \"scale\", \"scale\", \"scale\", \"scale\", \"scheduler\", \"scheduler\", \"scheduler\", \"scheduler\", \"scheduler\", \"science\", \"science\", \"science\", \"science\", \"science\", \"scientific\", \"scientific\", \"scientific\", \"scientific\", \"scripting_language\", \"scripting_language\", \"scripting_language\", \"scripting_language\", \"search\", \"search\", \"search\", \"search\", \"search_engagement\", \"search_engagement\", \"search_engagement\", \"search_engagement\", \"search_firm\", \"search_firm\", \"search_firm\", \"search_firm\", \"see_beyond\", \"see_beyond\", \"see_beyond\", \"see_beyond\", \"sensor\", \"sensor\", \"sensor\", \"sensor\", \"set\", \"set\", \"set\", \"set\", \"set\", \"smartphone\", \"smartphone\", \"smartphone\", \"smartphone\", \"smartphone\", \"sociology\", \"sociology\", \"sociology\", \"sociology\", \"software\", \"software\", \"software\", \"software\", \"software\", \"solve\", \"solve\", \"solve\", \"solve\", \"solve\", \"source\", \"source\", \"source\", \"source\", \"sourcer\", \"sourcer\", \"sourcer\", \"sourcer\", \"speaker\", \"speaker\", \"speaker\", \"speaker\", \"specialized\", \"specialized\", \"specialized\", \"specialized\", \"spot\", \"spot\", \"spot\", \"spot\", \"sql\", \"sql\", \"sql\", \"sql\", \"stakeholder\", \"stakeholder\", \"stakeholder\", \"stakeholder\", \"stance\", \"stance\", \"stance\", \"stance\", \"stance\", \"statistic\", \"statistic\", \"statistic\", \"statistic\", \"statistical\", \"statistical\", \"statistical\", \"statistical\", \"steer\", \"steer\", \"steer\", \"steer\", \"strategic\", \"strategic\", \"strategic\", \"strategic\", \"strategic\", \"strategize_different\", \"strategize_different\", \"strategize_different\", \"strategize_different\", \"strategy\", \"strategy\", \"strategy\", \"strategy\", \"strategy\", \"study\", \"study\", \"study\", \"study\", \"study\", \"substantive\", \"substantive\", \"substantive\", \"substantive\", \"sunset\", \"sunset\", \"sunset\", \"sunset\", \"sunset\", \"supply\", \"supply\", \"supply\", \"supply\", \"support\", \"support\", \"support\", \"support\", \"survey\", \"survey\", \"survey\", \"survey\", \"system\", \"system\", \"system\", \"system\", \"system\", \"talent\", \"talent\", \"talent\", \"talent\", \"tank\", \"tank\", \"tank\", \"tank\", \"tank\", \"task\", \"task\", \"task\", \"task\", \"task\", \"team\", \"team\", \"team\", \"team\", \"team\", \"tech\", \"tech\", \"tech\", \"tech\", \"technical\", \"technical\", \"technical\", \"technical\", \"technical\", \"technology\", \"technology\", \"technology\", \"technology\", \"technology\", \"test\", \"test\", \"test\", \"test\", \"test\", \"therefore\", \"therefore\", \"therefore\", \"therefore\", \"thesis\", \"thesis\", \"thesis\", \"thesis\", \"tl\", \"tl\", \"tl\", \"tl\", \"transactional\", \"transactional\", \"transactional\", \"transactional\", \"transducer\", \"transducer\", \"transducer\", \"transducer\", \"umt\", \"umt\", \"umt\", \"umt\", \"umt\", \"understand\", \"understand\", \"understand\", \"understand\", \"understand\", \"unexpected\", \"unexpected\", \"unexpected\", \"unexpected\", \"unit_testing\", \"unit_testing\", \"unit_testing\", \"unit_testing\", \"unit_testing\", \"unstructured\", \"unstructured\", \"unstructured\", \"unstructured\", \"up\", \"up\", \"up\", \"up\", \"up\", \"upstream\", \"upstream\", \"upstream\", \"upstream\", \"user\", \"user\", \"user\", \"user\", \"user\", \"user_satisfaction\", \"user_satisfaction\", \"user_satisfaction\", \"user_satisfaction\", \"user_satisfaction\", \"users_interact\", \"users_interact\", \"users_interact\", \"users_interact\", \"vision\", \"vision\", \"vision\", \"vision\", \"vision\", \"visualization\", \"visualization\", \"visualization\", \"visualization\", \"waiver\", \"waiver\", \"waiver\", \"waiver\", \"waiver\", \"wallet\", \"wallet\", \"wallet\", \"wallet\", \"warehouse\", \"warehouse\", \"warehouse\", \"warehouse\", \"warehouse\", \"wide\", \"wide\", \"wide\", \"wide\", \"wide\", \"workflow\", \"workflow\", \"workflow\", \"workflow\", \"workflow\", \"world_class\", \"world_class\", \"world_class\", \"world_class\", \"world_class\"]}, \"R\": 30, \"lambda.step\": 0.01, \"plot.opts\": {\"xlab\": \"PC1\", \"ylab\": \"PC2\"}, \"topic.order\": [7, 2, 5, 1, 4, 3, 6]};\n",
       "\n",
       "function LDAvis_load_lib(url, callback){\n",
       "  var s = document.createElement('script');\n",
       "  s.src = url;\n",
       "  s.async = true;\n",
       "  s.onreadystatechange = s.onload = callback;\n",
       "  s.onerror = function(){console.warn(\"failed to load library \" + url);};\n",
       "  document.getElementsByTagName(\"head\")[0].appendChild(s);\n",
       "}\n",
       "\n",
       "if(typeof(LDAvis) !== \"undefined\"){\n",
       "   // already loaded: just create the visualization\n",
       "   !function(LDAvis){\n",
       "       new LDAvis(\"#\" + \"ldavis_el685441619270145744138991415\", ldavis_el685441619270145744138991415_data);\n",
       "   }(LDAvis);\n",
       "}else if(typeof define === \"function\" && define.amd){\n",
       "   // require.js is available: use it to load d3/LDAvis\n",
       "   require.config({paths: {d3: \"https://d3js.org/d3.v5\"}});\n",
       "   require([\"d3\"], function(d3){\n",
       "      window.d3 = d3;\n",
       "      LDAvis_load_lib(\"https://cdn.jsdelivr.net/gh/bmabey/pyLDAvis@3.3.1/pyLDAvis/js/ldavis.v3.0.0.js\", function(){\n",
       "        new LDAvis(\"#\" + \"ldavis_el685441619270145744138991415\", ldavis_el685441619270145744138991415_data);\n",
       "      });\n",
       "    });\n",
       "}else{\n",
       "    // require.js not available: dynamically load d3 & LDAvis\n",
       "    LDAvis_load_lib(\"https://d3js.org/d3.v5.js\", function(){\n",
       "         LDAvis_load_lib(\"https://cdn.jsdelivr.net/gh/bmabey/pyLDAvis@3.3.1/pyLDAvis/js/ldavis.v3.0.0.js\", function(){\n",
       "                 new LDAvis(\"#\" + \"ldavis_el685441619270145744138991415\", ldavis_el685441619270145744138991415_data);\n",
       "            })\n",
       "         });\n",
       "}\n",
       "</script>"
      ],
      "text/plain": [
       "PreparedData(topic_coordinates=              x         y  topics  cluster       Freq\n",
       "topic                                                \n",
       "6      0.155701  0.031494       1        1  41.284695\n",
       "1      0.140703 -0.045575       2        1  26.869072\n",
       "4     -0.026611 -0.150344       3        1  16.965597\n",
       "0      0.067769  0.097106       4        1  10.665359\n",
       "3     -0.062648  0.002413       5        1   3.685676\n",
       "2     -0.138055  0.032428       6        1   0.292529\n",
       "5     -0.136859  0.032477       7        1   0.237071, topic_info=            Term         Freq        Total Category  logprob  loglift\n",
       "37       product  1782.000000  1782.000000  Default  30.0000  30.0000\n",
       "98         datum  1432.000000  1432.000000  Default  29.0000  29.0000\n",
       "85      software   367.000000   367.000000  Default  28.0000  28.0000\n",
       "164      recruit   179.000000   179.000000  Default  27.0000  27.0000\n",
       "40      research   765.000000   765.000000  Default  26.0000  26.0000\n",
       "..           ...          ...          ...      ...      ...      ...\n",
       "113  opportunity     0.056643   205.221274   Topic7  -8.3005  -2.1505\n",
       "85      software     0.056643   367.626578   Topic7  -8.3005  -2.7335\n",
       "298         task     0.056642    56.291661   Topic7  -8.3005  -0.8570\n",
       "88          team     0.056642   970.896962   Topic7  -8.3005  -3.7047\n",
       "335      closely     0.056642   166.302152   Topic7  -8.3005  -1.9402\n",
       "\n",
       "[483 rows x 6 columns], token_table=      Topic      Freq         Term\n",
       "term                              \n",
       "1319      1  0.874935      account\n",
       "1319      2  0.031248      account\n",
       "1319      3  0.031248      account\n",
       "1319      4  0.031248      account\n",
       "2213      1  0.055222     acoustic\n",
       "...     ...       ...          ...\n",
       "53        1  0.313166  world_class\n",
       "53        2  0.173981  world_class\n",
       "53        3  0.034796  world_class\n",
       "53        4  0.139185  world_class\n",
       "53        5  0.313166  world_class\n",
       "\n",
       "[1681 rows x 3 columns], R=30, lambda_step=0.01, plot_opts={'xlab': 'PC1', 'ylab': 'PC2'}, topic_order=[7, 2, 5, 1, 4, 3, 6])"
      ]
     },
     "execution_count": 69,
     "metadata": {},
     "output_type": "execute_result"
    }
   ],
   "source": [
    "# import pyLDAvis.gensim\n",
    "import pyLDAvis.gensim_models as gensimvis\n",
    "import pickle \n",
    "import pyLDAvis\n",
    "\n",
    "num_topics = 7\n",
    "\n",
    "lda_model = gensim.models.LdaMulticore(corpus=corpus,\n",
    "                                           id2word=id2word,\n",
    "                                           num_topics=num_topics, \n",
    "                                           random_state=100,\n",
    "                                           passes=100,\n",
    "                                           alpha=0.31,\n",
    "                                           eta=0.91)\n",
    "\n",
    "# Visualize the topics\n",
    "pyLDAvis.enable_notebook()\n",
    "\n",
    "LDAvis_data_filepath = os.path.join('./results/ldavis_tuned_'+str(num_topics)+'new')\n",
    "\n",
    "# # this is a bit time consuming - make the if statement True\n",
    "# # if you want to execute visualization prep yourself\n",
    "if 1 == 1:\n",
    "    LDAvis_prepared = pyLDAvis.gensim_models.prepare(lda_model, corpus, id2word)\n",
    "    with open(LDAvis_data_filepath, 'wb') as f:\n",
    "        pickle.dump(LDAvis_prepared, f)\n",
    "\n",
    "# load the pre-prepared pyLDAvis data from disk\n",
    "with open(LDAvis_data_filepath, 'rb') as f:\n",
    "    LDAvis_prepared = pickle.load(f)\n",
    "\n",
    "pyLDAvis.save_html(LDAvis_prepared, './results/ldavis_tuned_'+ str(num_topics) +'new.html')\n",
    "\n",
    "LDAvis_prepared"
   ]
  },
  {
   "cell_type": "code",
   "execution_count": 70,
   "metadata": {},
   "outputs": [],
   "source": [
    "import numpy as np\n",
    "pred = np.argmax(lda_model.get_topics(), axis=0)"
   ]
  },
  {
   "cell_type": "code",
   "execution_count": 72,
   "metadata": {},
   "outputs": [
    {
     "data": {
      "text/plain": [
       "(4038,)"
      ]
     },
     "execution_count": 72,
     "metadata": {},
     "output_type": "execute_result"
    }
   ],
   "source": [
    "pred.shape"
   ]
  },
  {
   "cell_type": "code",
   "execution_count": 76,
   "metadata": {},
   "outputs": [
    {
     "data": {
      "text/html": [
       "<div>\n",
       "<style scoped>\n",
       "    .dataframe tbody tr th:only-of-type {\n",
       "        vertical-align: middle;\n",
       "    }\n",
       "\n",
       "    .dataframe tbody tr th {\n",
       "        vertical-align: top;\n",
       "    }\n",
       "\n",
       "    .dataframe thead th {\n",
       "        text-align: right;\n",
       "    }\n",
       "</style>\n",
       "<table border=\"1\" class=\"dataframe\">\n",
       "  <thead>\n",
       "    <tr style=\"text-align: right;\">\n",
       "      <th></th>\n",
       "      <th>Term</th>\n",
       "      <th>Freq</th>\n",
       "      <th>Total</th>\n",
       "      <th>Category</th>\n",
       "      <th>logprob</th>\n",
       "      <th>loglift</th>\n",
       "    </tr>\n",
       "  </thead>\n",
       "  <tbody>\n",
       "    <tr>\n",
       "      <th>37</th>\n",
       "      <td>product</td>\n",
       "      <td>1782.000000</td>\n",
       "      <td>1782.000000</td>\n",
       "      <td>Default</td>\n",
       "      <td>30.0000</td>\n",
       "      <td>30.0000</td>\n",
       "    </tr>\n",
       "    <tr>\n",
       "      <th>98</th>\n",
       "      <td>datum</td>\n",
       "      <td>1432.000000</td>\n",
       "      <td>1432.000000</td>\n",
       "      <td>Default</td>\n",
       "      <td>29.0000</td>\n",
       "      <td>29.0000</td>\n",
       "    </tr>\n",
       "    <tr>\n",
       "      <th>85</th>\n",
       "      <td>software</td>\n",
       "      <td>367.000000</td>\n",
       "      <td>367.000000</td>\n",
       "      <td>Default</td>\n",
       "      <td>28.0000</td>\n",
       "      <td>28.0000</td>\n",
       "    </tr>\n",
       "    <tr>\n",
       "      <th>164</th>\n",
       "      <td>recruit</td>\n",
       "      <td>179.000000</td>\n",
       "      <td>179.000000</td>\n",
       "      <td>Default</td>\n",
       "      <td>27.0000</td>\n",
       "      <td>27.0000</td>\n",
       "    </tr>\n",
       "    <tr>\n",
       "      <th>40</th>\n",
       "      <td>research</td>\n",
       "      <td>765.000000</td>\n",
       "      <td>765.000000</td>\n",
       "      <td>Default</td>\n",
       "      <td>26.0000</td>\n",
       "      <td>26.0000</td>\n",
       "    </tr>\n",
       "    <tr>\n",
       "      <th>...</th>\n",
       "      <td>...</td>\n",
       "      <td>...</td>\n",
       "      <td>...</td>\n",
       "      <td>...</td>\n",
       "      <td>...</td>\n",
       "      <td>...</td>\n",
       "    </tr>\n",
       "    <tr>\n",
       "      <th>113</th>\n",
       "      <td>opportunity</td>\n",
       "      <td>0.056643</td>\n",
       "      <td>205.221274</td>\n",
       "      <td>Topic7</td>\n",
       "      <td>-8.3005</td>\n",
       "      <td>-2.1505</td>\n",
       "    </tr>\n",
       "    <tr>\n",
       "      <th>85</th>\n",
       "      <td>software</td>\n",
       "      <td>0.056643</td>\n",
       "      <td>367.626578</td>\n",
       "      <td>Topic7</td>\n",
       "      <td>-8.3005</td>\n",
       "      <td>-2.7335</td>\n",
       "    </tr>\n",
       "    <tr>\n",
       "      <th>298</th>\n",
       "      <td>task</td>\n",
       "      <td>0.056642</td>\n",
       "      <td>56.291661</td>\n",
       "      <td>Topic7</td>\n",
       "      <td>-8.3005</td>\n",
       "      <td>-0.8570</td>\n",
       "    </tr>\n",
       "    <tr>\n",
       "      <th>88</th>\n",
       "      <td>team</td>\n",
       "      <td>0.056642</td>\n",
       "      <td>970.896962</td>\n",
       "      <td>Topic7</td>\n",
       "      <td>-8.3005</td>\n",
       "      <td>-3.7047</td>\n",
       "    </tr>\n",
       "    <tr>\n",
       "      <th>335</th>\n",
       "      <td>closely</td>\n",
       "      <td>0.056642</td>\n",
       "      <td>166.302152</td>\n",
       "      <td>Topic7</td>\n",
       "      <td>-8.3005</td>\n",
       "      <td>-1.9402</td>\n",
       "    </tr>\n",
       "  </tbody>\n",
       "</table>\n",
       "<p>483 rows × 6 columns</p>\n",
       "</div>"
      ],
      "text/plain": [
       "            Term         Freq        Total Category  logprob  loglift\n",
       "37       product  1782.000000  1782.000000  Default  30.0000  30.0000\n",
       "98         datum  1432.000000  1432.000000  Default  29.0000  29.0000\n",
       "85      software   367.000000   367.000000  Default  28.0000  28.0000\n",
       "164      recruit   179.000000   179.000000  Default  27.0000  27.0000\n",
       "40      research   765.000000   765.000000  Default  26.0000  26.0000\n",
       "..           ...          ...          ...      ...      ...      ...\n",
       "113  opportunity     0.056643   205.221274   Topic7  -8.3005  -2.1505\n",
       "85      software     0.056643   367.626578   Topic7  -8.3005  -2.7335\n",
       "298         task     0.056642    56.291661   Topic7  -8.3005  -0.8570\n",
       "88          team     0.056642   970.896962   Topic7  -8.3005  -3.7047\n",
       "335      closely     0.056642   166.302152   Topic7  -8.3005  -1.9402\n",
       "\n",
       "[483 rows x 6 columns]"
      ]
     },
     "execution_count": 76,
     "metadata": {},
     "output_type": "execute_result"
    }
   ],
   "source": [
    "LDAvis_prepared.topic_info"
   ]
  },
  {
   "cell_type": "code",
   "execution_count": 77,
   "metadata": {},
   "outputs": [
    {
     "data": {
      "text/plain": [
       "[7, 2, 5, 1, 4, 3, 6]"
      ]
     },
     "execution_count": 77,
     "metadata": {},
     "output_type": "execute_result"
    }
   ],
   "source": [
    "LDAvis_prepared.topic_order"
   ]
  },
  {
   "cell_type": "code",
   "execution_count": 78,
   "metadata": {},
   "outputs": [
    {
     "data": {
      "text/html": [
       "<div>\n",
       "<style scoped>\n",
       "    .dataframe tbody tr th:only-of-type {\n",
       "        vertical-align: middle;\n",
       "    }\n",
       "\n",
       "    .dataframe tbody tr th {\n",
       "        vertical-align: top;\n",
       "    }\n",
       "\n",
       "    .dataframe thead th {\n",
       "        text-align: right;\n",
       "    }\n",
       "</style>\n",
       "<table border=\"1\" class=\"dataframe\">\n",
       "  <thead>\n",
       "    <tr style=\"text-align: right;\">\n",
       "      <th></th>\n",
       "      <th>Topic</th>\n",
       "      <th>Freq</th>\n",
       "      <th>Term</th>\n",
       "    </tr>\n",
       "    <tr>\n",
       "      <th>term</th>\n",
       "      <th></th>\n",
       "      <th></th>\n",
       "      <th></th>\n",
       "    </tr>\n",
       "  </thead>\n",
       "  <tbody>\n",
       "    <tr>\n",
       "      <th>1319</th>\n",
       "      <td>1</td>\n",
       "      <td>0.874935</td>\n",
       "      <td>account</td>\n",
       "    </tr>\n",
       "    <tr>\n",
       "      <th>1319</th>\n",
       "      <td>2</td>\n",
       "      <td>0.031248</td>\n",
       "      <td>account</td>\n",
       "    </tr>\n",
       "    <tr>\n",
       "      <th>1319</th>\n",
       "      <td>3</td>\n",
       "      <td>0.031248</td>\n",
       "      <td>account</td>\n",
       "    </tr>\n",
       "    <tr>\n",
       "      <th>1319</th>\n",
       "      <td>4</td>\n",
       "      <td>0.031248</td>\n",
       "      <td>account</td>\n",
       "    </tr>\n",
       "    <tr>\n",
       "      <th>2213</th>\n",
       "      <td>1</td>\n",
       "      <td>0.055222</td>\n",
       "      <td>acoustic</td>\n",
       "    </tr>\n",
       "    <tr>\n",
       "      <th>...</th>\n",
       "      <td>...</td>\n",
       "      <td>...</td>\n",
       "      <td>...</td>\n",
       "    </tr>\n",
       "    <tr>\n",
       "      <th>53</th>\n",
       "      <td>1</td>\n",
       "      <td>0.313166</td>\n",
       "      <td>world_class</td>\n",
       "    </tr>\n",
       "    <tr>\n",
       "      <th>53</th>\n",
       "      <td>2</td>\n",
       "      <td>0.173981</td>\n",
       "      <td>world_class</td>\n",
       "    </tr>\n",
       "    <tr>\n",
       "      <th>53</th>\n",
       "      <td>3</td>\n",
       "      <td>0.034796</td>\n",
       "      <td>world_class</td>\n",
       "    </tr>\n",
       "    <tr>\n",
       "      <th>53</th>\n",
       "      <td>4</td>\n",
       "      <td>0.139185</td>\n",
       "      <td>world_class</td>\n",
       "    </tr>\n",
       "    <tr>\n",
       "      <th>53</th>\n",
       "      <td>5</td>\n",
       "      <td>0.313166</td>\n",
       "      <td>world_class</td>\n",
       "    </tr>\n",
       "  </tbody>\n",
       "</table>\n",
       "<p>1681 rows × 3 columns</p>\n",
       "</div>"
      ],
      "text/plain": [
       "      Topic      Freq         Term\n",
       "term                              \n",
       "1319      1  0.874935      account\n",
       "1319      2  0.031248      account\n",
       "1319      3  0.031248      account\n",
       "1319      4  0.031248      account\n",
       "2213      1  0.055222     acoustic\n",
       "...     ...       ...          ...\n",
       "53        1  0.313166  world_class\n",
       "53        2  0.173981  world_class\n",
       "53        3  0.034796  world_class\n",
       "53        4  0.139185  world_class\n",
       "53        5  0.313166  world_class\n",
       "\n",
       "[1681 rows x 3 columns]"
      ]
     },
     "execution_count": 78,
     "metadata": {},
     "output_type": "execute_result"
    }
   ],
   "source": [
    "LDAvis_prepared.token_table"
   ]
  },
  {
   "cell_type": "code",
   "execution_count": null,
   "metadata": {},
   "outputs": [],
   "source": []
  },
  {
   "cell_type": "markdown",
   "metadata": {},
   "source": [
    "** **\n",
    "#### Closing Notes\n",
    "\n",
    "We started with understanding why evaluating the topic model is essential. Next, we reviewed existing methods and scratched the surface of topic coherence, along with the available coherence measures. Then we built a default LDA model using Gensim implementation to establish the baseline coherence score and reviewed practical ways to optimize the LDA hyperparameters.\n",
    "\n",
    "Hopefully, this article has managed to shed light on the underlying topic evaluation strategies, and intuitions behind it.\n",
    "\n",
    "** **\n",
    "#### References:\n",
    "1. http://qpleple.com/perplexity-to-evaluate-topic-models/\n",
    "2. https://www.amazon.com/Machine-Learning-Probabilistic-Perspective-Computation/dp/0262018020\n",
    "3. https://papers.nips.cc/paper/3700-reading-tea-leaves-how-humans-interpret-topic-models.pdf\n",
    "4. https://github.com/mattilyra/pydataberlin-2017/blob/master/notebook/EvaluatingUnsupervisedModels.ipynb\n",
    "5. https://www.machinelearningplus.com/nlp/topic-modeling-gensim-python/\n",
    "6. http://svn.aksw.org/papers/2015/WSDM_Topic_Evaluation/public.pdf\n",
    "7. http://palmetto.aksw.org/palmetto-webapp/"
   ]
  }
 ],
 "metadata": {
  "kernelspec": {
   "display_name": "Python 3",
   "language": "python",
   "name": "python3"
  },
  "language_info": {
   "codemirror_mode": {
    "name": "ipython",
    "version": 3
   },
   "file_extension": ".py",
   "mimetype": "text/x-python",
   "name": "python",
   "nbconvert_exporter": "python",
   "pygments_lexer": "ipython3",
   "version": "3.8.5"
  }
 },
 "nbformat": 4,
 "nbformat_minor": 4
}
